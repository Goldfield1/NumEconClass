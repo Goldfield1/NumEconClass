{
 "cells": [
  {
   "cell_type": "markdown",
   "id": "099c9e6e-1ebc-4cbb-a521-4ab3c03f40d2",
   "metadata": {
    "slideshow": {
     "slide_type": "slide"
    }
   },
   "source": [
    "<img src=\"ku_logo_uk_v.png\" alt=\"drawing\" width=\"130\" style=\"float:right\"/>\n",
    "\n",
    "# <span style=\"color:#2c061f\"> Week 11 </span>  \n",
    "\n",
    "<br>\n",
    "\n",
    "## <span style=\"color:#374045\"> Introduction to Programming and Numerical Analysis </span>\n",
    "\n",
    "\n",
    "####  <span style=\"color:#d89216\"> <br> Simon Guldager </span>"
   ]
  },
  {
   "cell_type": "markdown",
   "id": "9bce450b",
   "metadata": {
    "slideshow": {
     "slide_type": "slide"
    },
    "tags": []
   },
   "source": [
    "\n",
    "# Plan for today\n",
    "- Optimizing convex and non-convex functions\n",
    "- Dynamic model\n",
    "- Linear interpolation\n",
    "- Problem set 7\n",
    "- Next week: Work on your model project!"
   ]
  },
  {
   "cell_type": "markdown",
   "id": "92c90e4e",
   "metadata": {
    "slideshow": {
     "slide_type": "slide"
    }
   },
   "source": [
    "# Optimizing \n",
    "\n",
    "See lecture 11 for guidance.\n",
    "\n",
    "First part deals with evaluating different **optimization** methods under convex and non-convex (noisy) objective functions.  \n",
    "We are working with:  \n",
    "- Nelder-mead (*robust to noise in objective function*)  \n",
    "- BFGS and Newton-CG (*quick and precise on smooth objective functions*)\n",
    "\n",
    "The **takeaway** is that under a *noisy objective function*, which has **local minimas**, you are not guaranteed to converge to the **global minimum**. The initial guess has great importance and a **multistart** optimization could be appropriate. "
   ]
  },
  {
   "cell_type": "markdown",
   "id": "42ca5936",
   "metadata": {
    "slideshow": {
     "slide_type": "slide"
    }
   },
   "source": [
    "## Dynamic model\n",
    "\n",
    "In the exam of 2020 and 2021 you had to solve a dynamic model, so it's probably a good investment of time!  \n",
    "\n",
    "\n",
    "### Dynamic 2-period problem:  \n",
    "In the **first period** consumers solve\n",
    "\\begin{aligned}\n",
    "v_{1}(m_{1}) & = \n",
    "\\max_{c_{1}}\\frac{c_{1}^{1-\\rho}}{1-\\rho}+\\beta\\mathbb{E}_{1}\\left[v_2(m_2)\\right]\\\\\n",
    "\\end{aligned}\n",
    "\n",
    "And in the **second period**:\n",
    "\\begin{aligned}\n",
    "v_{2}(m_{2}) &= \\max_{c_{2}}\\frac{c_{2}^{1-\\rho}}{1-\\rho}+\\nu\\frac{(m_{2}-c_{2}+\\kappa)^{1-\\rho}}{1-\\rho} \\\\\n",
    "y_{2} &= \\begin{cases}\n",
    "1-\\Delta & \\text{with prob. }0.5\\\\\n",
    "1+\\Delta & \\text{with prob. }0.5 \n",
    "\\end{cases}\\\\\n",
    "\\end{aligned}\n",
    "\n",
    "Cash on hand in period 2 is 'what is left over' from period 1, with interest\n",
    "\\begin{aligned}\n",
    "m_2 &= (1+r)(m_{1}-c_{1})+y_{2} \\\\\n",
    "\\end{aligned}"
   ]
  },
  {
   "cell_type": "markdown",
   "id": "8cdaa219",
   "metadata": {
    "slideshow": {
     "slide_type": "slide"
    }
   },
   "source": [
    "The agents derive utility from **consumption** but also leaving a **bequest**.  \n",
    "\n",
    "Consumption decisions in period 2, $c_2$, relies on cash on hands in period 2, $m_2$, as well as (uncertain) income, $m_2 = (1+r)(m_1-c_1)+y_2)$.  \n",
    "\n",
    "The consumer should take this into account when making spending decisions in period 1!  "
   ]
  },
  {
   "cell_type": "markdown",
   "id": "c4e2007a",
   "metadata": {
    "slideshow": {
     "slide_type": "slide"
    }
   },
   "source": [
    "Solve the model using *backwards induction*: \n",
    "- We solve period 2 first, for a grid of $m_{2}$.  \n",
    "    - I.e, given a bunch of possible values for cash on hand in period 2, what is the optimal consumption? \n",
    "- We interpolate the answer from period 2, to get solutions that are not on the grid.  \n",
    "    - There are only 100 points on the grid, interpolating gives us all points in between. (Approximation)\n",
    "- Then we solve period 1 for a grid of $m_{1}$, maximizing utitilty when taking the possible outcomes for utility in period 2 into account.\n",
    "\n",
    "Thus, the solution we get is the optimal consumption in each period, dependent on cash on hand in that period."
   ]
  },
  {
   "cell_type": "markdown",
   "id": "50bf8ebe",
   "metadata": {
    "slideshow": {
     "slide_type": "slide"
    }
   },
   "source": [
    "# Linear interpolation\n",
    "Let's say you only have a few points, that you know come from the same function, but you don't know the function.  \n",
    "**What to do?**: Linear interpolation -> construct a function from the points you know, by \"connecting the dots\""
   ]
  },
  {
   "cell_type": "code",
   "execution_count": 1,
   "id": "dbe8fad5",
   "metadata": {
    "slideshow": {
     "slide_type": "skip"
    }
   },
   "outputs": [],
   "source": [
    "import numpy as np\n",
    "import matplotlib.pyplot as plt\n",
    "from scipy import interpolate"
   ]
  },
  {
   "cell_type": "code",
   "execution_count": 2,
   "id": "2e565ece",
   "metadata": {
    "slideshow": {
     "slide_type": "slide"
    }
   },
   "outputs": [],
   "source": [
    "# function to interpolate\n",
    "f = lambda x: (x-3)**3 - 3*x**2 + 5*x\n",
    "G = np.linspace(-5,10,6) # vector with just 6 points\n",
    "F = f(G)                 # evaluate function in those 6 points"
   ]
  },
  {
   "cell_type": "code",
   "execution_count": 3,
   "id": "b40a1029",
   "metadata": {
    "slideshow": {
     "slide_type": "slide"
    }
   },
   "outputs": [
    {
     "name": "stdout",
     "output_type": "stream",
     "text": [
      "[-612. -147.   -6.  -27.  -48.   93.]\n"
     ]
    },
    {
     "data": {
      "image/png": "[encoded data removed]",
      "text/plain": [
       "<Figure size 432x288 with 1 Axes>"
      ]
     },
     "metadata": {
      "needs_background": "light"
     },
     "output_type": "display_data"
    }
   ],
   "source": [
    "# Plot known points\n",
    "plt.plot(G,F,'o',label='known points');\n",
    "print(F)"
   ]
  },
  {
   "cell_type": "code",
   "execution_count": 4,
   "id": "bc5c048d",
   "metadata": {
    "slideshow": {
     "slide_type": "slide"
    }
   },
   "outputs": [],
   "source": [
    "# construct interpolation function\n",
    "interp_func = interpolate.RegularGridInterpolator((G,),  # points to interpolate (here it's just 6 points between -5 and 10)\n",
    "                                                  F,     # point values\n",
    "                                                  bounds_error=False,\n",
    "                                                  fill_value=None)"
   ]
  },
  {
   "cell_type": "code",
   "execution_count": 5,
   "id": "b4d69cd3",
   "metadata": {
    "slideshow": {
     "slide_type": "slide"
    }
   },
   "outputs": [],
   "source": [
    "# interpolate based on grid\n",
    "grid = np.linspace(-7,12,500) # construct grid of 500 points between -7 and 12\n",
    "interp_values = interp_func(grid)\n",
    "#interp_values"
   ]
  },
  {
   "cell_type": "code",
   "execution_count": 6,
   "id": "67c62e30",
   "metadata": {
    "slideshow": {
     "slide_type": "slide"
    }
   },
   "outputs": [
    {
     "data": {
      "text/plain": [
       "<matplotlib.legend.Legend at 0x232a42d1a00>"
      ]
     },
     "execution_count": 6,
     "metadata": {},
     "output_type": "execute_result"
    },
    {
     "data": {
      "image/png": "[encoded data removed]",
      "text/plain": [
       "<Figure size 432x288 with 1 Axes>"
      ]
     },
     "metadata": {
      "needs_background": "light"
     },
     "output_type": "display_data"
    }
   ],
   "source": [
    "# define figure and axis\n",
    "plt.plot(G,F,'o',label='known points') # Plot known points\n",
    "plt.plot(grid,interp_values,'-',lw=1,label='interpolated values') # Plot interpolated values\n",
    "plt.legend(loc='lower right',facecolor='white',frameon=True) # legend"
   ]
  },
  {
   "cell_type": "code",
   "execution_count": 7,
   "id": "228c04ed",
   "metadata": {
    "slideshow": {
     "slide_type": "slide"
    }
   },
   "outputs": [
    {
     "data": {
      "image/png": "[encoded data removed]",
      "text/plain": [
       "<Figure size 720x504 with 1 Axes>"
      ]
     },
     "metadata": {
      "needs_background": "light"
     },
     "output_type": "display_data"
    }
   ],
   "source": [
    "fig = plt.figure(figsize = (10,7)) \n",
    "ax = fig.add_subplot(1,1,1)\n",
    "\n",
    "f_true = f(grid) # find true values to show function\n",
    "ax.plot(G,F,'o',label='known points') # Plot known points\n",
    "ax.plot(grid,f_true,label='true function') # Plot true points\n",
    "ax.plot(grid,interp_values,'-',lw=1,label='interpolated values') # Plot interpolated values\n",
    "ax.legend(loc='lower right',facecolor='white',frameon=True) # legend\n",
    "plt.savefig('linear_interpolation.png'); # save fig"
   ]
  },
  {
   "cell_type": "markdown",
   "id": "e9cf396b",
   "metadata": {
    "slideshow": {
     "slide_type": "skip"
    }
   },
   "source": [
    "# Example from Problem set 7\n",
    "This is a hard problem set: covers the toughest part of the exam"
   ]
  },
  {
   "cell_type": "markdown",
   "id": "8e41c1d4-2f95-43b8-8b84-54aed026122b",
   "metadata": {},
   "source": [
    "Define the following **variables** and **parameters**:\n",
    "\n",
    "* $m_t$ is cash-on-hand in period $t$\n",
    "* $c_t$ is consumption in period $t$\n",
    "* $y_t$ is income in period $t$\n",
    "* $\\Delta \\in (0,1)$ is income risk\n",
    "* $r$ is the interest rate\n",
    "* $\\beta > 0$, $\\rho > 1$, $\\nu > 0 $, $\\kappa > 0$, $\\xi > 0$ are utility parameters"
   ]
  },
  {
   "cell_type": "markdown",
   "id": "a6fc67ff-f401-4ec2-ae1d-f41c5df03c5a",
   "metadata": {},
   "source": [
    "In the **second period** the household solves:\n",
    "\n",
    "$$\n",
    "\\begin{aligned}\n",
    "v_{2}(m_{2}) &= \\max_{c_{2}}\\frac{c_{2}^{1-\\rho}}{1-\\rho}+\\nu\\frac{(m_{2}-c_{2}+\\kappa)^{1-\\rho}}{1-\\rho} \\\\\n",
    " \\text{s.t.} \\\\\n",
    "c_{2} & \\in [0,m_{2}]\n",
    "\\end{aligned}\n",
    "$$"
   ]
  },
  {
   "cell_type": "markdown",
   "id": "d31b3e09-ade3-4cab-baeb-e9cffd4c3ebc",
   "metadata": {},
   "source": [
    "In the **first period** the household solves:\n",
    "\n",
    "$$\n",
    "\\begin{aligned}\n",
    "v_{1}(m_{1}) & = \n",
    "\\max_{c_{1}}\\frac{c_{1}^{1-\\rho}}{1-\\rho}+\\beta\\mathbb{E}_{1}\\left[v_2(m_2)\\right] \\\\\n",
    "\\text{s.t.} \\\\\n",
    "m_2 &= (1+r)(m_{1}-c_{1})+y_{2} \\\\\n",
    "y_{2} &= \\begin{cases}\n",
    "1-\\Delta & \\text{with prob. }0.5\\\\\n",
    "1+\\Delta & \\text{with prob. }0.5 \n",
    "\\end{cases}\\\\\n",
    "c_{1} & \\in [0,m_{1}]\\\\\n",
    "\\end{aligned}\n",
    "$$"
   ]
  },
  {
   "cell_type": "markdown",
   "id": "34b5698a-7c89-4238-a83d-547afa2c6477",
   "metadata": {},
   "source": [
    "The **basic functions** are:"
   ]
  },
  {
   "cell_type": "code",
   "execution_count": 8,
   "id": "13133192-cce2-47a8-9cec-582262a1f807",
   "metadata": {},
   "outputs": [],
   "source": [
    "import numpy as np\n",
    "import scipy as sp\n",
    "from scipy import linalg\n",
    "from scipy import optimize\n",
    "from scipy import interpolate\n",
    "import sympy as sm\n",
    "\n",
    "%matplotlib inline\n",
    "import matplotlib.pyplot as plt\n",
    "plt.style.use('seaborn-whitegrid')\n",
    "from matplotlib import cm\n",
    "from mpl_toolkits.mplot3d import Axes3D\n",
    "\n",
    "def utility(c,rho):\n",
    "    return c**(1-rho)/(1-rho)\n",
    "\n",
    "def bequest(m,c,nu,kappa,rho):\n",
    "    return nu*(m-c+kappa)**(1-rho)/(1-rho)\n",
    "\n",
    "def v2(c2,m2,rho,nu,kappa):\n",
    "    return utility(c2,rho) + bequest(m2,c2,nu,kappa,rho)\n",
    "\n",
    "def v1(c1,m1,rho,beta,r,Delta,v2_interp):\n",
    "    \n",
    "    # a. v2 value, if low income\n",
    "    m2_low = (1+r)*(m1-c1) + 1-Delta\n",
    "    v2_low = v2_interp([m2_low])[0]\n",
    "    \n",
    "    # b. v2 value, if high income\n",
    "    m2_high = (1+r)*(m1-c1) + 1+Delta\n",
    "    v2_high = v2_interp([m2_high])[0]\n",
    "    \n",
    "    # c. expected v2 value\n",
    "    v2 = 0.5*v2_low + 0.5*v2_high\n",
    "    \n",
    "    # d. total value\n",
    "    return utility(c1,rho) + beta*v2"
   ]
  },
  {
   "cell_type": "markdown",
   "id": "e84cac52-823d-464c-a395-7d147c80c0b5",
   "metadata": {},
   "source": [
    "The **solution functions** are:"
   ]
  },
  {
   "cell_type": "code",
   "execution_count": 9,
   "id": "05ac03cf-3b54-4059-b2cf-9fc84d66c8f2",
   "metadata": {},
   "outputs": [],
   "source": [
    "def solve_period_2(rho,nu,kappa,Delta):\n",
    "\n",
    "    # a. grids\n",
    "    m2_vec = np.linspace(1e-8,5,500)\n",
    "    v2_vec = np.empty(500)\n",
    "    c2_vec = np.empty(500)\n",
    "\n",
    "    # b. solve for each m2 in grid\n",
    "    for i,m2 in enumerate(m2_vec):\n",
    "\n",
    "        # i. objective\n",
    "        obj = lambda x: -v2(x[0],m2,rho,nu,kappa)\n",
    "\n",
    "        # ii. initial value (consume half)\n",
    "        x0 = m2/2\n",
    "\n",
    "        # iii. optimizer\n",
    "        result = optimize.minimize(obj,[x0],method='L-BFGS-B',bounds=((1e-12,m2),))\n",
    "\n",
    "        # iv. save\n",
    "        v2_vec[i] = -result.fun\n",
    "        c2_vec[i] = result.x[0]\n",
    "        \n",
    "    return m2_vec,v2_vec,c2_vec\n",
    "\n",
    "def solve_period_1(rho,beta,r,Delta,v1,v2_interp):\n",
    "\n",
    "    # a. grids\n",
    "    m1_vec = np.linspace(1e-8,4,100) \n",
    "    v1_vec = np.empty(100)\n",
    "    c1_vec = np.empty(100)\n",
    "    \n",
    "    # b. solve for each m1 in grid\n",
    "    for i,m1 in enumerate(m1_vec):\n",
    "        \n",
    "        # i. objective\n",
    "        obj = lambda x: -v1(x[0],m1,rho,beta,r,Delta,v2_interp)\n",
    "        \n",
    "        # ii. initial guess (consume half)\n",
    "        x0 = m1/2\n",
    "        \n",
    "        # iii. optimize\n",
    "        result = optimize.minimize(obj,[x0],method='L-BFGS-B',bounds=((1e-12,m1),))\n",
    "        \n",
    "        # iv. save\n",
    "        v1_vec[i] = -result.fun\n",
    "        c1_vec[i] = result.x[0]\n",
    "     \n",
    "    return m1_vec,v1_vec,c1_vec"
   ]
  },
  {
   "cell_type": "markdown",
   "id": "94b86375-394a-4fc7-82d4-de25034ee369",
   "metadata": {},
   "source": [
    "**Question A:** Find optimal consumption in the first period as funcition of cash-on-hand, and plot it."
   ]
  },
  {
   "cell_type": "code",
   "execution_count": 10,
   "id": "fd531877-69bc-4055-bbb7-5c54a91960ad",
   "metadata": {},
   "outputs": [],
   "source": [
    "rho = 8\n",
    "kappa = 0.5\n",
    "nu = 0.1\n",
    "r = 0.04\n",
    "beta = 0.94\n",
    "Delta = 0.5\n",
    "\n",
    "# b. solve\n",
    "def solve(rho,beta,r,Delta,nu,kappa,v1):\n",
    "    \n",
    "    # a. solve period 2\n",
    "    m2_vec,v2_vec,c2_vec = solve_period_2(rho,nu,kappa,Delta)\n",
    "    \n",
    "    # b. construct interpolator\n",
    "    v2_interp = interpolate.RegularGridInterpolator((m2_vec,), v2_vec,\n",
    "                                                    bounds_error=False,fill_value=None)\n",
    "    \n",
    "    # b. solve period 1\n",
    "    m1_vec,v1_vec,c1_vec = solve_period_1(rho,beta,r,Delta,v1,v2_interp)\n",
    "    \n",
    "    return m1_vec,c1_vec\n",
    "\n",
    "m1_vec,c1_vec = solve(rho,beta,r,Delta,nu,kappa,v1)"
   ]
  },
  {
   "cell_type": "code",
   "execution_count": 11,
   "id": "8ab0be9c-00cb-484f-90f6-43b41651cff3",
   "metadata": {},
   "outputs": [
    {
     "data": {
      "image/png": "[encoded data removed]",
      "text/plain": [
       "<Figure size 432x288 with 1 Axes>"
      ]
     },
     "metadata": {},
     "output_type": "display_data"
    }
   ],
   "source": [
    "# c. plot\n",
    "fig = plt.figure()\n",
    "ax = fig.add_subplot(1,1,1)\n",
    "ax.plot(m1_vec,c1_vec)\n",
    "ax.set_xlabel('$m_1$')\n",
    "ax.set_ylabel('$c_1$')\n",
    "ax.set_title('consumption function in period 1')\n",
    "ax.set_xlim([0,4])\n",
    "ax.set_ylim([0,2.5]);"
   ]
  },
  {
   "cell_type": "markdown",
   "id": "38005320-89b2-442f-aa36-1a8e4b0cf790",
   "metadata": {},
   "source": [
    "### Lets break it down. First we solve for period 2:"
   ]
  },
  {
   "cell_type": "code",
   "execution_count": 12,
   "id": "eec3ec7e-7d00-4608-91b7-18ded4735600",
   "metadata": {},
   "outputs": [],
   "source": [
    "# a. solve period 2\n",
    "m2_vec,v2_vec,c2_vec = solve_period_2(rho,nu,kappa,Delta)"
   ]
  },
  {
   "cell_type": "markdown",
   "id": "ec32c98b-b71a-4dd2-bfb6-c406a40db473",
   "metadata": {},
   "source": [
    "m2_vec is a vector with values between 0 and 5, this is the possible \"cash on hands\", in period 2"
   ]
  },
  {
   "cell_type": "code",
   "execution_count": 13,
   "id": "acb11a34-65e5-47fe-bef4-c449e3dcedab",
   "metadata": {},
   "outputs": [
    {
     "name": "stdout",
     "output_type": "stream",
     "text": [
      "[1.00000000e-08 1.00200501e-02 2.00400901e-02 3.00601302e-02\n",
      " 4.00801702e-02]\n",
      "\n",
      "\n",
      "[4.95991984 4.96993988 4.97995992 4.98997996 5.        ]\n"
     ]
    }
   ],
   "source": [
    "print(m2_vec[:5]) # first 5 entries for m2_vec\n",
    "print(\"\\n\") # space\n",
    "print(m2_vec[-5:]) # last 5 entries for m2_vec"
   ]
  },
  {
   "cell_type": "markdown",
   "id": "5146861c-a1d9-4841-899b-891bc92d12fc",
   "metadata": {},
   "source": [
    "v2_vec is a vector with the utility for each chosen m2"
   ]
  },
  {
   "cell_type": "code",
   "execution_count": 14,
   "id": "b59299dc-09b3-4b61-89f9-5a1d43caffc0",
   "metadata": {},
   "outputs": [
    {
     "name": "stdout",
     "output_type": "stream",
     "text": [
      "[-1.82857143e+57 -1.40868121e+13 -1.10053604e+11 -6.44118779e+09\n",
      " -8.59795283e+08]\n",
      "\n",
      "\n",
      "[-8.68345574e-05 -8.57271911e-05 -8.46359345e-05 -8.35605246e-05\n",
      " -8.25007029e-05]\n"
     ]
    }
   ],
   "source": [
    "print(v2_vec[:5]) # first 5 entries for v2_vec\n",
    "print(\"\\n\") # space\n",
    "print(v2_vec[-5:]) # last 5 entries for v2_vec"
   ]
  },
  {
   "cell_type": "markdown",
   "id": "72d3a324-4979-4ec7-809f-d8700e2bd33c",
   "metadata": {},
   "source": [
    "Since v2_vec only covers 100 points, and there are an infinite number of solution, we interpolate to cover everything:"
   ]
  },
  {
   "cell_type": "code",
   "execution_count": 15,
   "id": "4eb79699-3fb4-443f-8b9f-1b586448d93e",
   "metadata": {},
   "outputs": [],
   "source": [
    "# b. construct interpolator\n",
    "v2_interp = interpolate.RegularGridInterpolator((m2_vec,), v2_vec,\n",
    "                                                bounds_error=False,fill_value=None)"
   ]
  },
  {
   "cell_type": "markdown",
   "id": "138c7f63-4bc3-43b8-a1a3-b28017bc1567",
   "metadata": {},
   "source": [
    "Now we can find the utility in period 2 for every value of m, lets try 6:"
   ]
  },
  {
   "cell_type": "code",
   "execution_count": 16,
   "id": "4b8e33f4-4f6a-47c9-bbb5-614e455a70ec",
   "metadata": {},
   "outputs": [
    {
     "data": {
      "text/plain": [
       "array([2.32695014e-05])"
      ]
     },
     "execution_count": 16,
     "metadata": {},
     "output_type": "execute_result"
    }
   ],
   "source": [
    "v2_interp([6])"
   ]
  },
  {
   "cell_type": "markdown",
   "id": "e3078400-50dd-4dd7-8845-ac408c625ef5",
   "metadata": {},
   "source": [
    "### Now we are ready for period 1"
   ]
  },
  {
   "cell_type": "code",
   "execution_count": 17,
   "id": "fe00624d-0007-4ccd-9cc9-1b2f74fffc06",
   "metadata": {},
   "outputs": [],
   "source": [
    "# b. solve period 1\n",
    "m1_vec,v1_vec,c1_vec = solve_period_1(rho,beta,r,Delta,v1,v2_interp)"
   ]
  },
  {
   "cell_type": "markdown",
   "id": "77fcc578-46a6-4ea7-b7d2-8b9a93352644",
   "metadata": {},
   "source": [
    "Now we can find the possible utility outcomes, when $m_1$ is between 0 and 4:"
   ]
  },
  {
   "cell_type": "code",
   "execution_count": 18,
   "id": "11c5d087-6698-4215-9c54-9d9312757e7f",
   "metadata": {},
   "outputs": [
    {
     "name": "stdout",
     "output_type": "stream",
     "text": [
      "[-1.82857143e+57 -8.12695104e+08 -6.34919543e+06 -3.71612633e+05\n",
      " -4.96125455e+04]\n",
      "\n",
      "\n",
      "[-0.00453793 -0.00428377 -0.0040461  -0.00382327 -0.00361444]\n"
     ]
    }
   ],
   "source": [
    "print(v1_vec[:5]) # first 5 entries for v1_vec\n",
    "print(\"\\n\") # space\n",
    "print(v1_vec[-5:]) # last 5 entries for v1_vec"
   ]
  }
 ],
 "metadata": {
  "celltoolbar": "Slideshow",
  "kernelspec": {
   "display_name": "Python 3 (ipykernel)",
   "language": "python",
   "name": "python3"
  },
  "language_info": {
   "codemirror_mode": {
    "name": "ipython",
    "version": 3
   },
   "file_extension": ".py",
   "mimetype": "text/x-python",
   "name": "python",
   "nbconvert_exporter": "python",
   "pygments_lexer": "ipython3",
   "version": "3.9.11"
  }
 },
 "nbformat": 4,
 "nbformat_minor": 5
}
