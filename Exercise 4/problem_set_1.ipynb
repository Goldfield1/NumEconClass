{
 "cells": [
  {
   "cell_type": "markdown",
   "metadata": {},
   "source": [
    "# Problem set 1: Solving the consumer problem"
   ]
  },
  {
   "cell_type": "markdown",
   "metadata": {},
   "source": [
    "**Note**: A lot of the problems in this cource are HARD. Try getting used to using Google when you have something you don't understand or a function you don't know how to use! There are a lot of good answers on the internet!  \n",
    "To get an understand of how everything works, try using different variable values in the optimization problems!"
   ]
  },
  {
   "cell_type": "markdown",
   "metadata": {
    "tags": []
   },
   "source": [
    "# Tasks"
   ]
  },
  {
   "cell_type": "markdown",
   "metadata": {},
   "source": [
    "## functions"
   ]
  },
  {
   "cell_type": "markdown",
   "metadata": {},
   "source": [
    "Implement a Python version of this function:"
   ]
  },
  {
   "cell_type": "markdown",
   "metadata": {},
   "source": [
    "$$ \n",
    "u(x_1,x_2) = (\\alpha x_1^{-\\beta} + (1-\\alpha) x_2^{-\\beta})^{-1/\\beta} \n",
    "$$"
   ]
  },
  {
   "cell_type": "code",
   "execution_count": 165,
   "metadata": {},
   "outputs": [],
   "source": [
    "def u(x1, x2, alpha=0.5,beta=1):\n",
    "    return (alpha * x1 ** (-beta) + (1 - alpha) * x2 ** (-beta)) ** (-1 / beta)"
   ]
  },
  {
   "cell_type": "markdown",
   "metadata": {
    "tags": []
   },
   "source": [
    "## print"
   ]
  },
  {
   "cell_type": "code",
   "execution_count": 166,
   "metadata": {},
   "outputs": [],
   "source": [
    "x1_vec = [1.05,1.3,2.3,2.5,3.1]\n",
    "x2_vec = [1.05,1.3,2.3,2.5,3.1]"
   ]
  },
  {
   "cell_type": "markdown",
   "metadata": {},
   "source": [
    "Construct a Python function `print_table(x1_vec,x2_vec)` to print values of `u(x1,x2)` in the table form shown below.  \n",
    "Read about f-strings: https://zetcode.com/python/fstring/  \n",
    "Play around with the f strings, to see how the formating changes!"
   ]
  },
  {
   "cell_type": "code",
   "execution_count": 168,
   "metadata": {},
   "outputs": [
    {
     "name": "stdout",
     "output_type": "stream",
     "text": [
      "        0     1     2     3     4\n",
      "  0  1.050 1.162 1.442 1.479 1.569\n",
      "  1  1.162 1.300 1.661 1.711 1.832\n",
      "  2  1.442 1.661 2.300 2.396 2.641\n",
      "  3  1.479 1.711 2.396 2.500 2.768\n",
      "  4  1.569 1.832 2.641 2.768 3.100\n"
     ]
    }
   ],
   "source": [
    "# f'{value:{width}.{precision}}' \n",
    "# f'{1.5555:6.3} outputs:  1.56\n",
    "# with a width of 6 including spaces\n",
    "# precision is the number of digits after the \".\" INCLUDING the \".\" itself\n",
    "\n",
    "def print_table(x1_vec,x2_vec):\n",
    "    # a. empty text\n",
    "    text = ''\n",
    "    \n",
    "    # b. top header\n",
    "    text += f'{\"\":3s}'\n",
    "    for j, x2 in enumerate(x2_vec):\n",
    "       text += f'{j:6d}' \n",
    "    text += '\\n' # line shift\n",
    "        \n",
    "    for i, x1 in enumerate(x1_vec):\n",
    "        if i > 0:\n",
    "            text += '\\n' # line shift\n",
    "        text += f'{i:3d} ' # left header\n",
    "        for j, x2 in enumerate(x2_vec):\n",
    "            text += f'{u(x1, x2):6.3f}' #\n",
    "        \n",
    "    # d. print\n",
    "    print(text) \n",
    "    \n",
    "print_table(x1_vec, x2_vec) # remember to call the function after defining it"
   ]
  },
  {
   "cell_type": "markdown",
   "metadata": {},
   "source": [
    "## matplotlib"
   ]
  },
  {
   "cell_type": "markdown",
   "metadata": {},
   "source": [
    "Reproduce the figure below of $u(x_1,x_2)$ using the `meshgrid` function from _numpy_ and the `plot_surface` function from _matplotlib_. "
   ]
  },
  {
   "cell_type": "code",
   "execution_count": 169,
   "metadata": {},
   "outputs": [],
   "source": [
    "# import plot modules\n",
    "import numpy as np\n",
    "%matplotlib inline\n",
    "import matplotlib.pyplot as plt\n",
    "plt.style.use('seaborn-whitegrid')\n",
    "from mpl_toolkits.mplot3d import Axes3D\n",
    "from matplotlib import cm # for colormaps"
   ]
  },
  {
   "cell_type": "markdown",
   "metadata": {},
   "source": [
    "Read about meshgrid: https://numpy.org/doc/stable/reference/generated/numpy.meshgrid.html  \n",
    "Or here: https://stackoverflow.com/questions/36013063/what-is-the-purpose-of-meshgrid-in-python-numpy  \n",
    "Essentially, meshgrid is a way of taking two vectors and making a grid combining every element of each vector, so we can draw the utility function for each combination of $(x1, x2)$"
   ]
  },
  {
   "cell_type": "code",
   "execution_count": 170,
   "metadata": {},
   "outputs": [
    {
     "data": {
      "image/png": "[encoded data removed]",
      "text/plain": [
       "<Figure size 432x288 with 1 Axes>"
      ]
     },
     "metadata": {},
     "output_type": "display_data"
    }
   ],
   "source": [
    "# evaluate utility function\n",
    "x1_grid,x2_grid = np.meshgrid(x1_vec,x2_vec,indexing='ij')\n",
    "u_grid = u(x1_grid,x2_grid)\n",
    "\n",
    "fig = plt.figure()\n",
    "ax = fig.add_subplot(1,1,1,projection='3d')\n",
    "ax.plot_surface(x1_grid, x2_grid, u_grid, cmap=cm.jet) # cmap is \"color map\"\n",
    "\n",
    "ax.invert_xaxis() # try removing this, it's just to make figure look a bit nicer*"
   ]
  },
  {
   "cell_type": "markdown",
   "metadata": {},
   "source": [
    "Let's say you have the two vectors:  \n",
    "x1\\_vec = [1.05,1.3,2.3,2.5,3.1]  \n",
    "x2\\_vec = [1.05,1.3,2.3,2.5,3.1]  \n",
    "Then combining every element gives:  \n",
    "(1.05, 1.05), (1.05, 1.3), (1.05, 2.3) ... (3.1, 2.5), (3.1, 3.1)  \n",
    "The `meshgrid` for `x1_grid` and `x2_grid` is made in such a way that if you put the two grids \"on top of eachother\", you get every combination."
   ]
  },
  {
   "cell_type": "code",
   "execution_count": 171,
   "metadata": {},
   "outputs": [
    {
     "name": "stdout",
     "output_type": "stream",
     "text": [
      "[[1.05 1.05 1.05 1.05 1.05]\n",
      " [1.3  1.3  1.3  1.3  1.3 ]\n",
      " [2.3  2.3  2.3  2.3  2.3 ]\n",
      " [2.5  2.5  2.5  2.5  2.5 ]\n",
      " [3.1  3.1  3.1  3.1  3.1 ]]\n",
      "\n",
      "\n",
      "[[1.05 1.3  2.3  2.5  3.1 ]\n",
      " [1.05 1.3  2.3  2.5  3.1 ]\n",
      " [1.05 1.3  2.3  2.5  3.1 ]\n",
      " [1.05 1.3  2.3  2.5  3.1 ]\n",
      " [1.05 1.3  2.3  2.5  3.1 ]]\n"
     ]
    }
   ],
   "source": [
    "print(x1_grid)\n",
    "print(\"\\n\") # space to make it easier to read\n",
    "print(x2_grid)"
   ]
  },
  {
   "cell_type": "markdown",
   "metadata": {},
   "source": [
    "## optimize"
   ]
  },
  {
   "cell_type": "markdown",
   "metadata": {},
   "source": [
    "Consider the following minimization problem:\n",
    "\n",
    "$$\n",
    "\\min_x  f(x) = \\min_x \\sin(x) + 0.05 \\cdot x^2\n",
    "$$"
   ]
  },
  {
   "cell_type": "markdown",
   "metadata": {},
   "source": [
    "Read about `optimize.minimize`: https://docs.scipy.org/doc/scipy/reference/generated/scipy.optimize.minimize.html"
   ]
  },
  {
   "cell_type": "code",
   "execution_count": 172,
   "metadata": {},
   "outputs": [
    {
     "name": "stdout",
     "output_type": "stream",
     "text": [
      "-1.4275625000000014\n",
      "-0.8878628265110765\n"
     ]
    },
    {
     "data": {
      "text/plain": [
       "<matplotlib.legend.Legend at 0x22f13b04160>"
      ]
     },
     "execution_count": 172,
     "metadata": {},
     "output_type": "execute_result"
    },
    {
     "data": {
      "image/png": "[encoded data removed]",
      "text/plain": [
       "<Figure size 432x288 with 1 Axes>"
      ]
     },
     "metadata": {},
     "output_type": "display_data"
    }
   ],
   "source": [
    "import numpy as np\n",
    "from scipy import optimize\n",
    "\n",
    "# a. define function\n",
    "def f(x):\n",
    "    return np.sin(x) + 0.05 * x ** 2\n",
    "\n",
    "# b. solution using a loop\n",
    "N = 100\n",
    "x_vec = np.linspace(-10,10,N)\n",
    "f_vec = np.empty(N)\n",
    "\n",
    "f_best = np.inf # initial maximum\n",
    "x_best = np.nan # not-a-number\n",
    "\n",
    "# solving for the minimal x with a loop, going over every possible value\n",
    "# NOTE: we can only find the minimum within the given interval of x_vec, if it is not in the interval, we won't find it.\n",
    "for i,x in enumerate(x_vec):\n",
    "    f_now = f_vec[i] = f(x)\n",
    "    x_vec[i] = x\n",
    "    if f_now < f_best:\n",
    "        f_best = f_now\n",
    "        x_best = x\n",
    "\n",
    "# c. solution using scipy optmize\n",
    "x_guess = [0]      \n",
    "obj = lambda x: f(x)\n",
    "res = optimize.minimize(obj, x_guess, method='Nelder-Mead')\n",
    "x_best_scipy = res.x[0]\n",
    "f_best_scipy = res.fun\n",
    "\n",
    "# d. print\n",
    "print(x_best_scipy)\n",
    "print(f_best_scipy)\n",
    "\n",
    "# e. figure, a lot of extra stuff to make it pretty!\n",
    "fig = plt.figure()\n",
    "ax = fig.add_subplot(1,1,1)\n",
    "ax.plot(x_vec, f_vec, ls='--', color='black', label = \"f(x)\")\n",
    "ax.plot(x_best_scipy, f_best_scipy, ls='', color='blue', marker='s', markersize=10, label = \"Best scipy\")\n",
    "ax.plot(x_best, f_best, color='green', ls='', marker='o', markersize=10,label = \"Best scipy\")\n",
    "ax.legend()"
   ]
  },
  {
   "cell_type": "markdown",
   "metadata": {},
   "source": [
    "# Problem"
   ]
  },
  {
   "cell_type": "markdown",
   "metadata": {},
   "source": [
    "Consider the following $M$-good, $x=(x_1,x_2,\\dots,x_M)$, **utility maximization problem** with exogenous income $I$, and price-vector $p=(p_1,p_2,\\dots,p_M)$,\n",
    "\n",
    "$$\n",
    "\\begin{aligned}\n",
    "V(p_{1},p_{2},\\dots,,p_{M},I) & = \\max_{x_{1},x_{2},\\dots,x_M} x_{1}^{\\alpha_1} x_{2}^{\\alpha_2} \\dots x_{M}^{\\alpha_M} \\\\\n",
    " & \\text{s.t.}\\\\\n",
    "E & = \\sum_{i=1}^{M}p_{i}x_{i} \\leq I,\\,\\,\\,p_{1},p_{2},\\dots,p_M,I>0\\\\\n",
    "x_{1},x_{2},\\dots,x_M & \\geq 0\n",
    "\\end{aligned}\n",
    "$$"
   ]
  },
  {
   "cell_type": "markdown",
   "metadata": {},
   "source": [
    "**Problem:** Solve the 5-good utility maximization problem for arbitrary preference parameters, $ \\alpha = (\\alpha_1,\\alpha_2,\\dots,\\alpha_5)$, prices and income. First, with a loop, and then with a numerical optimizer."
   ]
  },
  {
   "cell_type": "markdown",
   "metadata": {},
   "source": [
    "A little note on the `zip` function:\n"
   ]
  },
  {
   "cell_type": "code",
   "execution_count": 173,
   "metadata": {},
   "outputs": [
    {
     "name": "stdout",
     "output_type": "stream",
     "text": [
      "[(1, 0.2), (2, 0.2), (3, 0.2), (4, 0.2), (5, 0.2)]\n"
     ]
    }
   ],
   "source": [
    "x_test = np.array([1,2,3,4,5])\n",
    "alpha_test = np.array([0.2,0.2,0.2,0.2,0.2])\n",
    "\n",
    "print(list(zip(x_test,alpha_test)))"
   ]
  },
  {
   "cell_type": "markdown",
   "metadata": {},
   "source": [
    "It bassically combines every element from two lists into these parenthesis. \"Zipping them\" together."
   ]
  },
  {
   "cell_type": "code",
   "execution_count": 174,
   "metadata": {},
   "outputs": [],
   "source": [
    "def utility_function(x,alpha):\n",
    "    # using \"u *= x\" is the same as saying \"u = u * x\"\n",
    "    # np.max is used so negative x are ignored (we DONT want negative utility).\n",
    "    # E.g: np.max(-5, 0) just returns 0 \n",
    "    \n",
    "    u = 1\n",
    "    for x_now,alpha_now in zip(x,alpha):\n",
    "        u *= np.max(x_now,0)**alpha_now\n",
    "    return u\n",
    "\n",
    "# total expenditures must be p1 * x1 + p2 * x2 + p3 + x3 + p4 * x4 + p5 * x5\n",
    "# this function basically makes that summation in a Python-esque way\n",
    "def expenditures(x,p):\n",
    "    # E += x is the same as saying \"E = E + x\"\n",
    "    \n",
    "    E = 0\n",
    "    for x_now,p_now in zip(x,p):\n",
    "        E += p_now*x_now\n",
    "    return E\n",
    "\n",
    "def print_solution(x,alpha,I,p):\n",
    "    # a. x values\n",
    "    text = 'x = ['\n",
    "    for x_now in x:\n",
    "        text += f'{x_now:.2f} '\n",
    "    text += f']\\n'\n",
    "    \n",
    "    # b. utility\n",
    "    u = utility_function(x,alpha)    \n",
    "    text += f'utility = {u:.3f}\\n'\n",
    "    \n",
    "    # c. expenditure vs. income\n",
    "    E =  expenditures(x,p)\n",
    "    text += f'E = {E:.2f} <= I = {I:.2f}\\n'\n",
    "    \n",
    "    # d. expenditure shares\n",
    "    e = p*x/I\n",
    "    text += 'expenditure shares = ['\n",
    "    for e_now in e:\n",
    "        text += f'{e_now:.2f} '\n",
    "    text += f']'        \n",
    "        \n",
    "    print(text)"
   ]
  },
  {
   "cell_type": "markdown",
   "metadata": {},
   "source": [
    "You can initially use the following parameter choices:"
   ]
  },
  {
   "cell_type": "code",
   "execution_count": 175,
   "metadata": {},
   "outputs": [],
   "source": [
    "alpha = np.ones(5)/5\n",
    "p = np.array([1,2,3,4,5])\n",
    "I = 10"
   ]
  },
  {
   "cell_type": "markdown",
   "metadata": {},
   "source": [
    "Solving with a loop takes a LONG time, we are going through $20 * 20 * 20 * 20 * 20 = 20^5 = 3200000$ combinations  \n",
    "This is the main motivation behind using these optimizers, they make problem solving a lot quicker!  \n",
    "Essentially, we go through a lot of combinations of x's, and find which combination gives the highest utility. This is not guarenteed to be the global optimum...\n",
    "\n",
    "Remember that we can multiply vectors with numpy:"
   ]
  },
  {
   "cell_type": "code",
   "execution_count": 176,
   "metadata": {},
   "outputs": [
    {
     "name": "stdout",
     "output_type": "stream",
     "text": [
      "[ 2  4  6  8 10]\n"
     ]
    }
   ],
   "source": [
    "p = np.array([1,2,3,4,5])\n",
    "x = np.array([2,2,2,2,2])\n",
    "\n",
    "print(p * x )"
   ]
  },
  {
   "cell_type": "code",
   "execution_count": null,
   "metadata": {},
   "outputs": [],
   "source": [
    "N = 20 # number of points in each dimension -> number of x's we \"try\"\n",
    "\n",
    "fac = np.linspace(0,1,N) # vector betweein 0 and 1\n",
    "x_max = I/p # makes sure we don't spend more on a particular good than we can afford.\n",
    "\n",
    "x_best = []\n",
    "u_best = 0\n",
    "for x1 in fac:\n",
    "   for x2 in fac:\n",
    "        for x3 in fac:\n",
    "            for x4 in fac:\n",
    "                for x5 in fac:\n",
    "                    # The x's are values between 0 and 1. Shares of total income spend on each good. \n",
    "                    # We multiply with x_max to get an amount we buy of a particular good. \n",
    "                    # It will range from 0 to I/p for that particular good\n",
    "                    x = np.array([x1,x2,x3,x4,x5]) * x_max\n",
    "                    E = expenditures(x,p) # call the function expenditures on a given set of x's and prices\n",
    "                    \n",
    "                    if E <= I: # if E is bigger than I, this is not a valid solution\n",
    "                        u_now = utility_function(x,alpha)\n",
    "                        if u_now > u_best:\n",
    "                            u_best = u_now\n",
    "                            x_best = x\n",
    "                            \n",
    "print_solution(x_best,alpha,I,p)"
   ]
  },
  {
   "cell_type": "markdown",
   "metadata": {},
   "source": [
    "Solving with a numerical optimizer:"
   ]
  },
  {
   "cell_type": "code",
   "execution_count": null,
   "metadata": {},
   "outputs": [],
   "source": [
    "from scipy import optimize\n",
    "\n",
    "# a. contraint function (negative if violated)\n",
    "constraints = ({'type': 'ineq', 'fun': lambda x: I-expenditures(x,p)}) # if income is lower than total expenditures tell the optimizer that this is no good. \n",
    "bounds = [(0,I/p_now) for p_now in p] # each x can't be 0, and at most we can't spend I/p\n",
    "\n",
    "# b. call optimizer\n",
    "initial_guess = (I/p)/6 # some guess, should be feasible\n",
    "res = optimize.minimize(lambda x: -utility_function(x,alpha), initial_guess, method='SLSQP', bounds=bounds,constraints=constraints)\n",
    "\n",
    "print(res.message) # check that the solver has terminated correctly\n",
    "\n",
    "#c. print result\n",
    "print_solution(res.x,alpha,I,p)"
   ]
  },
  {
   "cell_type": "markdown",
   "metadata": {},
   "source": [
    "# Extra Problems"
   ]
  },
  {
   "cell_type": "markdown",
   "metadata": {},
   "source": [
    "## Cost minimization"
   ]
  },
  {
   "cell_type": "markdown",
   "metadata": {},
   "source": [
    "Consider the following 2-good **cost minimziation problem** with required utility $u_0$, and price-vector $p=(p_1,p_2)$,\n",
    "\n",
    "$$\n",
    "\\begin{aligned}\n",
    "E(p_{1},p_{2},u_0) & = \\min_{x_{1},x_{2}} p_1 x_1+p_2 x_2\\\\\n",
    " & \\text{s.t.}\\\\\n",
    "x_{1}^{\\alpha}x_{2}^{1-\\alpha} & \\geq u_0 \\\\\n",
    "x_{1},x_{2} & \\geq 0\n",
    "\\end{aligned}\n",
    "$$"
   ]
  },
  {
   "cell_type": "markdown",
   "metadata": {},
   "source": [
    "**Problem:** Solve the 2-good cost-minimization problem with arbitrary required utility, prices and income. Present your results graphically showing that the optimum is a point, where a budgetline is targent to the indifference curve through $u_0$."
   ]
  },
  {
   "cell_type": "markdown",
   "metadata": {},
   "source": [
    "This is my solution to the Extra Problems. I copited a lot from the code we used above."
   ]
  },
  {
   "cell_type": "code",
   "execution_count": null,
   "metadata": {},
   "outputs": [],
   "source": [
    "def expenditures(x,p):\n",
    "    E = 0\n",
    "    for x_now,p_now in zip(x,p):\n",
    "        E += p_now*x_now\n",
    "    return E\n",
    "\n",
    "def utility_function(x, alpha):\n",
    "    return (x[0] ** alpha) * x[1] ** (1 - alpha)\n",
    "\n",
    "# inverse utility function, this can also be done with optimize.root\n",
    "# given a utility and an x1, returns x2\n",
    "# this is used to draw the indifference curves\n",
    "def utility_function_draw(x1, alpha, u0):\n",
    "    #print( (u0 / (x1 ** alpha)) ** (1 / (1 - alpha)))\n",
    "    return (u0 / (x1 ** alpha)) ** (1 / (1 - alpha))\n",
    "\n",
    "def print_solution(x,alpha,I,p,u0):\n",
    "    # a. x values\n",
    "    text = 'x = ['\n",
    "    for x_now in x:\n",
    "        text += f'{x_now:.2f} '\n",
    "    text += f']\\n'\n",
    "    \n",
    "    # b. utility -> only thing I added here\n",
    "    u_val = utility_function(x,alpha)    \n",
    "    text += f'Utility = {u_val:.3f}\\n'\n",
    "    \n",
    "    # c. expenditure vs. income\n",
    "    E =  expenditures(x,p)\n",
    "    text += f'E = {E:.2f} <= I = {I:.2f}\\n'\n",
    "    \n",
    "    # d. expenditure shares\n",
    "    e = p*x/I\n",
    "    text += 'expenditure shares = ['\n",
    "    for e_now in e:\n",
    "        text += f'{e_now:.2f} '\n",
    "    text += f']'        \n",
    "        \n",
    "    print(text)"
   ]
  },
  {
   "cell_type": "code",
   "execution_count": null,
   "metadata": {},
   "outputs": [],
   "source": [
    "u0 = 10\n",
    "alpha = 0.5\n",
    "p = np.array([1, 1])\n",
    "\n",
    "# we want to get the required utility. Now we use 'type': 'eq', since we want to HIT it excactly. when u0-utility_function(x,alpha) = 0 we are happy, otherwise,\n",
    "# tell the optimizer to try something else\n",
    "constraints = ({'type': 'eq', 'fun': lambda x: u0-utility_function(x,alpha)}) \n",
    "bounds = [(0,100) for p_now in p] # only requirement is that the x's are not negative, but the upper bound is infinite\n",
    "\n",
    "# b. call optimizer\n",
    "initial_guess = [10,10] # some guess, should be feasible\n",
    "res = optimize.minimize(lambda x: expenditures(x,p), initial_guess, method='SLSQP', bounds=bounds,constraints=constraints)\n",
    "\n",
    "print(res.message) # check that the solver has terminated correctly\n",
    "\n",
    "I = expenditures(res.x, p)\n",
    "\n",
    "#c. print result\n",
    "print_solution(res.x,alpha,I,p,u0)\n",
    "\n",
    "budgetline_x1 = np.linspace(0.001, I / p[0] , 100) # xs go up to the limit for good 1\n",
    "budgetline_x2 = [(I - p[0] * x) / p[1] for x in budgetline_x1] # this is the standard equation for the budget line\n",
    "\n",
    "#plot\n",
    "fig = plt.figure()\n",
    "ax = fig.add_subplot(1,1,1)\n",
    "ax.plot(budgetline_x1, budgetline_x2, label = \"Budgetline\")\n",
    "\n",
    "# util curvers\n",
    "utility_function_draw(res.x[0], alpha, u0) # function returns y value of the utility function, for given u0 and x\n",
    "for u in [2,5,10]:\n",
    "    util_y = np.array([utility_function_draw(x, alpha, u) for x in budgetline_x1])\n",
    "    ax.set_ylim(0,I/p[1]+5)\n",
    "    ax.plot(budgetline_x1, util_y, label = f\"$u_0 = {u}$\")\n",
    "ax.legend()"
   ]
  },
  {
   "cell_type": "markdown",
   "metadata": {},
   "source": [
    "## Classy solution"
   ]
  },
  {
   "cell_type": "markdown",
   "metadata": {},
   "source": [
    "**Problem:** Implement your solution to the utility maximization problem and/or the cost minimization problem above in a class as seen in Lecture 3.  \n",
    "I'm not going to explain a lot here, it basically does the same as above, but in a \"class format\"."
   ]
  },
  {
   "cell_type": "code",
   "execution_count": null,
   "metadata": {},
   "outputs": [],
   "source": [
    "class consumer():\n",
    "    def __init__(self):\n",
    "        # a. baseline parameters\n",
    "        self.alpha = 0.5\n",
    "\n",
    "        self.p = np.array([1, 1])\n",
    "        self.u = 10\n",
    "\n",
    "        # not-a-number\n",
    "        self.x = np.empty(2)\n",
    "        self.x[:] = np.nan\n",
    "\n",
    "        self.I = np.nan\n",
    "\n",
    "        # b. baseline settings\n",
    "        self.x2_max = 10\n",
    "        self.N = 100 \n",
    "            \n",
    "    def __str__(self): # called when printed\n",
    "        \n",
    "        lines = f'alpha = {self.alpha:.3f}\\n'\n",
    "        lines += f'price vector = (p1,p2) = ({self.p[0]:.3f},{self.p[0]:.3f})\\n'\n",
    "        lines += f'required utility = $u_0$ = {self.u:.3f}\\n'\n",
    "        \n",
    "        # add lines on solution if it has been calculated\n",
    "        if not (np.isnan(self.x[0]) or np.isnan(self.x[0])):\n",
    "            lines += 'solution:\\n'\n",
    "            lines += f' x1 = {self.x[0]:.2f}\\n'\n",
    "            lines += f' x2 = {self.x[1]:.2f}\\n'\n",
    "            lines += f' I = {self.I:.2f}\\n'\n",
    "\n",
    "        return lines\n",
    "    \n",
    "    def utility_function(self, x, alpha):\n",
    "        return x[0] ** self.alpha * x[1] ** (1 - self.alpha)\n",
    "    \n",
    "    # instead of finding roots I've already isolated x2 in the utility function\n",
    "    def utility_function_draw(self, x1, alpha, u0):\n",
    "        return (u0 / (x1 ** self.alpha)) ** (1 / (1 - self.alpha))\n",
    "    \n",
    "    def expenditures(self, x,p):\n",
    "        return np.sum(np.array(x) * np.array(p))\n",
    "    \n",
    "    def solve(self):\n",
    "        # a. constraints\n",
    "        constraints = ({'type': 'eq', 'fun': lambda x: self.u-self.utility_function(x,alpha)})\n",
    "        bounds = [(0,np.inf) for p_now in self.p]\n",
    "\n",
    "        # b. call solver\n",
    "        initial_guess = p # some guess, should be feasible\n",
    "        res = optimize.minimize(lambda x: self.expenditures(x, self.p), initial_guess, method='SLSQP', bounds=bounds,constraints=constraints)\n",
    "        \n",
    "        # c. save\n",
    "        self.x = res.x\n",
    "        self.I = self.expenditures(self.x, self.p)\n",
    "                      \n",
    "    def plot_solution(self):\n",
    "        budgetline_x1 = np.linspace(0.001, self.I / self.p[0], 100)\n",
    "        budgetline_x2 = [(self.I - self.p[0] * x) / self.p[1] for x in budgetline_x1]\n",
    "    \n",
    "        #plot\n",
    "        fig = plt.figure()\n",
    "        ax = fig.add_subplot(1,1,1)\n",
    "        ax.plot(budgetline_x1, budgetline_x2, label = \"Budgetline\")\n",
    "\n",
    "        # util curvers\n",
    "        for u in [2, 5, 10]:\n",
    "            util_y = np.array([utility_function_draw(x, alpha, u) for x in budgetline_x1])\n",
    "            util_y[util_y > 50] = None #remove too high values\n",
    "            ax.plot(budgetline_x1, util_y, label = f\"$u_0 = {u}$\")\n",
    "        ax.legend()\n",
    "\n",
    "                      \n",
    "Jeppe = consumer()\n",
    "Jeppe.solve()\n",
    "print(Jeppe)\n",
    "Jeppe.plot_solution()"
   ]
  }
 ],
 "metadata": {
  "kernelspec": {
   "display_name": "Python 3 (ipykernel)",
   "language": "python",
   "name": "python3"
  },
  "language_info": {
   "codemirror_mode": {
    "name": "ipython",
    "version": 3
   },
   "file_extension": ".py",
   "mimetype": "text/x-python",
   "name": "python",
   "nbconvert_exporter": "python",
   "pygments_lexer": "ipython3",
   "version": "3.9.7"
  },
  "toc-autonumbering": true
 },
 "nbformat": 4,
 "nbformat_minor": 4
}
