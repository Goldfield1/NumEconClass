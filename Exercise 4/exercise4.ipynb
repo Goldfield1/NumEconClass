{
 "cells": [
  {
   "cell_type": "markdown",
   "id": "c0ec4075-2657-4d59-8344-01c9648ad20c",
   "metadata": {},
   "source": [
    "<img src=\"ku_logo_uk.png\" alt=\"drawing\" width=\"130\" style=\"float:right\"/>\n",
    "\n",
    "# <span style=\"color:#2c061f\"> Exercise 3 </span>  \n",
    "\n",
    "<br>\n",
    "\n",
    "## <span style=\"color:#374045\"> Introduction to Programming and Numerical Analysis </span>\n",
    "\n",
    "\n",
    "####  <span style=\"color:#d89216\"> <br> Simon Guldager </span>"
   ]
  },
  {
   "cell_type": "markdown",
   "id": "ee9d13fa-60b5-44a0-9318-ebf62aa88d33",
   "metadata": {
    "tags": []
   },
   "source": [
    "## Plan for today\n",
    "\n",
    "1. Plotting\n",
    "2. Optimization\n",
    "3. Problem set 1\n",
    "\n",
    "## Important information\n",
    "\n",
    "This years inaugural project will be oploaded soon. **Deadline for hand-in is march 19th!**"
   ]
  },
  {
   "cell_type": "code",
   "execution_count": null,
   "id": "260533c2-48a8-4c3d-9cd6-b63a3d208d9d",
   "metadata": {},
   "outputs": [],
   "source": []
  }
 ],
 "metadata": {
  "kernelspec": {
   "display_name": "Python 3 (ipykernel)",
   "language": "python",
   "name": "python3"
  },
  "language_info": {
   "codemirror_mode": {
    "name": "ipython",
    "version": 3
   },
   "file_extension": ".py",
   "mimetype": "text/x-python",
   "name": "python",
   "nbconvert_exporter": "python",
   "pygments_lexer": "ipython3",
   "version": "3.9.7"
  }
 },
 "nbformat": 4,
 "nbformat_minor": 5
}
