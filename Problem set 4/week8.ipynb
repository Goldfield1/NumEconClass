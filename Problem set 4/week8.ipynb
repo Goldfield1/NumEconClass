{
 "cells": [
  {
   "cell_type": "markdown",
   "id": "7987d9a6-d22c-4a11-a853-58e1014b066c",
   "metadata": {
    "slideshow": {
     "slide_type": "slide"
    }
   },
   "source": [
    "<img src=\"ku_logo_uk_v.png\" alt=\"drawing\" width=\"130\" style=\"float:right\"/>\n",
    "\n",
    "# <span style=\"color:#2c061f\"> Week 8 </span>  \n",
    "\n",
    "<br>\n",
    "\n",
    "## <span style=\"color:#374045\"> Introduction to Programming and Numerical Analysis </span>\n",
    "\n",
    "\n",
    "####  <span style=\"color:#d89216\"> <br> Simon Guldager </span>"
   ]
  },
  {
   "cell_type": "markdown",
   "id": "c5832fcc-b4d5-479f-b1c8-5d128cb9a4c6",
   "metadata": {
    "slideshow": {
     "slide_type": "slide"
    }
   },
   "source": [
    "## Plan for today\n",
    "<br>\n",
    "\n",
    "1. Inaugural project feedback\n",
    "2. Data project \n",
    "3. Pandas stuff\n",
    "4. Split, Apply, Combine"
   ]
  },
  {
   "cell_type": "markdown",
   "id": "b836921a",
   "metadata": {
    "slideshow": {
     "slide_type": "slide"
    }
   },
   "source": [
    "# 1. Inaugural project feedback\n",
    "Feedback for your project will be via email.  \n",
    "I will probably only sent an email to one member of every group."
   ]
  },
  {
   "cell_type": "markdown",
   "id": "75e837a3-f94a-4d18-8490-3738127622de",
   "metadata": {
    "slideshow": {
     "slide_type": "slide"
    }
   },
   "source": [
    "# 2. Data project\n",
    "\n",
    "You are basically free to do whatever you want. You just have to show that your are able to do some analysis of the data in Python.\n",
    "\n",
    "Theme inspiration: \n",
    "- Danish foreign trade\n",
    "- Demographic changes\n",
    "- Covid-19\n",
    "- Climate & energy \n",
    "\n",
    "Whatever you choose the most important thing is to convey a story using data. "
   ]
  },
  {
   "cell_type": "markdown",
   "id": "9e74b4b8-6503-495b-beac-0f3d28133dc9",
   "metadata": {
    "slideshow": {
     "slide_type": "slide"
    }
   },
   "source": [
    "# 2.1 Minimum requirements\n",
    "\n",
    "There will be some minimum requirements for the project. You should show in the project that you can: \n",
    "1. Apply data cleaning and data structuring methods\n",
    "2. Apply data analysis methods\n",
    "3. Structure a code project\n",
    "4. Document code\n",
    "5. Present results in text form and in figures"
   ]
  },
  {
   "cell_type": "markdown",
   "id": "1dfb27cb-59ed-41c3-830d-013855b1411c",
   "metadata": {
    "slideshow": {
     "slide_type": "slide"
    }
   },
   "source": [
    "# 3 Pandas!\n",
    "\n",
    "Pandas is a really powerful data science library that you likely will encounter a lot. Pandas is built on top of the NumPy package, meaning a lot of the structure of NumPy is used or replicated in Pandas. \n",
    "\n",
    "The core element of Pandas is the `DataFrame`. Looks like a 'classic' dataset and can store heterogeneous tabular data. The `DataFrame` is a `Class` with many methods!  Let's import packages:"
   ]
  },
  {
   "cell_type": "code",
   "execution_count": 1,
   "id": "c2930173-96ca-4adf-b056-f8b14600a554",
   "metadata": {
    "slideshow": {
     "slide_type": "skip"
    },
    "tags": []
   },
   "outputs": [],
   "source": [
    "import pandas as pd\n",
    "import numpy as np"
   ]
  },
  {
   "cell_type": "markdown",
   "id": "5deecbde-600a-4016-b44b-9148f46a65d7",
   "metadata": {
    "slideshow": {
     "slide_type": "slide"
    }
   },
   "source": [
    "DataFrames can be loaded from pre-existing data (CSV, Excel, STATA, SAS, HTML, txt etc.) or from list and dictionaries:"
   ]
  },
  {
   "cell_type": "code",
   "execution_count": 20,
   "id": "aa349173-7a83-4138-a8ca-33ad77f3369b",
   "metadata": {
    "slideshow": {
     "slide_type": "slide"
    }
   },
   "outputs": [
    {
     "data": {
      "text/html": [
       "<div>\n",
       "<style scoped>\n",
       "    .dataframe tbody tr th:only-of-type {\n",
       "        vertical-align: middle;\n",
       "    }\n",
       "\n",
       "    .dataframe tbody tr th {\n",
       "        vertical-align: top;\n",
       "    }\n",
       "\n",
       "    .dataframe thead th {\n",
       "        text-align: right;\n",
       "    }\n",
       "</style>\n",
       "<table border=\"1\" class=\"dataframe\">\n",
       "  <thead>\n",
       "    <tr style=\"text-align: right;\">\n",
       "      <th></th>\n",
       "      <th>income</th>\n",
       "      <th>rent</th>\n",
       "      <th>consumption</th>\n",
       "    </tr>\n",
       "  </thead>\n",
       "  <tbody>\n",
       "    <tr>\n",
       "      <th>0</th>\n",
       "      <td>11.400144</td>\n",
       "      <td>4.560058</td>\n",
       "      <td>2.964037</td>\n",
       "    </tr>\n",
       "    <tr>\n",
       "      <th>1</th>\n",
       "      <td>8.080097</td>\n",
       "      <td>3.232039</td>\n",
       "      <td>2.100825</td>\n",
       "    </tr>\n",
       "    <tr>\n",
       "      <th>2</th>\n",
       "      <td>16.165930</td>\n",
       "      <td>6.466372</td>\n",
       "      <td>4.203142</td>\n",
       "    </tr>\n",
       "    <tr>\n",
       "      <th>3</th>\n",
       "      <td>12.409794</td>\n",
       "      <td>4.963918</td>\n",
       "      <td>3.226546</td>\n",
       "    </tr>\n",
       "    <tr>\n",
       "      <th>4</th>\n",
       "      <td>2.822764</td>\n",
       "      <td>1.129106</td>\n",
       "      <td>0.733919</td>\n",
       "    </tr>\n",
       "    <tr>\n",
       "      <th>5</th>\n",
       "      <td>4.481423</td>\n",
       "      <td>1.792569</td>\n",
       "      <td>1.165170</td>\n",
       "    </tr>\n",
       "    <tr>\n",
       "      <th>6</th>\n",
       "      <td>5.096052</td>\n",
       "      <td>2.038421</td>\n",
       "      <td>1.324974</td>\n",
       "    </tr>\n",
       "    <tr>\n",
       "      <th>7</th>\n",
       "      <td>1.945807</td>\n",
       "      <td>0.778323</td>\n",
       "      <td>0.505910</td>\n",
       "    </tr>\n",
       "    <tr>\n",
       "      <th>8</th>\n",
       "      <td>9.487841</td>\n",
       "      <td>3.795136</td>\n",
       "      <td>2.466839</td>\n",
       "    </tr>\n",
       "    <tr>\n",
       "      <th>9</th>\n",
       "      <td>2.277310</td>\n",
       "      <td>0.910924</td>\n",
       "      <td>0.592100</td>\n",
       "    </tr>\n",
       "  </tbody>\n",
       "</table>\n",
       "</div>"
      ],
      "text/plain": [
       "      income      rent  consumption\n",
       "0  11.400144  4.560058     2.964037\n",
       "1   8.080097  3.232039     2.100825\n",
       "2  16.165930  6.466372     4.203142\n",
       "3  12.409794  4.963918     3.226546\n",
       "4   2.822764  1.129106     0.733919\n",
       "5   4.481423  1.792569     1.165170\n",
       "6   5.096052  2.038421     1.324974\n",
       "7   1.945807  0.778323     0.505910\n",
       "8   9.487841  3.795136     2.466839\n",
       "9   2.277310  0.910924     0.592100"
      ]
     },
     "execution_count": 20,
     "metadata": {},
     "output_type": "execute_result"
    }
   ],
   "source": [
    "np.random.seed(666)\n",
    "N = 50\n",
    "log_dist = np.exp(np.random.normal(size=N))\n",
    "\n",
    "data = {'income':  log_dist * 5, 'rent': log_dist * 2, 'consumption': log_dist * 1.3}\n",
    "\n",
    "df = pd.DataFrame(data)\n",
    "df.head(10)"
   ]
  },
  {
   "cell_type": "markdown",
   "id": "fe17e2bc-d60f-4fe7-bdba-ad0edd3e7028",
   "metadata": {
    "slideshow": {
     "slide_type": "slide"
    }
   },
   "source": [
    "# 3.1 Creating a new variable"
   ]
  },
  {
   "cell_type": "code",
   "execution_count": 22,
   "id": "b28fb7b2-bb17-4494-b046-1c1e0d55772f",
   "metadata": {
    "slideshow": {
     "slide_type": "-"
    }
   },
   "outputs": [
    {
     "data": {
      "text/html": [
       "<div>\n",
       "<style scoped>\n",
       "    .dataframe tbody tr th:only-of-type {\n",
       "        vertical-align: middle;\n",
       "    }\n",
       "\n",
       "    .dataframe tbody tr th {\n",
       "        vertical-align: top;\n",
       "    }\n",
       "\n",
       "    .dataframe thead th {\n",
       "        text-align: right;\n",
       "    }\n",
       "</style>\n",
       "<table border=\"1\" class=\"dataframe\">\n",
       "  <thead>\n",
       "    <tr style=\"text-align: right;\">\n",
       "      <th></th>\n",
       "      <th>income</th>\n",
       "      <th>rent</th>\n",
       "      <th>consumption</th>\n",
       "      <th>savings</th>\n",
       "    </tr>\n",
       "  </thead>\n",
       "  <tbody>\n",
       "    <tr>\n",
       "      <th>0</th>\n",
       "      <td>11.400144</td>\n",
       "      <td>4.560058</td>\n",
       "      <td>2.964037</td>\n",
       "      <td>3.876049</td>\n",
       "    </tr>\n",
       "    <tr>\n",
       "      <th>1</th>\n",
       "      <td>8.080097</td>\n",
       "      <td>3.232039</td>\n",
       "      <td>2.100825</td>\n",
       "      <td>2.747233</td>\n",
       "    </tr>\n",
       "    <tr>\n",
       "      <th>2</th>\n",
       "      <td>16.165930</td>\n",
       "      <td>6.466372</td>\n",
       "      <td>4.203142</td>\n",
       "      <td>5.496416</td>\n",
       "    </tr>\n",
       "    <tr>\n",
       "      <th>3</th>\n",
       "      <td>12.409794</td>\n",
       "      <td>4.963918</td>\n",
       "      <td>3.226546</td>\n",
       "      <td>4.219330</td>\n",
       "    </tr>\n",
       "    <tr>\n",
       "      <th>4</th>\n",
       "      <td>2.822764</td>\n",
       "      <td>1.129106</td>\n",
       "      <td>0.733919</td>\n",
       "      <td>0.959740</td>\n",
       "    </tr>\n",
       "    <tr>\n",
       "      <th>5</th>\n",
       "      <td>4.481423</td>\n",
       "      <td>1.792569</td>\n",
       "      <td>1.165170</td>\n",
       "      <td>1.523684</td>\n",
       "    </tr>\n",
       "    <tr>\n",
       "      <th>6</th>\n",
       "      <td>5.096052</td>\n",
       "      <td>2.038421</td>\n",
       "      <td>1.324974</td>\n",
       "      <td>1.732658</td>\n",
       "    </tr>\n",
       "    <tr>\n",
       "      <th>7</th>\n",
       "      <td>1.945807</td>\n",
       "      <td>0.778323</td>\n",
       "      <td>0.505910</td>\n",
       "      <td>0.661574</td>\n",
       "    </tr>\n",
       "    <tr>\n",
       "      <th>8</th>\n",
       "      <td>9.487841</td>\n",
       "      <td>3.795136</td>\n",
       "      <td>2.466839</td>\n",
       "      <td>3.225866</td>\n",
       "    </tr>\n",
       "    <tr>\n",
       "      <th>9</th>\n",
       "      <td>2.277310</td>\n",
       "      <td>0.910924</td>\n",
       "      <td>0.592100</td>\n",
       "      <td>0.774285</td>\n",
       "    </tr>\n",
       "  </tbody>\n",
       "</table>\n",
       "</div>"
      ],
      "text/plain": [
       "      income      rent  consumption   savings\n",
       "0  11.400144  4.560058     2.964037  3.876049\n",
       "1   8.080097  3.232039     2.100825  2.747233\n",
       "2  16.165930  6.466372     4.203142  5.496416\n",
       "3  12.409794  4.963918     3.226546  4.219330\n",
       "4   2.822764  1.129106     0.733919  0.959740\n",
       "5   4.481423  1.792569     1.165170  1.523684\n",
       "6   5.096052  2.038421     1.324974  1.732658\n",
       "7   1.945807  0.778323     0.505910  0.661574\n",
       "8   9.487841  3.795136     2.466839  3.225866\n",
       "9   2.277310  0.910924     0.592100  0.774285"
      ]
     },
     "execution_count": 22,
     "metadata": {},
     "output_type": "execute_result"
    }
   ],
   "source": [
    "df['savings'] = df['income'] - df['rent'] - df['consumption']\n",
    "df.head(10)"
   ]
  },
  {
   "cell_type": "markdown",
   "id": "3249cb6a-a302-49ba-bfd2-b15e6030ea3c",
   "metadata": {
    "slideshow": {
     "slide_type": "slide"
    }
   },
   "source": [
    "# 3.2 Subsetting DataFrame\n",
    "Sometimes you only need specific parts of a DataFrame. To subset often the `.loc` method is used:"
   ]
  },
  {
   "cell_type": "code",
   "execution_count": 37,
   "id": "b140ab2a-bf78-4163-9211-0f27d09ce335",
   "metadata": {
    "slideshow": {
     "slide_type": "-"
    }
   },
   "outputs": [
    {
     "data": {
      "text/html": [
       "<div>\n",
       "<style scoped>\n",
       "    .dataframe tbody tr th:only-of-type {\n",
       "        vertical-align: middle;\n",
       "    }\n",
       "\n",
       "    .dataframe tbody tr th {\n",
       "        vertical-align: top;\n",
       "    }\n",
       "\n",
       "    .dataframe thead th {\n",
       "        text-align: right;\n",
       "    }\n",
       "</style>\n",
       "<table border=\"1\" class=\"dataframe\">\n",
       "  <thead>\n",
       "    <tr style=\"text-align: right;\">\n",
       "      <th></th>\n",
       "      <th>income</th>\n",
       "      <th>rent</th>\n",
       "      <th>consumption</th>\n",
       "      <th>savings</th>\n",
       "    </tr>\n",
       "  </thead>\n",
       "  <tbody>\n",
       "    <tr>\n",
       "      <th>0</th>\n",
       "      <td>11.400144</td>\n",
       "      <td>4.560058</td>\n",
       "      <td>2.964037</td>\n",
       "      <td>3.876049</td>\n",
       "    </tr>\n",
       "    <tr>\n",
       "      <th>1</th>\n",
       "      <td>16.165930</td>\n",
       "      <td>6.466372</td>\n",
       "      <td>4.203142</td>\n",
       "      <td>5.496416</td>\n",
       "    </tr>\n",
       "    <tr>\n",
       "      <th>2</th>\n",
       "      <td>12.409794</td>\n",
       "      <td>4.963918</td>\n",
       "      <td>3.226546</td>\n",
       "      <td>4.219330</td>\n",
       "    </tr>\n",
       "    <tr>\n",
       "      <th>3</th>\n",
       "      <td>13.298619</td>\n",
       "      <td>5.319447</td>\n",
       "      <td>3.457641</td>\n",
       "      <td>4.521530</td>\n",
       "    </tr>\n",
       "    <tr>\n",
       "      <th>4</th>\n",
       "      <td>11.635614</td>\n",
       "      <td>4.654245</td>\n",
       "      <td>3.025260</td>\n",
       "      <td>3.956109</td>\n",
       "    </tr>\n",
       "    <tr>\n",
       "      <th>5</th>\n",
       "      <td>11.732226</td>\n",
       "      <td>4.692891</td>\n",
       "      <td>3.050379</td>\n",
       "      <td>3.988957</td>\n",
       "    </tr>\n",
       "    <tr>\n",
       "      <th>6</th>\n",
       "      <td>18.542690</td>\n",
       "      <td>7.417076</td>\n",
       "      <td>4.821099</td>\n",
       "      <td>6.304515</td>\n",
       "    </tr>\n",
       "    <tr>\n",
       "      <th>7</th>\n",
       "      <td>23.412768</td>\n",
       "      <td>9.365107</td>\n",
       "      <td>6.087320</td>\n",
       "      <td>7.960341</td>\n",
       "    </tr>\n",
       "    <tr>\n",
       "      <th>8</th>\n",
       "      <td>12.262681</td>\n",
       "      <td>4.905073</td>\n",
       "      <td>3.188297</td>\n",
       "      <td>4.169312</td>\n",
       "    </tr>\n",
       "    <tr>\n",
       "      <th>9</th>\n",
       "      <td>15.183413</td>\n",
       "      <td>6.073365</td>\n",
       "      <td>3.947687</td>\n",
       "      <td>5.162360</td>\n",
       "    </tr>\n",
       "    <tr>\n",
       "      <th>10</th>\n",
       "      <td>21.267349</td>\n",
       "      <td>8.506939</td>\n",
       "      <td>5.529511</td>\n",
       "      <td>7.230899</td>\n",
       "    </tr>\n",
       "  </tbody>\n",
       "</table>\n",
       "</div>"
      ],
      "text/plain": [
       "       income      rent  consumption   savings\n",
       "0   11.400144  4.560058     2.964037  3.876049\n",
       "1   16.165930  6.466372     4.203142  5.496416\n",
       "2   12.409794  4.963918     3.226546  4.219330\n",
       "3   13.298619  5.319447     3.457641  4.521530\n",
       "4   11.635614  4.654245     3.025260  3.956109\n",
       "5   11.732226  4.692891     3.050379  3.988957\n",
       "6   18.542690  7.417076     4.821099  6.304515\n",
       "7   23.412768  9.365107     6.087320  7.960341\n",
       "8   12.262681  4.905073     3.188297  4.169312\n",
       "9   15.183413  6.073365     3.947687  5.162360\n",
       "10  21.267349  8.506939     5.529511  7.230899"
      ]
     },
     "execution_count": 37,
     "metadata": {},
     "output_type": "execute_result"
    }
   ],
   "source": [
    "df_sub = df.loc[df[\"income\"] > 10]\n",
    "df_sub = df_sub.reset_index(drop=True)\n",
    "df_sub"
   ]
  },
  {
   "cell_type": "code",
   "execution_count": 36,
   "id": "f68f103c-ed68-49ed-8c48-e21c81958d18",
   "metadata": {
    "slideshow": {
     "slide_type": "slide"
    }
   },
   "outputs": [],
   "source": [
    "I = df[\"income\"] > 10\n",
    "df_sub = df.loc[I]\n",
    "df_sub = df_sub.reset_index(drop=True)\n",
    "df_sub"
   ]
  },
  {
   "cell_type": "markdown",
   "id": "d16b2415-21a9-4fa3-b39b-69e0140804f5",
   "metadata": {
    "slideshow": {
     "slide_type": "slide"
    }
   },
   "source": [
    "# 3.3  Accessing columns\n",
    "Many ways to access columns:"
   ]
  },
  {
   "cell_type": "code",
   "execution_count": 41,
   "id": "efeded80-0cdb-4fd8-be18-6b26a3e4ba58",
   "metadata": {
    "slideshow": {
     "slide_type": "-"
    }
   },
   "outputs": [
    {
     "data": {
      "text/html": [
       "<div>\n",
       "<style scoped>\n",
       "    .dataframe tbody tr th:only-of-type {\n",
       "        vertical-align: middle;\n",
       "    }\n",
       "\n",
       "    .dataframe tbody tr th {\n",
       "        vertical-align: top;\n",
       "    }\n",
       "\n",
       "    .dataframe thead th {\n",
       "        text-align: right;\n",
       "    }\n",
       "</style>\n",
       "<table border=\"1\" class=\"dataframe\">\n",
       "  <thead>\n",
       "    <tr style=\"text-align: right;\">\n",
       "      <th></th>\n",
       "      <th>income</th>\n",
       "      <th>rent</th>\n",
       "      <th>consumption</th>\n",
       "      <th>savings</th>\n",
       "    </tr>\n",
       "  </thead>\n",
       "  <tbody>\n",
       "    <tr>\n",
       "      <th>0</th>\n",
       "      <td>11.400144</td>\n",
       "      <td>4.560058</td>\n",
       "      <td>2.964037</td>\n",
       "      <td>3.876049</td>\n",
       "    </tr>\n",
       "    <tr>\n",
       "      <th>1</th>\n",
       "      <td>16.165930</td>\n",
       "      <td>6.466372</td>\n",
       "      <td>4.203142</td>\n",
       "      <td>5.496416</td>\n",
       "    </tr>\n",
       "    <tr>\n",
       "      <th>2</th>\n",
       "      <td>12.409794</td>\n",
       "      <td>4.963918</td>\n",
       "      <td>3.226546</td>\n",
       "      <td>4.219330</td>\n",
       "    </tr>\n",
       "    <tr>\n",
       "      <th>3</th>\n",
       "      <td>13.298619</td>\n",
       "      <td>5.319447</td>\n",
       "      <td>3.457641</td>\n",
       "      <td>4.521530</td>\n",
       "    </tr>\n",
       "    <tr>\n",
       "      <th>4</th>\n",
       "      <td>11.635614</td>\n",
       "      <td>4.654245</td>\n",
       "      <td>3.025260</td>\n",
       "      <td>3.956109</td>\n",
       "    </tr>\n",
       "    <tr>\n",
       "      <th>5</th>\n",
       "      <td>11.732226</td>\n",
       "      <td>4.692891</td>\n",
       "      <td>3.050379</td>\n",
       "      <td>3.988957</td>\n",
       "    </tr>\n",
       "    <tr>\n",
       "      <th>6</th>\n",
       "      <td>18.542690</td>\n",
       "      <td>7.417076</td>\n",
       "      <td>4.821099</td>\n",
       "      <td>6.304515</td>\n",
       "    </tr>\n",
       "    <tr>\n",
       "      <th>7</th>\n",
       "      <td>23.412768</td>\n",
       "      <td>9.365107</td>\n",
       "      <td>6.087320</td>\n",
       "      <td>7.960341</td>\n",
       "    </tr>\n",
       "    <tr>\n",
       "      <th>8</th>\n",
       "      <td>12.262681</td>\n",
       "      <td>4.905073</td>\n",
       "      <td>3.188297</td>\n",
       "      <td>4.169312</td>\n",
       "    </tr>\n",
       "    <tr>\n",
       "      <th>9</th>\n",
       "      <td>15.183413</td>\n",
       "      <td>6.073365</td>\n",
       "      <td>3.947687</td>\n",
       "      <td>5.162360</td>\n",
       "    </tr>\n",
       "    <tr>\n",
       "      <th>10</th>\n",
       "      <td>21.267349</td>\n",
       "      <td>8.506939</td>\n",
       "      <td>5.529511</td>\n",
       "      <td>7.230899</td>\n",
       "    </tr>\n",
       "  </tbody>\n",
       "</table>\n",
       "</div>"
      ],
      "text/plain": [
       "       income      rent  consumption   savings\n",
       "0   11.400144  4.560058     2.964037  3.876049\n",
       "1   16.165930  6.466372     4.203142  5.496416\n",
       "2   12.409794  4.963918     3.226546  4.219330\n",
       "3   13.298619  5.319447     3.457641  4.521530\n",
       "4   11.635614  4.654245     3.025260  3.956109\n",
       "5   11.732226  4.692891     3.050379  3.988957\n",
       "6   18.542690  7.417076     4.821099  6.304515\n",
       "7   23.412768  9.365107     6.087320  7.960341\n",
       "8   12.262681  4.905073     3.188297  4.169312\n",
       "9   15.183413  6.073365     3.947687  5.162360\n",
       "10  21.267349  8.506939     5.529511  7.230899"
      ]
     },
     "execution_count": 41,
     "metadata": {},
     "output_type": "execute_result"
    }
   ],
   "source": [
    "#df_sub = df[\"income\"]\n",
    "#df_sub = df.income\n",
    "#df_sub = df.loc[:,[\"income\"]]\n",
    "#df_sub = df.iloc[:,0]\n",
    "df_sub"
   ]
  },
  {
   "cell_type": "markdown",
   "id": "f4bb40ff-6364-4c5d-a264-a6264be93cea",
   "metadata": {
    "slideshow": {
     "slide_type": "slide"
    }
   },
   "source": [
    "# 3.4 More subsetting \n",
    "Only want specific columns? Provide a list of column names: "
   ]
  },
  {
   "cell_type": "code",
   "execution_count": 47,
   "id": "f0e5699b-b66f-4969-a3f7-566d48a9ae50",
   "metadata": {
    "slideshow": {
     "slide_type": "-"
    }
   },
   "outputs": [
    {
     "data": {
      "text/html": [
       "<div>\n",
       "<style scoped>\n",
       "    .dataframe tbody tr th:only-of-type {\n",
       "        vertical-align: middle;\n",
       "    }\n",
       "\n",
       "    .dataframe tbody tr th {\n",
       "        vertical-align: top;\n",
       "    }\n",
       "\n",
       "    .dataframe thead th {\n",
       "        text-align: right;\n",
       "    }\n",
       "</style>\n",
       "<table border=\"1\" class=\"dataframe\">\n",
       "  <thead>\n",
       "    <tr style=\"text-align: right;\">\n",
       "      <th></th>\n",
       "      <th>income</th>\n",
       "      <th>rent</th>\n",
       "    </tr>\n",
       "  </thead>\n",
       "  <tbody>\n",
       "    <tr>\n",
       "      <th>0</th>\n",
       "      <td>11.400144</td>\n",
       "      <td>4.560058</td>\n",
       "    </tr>\n",
       "    <tr>\n",
       "      <th>2</th>\n",
       "      <td>16.165930</td>\n",
       "      <td>6.466372</td>\n",
       "    </tr>\n",
       "    <tr>\n",
       "      <th>3</th>\n",
       "      <td>12.409794</td>\n",
       "      <td>4.963918</td>\n",
       "    </tr>\n",
       "    <tr>\n",
       "      <th>12</th>\n",
       "      <td>13.298619</td>\n",
       "      <td>5.319447</td>\n",
       "    </tr>\n",
       "    <tr>\n",
       "      <th>21</th>\n",
       "      <td>11.635614</td>\n",
       "      <td>4.654245</td>\n",
       "    </tr>\n",
       "    <tr>\n",
       "      <th>23</th>\n",
       "      <td>11.732226</td>\n",
       "      <td>4.692891</td>\n",
       "    </tr>\n",
       "    <tr>\n",
       "      <th>25</th>\n",
       "      <td>18.542690</td>\n",
       "      <td>7.417076</td>\n",
       "    </tr>\n",
       "    <tr>\n",
       "      <th>26</th>\n",
       "      <td>23.412768</td>\n",
       "      <td>9.365107</td>\n",
       "    </tr>\n",
       "    <tr>\n",
       "      <th>38</th>\n",
       "      <td>12.262681</td>\n",
       "      <td>4.905073</td>\n",
       "    </tr>\n",
       "    <tr>\n",
       "      <th>41</th>\n",
       "      <td>15.183413</td>\n",
       "      <td>6.073365</td>\n",
       "    </tr>\n",
       "  </tbody>\n",
       "</table>\n",
       "</div>"
      ],
      "text/plain": [
       "       income      rent\n",
       "0   11.400144  4.560058\n",
       "2   16.165930  6.466372\n",
       "3   12.409794  4.963918\n",
       "12  13.298619  5.319447\n",
       "21  11.635614  4.654245\n",
       "23  11.732226  4.692891\n",
       "25  18.542690  7.417076\n",
       "26  23.412768  9.365107\n",
       "38  12.262681  4.905073\n",
       "41  15.183413  6.073365"
      ]
     },
     "execution_count": 47,
     "metadata": {},
     "output_type": "execute_result"
    }
   ],
   "source": [
    "df_sub = df.loc[:, [\"income\",\"rent\"]]\n",
    "df_sub = df_sub.reset_index(drop=True)\n",
    "df_sub = df.loc[I, [\"income\",\"rent\"]]\n",
    "df_sub.head(10)"
   ]
  },
  {
   "cell_type": "markdown",
   "id": "17d6b1d5-ec9a-4310-8bb3-e2aa0f21b9cf",
   "metadata": {
    "slideshow": {
     "slide_type": "slide"
    }
   },
   "source": [
    "# 4. Split-apply-combine\n",
    "Walkthrough of a piece of code you will see in the problem set"
   ]
  },
  {
   "cell_type": "code",
   "execution_count": 25,
   "id": "1bbc6840-8740-4469-b033-61690db23df2",
   "metadata": {
    "slideshow": {
     "slide_type": "skip"
    }
   },
   "outputs": [],
   "source": [
    "import pydst\n",
    "import numpy as np\n",
    "import matplotlib.pyplot as plt\n",
    "plt.style.use('seaborn-whitegrid')\n",
    "import pandas as pd\n",
    "dst = pydst.Dst(lang='en')\n",
    "\n",
    "columns_dict = {}\n",
    "columns_dict['TRANSAKT'] = 'variable'\n",
    "columns_dict['PRISENHED'] = 'unit'\n",
    "columns_dict['TID'] = 'year'\n",
    "columns_dict['INDHOLD'] = 'value'\n",
    "\n",
    "var_dict = {} # var is for variable\n",
    "var_dict['P.1 Output'] = 'Y'\n",
    "var_dict['P.3 Final consumption expenditure'] = 'C'\n",
    "var_dict['P.3 Government consumption expenditure'] = 'G'\n",
    "var_dict['P.5 Gross capital formation'] = 'I'\n",
    "var_dict['P.6 Export of goods and services'] = 'X'\n",
    "var_dict['P.7 Import of goods and services'] = 'M'\n",
    "\n",
    "unit_dict = {}\n",
    "unit_dict['2010-prices, chained values'] = 'real'\n",
    "unit_dict['Current prices'] = 'nominal'\n",
    "\n",
    "nah1 = dst.get_data(table_id = 'NAH1', variables={'TRANSAKT':'*', 'PRISENHED':'*', 'TID':'*'})\n",
    "\n",
    "nah1_true = nah1.copy()\n",
    "nah1_true.rename(columns=columns_dict,inplace=True)\n",
    "\n",
    "# c. replace data\n",
    "for key,value in var_dict.items():\n",
    "    nah1_true.variable.replace(key,value,inplace=True)\n",
    "\n",
    "for key,value in unit_dict.items():\n",
    "    nah1_true.unit.replace(key,value,inplace=True)\n",
    "    \n",
    "I = nah1_true[\"variable\"].isin(list(var_dict.values()))\n",
    "nah1_true = nah1_true.loc[I]\n",
    "\n",
    "# e. convert values to numeric\n",
    "nah1_true.value = nah1_true.value.astype('float')\n",
    "\n",
    "nah_copy = nah1_true.copy()\n",
    "\n",
    "# split\n",
    "nah1_true = nah1_true.sort_values(by=['year'], ascending = True)\n",
    "nah1_true_grouped = nah1_true.groupby(['variable','unit'])\n",
    "nah1_true_grouped_first = nah1_true_grouped.value.first()\n",
    "nah1_true_grouped_first.name = 'first'\n",
    "\n",
    "# b. apply\n",
    "nah1_true.set_index(['variable','unit','year'],inplace=True)\n",
    "nah1_true = nah1_true.join(nah1_true_grouped_first,how='left',on=['variable','unit'])\n",
    "nah1_true.reset_index(inplace=True)\n",
    "\n",
    "# c. combine\n",
    "nah1_true['indexed'] = nah1_true['value']/nah1_true['first']\n",
    "\n",
    "# d. plot\n",
    "def plot(df):\n",
    "    df_indexed = df.set_index('year')\n",
    "    I = df_indexed.unit == 'real'\n",
    "    df_indexed[I].groupby(['variable'])['indexed'].plot(legend=True);"
   ]
  },
  {
   "cell_type": "markdown",
   "id": "eb2a612a",
   "metadata": {
    "slideshow": {
     "slide_type": "slide"
    }
   },
   "source": [
    "National accounting data, for GDP, consumption, investments etc."
   ]
  },
  {
   "cell_type": "markdown",
   "id": "b7d62230",
   "metadata": {
    "slideshow": {
     "slide_type": "slide"
    }
   },
   "source": [
    "Lets say we want to create an index chart, to see which variable grew the most over the period.  \n",
    "\n",
    "That is, we want to create an index variable. The index is given as the value today divided by the value in year 1.\n",
    "\n",
    "This is not trivial: We have to somehow find and save the value in year 1 for all variables."
   ]
  },
  {
   "cell_type": "markdown",
   "id": "d24b077d-8848-469a-8e7c-594c357c7957",
   "metadata": {
    "slideshow": {
     "slide_type": "slide"
    }
   },
   "source": [
    "## Split"
   ]
  },
  {
   "cell_type": "code",
   "execution_count": 30,
   "id": "b4260903-8279-4ca6-a9b2-798db2a06083",
   "metadata": {
    "slideshow": {
     "slide_type": "-"
    }
   },
   "outputs": [
    {
     "name": "stdout",
     "output_type": "stream",
     "text": [
      "('C', 'nominal')\n",
      "     variable     unit  year    value\n",
      "1643        C  nominal  1966  62576.0\n",
      "3143        C  nominal  1967  69877.0\n",
      "1283        C  nominal  1968  77325.0\n",
      "1343        C  nominal  1969  86753.0\n",
      "1703        C  nominal  1970  97441.0\n",
      "('C', 'real')\n",
      "     variable  unit  year     value\n",
      "1642        C  real  1966  549491.0\n",
      "3142        C  real  1967  588094.0\n",
      "1282        C  real  1968  612327.0\n",
      "1342        C  real  1969  649337.0\n",
      "1702        C  real  1970  671805.0\n"
     ]
    }
   ],
   "source": [
    "nah = nah.sort_values(by=['year'], ascending = True)\n",
    "nah_grouped = nah.groupby(['variable','unit']) # nah_grouped is a \"group element\"\n",
    "\n",
    "# this part is not necesarry it's just for show\n",
    "num = 0\n",
    "for i, j in nah_grouped:\n",
    "    num += 1\n",
    "    print(i)\n",
    "    print(j[:5])\n",
    "    if num > 1:\n",
    "        break"
   ]
  },
  {
   "cell_type": "markdown",
   "id": "d407f481-28ab-453b-a14f-55266d4bcceb",
   "metadata": {
    "slideshow": {
     "slide_type": "slide"
    }
   },
   "source": [
    "## Apply"
   ]
  },
  {
   "cell_type": "code",
   "execution_count": 31,
   "id": "6561ec89-e937-40a9-baf1-5a7d05a6833f",
   "metadata": {
    "slideshow": {
     "slide_type": "-"
    }
   },
   "outputs": [
    {
     "data": {
      "text/plain": [
       "variable  unit   \n",
       "C         nominal      62576.0\n",
       "          real        549491.0\n",
       "G         nominal      14768.0\n",
       "          real        171307.0\n",
       "I         nominal      21134.0\n",
       "          real        127630.0\n",
       "M         nominal      24406.0\n",
       "          real        112171.0\n",
       "X         nominal      23110.0\n",
       "          real        123594.0\n",
       "Y         nominal     144582.0\n",
       "          real       1089347.0\n",
       "Name: first, dtype: float64"
      ]
     },
     "execution_count": 31,
     "metadata": {},
     "output_type": "execute_result"
    }
   ],
   "source": [
    "nah_grouped_first = nah_grouped.value.first() # takes the first value in the group and creates a data series\n",
    "nah_grouped_first.name = 'first' # we give the series a name, necesarry for join\n",
    "nah_grouped_first"
   ]
  },
  {
   "cell_type": "markdown",
   "id": "8377a8a2-5b09-454c-9f0f-6e68e167fadb",
   "metadata": {
    "slideshow": {
     "slide_type": "slide"
    }
   },
   "source": [
    "## Combine"
   ]
  },
  {
   "cell_type": "code",
   "execution_count": 32,
   "id": "a336e292-539b-458c-bb72-fdeb9ddbf94a",
   "metadata": {
    "slideshow": {
     "slide_type": "-"
    }
   },
   "outputs": [
    {
     "data": {
      "text/html": [
       "<div>\n",
       "<style scoped>\n",
       "    .dataframe tbody tr th:only-of-type {\n",
       "        vertical-align: middle;\n",
       "    }\n",
       "\n",
       "    .dataframe tbody tr th {\n",
       "        vertical-align: top;\n",
       "    }\n",
       "\n",
       "    .dataframe thead th {\n",
       "        text-align: right;\n",
       "    }\n",
       "</style>\n",
       "<table border=\"1\" class=\"dataframe\">\n",
       "  <thead>\n",
       "    <tr style=\"text-align: right;\">\n",
       "      <th></th>\n",
       "      <th>variable</th>\n",
       "      <th>unit</th>\n",
       "      <th>year</th>\n",
       "      <th>value</th>\n",
       "      <th>first</th>\n",
       "      <th>indexed</th>\n",
       "    </tr>\n",
       "  </thead>\n",
       "  <tbody>\n",
       "    <tr>\n",
       "      <th>0</th>\n",
       "      <td>M</td>\n",
       "      <td>nominal</td>\n",
       "      <td>1966</td>\n",
       "      <td>24406.0</td>\n",
       "      <td>24406.0</td>\n",
       "      <td>1.000000</td>\n",
       "    </tr>\n",
       "    <tr>\n",
       "      <th>1</th>\n",
       "      <td>I</td>\n",
       "      <td>real</td>\n",
       "      <td>1966</td>\n",
       "      <td>127630.0</td>\n",
       "      <td>127630.0</td>\n",
       "      <td>1.000000</td>\n",
       "    </tr>\n",
       "    <tr>\n",
       "      <th>2</th>\n",
       "      <td>C</td>\n",
       "      <td>real</td>\n",
       "      <td>1966</td>\n",
       "      <td>549491.0</td>\n",
       "      <td>549491.0</td>\n",
       "      <td>1.000000</td>\n",
       "    </tr>\n",
       "    <tr>\n",
       "      <th>3</th>\n",
       "      <td>C</td>\n",
       "      <td>nominal</td>\n",
       "      <td>1966</td>\n",
       "      <td>62576.0</td>\n",
       "      <td>62576.0</td>\n",
       "      <td>1.000000</td>\n",
       "    </tr>\n",
       "    <tr>\n",
       "      <th>4</th>\n",
       "      <td>G</td>\n",
       "      <td>nominal</td>\n",
       "      <td>1966</td>\n",
       "      <td>14768.0</td>\n",
       "      <td>14768.0</td>\n",
       "      <td>1.000000</td>\n",
       "    </tr>\n",
       "    <tr>\n",
       "      <th>...</th>\n",
       "      <td>...</td>\n",
       "      <td>...</td>\n",
       "      <td>...</td>\n",
       "      <td>...</td>\n",
       "      <td>...</td>\n",
       "      <td>...</td>\n",
       "    </tr>\n",
       "    <tr>\n",
       "      <th>667</th>\n",
       "      <td>X</td>\n",
       "      <td>real</td>\n",
       "      <td>2021</td>\n",
       "      <td>1275485.0</td>\n",
       "      <td>123594.0</td>\n",
       "      <td>10.319959</td>\n",
       "    </tr>\n",
       "    <tr>\n",
       "      <th>668</th>\n",
       "      <td>X</td>\n",
       "      <td>nominal</td>\n",
       "      <td>2021</td>\n",
       "      <td>1478926.0</td>\n",
       "      <td>23110.0</td>\n",
       "      <td>63.995067</td>\n",
       "    </tr>\n",
       "    <tr>\n",
       "      <th>669</th>\n",
       "      <td>G</td>\n",
       "      <td>real</td>\n",
       "      <td>2021</td>\n",
       "      <td>540273.0</td>\n",
       "      <td>171307.0</td>\n",
       "      <td>3.153829</td>\n",
       "    </tr>\n",
       "    <tr>\n",
       "      <th>670</th>\n",
       "      <td>G</td>\n",
       "      <td>nominal</td>\n",
       "      <td>2021</td>\n",
       "      <td>612087.0</td>\n",
       "      <td>14768.0</td>\n",
       "      <td>41.446845</td>\n",
       "    </tr>\n",
       "    <tr>\n",
       "      <th>671</th>\n",
       "      <td>M</td>\n",
       "      <td>real</td>\n",
       "      <td>2021</td>\n",
       "      <td>1160884.0</td>\n",
       "      <td>112171.0</td>\n",
       "      <td>10.349235</td>\n",
       "    </tr>\n",
       "  </tbody>\n",
       "</table>\n",
       "<p>672 rows × 6 columns</p>\n",
       "</div>"
      ],
      "text/plain": [
       "    variable     unit  year      value     first    indexed\n",
       "0          M  nominal  1966    24406.0   24406.0   1.000000\n",
       "1          I     real  1966   127630.0  127630.0   1.000000\n",
       "2          C     real  1966   549491.0  549491.0   1.000000\n",
       "3          C  nominal  1966    62576.0   62576.0   1.000000\n",
       "4          G  nominal  1966    14768.0   14768.0   1.000000\n",
       "..       ...      ...   ...        ...       ...        ...\n",
       "667        X     real  2021  1275485.0  123594.0  10.319959\n",
       "668        X  nominal  2021  1478926.0   23110.0  63.995067\n",
       "669        G     real  2021   540273.0  171307.0   3.153829\n",
       "670        G  nominal  2021   612087.0   14768.0  41.446845\n",
       "671        M     real  2021  1160884.0  112171.0  10.349235\n",
       "\n",
       "[672 rows x 6 columns]"
      ]
     },
     "execution_count": 32,
     "metadata": {},
     "output_type": "execute_result"
    }
   ],
   "source": [
    "# c. combine\n",
    "nah.set_index(['variable','unit','year'],inplace=True) # .join needs an index\n",
    "nah = nah.join(nah_grouped_first, how='left',on=['variable','unit']) # on=['variable','unit']\n",
    "# nah_grouped_first is joined with nah where variable and unit match variable and unit in the group\n",
    "nah.reset_index(inplace=True)\n",
    "\n",
    "nah['indexed'] = nah['value'] / nah['first']\n",
    "nah"
   ]
  },
  {
   "cell_type": "code",
   "execution_count": 34,
   "id": "c6edbdf7-e1d3-4c64-88e3-b8d09c10a538",
   "metadata": {
    "slideshow": {
     "slide_type": "slide"
    }
   },
   "outputs": [
    {
     "data": {
      "image/png": "[encoded data removed]",
      "text/plain": [
       "<Figure size 432x288 with 1 Axes>"
      ]
     },
     "metadata": {},
     "output_type": "display_data"
    }
   ],
   "source": [
    "df_indexed = nah.set_index('year')\n",
    "I = df_indexed.unit == 'real'\n",
    "df_indexed\n",
    "df_indexed[I].groupby(['variable'])['indexed'].plot(legend=True);"
   ]
  },
  {
   "cell_type": "markdown",
   "id": "c96b2479-7367-4e56-a9f4-fc72ac5313c2",
   "metadata": {
    "slideshow": {
     "slide_type": "slide"
    }
   },
   "source": [
    "## Usefull resources"
   ]
  },
  {
   "cell_type": "markdown",
   "id": "8302ed0f-cf53-4837-9476-ef640e9a9b18",
   "metadata": {
    "slideshow": {
     "slide_type": "-"
    }
   },
   "source": [
    "Merging guide: https://pandas.pydata.org/pandas-docs/stable/user_guide/merging.html"
   ]
  },
  {
   "cell_type": "markdown",
   "id": "019931a9",
   "metadata": {
    "slideshow": {
     "slide_type": "slide"
    }
   },
   "source": [
    "## Another way of doing Split, Apply, Combine! (maybe easier)"
   ]
  },
  {
   "cell_type": "code",
   "execution_count": 217,
   "id": "2cf4df6d",
   "metadata": {
    "slideshow": {
     "slide_type": "-"
    }
   },
   "outputs": [
    {
     "data": {
      "text/html": [
       "<div>\n",
       "<style scoped>\n",
       "    .dataframe tbody tr th:only-of-type {\n",
       "        vertical-align: middle;\n",
       "    }\n",
       "\n",
       "    .dataframe tbody tr th {\n",
       "        vertical-align: top;\n",
       "    }\n",
       "\n",
       "    .dataframe thead th {\n",
       "        text-align: right;\n",
       "    }\n",
       "</style>\n",
       "<table border=\"1\" class=\"dataframe\">\n",
       "  <thead>\n",
       "    <tr style=\"text-align: right;\">\n",
       "      <th></th>\n",
       "      <th>variable</th>\n",
       "      <th>unit</th>\n",
       "      <th>year</th>\n",
       "      <th>value</th>\n",
       "    </tr>\n",
       "  </thead>\n",
       "  <tbody>\n",
       "    <tr>\n",
       "      <th>1671</th>\n",
       "      <td>M</td>\n",
       "      <td>nominal</td>\n",
       "      <td>1966</td>\n",
       "      <td>24406.0</td>\n",
       "    </tr>\n",
       "    <tr>\n",
       "      <th>1642</th>\n",
       "      <td>C</td>\n",
       "      <td>real</td>\n",
       "      <td>1966</td>\n",
       "      <td>549491.0</td>\n",
       "    </tr>\n",
       "    <tr>\n",
       "      <th>1643</th>\n",
       "      <td>C</td>\n",
       "      <td>nominal</td>\n",
       "      <td>1966</td>\n",
       "      <td>62576.0</td>\n",
       "    </tr>\n",
       "    <tr>\n",
       "      <th>1644</th>\n",
       "      <td>G</td>\n",
       "      <td>real</td>\n",
       "      <td>1966</td>\n",
       "      <td>171307.0</td>\n",
       "    </tr>\n",
       "    <tr>\n",
       "      <th>1645</th>\n",
       "      <td>G</td>\n",
       "      <td>nominal</td>\n",
       "      <td>1966</td>\n",
       "      <td>14768.0</td>\n",
       "    </tr>\n",
       "    <tr>\n",
       "      <th>...</th>\n",
       "      <td>...</td>\n",
       "      <td>...</td>\n",
       "      <td>...</td>\n",
       "      <td>...</td>\n",
       "    </tr>\n",
       "    <tr>\n",
       "      <th>2915</th>\n",
       "      <td>I</td>\n",
       "      <td>nominal</td>\n",
       "      <td>2021</td>\n",
       "      <td>576732.0</td>\n",
       "    </tr>\n",
       "    <tr>\n",
       "      <th>2924</th>\n",
       "      <td>X</td>\n",
       "      <td>real</td>\n",
       "      <td>2021</td>\n",
       "      <td>1275485.0</td>\n",
       "    </tr>\n",
       "    <tr>\n",
       "      <th>2925</th>\n",
       "      <td>X</td>\n",
       "      <td>nominal</td>\n",
       "      <td>2021</td>\n",
       "      <td>1478926.0</td>\n",
       "    </tr>\n",
       "    <tr>\n",
       "      <th>2931</th>\n",
       "      <td>M</td>\n",
       "      <td>nominal</td>\n",
       "      <td>2021</td>\n",
       "      <td>1310530.0</td>\n",
       "    </tr>\n",
       "    <tr>\n",
       "      <th>2930</th>\n",
       "      <td>M</td>\n",
       "      <td>real</td>\n",
       "      <td>2021</td>\n",
       "      <td>1160884.0</td>\n",
       "    </tr>\n",
       "  </tbody>\n",
       "</table>\n",
       "<p>672 rows × 4 columns</p>\n",
       "</div>"
      ],
      "text/plain": [
       "     variable     unit  year      value\n",
       "1671        M  nominal  1966    24406.0\n",
       "1642        C     real  1966   549491.0\n",
       "1643        C  nominal  1966    62576.0\n",
       "1644        G     real  1966   171307.0\n",
       "1645        G  nominal  1966    14768.0\n",
       "...       ...      ...   ...        ...\n",
       "2915        I  nominal  2021   576732.0\n",
       "2924        X     real  2021  1275485.0\n",
       "2925        X  nominal  2021  1478926.0\n",
       "2931        M  nominal  2021  1310530.0\n",
       "2930        M     real  2021  1160884.0\n",
       "\n",
       "[672 rows x 4 columns]"
      ]
     },
     "execution_count": 217,
     "metadata": {},
     "output_type": "execute_result"
    }
   ],
   "source": [
    "nah = nah_copy.copy() # copy of data from statistics Denmark\n",
    "nah = nah.sort_values(by=['year'], ascending = True)\n",
    "nah"
   ]
  },
  {
   "cell_type": "code",
   "execution_count": 234,
   "id": "c83a16cf",
   "metadata": {
    "slideshow": {
     "slide_type": "slide"
    }
   },
   "outputs": [
    {
     "data": {
      "text/html": [
       "<div>\n",
       "<style scoped>\n",
       "    .dataframe tbody tr th:only-of-type {\n",
       "        vertical-align: middle;\n",
       "    }\n",
       "\n",
       "    .dataframe tbody tr th {\n",
       "        vertical-align: top;\n",
       "    }\n",
       "\n",
       "    .dataframe thead th {\n",
       "        text-align: right;\n",
       "    }\n",
       "</style>\n",
       "<table border=\"1\" class=\"dataframe\">\n",
       "  <thead>\n",
       "    <tr style=\"text-align: right;\">\n",
       "      <th></th>\n",
       "      <th>variable</th>\n",
       "      <th>unit</th>\n",
       "      <th>value</th>\n",
       "    </tr>\n",
       "  </thead>\n",
       "  <tbody>\n",
       "    <tr>\n",
       "      <th>3110</th>\n",
       "      <td>M</td>\n",
       "      <td>real</td>\n",
       "      <td>959972.0</td>\n",
       "    </tr>\n",
       "    <tr>\n",
       "      <th>3105</th>\n",
       "      <td>X</td>\n",
       "      <td>nominal</td>\n",
       "      <td>1128511.0</td>\n",
       "    </tr>\n",
       "    <tr>\n",
       "      <th>3067</th>\n",
       "      <td>Y</td>\n",
       "      <td>nominal</td>\n",
       "      <td>3549922.0</td>\n",
       "    </tr>\n",
       "    <tr>\n",
       "      <th>3066</th>\n",
       "      <td>Y</td>\n",
       "      <td>real</td>\n",
       "      <td>3368200.0</td>\n",
       "    </tr>\n",
       "    <tr>\n",
       "      <th>3104</th>\n",
       "      <td>X</td>\n",
       "      <td>real</td>\n",
       "      <td>1076884.0</td>\n",
       "    </tr>\n",
       "    <tr>\n",
       "      <th>3095</th>\n",
       "      <td>I</td>\n",
       "      <td>nominal</td>\n",
       "      <td>420125.0</td>\n",
       "    </tr>\n",
       "    <tr>\n",
       "      <th>3094</th>\n",
       "      <td>I</td>\n",
       "      <td>real</td>\n",
       "      <td>400705.0</td>\n",
       "    </tr>\n",
       "    <tr>\n",
       "      <th>3111</th>\n",
       "      <td>M</td>\n",
       "      <td>nominal</td>\n",
       "      <td>990281.0</td>\n",
       "    </tr>\n",
       "    <tr>\n",
       "      <th>3084</th>\n",
       "      <td>G</td>\n",
       "      <td>real</td>\n",
       "      <td>513801.0</td>\n",
       "    </tr>\n",
       "    <tr>\n",
       "      <th>3083</th>\n",
       "      <td>C</td>\n",
       "      <td>nominal</td>\n",
       "      <td>1478001.0</td>\n",
       "    </tr>\n",
       "    <tr>\n",
       "      <th>3082</th>\n",
       "      <td>C</td>\n",
       "      <td>real</td>\n",
       "      <td>1413235.0</td>\n",
       "    </tr>\n",
       "    <tr>\n",
       "      <th>3085</th>\n",
       "      <td>G</td>\n",
       "      <td>nominal</td>\n",
       "      <td>518644.0</td>\n",
       "    </tr>\n",
       "  </tbody>\n",
       "</table>\n",
       "</div>"
      ],
      "text/plain": [
       "     variable     unit      value\n",
       "3110        M     real   959972.0\n",
       "3105        X  nominal  1128511.0\n",
       "3067        Y  nominal  3549922.0\n",
       "3066        Y     real  3368200.0\n",
       "3104        X     real  1076884.0\n",
       "3095        I  nominal   420125.0\n",
       "3094        I     real   400705.0\n",
       "3111        M  nominal   990281.0\n",
       "3084        G     real   513801.0\n",
       "3083        C  nominal  1478001.0\n",
       "3082        C     real  1413235.0\n",
       "3085        G  nominal   518644.0"
      ]
     },
     "execution_count": 234,
     "metadata": {},
     "output_type": "execute_result"
    }
   ],
   "source": [
    "year1_df = nah[nah['year'] == 2015] # dataframe only with data in year1\n",
    "year1_df = year1_df.loc[:, ['variable', 'unit', 'value']]\n",
    "year1_df"
   ]
  },
  {
   "cell_type": "code",
   "execution_count": 235,
   "id": "7b6f9c00",
   "metadata": {
    "slideshow": {
     "slide_type": "slide"
    }
   },
   "outputs": [
    {
     "data": {
      "text/html": [
       "<div>\n",
       "<style scoped>\n",
       "    .dataframe tbody tr th:only-of-type {\n",
       "        vertical-align: middle;\n",
       "    }\n",
       "\n",
       "    .dataframe tbody tr th {\n",
       "        vertical-align: top;\n",
       "    }\n",
       "\n",
       "    .dataframe thead th {\n",
       "        text-align: right;\n",
       "    }\n",
       "</style>\n",
       "<table border=\"1\" class=\"dataframe\">\n",
       "  <thead>\n",
       "    <tr style=\"text-align: right;\">\n",
       "      <th></th>\n",
       "      <th>variable</th>\n",
       "      <th>unit</th>\n",
       "      <th>year</th>\n",
       "      <th>value_x</th>\n",
       "      <th>value_y</th>\n",
       "    </tr>\n",
       "  </thead>\n",
       "  <tbody>\n",
       "    <tr>\n",
       "      <th>0</th>\n",
       "      <td>M</td>\n",
       "      <td>nominal</td>\n",
       "      <td>1966</td>\n",
       "      <td>24406.0</td>\n",
       "      <td>990281.0</td>\n",
       "    </tr>\n",
       "    <tr>\n",
       "      <th>1</th>\n",
       "      <td>M</td>\n",
       "      <td>nominal</td>\n",
       "      <td>1967</td>\n",
       "      <td>26172.0</td>\n",
       "      <td>990281.0</td>\n",
       "    </tr>\n",
       "    <tr>\n",
       "      <th>2</th>\n",
       "      <td>M</td>\n",
       "      <td>nominal</td>\n",
       "      <td>1968</td>\n",
       "      <td>28722.0</td>\n",
       "      <td>990281.0</td>\n",
       "    </tr>\n",
       "    <tr>\n",
       "      <th>3</th>\n",
       "      <td>M</td>\n",
       "      <td>nominal</td>\n",
       "      <td>1969</td>\n",
       "      <td>33288.0</td>\n",
       "      <td>990281.0</td>\n",
       "    </tr>\n",
       "    <tr>\n",
       "      <th>4</th>\n",
       "      <td>M</td>\n",
       "      <td>nominal</td>\n",
       "      <td>1970</td>\n",
       "      <td>38399.0</td>\n",
       "      <td>990281.0</td>\n",
       "    </tr>\n",
       "    <tr>\n",
       "      <th>...</th>\n",
       "      <td>...</td>\n",
       "      <td>...</td>\n",
       "      <td>...</td>\n",
       "      <td>...</td>\n",
       "      <td>...</td>\n",
       "    </tr>\n",
       "    <tr>\n",
       "      <th>667</th>\n",
       "      <td>Y</td>\n",
       "      <td>real</td>\n",
       "      <td>2017</td>\n",
       "      <td>3581416.0</td>\n",
       "      <td>3368200.0</td>\n",
       "    </tr>\n",
       "    <tr>\n",
       "      <th>668</th>\n",
       "      <td>Y</td>\n",
       "      <td>real</td>\n",
       "      <td>2018</td>\n",
       "      <td>3650682.0</td>\n",
       "      <td>3368200.0</td>\n",
       "    </tr>\n",
       "    <tr>\n",
       "      <th>669</th>\n",
       "      <td>Y</td>\n",
       "      <td>real</td>\n",
       "      <td>2019</td>\n",
       "      <td>3722048.0</td>\n",
       "      <td>3368200.0</td>\n",
       "    </tr>\n",
       "    <tr>\n",
       "      <th>670</th>\n",
       "      <td>Y</td>\n",
       "      <td>real</td>\n",
       "      <td>2020</td>\n",
       "      <td>3631000.0</td>\n",
       "      <td>3368200.0</td>\n",
       "    </tr>\n",
       "    <tr>\n",
       "      <th>671</th>\n",
       "      <td>Y</td>\n",
       "      <td>real</td>\n",
       "      <td>2021</td>\n",
       "      <td>3811174.0</td>\n",
       "      <td>3368200.0</td>\n",
       "    </tr>\n",
       "  </tbody>\n",
       "</table>\n",
       "<p>672 rows × 5 columns</p>\n",
       "</div>"
      ],
      "text/plain": [
       "    variable     unit  year    value_x    value_y\n",
       "0          M  nominal  1966    24406.0   990281.0\n",
       "1          M  nominal  1967    26172.0   990281.0\n",
       "2          M  nominal  1968    28722.0   990281.0\n",
       "3          M  nominal  1969    33288.0   990281.0\n",
       "4          M  nominal  1970    38399.0   990281.0\n",
       "..       ...      ...   ...        ...        ...\n",
       "667        Y     real  2017  3581416.0  3368200.0\n",
       "668        Y     real  2018  3650682.0  3368200.0\n",
       "669        Y     real  2019  3722048.0  3368200.0\n",
       "670        Y     real  2020  3631000.0  3368200.0\n",
       "671        Y     real  2021  3811174.0  3368200.0\n",
       "\n",
       "[672 rows x 5 columns]"
      ]
     },
     "execution_count": 235,
     "metadata": {},
     "output_type": "execute_result"
    }
   ],
   "source": [
    "result = nah.merge(year1_df, on=[\"variable\", \"unit\"])\n",
    "result"
   ]
  },
  {
   "cell_type": "code",
   "execution_count": 236,
   "id": "7327f17d",
   "metadata": {
    "slideshow": {
     "slide_type": "slide"
    }
   },
   "outputs": [
    {
     "data": {
      "text/plain": [
       "<matplotlib.legend.Legend at 0x1a8a959a340>"
      ]
     },
     "execution_count": 236,
     "metadata": {},
     "output_type": "execute_result"
    },
    {
     "data": {
      "image/png": "[encoded data removed]",
      "text/plain": [
       "<Figure size 648x432 with 1 Axes>"
      ]
     },
     "metadata": {},
     "output_type": "display_data"
    }
   ],
   "source": [
    "result['index'] = result['value_x'] / result['value_y']\n",
    "\n",
    "fig = plt.figure(figsize=(9, 6))\n",
    "ax = fig.add_subplot(1,1,1)\n",
    "\n",
    "J = result['unit'] == 'real'\n",
    "years = result['year'].unique()\n",
    "for i, j in result[J].groupby(['variable']):\n",
    "    # i is the name of a given group\n",
    "    # j is the data\n",
    "    ax.plot(years, j['index'], label = f'{i}')\n",
    "ax.legend()"
   ]
  },
  {
   "cell_type": "code",
   "execution_count": null,
   "id": "c3d39b19",
   "metadata": {},
   "outputs": [],
   "source": []
  }
 ],
 "metadata": {
  "celltoolbar": "Slideshow",
  "kernelspec": {
   "display_name": "Python 3 (ipykernel)",
   "language": "python",
   "name": "python3"
  },
  "language_info": {
   "codemirror_mode": {
    "name": "ipython",
    "version": 3
   },
   "file_extension": ".py",
   "mimetype": "text/x-python",
   "name": "python",
   "nbconvert_exporter": "python",
   "pygments_lexer": "ipython3",
   "version": "3.9.11"
  }
 },
 "nbformat": 4,
 "nbformat_minor": 5
}
