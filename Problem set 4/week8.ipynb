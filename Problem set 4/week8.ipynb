{
 "cells": [
  {
   "cell_type": "markdown",
   "id": "7987d9a6-d22c-4a11-a853-58e1014b066c",
   "metadata": {
    "slideshow": {
     "slide_type": "slide"
    }
   },
   "source": [
    "<img src=\"ku_logo_uk_v.png\" alt=\"drawing\" width=\"130\" style=\"float:right\"/>\n",
    "\n",
    "# <span style=\"color:#2c061f\"> Week 8 </span>  \n",
    "\n",
    "<br>\n",
    "\n",
    "## <span style=\"color:#374045\"> Introduction to Programming and Numerical Analysis </span>\n",
    "\n",
    "\n",
    "####  <span style=\"color:#d89216\"> <br> Simon Guldager </span>"
   ]
  },
  {
   "cell_type": "markdown",
   "id": "c5832fcc-b4d5-479f-b1c8-5d128cb9a4c6",
   "metadata": {
    "slideshow": {
     "slide_type": "slide"
    }
   },
   "source": [
    "## Plan for today\n",
    "<br>\n",
    "\n",
    "1. Inaugural project feedback\n",
    "2. Data project \n",
    "3. Pandas stuff\n",
    "4. Split, Apply, Combine"
   ]
  },
  {
   "cell_type": "markdown",
   "id": "b836921a",
   "metadata": {
    "slideshow": {
     "slide_type": "slide"
    }
   },
   "source": [
    "# 1. Inaugural project feedback\n",
    "Feedback for your project will be via email.  \n",
    "I will probably only sent an email to one member of every group."
   ]
  },
  {
   "cell_type": "markdown",
   "id": "75e837a3-f94a-4d18-8490-3738127622de",
   "metadata": {
    "slideshow": {
     "slide_type": "slide"
    }
   },
   "source": [
    "# 2. Data project\n",
    "\n",
    "You are basically free to do whatever you want. You just have to show that your are able to do some analysis of the data in Python.\n",
    "\n",
    "Theme inspiration: \n",
    "- Danish foreign trade\n",
    "- Demographic changes\n",
    "- Covid-19\n",
    "\n",
    "Whatever you choose the most important thing is to convey a story using data. "
   ]
  },
  {
   "cell_type": "markdown",
   "id": "1b17fbea",
   "metadata": {
    "slideshow": {
     "slide_type": "slide"
    }
   },
   "source": [
    "# 2. Data project\n",
    "\n",
    "Next week we will work on the data project in class!"
   ]
  },
  {
   "cell_type": "markdown",
   "id": "9e74b4b8-6503-495b-beac-0f3d28133dc9",
   "metadata": {
    "slideshow": {
     "slide_type": "slide"
    }
   },
   "source": [
    "# 2.1 Minimum requirements\n",
    "\n",
    "There will be some minimum requirements for the project. You should show in the project that you can: \n",
    "1. Apply data cleaning and data structuring methods\n",
    "2. Apply data analysis methods\n",
    "3. Structure a code project\n",
    "4. Document code\n",
    "5. Present results in text form and in figures"
   ]
  },
  {
   "cell_type": "markdown",
   "id": "1dfb27cb-59ed-41c3-830d-013855b1411c",
   "metadata": {
    "slideshow": {
     "slide_type": "slide"
    }
   },
   "source": [
    "# 3. Pandas!\n",
    "\n",
    "Pandas is a really powerful data science library that you likely will encounter a lot. Pandas is built on top of the NumPy package, meaning a lot of the structure of NumPy is used or replicated in Pandas. \n",
    "\n",
    "The core element of Pandas is the `DataFrame`. Looks like a 'classic' dataset and can store heterogeneous tabular data. The `DataFrame` is a `Class` with many methods!  Let's import packages:"
   ]
  },
  {
   "cell_type": "code",
   "execution_count": 81,
   "id": "c2930173-96ca-4adf-b056-f8b14600a554",
   "metadata": {
    "slideshow": {
     "slide_type": "skip"
    },
    "tags": []
   },
   "outputs": [],
   "source": [
    "import pandas as pd\n",
    "import numpy as np"
   ]
  },
  {
   "cell_type": "markdown",
   "id": "5deecbde-600a-4016-b44b-9148f46a65d7",
   "metadata": {
    "slideshow": {
     "slide_type": "-"
    }
   },
   "source": [
    "DataFrames can be loaded from pre-existing data (CSV, Excel, STATA, SAS, HTML, txt etc.) or from list and dictionaries:"
   ]
  },
  {
   "cell_type": "code",
   "execution_count": 36,
   "id": "aa349173-7a83-4138-a8ca-33ad77f3369b",
   "metadata": {
    "slideshow": {
     "slide_type": "slide"
    }
   },
   "outputs": [
    {
     "data": {
      "text/html": [
       "<div>\n",
       "<style scoped>\n",
       "    .dataframe tbody tr th:only-of-type {\n",
       "        vertical-align: middle;\n",
       "    }\n",
       "\n",
       "    .dataframe tbody tr th {\n",
       "        vertical-align: top;\n",
       "    }\n",
       "\n",
       "    .dataframe thead th {\n",
       "        text-align: right;\n",
       "    }\n",
       "</style>\n",
       "<table border=\"1\" class=\"dataframe\">\n",
       "  <thead>\n",
       "    <tr style=\"text-align: right;\">\n",
       "      <th></th>\n",
       "      <th>income</th>\n",
       "      <th>rent</th>\n",
       "      <th>consumption</th>\n",
       "    </tr>\n",
       "  </thead>\n",
       "  <tbody>\n",
       "    <tr>\n",
       "      <th>0</th>\n",
       "      <td>11.400144</td>\n",
       "      <td>4.560058</td>\n",
       "      <td>2.964037</td>\n",
       "    </tr>\n",
       "    <tr>\n",
       "      <th>1</th>\n",
       "      <td>8.080097</td>\n",
       "      <td>3.232039</td>\n",
       "      <td>2.100825</td>\n",
       "    </tr>\n",
       "    <tr>\n",
       "      <th>2</th>\n",
       "      <td>16.165930</td>\n",
       "      <td>6.466372</td>\n",
       "      <td>4.203142</td>\n",
       "    </tr>\n",
       "    <tr>\n",
       "      <th>3</th>\n",
       "      <td>12.409794</td>\n",
       "      <td>4.963918</td>\n",
       "      <td>3.226546</td>\n",
       "    </tr>\n",
       "    <tr>\n",
       "      <th>4</th>\n",
       "      <td>2.822764</td>\n",
       "      <td>1.129106</td>\n",
       "      <td>0.733919</td>\n",
       "    </tr>\n",
       "    <tr>\n",
       "      <th>5</th>\n",
       "      <td>4.481423</td>\n",
       "      <td>1.792569</td>\n",
       "      <td>1.165170</td>\n",
       "    </tr>\n",
       "    <tr>\n",
       "      <th>6</th>\n",
       "      <td>5.096052</td>\n",
       "      <td>2.038421</td>\n",
       "      <td>1.324974</td>\n",
       "    </tr>\n",
       "    <tr>\n",
       "      <th>7</th>\n",
       "      <td>1.945807</td>\n",
       "      <td>0.778323</td>\n",
       "      <td>0.505910</td>\n",
       "    </tr>\n",
       "    <tr>\n",
       "      <th>8</th>\n",
       "      <td>9.487841</td>\n",
       "      <td>3.795136</td>\n",
       "      <td>2.466839</td>\n",
       "    </tr>\n",
       "    <tr>\n",
       "      <th>9</th>\n",
       "      <td>2.277310</td>\n",
       "      <td>0.910924</td>\n",
       "      <td>0.592100</td>\n",
       "    </tr>\n",
       "  </tbody>\n",
       "</table>\n",
       "</div>"
      ],
      "text/plain": [
       "      income      rent  consumption\n",
       "0  11.400144  4.560058     2.964037\n",
       "1   8.080097  3.232039     2.100825\n",
       "2  16.165930  6.466372     4.203142\n",
       "3  12.409794  4.963918     3.226546\n",
       "4   2.822764  1.129106     0.733919\n",
       "5   4.481423  1.792569     1.165170\n",
       "6   5.096052  2.038421     1.324974\n",
       "7   1.945807  0.778323     0.505910\n",
       "8   9.487841  3.795136     2.466839\n",
       "9   2.277310  0.910924     0.592100"
      ]
     },
     "execution_count": 36,
     "metadata": {},
     "output_type": "execute_result"
    }
   ],
   "source": [
    "np.random.seed(666)\n",
    "N = 50\n",
    "log_dist = np.exp(np.random.normal(size=N))\n",
    "\n",
    "data = {'income':  log_dist * 5, 'rent': log_dist * 2, 'consumption': log_dist * 1.3}\n",
    "\n",
    "df = pd.DataFrame(data)\n",
    "df.head(10)"
   ]
  },
  {
   "cell_type": "markdown",
   "id": "fe17e2bc-d60f-4fe7-bdba-ad0edd3e7028",
   "metadata": {
    "slideshow": {
     "slide_type": "slide"
    }
   },
   "source": [
    "# 3.1 Creating a new variable"
   ]
  },
  {
   "cell_type": "code",
   "execution_count": 82,
   "id": "b28fb7b2-bb17-4494-b046-1c1e0d55772f",
   "metadata": {
    "slideshow": {
     "slide_type": "-"
    }
   },
   "outputs": [
    {
     "data": {
      "text/html": [
       "<div>\n",
       "<style scoped>\n",
       "    .dataframe tbody tr th:only-of-type {\n",
       "        vertical-align: middle;\n",
       "    }\n",
       "\n",
       "    .dataframe tbody tr th {\n",
       "        vertical-align: top;\n",
       "    }\n",
       "\n",
       "    .dataframe thead th {\n",
       "        text-align: right;\n",
       "    }\n",
       "</style>\n",
       "<table border=\"1\" class=\"dataframe\">\n",
       "  <thead>\n",
       "    <tr style=\"text-align: right;\">\n",
       "      <th></th>\n",
       "      <th>income</th>\n",
       "      <th>rent</th>\n",
       "      <th>consumption</th>\n",
       "      <th>savings</th>\n",
       "    </tr>\n",
       "  </thead>\n",
       "  <tbody>\n",
       "    <tr>\n",
       "      <th>0</th>\n",
       "      <td>11.400144</td>\n",
       "      <td>4.560058</td>\n",
       "      <td>2.964037</td>\n",
       "      <td>3.876049</td>\n",
       "    </tr>\n",
       "    <tr>\n",
       "      <th>1</th>\n",
       "      <td>8.080097</td>\n",
       "      <td>3.232039</td>\n",
       "      <td>2.100825</td>\n",
       "      <td>2.747233</td>\n",
       "    </tr>\n",
       "    <tr>\n",
       "      <th>2</th>\n",
       "      <td>16.165930</td>\n",
       "      <td>6.466372</td>\n",
       "      <td>4.203142</td>\n",
       "      <td>5.496416</td>\n",
       "    </tr>\n",
       "    <tr>\n",
       "      <th>3</th>\n",
       "      <td>12.409794</td>\n",
       "      <td>4.963918</td>\n",
       "      <td>3.226546</td>\n",
       "      <td>4.219330</td>\n",
       "    </tr>\n",
       "    <tr>\n",
       "      <th>4</th>\n",
       "      <td>2.822764</td>\n",
       "      <td>1.129106</td>\n",
       "      <td>0.733919</td>\n",
       "      <td>0.959740</td>\n",
       "    </tr>\n",
       "    <tr>\n",
       "      <th>5</th>\n",
       "      <td>4.481423</td>\n",
       "      <td>1.792569</td>\n",
       "      <td>1.165170</td>\n",
       "      <td>1.523684</td>\n",
       "    </tr>\n",
       "    <tr>\n",
       "      <th>6</th>\n",
       "      <td>5.096052</td>\n",
       "      <td>2.038421</td>\n",
       "      <td>1.324974</td>\n",
       "      <td>1.732658</td>\n",
       "    </tr>\n",
       "    <tr>\n",
       "      <th>7</th>\n",
       "      <td>1.945807</td>\n",
       "      <td>0.778323</td>\n",
       "      <td>0.505910</td>\n",
       "      <td>0.661574</td>\n",
       "    </tr>\n",
       "    <tr>\n",
       "      <th>8</th>\n",
       "      <td>9.487841</td>\n",
       "      <td>3.795136</td>\n",
       "      <td>2.466839</td>\n",
       "      <td>3.225866</td>\n",
       "    </tr>\n",
       "    <tr>\n",
       "      <th>9</th>\n",
       "      <td>2.277310</td>\n",
       "      <td>0.910924</td>\n",
       "      <td>0.592100</td>\n",
       "      <td>0.774285</td>\n",
       "    </tr>\n",
       "  </tbody>\n",
       "</table>\n",
       "</div>"
      ],
      "text/plain": [
       "      income      rent  consumption   savings\n",
       "0  11.400144  4.560058     2.964037  3.876049\n",
       "1   8.080097  3.232039     2.100825  2.747233\n",
       "2  16.165930  6.466372     4.203142  5.496416\n",
       "3  12.409794  4.963918     3.226546  4.219330\n",
       "4   2.822764  1.129106     0.733919  0.959740\n",
       "5   4.481423  1.792569     1.165170  1.523684\n",
       "6   5.096052  2.038421     1.324974  1.732658\n",
       "7   1.945807  0.778323     0.505910  0.661574\n",
       "8   9.487841  3.795136     2.466839  3.225866\n",
       "9   2.277310  0.910924     0.592100  0.774285"
      ]
     },
     "execution_count": 82,
     "metadata": {},
     "output_type": "execute_result"
    }
   ],
   "source": [
    "df['savings'] = df['income'] - df['rent'] - df['consumption']\n",
    "df.head(10)"
   ]
  },
  {
   "cell_type": "markdown",
   "id": "3249cb6a-a302-49ba-bfd2-b15e6030ea3c",
   "metadata": {
    "slideshow": {
     "slide_type": "slide"
    }
   },
   "source": [
    "# 3.2 Subsetting DataFrame\n",
    "Sometimes you only need specific parts of a DataFrame. To subset often the `.loc` method is used:"
   ]
  },
  {
   "cell_type": "code",
   "execution_count": 83,
   "id": "b140ab2a-bf78-4163-9211-0f27d09ce335",
   "metadata": {
    "slideshow": {
     "slide_type": "-"
    }
   },
   "outputs": [
    {
     "data": {
      "text/html": [
       "<div>\n",
       "<style scoped>\n",
       "    .dataframe tbody tr th:only-of-type {\n",
       "        vertical-align: middle;\n",
       "    }\n",
       "\n",
       "    .dataframe tbody tr th {\n",
       "        vertical-align: top;\n",
       "    }\n",
       "\n",
       "    .dataframe thead th {\n",
       "        text-align: right;\n",
       "    }\n",
       "</style>\n",
       "<table border=\"1\" class=\"dataframe\">\n",
       "  <thead>\n",
       "    <tr style=\"text-align: right;\">\n",
       "      <th></th>\n",
       "      <th>income</th>\n",
       "      <th>rent</th>\n",
       "      <th>consumption</th>\n",
       "      <th>savings</th>\n",
       "    </tr>\n",
       "  </thead>\n",
       "  <tbody>\n",
       "    <tr>\n",
       "      <th>0</th>\n",
       "      <td>11.400144</td>\n",
       "      <td>4.560058</td>\n",
       "      <td>2.964037</td>\n",
       "      <td>3.876049</td>\n",
       "    </tr>\n",
       "    <tr>\n",
       "      <th>1</th>\n",
       "      <td>16.165930</td>\n",
       "      <td>6.466372</td>\n",
       "      <td>4.203142</td>\n",
       "      <td>5.496416</td>\n",
       "    </tr>\n",
       "    <tr>\n",
       "      <th>2</th>\n",
       "      <td>12.409794</td>\n",
       "      <td>4.963918</td>\n",
       "      <td>3.226546</td>\n",
       "      <td>4.219330</td>\n",
       "    </tr>\n",
       "    <tr>\n",
       "      <th>3</th>\n",
       "      <td>13.298619</td>\n",
       "      <td>5.319447</td>\n",
       "      <td>3.457641</td>\n",
       "      <td>4.521530</td>\n",
       "    </tr>\n",
       "    <tr>\n",
       "      <th>4</th>\n",
       "      <td>11.635614</td>\n",
       "      <td>4.654245</td>\n",
       "      <td>3.025260</td>\n",
       "      <td>3.956109</td>\n",
       "    </tr>\n",
       "    <tr>\n",
       "      <th>5</th>\n",
       "      <td>11.732226</td>\n",
       "      <td>4.692891</td>\n",
       "      <td>3.050379</td>\n",
       "      <td>3.988957</td>\n",
       "    </tr>\n",
       "    <tr>\n",
       "      <th>6</th>\n",
       "      <td>18.542690</td>\n",
       "      <td>7.417076</td>\n",
       "      <td>4.821099</td>\n",
       "      <td>6.304515</td>\n",
       "    </tr>\n",
       "    <tr>\n",
       "      <th>7</th>\n",
       "      <td>23.412768</td>\n",
       "      <td>9.365107</td>\n",
       "      <td>6.087320</td>\n",
       "      <td>7.960341</td>\n",
       "    </tr>\n",
       "    <tr>\n",
       "      <th>8</th>\n",
       "      <td>12.262681</td>\n",
       "      <td>4.905073</td>\n",
       "      <td>3.188297</td>\n",
       "      <td>4.169312</td>\n",
       "    </tr>\n",
       "    <tr>\n",
       "      <th>9</th>\n",
       "      <td>15.183413</td>\n",
       "      <td>6.073365</td>\n",
       "      <td>3.947687</td>\n",
       "      <td>5.162360</td>\n",
       "    </tr>\n",
       "    <tr>\n",
       "      <th>10</th>\n",
       "      <td>21.267349</td>\n",
       "      <td>8.506939</td>\n",
       "      <td>5.529511</td>\n",
       "      <td>7.230899</td>\n",
       "    </tr>\n",
       "  </tbody>\n",
       "</table>\n",
       "</div>"
      ],
      "text/plain": [
       "       income      rent  consumption   savings\n",
       "0   11.400144  4.560058     2.964037  3.876049\n",
       "1   16.165930  6.466372     4.203142  5.496416\n",
       "2   12.409794  4.963918     3.226546  4.219330\n",
       "3   13.298619  5.319447     3.457641  4.521530\n",
       "4   11.635614  4.654245     3.025260  3.956109\n",
       "5   11.732226  4.692891     3.050379  3.988957\n",
       "6   18.542690  7.417076     4.821099  6.304515\n",
       "7   23.412768  9.365107     6.087320  7.960341\n",
       "8   12.262681  4.905073     3.188297  4.169312\n",
       "9   15.183413  6.073365     3.947687  5.162360\n",
       "10  21.267349  8.506939     5.529511  7.230899"
      ]
     },
     "execution_count": 83,
     "metadata": {},
     "output_type": "execute_result"
    }
   ],
   "source": [
    "df_sub = df.loc[df[\"income\"] > 10]\n",
    "df_sub = df_sub.reset_index(drop=True)\n",
    "df_sub"
   ]
  },
  {
   "cell_type": "code",
   "execution_count": 39,
   "id": "f68f103c-ed68-49ed-8c48-e21c81958d18",
   "metadata": {
    "slideshow": {
     "slide_type": "slide"
    }
   },
   "outputs": [
    {
     "data": {
      "text/html": [
       "<div>\n",
       "<style scoped>\n",
       "    .dataframe tbody tr th:only-of-type {\n",
       "        vertical-align: middle;\n",
       "    }\n",
       "\n",
       "    .dataframe tbody tr th {\n",
       "        vertical-align: top;\n",
       "    }\n",
       "\n",
       "    .dataframe thead th {\n",
       "        text-align: right;\n",
       "    }\n",
       "</style>\n",
       "<table border=\"1\" class=\"dataframe\">\n",
       "  <thead>\n",
       "    <tr style=\"text-align: right;\">\n",
       "      <th></th>\n",
       "      <th>income</th>\n",
       "      <th>rent</th>\n",
       "      <th>consumption</th>\n",
       "      <th>savings</th>\n",
       "    </tr>\n",
       "  </thead>\n",
       "  <tbody>\n",
       "    <tr>\n",
       "      <th>0</th>\n",
       "      <td>11.400144</td>\n",
       "      <td>4.560058</td>\n",
       "      <td>2.964037</td>\n",
       "      <td>3.876049</td>\n",
       "    </tr>\n",
       "    <tr>\n",
       "      <th>1</th>\n",
       "      <td>16.165930</td>\n",
       "      <td>6.466372</td>\n",
       "      <td>4.203142</td>\n",
       "      <td>5.496416</td>\n",
       "    </tr>\n",
       "    <tr>\n",
       "      <th>2</th>\n",
       "      <td>12.409794</td>\n",
       "      <td>4.963918</td>\n",
       "      <td>3.226546</td>\n",
       "      <td>4.219330</td>\n",
       "    </tr>\n",
       "    <tr>\n",
       "      <th>3</th>\n",
       "      <td>13.298619</td>\n",
       "      <td>5.319447</td>\n",
       "      <td>3.457641</td>\n",
       "      <td>4.521530</td>\n",
       "    </tr>\n",
       "    <tr>\n",
       "      <th>4</th>\n",
       "      <td>11.635614</td>\n",
       "      <td>4.654245</td>\n",
       "      <td>3.025260</td>\n",
       "      <td>3.956109</td>\n",
       "    </tr>\n",
       "    <tr>\n",
       "      <th>5</th>\n",
       "      <td>11.732226</td>\n",
       "      <td>4.692891</td>\n",
       "      <td>3.050379</td>\n",
       "      <td>3.988957</td>\n",
       "    </tr>\n",
       "    <tr>\n",
       "      <th>6</th>\n",
       "      <td>18.542690</td>\n",
       "      <td>7.417076</td>\n",
       "      <td>4.821099</td>\n",
       "      <td>6.304515</td>\n",
       "    </tr>\n",
       "    <tr>\n",
       "      <th>7</th>\n",
       "      <td>23.412768</td>\n",
       "      <td>9.365107</td>\n",
       "      <td>6.087320</td>\n",
       "      <td>7.960341</td>\n",
       "    </tr>\n",
       "    <tr>\n",
       "      <th>8</th>\n",
       "      <td>12.262681</td>\n",
       "      <td>4.905073</td>\n",
       "      <td>3.188297</td>\n",
       "      <td>4.169312</td>\n",
       "    </tr>\n",
       "    <tr>\n",
       "      <th>9</th>\n",
       "      <td>15.183413</td>\n",
       "      <td>6.073365</td>\n",
       "      <td>3.947687</td>\n",
       "      <td>5.162360</td>\n",
       "    </tr>\n",
       "    <tr>\n",
       "      <th>10</th>\n",
       "      <td>21.267349</td>\n",
       "      <td>8.506939</td>\n",
       "      <td>5.529511</td>\n",
       "      <td>7.230899</td>\n",
       "    </tr>\n",
       "  </tbody>\n",
       "</table>\n",
       "</div>"
      ],
      "text/plain": [
       "       income      rent  consumption   savings\n",
       "0   11.400144  4.560058     2.964037  3.876049\n",
       "1   16.165930  6.466372     4.203142  5.496416\n",
       "2   12.409794  4.963918     3.226546  4.219330\n",
       "3   13.298619  5.319447     3.457641  4.521530\n",
       "4   11.635614  4.654245     3.025260  3.956109\n",
       "5   11.732226  4.692891     3.050379  3.988957\n",
       "6   18.542690  7.417076     4.821099  6.304515\n",
       "7   23.412768  9.365107     6.087320  7.960341\n",
       "8   12.262681  4.905073     3.188297  4.169312\n",
       "9   15.183413  6.073365     3.947687  5.162360\n",
       "10  21.267349  8.506939     5.529511  7.230899"
      ]
     },
     "execution_count": 39,
     "metadata": {},
     "output_type": "execute_result"
    }
   ],
   "source": [
    "I = df[\"income\"] > 10\n",
    "df_sub = df.loc[I]\n",
    "df_sub = df_sub.reset_index(drop=True)\n",
    "df_sub"
   ]
  },
  {
   "cell_type": "markdown",
   "id": "d16b2415-21a9-4fa3-b39b-69e0140804f5",
   "metadata": {
    "slideshow": {
     "slide_type": "slide"
    }
   },
   "source": [
    "# 3.3  Accessing columns\n",
    "Many ways to access columns:"
   ]
  },
  {
   "cell_type": "code",
   "execution_count": 40,
   "id": "efeded80-0cdb-4fd8-be18-6b26a3e4ba58",
   "metadata": {
    "slideshow": {
     "slide_type": "-"
    }
   },
   "outputs": [
    {
     "data": {
      "text/html": [
       "<div>\n",
       "<style scoped>\n",
       "    .dataframe tbody tr th:only-of-type {\n",
       "        vertical-align: middle;\n",
       "    }\n",
       "\n",
       "    .dataframe tbody tr th {\n",
       "        vertical-align: top;\n",
       "    }\n",
       "\n",
       "    .dataframe thead th {\n",
       "        text-align: right;\n",
       "    }\n",
       "</style>\n",
       "<table border=\"1\" class=\"dataframe\">\n",
       "  <thead>\n",
       "    <tr style=\"text-align: right;\">\n",
       "      <th></th>\n",
       "      <th>income</th>\n",
       "      <th>rent</th>\n",
       "      <th>consumption</th>\n",
       "      <th>savings</th>\n",
       "    </tr>\n",
       "  </thead>\n",
       "  <tbody>\n",
       "    <tr>\n",
       "      <th>0</th>\n",
       "      <td>11.400144</td>\n",
       "      <td>4.560058</td>\n",
       "      <td>2.964037</td>\n",
       "      <td>3.876049</td>\n",
       "    </tr>\n",
       "    <tr>\n",
       "      <th>1</th>\n",
       "      <td>16.165930</td>\n",
       "      <td>6.466372</td>\n",
       "      <td>4.203142</td>\n",
       "      <td>5.496416</td>\n",
       "    </tr>\n",
       "    <tr>\n",
       "      <th>2</th>\n",
       "      <td>12.409794</td>\n",
       "      <td>4.963918</td>\n",
       "      <td>3.226546</td>\n",
       "      <td>4.219330</td>\n",
       "    </tr>\n",
       "    <tr>\n",
       "      <th>3</th>\n",
       "      <td>13.298619</td>\n",
       "      <td>5.319447</td>\n",
       "      <td>3.457641</td>\n",
       "      <td>4.521530</td>\n",
       "    </tr>\n",
       "    <tr>\n",
       "      <th>4</th>\n",
       "      <td>11.635614</td>\n",
       "      <td>4.654245</td>\n",
       "      <td>3.025260</td>\n",
       "      <td>3.956109</td>\n",
       "    </tr>\n",
       "    <tr>\n",
       "      <th>5</th>\n",
       "      <td>11.732226</td>\n",
       "      <td>4.692891</td>\n",
       "      <td>3.050379</td>\n",
       "      <td>3.988957</td>\n",
       "    </tr>\n",
       "    <tr>\n",
       "      <th>6</th>\n",
       "      <td>18.542690</td>\n",
       "      <td>7.417076</td>\n",
       "      <td>4.821099</td>\n",
       "      <td>6.304515</td>\n",
       "    </tr>\n",
       "    <tr>\n",
       "      <th>7</th>\n",
       "      <td>23.412768</td>\n",
       "      <td>9.365107</td>\n",
       "      <td>6.087320</td>\n",
       "      <td>7.960341</td>\n",
       "    </tr>\n",
       "    <tr>\n",
       "      <th>8</th>\n",
       "      <td>12.262681</td>\n",
       "      <td>4.905073</td>\n",
       "      <td>3.188297</td>\n",
       "      <td>4.169312</td>\n",
       "    </tr>\n",
       "    <tr>\n",
       "      <th>9</th>\n",
       "      <td>15.183413</td>\n",
       "      <td>6.073365</td>\n",
       "      <td>3.947687</td>\n",
       "      <td>5.162360</td>\n",
       "    </tr>\n",
       "    <tr>\n",
       "      <th>10</th>\n",
       "      <td>21.267349</td>\n",
       "      <td>8.506939</td>\n",
       "      <td>5.529511</td>\n",
       "      <td>7.230899</td>\n",
       "    </tr>\n",
       "  </tbody>\n",
       "</table>\n",
       "</div>"
      ],
      "text/plain": [
       "       income      rent  consumption   savings\n",
       "0   11.400144  4.560058     2.964037  3.876049\n",
       "1   16.165930  6.466372     4.203142  5.496416\n",
       "2   12.409794  4.963918     3.226546  4.219330\n",
       "3   13.298619  5.319447     3.457641  4.521530\n",
       "4   11.635614  4.654245     3.025260  3.956109\n",
       "5   11.732226  4.692891     3.050379  3.988957\n",
       "6   18.542690  7.417076     4.821099  6.304515\n",
       "7   23.412768  9.365107     6.087320  7.960341\n",
       "8   12.262681  4.905073     3.188297  4.169312\n",
       "9   15.183413  6.073365     3.947687  5.162360\n",
       "10  21.267349  8.506939     5.529511  7.230899"
      ]
     },
     "execution_count": 40,
     "metadata": {},
     "output_type": "execute_result"
    }
   ],
   "source": [
    "#df_sub = df[\"income\"]\n",
    "#df_sub = df.income\n",
    "#df_sub = df.loc[:,[\"income\"]]\n",
    "#df_sub = df.iloc[:,0]\n",
    "df_sub"
   ]
  },
  {
   "cell_type": "markdown",
   "id": "f4bb40ff-6364-4c5d-a264-a6264be93cea",
   "metadata": {
    "slideshow": {
     "slide_type": "slide"
    }
   },
   "source": [
    "# 3.4 More subsetting \n",
    "Only want specific columns? Provide a list of column names: "
   ]
  },
  {
   "cell_type": "code",
   "execution_count": 41,
   "id": "f0e5699b-b66f-4969-a3f7-566d48a9ae50",
   "metadata": {
    "slideshow": {
     "slide_type": "-"
    }
   },
   "outputs": [
    {
     "data": {
      "text/html": [
       "<div>\n",
       "<style scoped>\n",
       "    .dataframe tbody tr th:only-of-type {\n",
       "        vertical-align: middle;\n",
       "    }\n",
       "\n",
       "    .dataframe tbody tr th {\n",
       "        vertical-align: top;\n",
       "    }\n",
       "\n",
       "    .dataframe thead th {\n",
       "        text-align: right;\n",
       "    }\n",
       "</style>\n",
       "<table border=\"1\" class=\"dataframe\">\n",
       "  <thead>\n",
       "    <tr style=\"text-align: right;\">\n",
       "      <th></th>\n",
       "      <th>income</th>\n",
       "      <th>rent</th>\n",
       "    </tr>\n",
       "  </thead>\n",
       "  <tbody>\n",
       "    <tr>\n",
       "      <th>0</th>\n",
       "      <td>11.400144</td>\n",
       "      <td>4.560058</td>\n",
       "    </tr>\n",
       "    <tr>\n",
       "      <th>2</th>\n",
       "      <td>16.165930</td>\n",
       "      <td>6.466372</td>\n",
       "    </tr>\n",
       "    <tr>\n",
       "      <th>3</th>\n",
       "      <td>12.409794</td>\n",
       "      <td>4.963918</td>\n",
       "    </tr>\n",
       "    <tr>\n",
       "      <th>12</th>\n",
       "      <td>13.298619</td>\n",
       "      <td>5.319447</td>\n",
       "    </tr>\n",
       "    <tr>\n",
       "      <th>21</th>\n",
       "      <td>11.635614</td>\n",
       "      <td>4.654245</td>\n",
       "    </tr>\n",
       "    <tr>\n",
       "      <th>23</th>\n",
       "      <td>11.732226</td>\n",
       "      <td>4.692891</td>\n",
       "    </tr>\n",
       "    <tr>\n",
       "      <th>25</th>\n",
       "      <td>18.542690</td>\n",
       "      <td>7.417076</td>\n",
       "    </tr>\n",
       "    <tr>\n",
       "      <th>26</th>\n",
       "      <td>23.412768</td>\n",
       "      <td>9.365107</td>\n",
       "    </tr>\n",
       "    <tr>\n",
       "      <th>38</th>\n",
       "      <td>12.262681</td>\n",
       "      <td>4.905073</td>\n",
       "    </tr>\n",
       "    <tr>\n",
       "      <th>41</th>\n",
       "      <td>15.183413</td>\n",
       "      <td>6.073365</td>\n",
       "    </tr>\n",
       "  </tbody>\n",
       "</table>\n",
       "</div>"
      ],
      "text/plain": [
       "       income      rent\n",
       "0   11.400144  4.560058\n",
       "2   16.165930  6.466372\n",
       "3   12.409794  4.963918\n",
       "12  13.298619  5.319447\n",
       "21  11.635614  4.654245\n",
       "23  11.732226  4.692891\n",
       "25  18.542690  7.417076\n",
       "26  23.412768  9.365107\n",
       "38  12.262681  4.905073\n",
       "41  15.183413  6.073365"
      ]
     },
     "execution_count": 41,
     "metadata": {},
     "output_type": "execute_result"
    }
   ],
   "source": [
    "df_sub = df.loc[:, [\"income\",\"rent\"]]\n",
    "df_sub = df_sub.reset_index(drop=True)\n",
    "df_sub = df.loc[I, [\"income\",\"rent\"]]\n",
    "df_sub.head(10)"
   ]
  },
  {
   "cell_type": "markdown",
   "id": "9e5ded32-1c97-49bf-a69f-c322c5c8da29",
   "metadata": {
    "slideshow": {
     "slide_type": "slide"
    }
   },
   "source": [
    "# 3.5 Pandas 'warning' when working in Jupyter"
   ]
  },
  {
   "cell_type": "markdown",
   "id": "8bf86e7b-9def-45a4-addc-a26ce6bddc18",
   "metadata": {
    "slideshow": {
     "slide_type": "-"
    }
   },
   "source": [
    "Remember that the Jupyter kernel stores variables, so changes in one cell affect the same variable in other cells. This may lead to problems when working with dataframes"
   ]
  },
  {
   "cell_type": "markdown",
   "id": "21c08138-5d2f-438b-a026-9c8e3044769d",
   "metadata": {
    "slideshow": {
     "slide_type": "slide"
    }
   },
   "source": [
    "Let's create a simple dataframe as an example"
   ]
  },
  {
   "cell_type": "code",
   "execution_count": 60,
   "id": "5db2dcb2-c5dd-452e-abbc-feed374e5d78",
   "metadata": {
    "slideshow": {
     "slide_type": "-"
    }
   },
   "outputs": [
    {
     "data": {
      "text/html": [
       "<div>\n",
       "<style scoped>\n",
       "    .dataframe tbody tr th:only-of-type {\n",
       "        vertical-align: middle;\n",
       "    }\n",
       "\n",
       "    .dataframe tbody tr th {\n",
       "        vertical-align: top;\n",
       "    }\n",
       "\n",
       "    .dataframe thead th {\n",
       "        text-align: right;\n",
       "    }\n",
       "</style>\n",
       "<table border=\"1\" class=\"dataframe\">\n",
       "  <thead>\n",
       "    <tr style=\"text-align: right;\">\n",
       "      <th></th>\n",
       "      <th>A</th>\n",
       "      <th>B</th>\n",
       "      <th>C</th>\n",
       "      <th>D</th>\n",
       "    </tr>\n",
       "  </thead>\n",
       "  <tbody>\n",
       "    <tr>\n",
       "      <th>0</th>\n",
       "      <td>0</td>\n",
       "      <td>0</td>\n",
       "      <td>0</td>\n",
       "      <td>0</td>\n",
       "    </tr>\n",
       "    <tr>\n",
       "      <th>1</th>\n",
       "      <td>1</td>\n",
       "      <td>1</td>\n",
       "      <td>1</td>\n",
       "      <td>1</td>\n",
       "    </tr>\n",
       "    <tr>\n",
       "      <th>2</th>\n",
       "      <td>2</td>\n",
       "      <td>2</td>\n",
       "      <td>2</td>\n",
       "      <td>2</td>\n",
       "    </tr>\n",
       "    <tr>\n",
       "      <th>3</th>\n",
       "      <td>3</td>\n",
       "      <td>3</td>\n",
       "      <td>3</td>\n",
       "      <td>3</td>\n",
       "    </tr>\n",
       "    <tr>\n",
       "      <th>4</th>\n",
       "      <td>4</td>\n",
       "      <td>4</td>\n",
       "      <td>4</td>\n",
       "      <td>4</td>\n",
       "    </tr>\n",
       "  </tbody>\n",
       "</table>\n",
       "</div>"
      ],
      "text/plain": [
       "   A  B  C  D\n",
       "0  0  0  0  0\n",
       "1  1  1  1  1\n",
       "2  2  2  2  2\n",
       "3  3  3  3  3\n",
       "4  4  4  4  4"
      ]
     },
     "execution_count": 60,
     "metadata": {},
     "output_type": "execute_result"
    }
   ],
   "source": [
    "import pandas as pd\n",
    "df1 = pd.DataFrame(\n",
    "    {\n",
    "        \"A\": list(range(5)),\n",
    "        \"B\": list(range(5)),\n",
    "        \"C\": list(range(5)),\n",
    "        \"D\": list(range(5)),\n",
    "    })\n",
    "df1"
   ]
  },
  {
   "cell_type": "markdown",
   "id": "0dd26686-6393-4ddb-8711-e5d0ff9e68f4",
   "metadata": {
    "slideshow": {
     "slide_type": "slide"
    }
   },
   "source": [
    "We remove rows where 'A' is larger than 2: This ONLY works if 'A' is actually a column"
   ]
  },
  {
   "cell_type": "code",
   "execution_count": 63,
   "id": "1097179f-3498-495c-ac29-032eb57dda2d",
   "metadata": {
    "slideshow": {
     "slide_type": "-"
    }
   },
   "outputs": [
    {
     "ename": "KeyError",
     "evalue": "'A'",
     "output_type": "error",
     "traceback": [
      "\u001b[0;31m---------------------------------------------------------------------------\u001b[0m",
      "\u001b[0;31mKeyError\u001b[0m                                  Traceback (most recent call last)",
      "\u001b[0;32m~/opt/anaconda3/lib/python3.9/site-packages/pandas/core/indexes/base.py\u001b[0m in \u001b[0;36mget_loc\u001b[0;34m(self, key, method, tolerance)\u001b[0m\n\u001b[1;32m   3360\u001b[0m             \u001b[0;32mtry\u001b[0m\u001b[0;34m:\u001b[0m\u001b[0;34m\u001b[0m\u001b[0;34m\u001b[0m\u001b[0m\n\u001b[0;32m-> 3361\u001b[0;31m                 \u001b[0;32mreturn\u001b[0m \u001b[0mself\u001b[0m\u001b[0;34m.\u001b[0m\u001b[0m_engine\u001b[0m\u001b[0;34m.\u001b[0m\u001b[0mget_loc\u001b[0m\u001b[0;34m(\u001b[0m\u001b[0mcasted_key\u001b[0m\u001b[0;34m)\u001b[0m\u001b[0;34m\u001b[0m\u001b[0;34m\u001b[0m\u001b[0m\n\u001b[0m\u001b[1;32m   3362\u001b[0m             \u001b[0;32mexcept\u001b[0m \u001b[0mKeyError\u001b[0m \u001b[0;32mas\u001b[0m \u001b[0merr\u001b[0m\u001b[0;34m:\u001b[0m\u001b[0;34m\u001b[0m\u001b[0;34m\u001b[0m\u001b[0m\n",
      "\u001b[0;32m~/opt/anaconda3/lib/python3.9/site-packages/pandas/_libs/index.pyx\u001b[0m in \u001b[0;36mpandas._libs.index.IndexEngine.get_loc\u001b[0;34m()\u001b[0m\n",
      "\u001b[0;32m~/opt/anaconda3/lib/python3.9/site-packages/pandas/_libs/index.pyx\u001b[0m in \u001b[0;36mpandas._libs.index.IndexEngine.get_loc\u001b[0;34m()\u001b[0m\n",
      "\u001b[0;32mpandas/_libs/hashtable_class_helper.pxi\u001b[0m in \u001b[0;36mpandas._libs.hashtable.PyObjectHashTable.get_item\u001b[0;34m()\u001b[0m\n",
      "\u001b[0;32mpandas/_libs/hashtable_class_helper.pxi\u001b[0m in \u001b[0;36mpandas._libs.hashtable.PyObjectHashTable.get_item\u001b[0;34m()\u001b[0m\n",
      "\u001b[0;31mKeyError\u001b[0m: 'A'",
      "\nThe above exception was the direct cause of the following exception:\n",
      "\u001b[0;31mKeyError\u001b[0m                                  Traceback (most recent call last)",
      "\u001b[0;32m/var/folders/n5/lvr4ppn15x93s2k8tr996bkw0000gn/T/ipykernel_6274/3491132964.py\u001b[0m in \u001b[0;36m<module>\u001b[0;34m\u001b[0m\n\u001b[0;32m----> 1\u001b[0;31m \u001b[0mI\u001b[0m \u001b[0;34m=\u001b[0m \u001b[0mdf1\u001b[0m\u001b[0;34m[\u001b[0m\u001b[0;34m'A'\u001b[0m\u001b[0;34m]\u001b[0m \u001b[0;34m>\u001b[0m \u001b[0;36m1\u001b[0m\u001b[0;34m\u001b[0m\u001b[0;34m\u001b[0m\u001b[0m\n\u001b[0m\u001b[1;32m      2\u001b[0m \u001b[0mdf1\u001b[0m \u001b[0;34m=\u001b[0m \u001b[0mdf1\u001b[0m\u001b[0;34m[\u001b[0m\u001b[0mI\u001b[0m\u001b[0;34m]\u001b[0m\u001b[0;34m\u001b[0m\u001b[0;34m\u001b[0m\u001b[0m\n\u001b[1;32m      3\u001b[0m \u001b[0mdf1\u001b[0m\u001b[0;34m\u001b[0m\u001b[0;34m\u001b[0m\u001b[0m\n",
      "\u001b[0;32m~/opt/anaconda3/lib/python3.9/site-packages/pandas/core/frame.py\u001b[0m in \u001b[0;36m__getitem__\u001b[0;34m(self, key)\u001b[0m\n\u001b[1;32m   3456\u001b[0m             \u001b[0;32mif\u001b[0m \u001b[0mself\u001b[0m\u001b[0;34m.\u001b[0m\u001b[0mcolumns\u001b[0m\u001b[0;34m.\u001b[0m\u001b[0mnlevels\u001b[0m \u001b[0;34m>\u001b[0m \u001b[0;36m1\u001b[0m\u001b[0;34m:\u001b[0m\u001b[0;34m\u001b[0m\u001b[0;34m\u001b[0m\u001b[0m\n\u001b[1;32m   3457\u001b[0m                 \u001b[0;32mreturn\u001b[0m \u001b[0mself\u001b[0m\u001b[0;34m.\u001b[0m\u001b[0m_getitem_multilevel\u001b[0m\u001b[0;34m(\u001b[0m\u001b[0mkey\u001b[0m\u001b[0;34m)\u001b[0m\u001b[0;34m\u001b[0m\u001b[0;34m\u001b[0m\u001b[0m\n\u001b[0;32m-> 3458\u001b[0;31m             \u001b[0mindexer\u001b[0m \u001b[0;34m=\u001b[0m \u001b[0mself\u001b[0m\u001b[0;34m.\u001b[0m\u001b[0mcolumns\u001b[0m\u001b[0;34m.\u001b[0m\u001b[0mget_loc\u001b[0m\u001b[0;34m(\u001b[0m\u001b[0mkey\u001b[0m\u001b[0;34m)\u001b[0m\u001b[0;34m\u001b[0m\u001b[0;34m\u001b[0m\u001b[0m\n\u001b[0m\u001b[1;32m   3459\u001b[0m             \u001b[0;32mif\u001b[0m \u001b[0mis_integer\u001b[0m\u001b[0;34m(\u001b[0m\u001b[0mindexer\u001b[0m\u001b[0;34m)\u001b[0m\u001b[0;34m:\u001b[0m\u001b[0;34m\u001b[0m\u001b[0;34m\u001b[0m\u001b[0m\n\u001b[1;32m   3460\u001b[0m                 \u001b[0mindexer\u001b[0m \u001b[0;34m=\u001b[0m \u001b[0;34m[\u001b[0m\u001b[0mindexer\u001b[0m\u001b[0;34m]\u001b[0m\u001b[0;34m\u001b[0m\u001b[0;34m\u001b[0m\u001b[0m\n",
      "\u001b[0;32m~/opt/anaconda3/lib/python3.9/site-packages/pandas/core/indexes/base.py\u001b[0m in \u001b[0;36mget_loc\u001b[0;34m(self, key, method, tolerance)\u001b[0m\n\u001b[1;32m   3361\u001b[0m                 \u001b[0;32mreturn\u001b[0m \u001b[0mself\u001b[0m\u001b[0;34m.\u001b[0m\u001b[0m_engine\u001b[0m\u001b[0;34m.\u001b[0m\u001b[0mget_loc\u001b[0m\u001b[0;34m(\u001b[0m\u001b[0mcasted_key\u001b[0m\u001b[0;34m)\u001b[0m\u001b[0;34m\u001b[0m\u001b[0;34m\u001b[0m\u001b[0m\n\u001b[1;32m   3362\u001b[0m             \u001b[0;32mexcept\u001b[0m \u001b[0mKeyError\u001b[0m \u001b[0;32mas\u001b[0m \u001b[0merr\u001b[0m\u001b[0;34m:\u001b[0m\u001b[0;34m\u001b[0m\u001b[0;34m\u001b[0m\u001b[0m\n\u001b[0;32m-> 3363\u001b[0;31m                 \u001b[0;32mraise\u001b[0m \u001b[0mKeyError\u001b[0m\u001b[0;34m(\u001b[0m\u001b[0mkey\u001b[0m\u001b[0;34m)\u001b[0m \u001b[0;32mfrom\u001b[0m \u001b[0merr\u001b[0m\u001b[0;34m\u001b[0m\u001b[0;34m\u001b[0m\u001b[0m\n\u001b[0m\u001b[1;32m   3364\u001b[0m \u001b[0;34m\u001b[0m\u001b[0m\n\u001b[1;32m   3365\u001b[0m         \u001b[0;32mif\u001b[0m \u001b[0mis_scalar\u001b[0m\u001b[0;34m(\u001b[0m\u001b[0mkey\u001b[0m\u001b[0;34m)\u001b[0m \u001b[0;32mand\u001b[0m \u001b[0misna\u001b[0m\u001b[0;34m(\u001b[0m\u001b[0mkey\u001b[0m\u001b[0;34m)\u001b[0m \u001b[0;32mand\u001b[0m \u001b[0;32mnot\u001b[0m \u001b[0mself\u001b[0m\u001b[0;34m.\u001b[0m\u001b[0mhasnans\u001b[0m\u001b[0;34m:\u001b[0m\u001b[0;34m\u001b[0m\u001b[0;34m\u001b[0m\u001b[0m\n",
      "\u001b[0;31mKeyError\u001b[0m: 'A'"
     ]
    }
   ],
   "source": [
    "I = df1['A'] > 1\n",
    "df1 = df1[I]\n",
    "df1"
   ]
  },
  {
   "cell_type": "markdown",
   "id": "e3994faa-1103-4e6c-9f08-62e35049ba44",
   "metadata": {
    "slideshow": {
     "slide_type": "slide"
    }
   },
   "source": [
    "Removing 'A' column, this will break the preveous code"
   ]
  },
  {
   "cell_type": "code",
   "execution_count": 62,
   "id": "c051472f-8b47-47bc-816e-bde210ef5fc0",
   "metadata": {
    "slideshow": {
     "slide_type": "-"
    }
   },
   "outputs": [
    {
     "data": {
      "text/html": [
       "<div>\n",
       "<style scoped>\n",
       "    .dataframe tbody tr th:only-of-type {\n",
       "        vertical-align: middle;\n",
       "    }\n",
       "\n",
       "    .dataframe tbody tr th {\n",
       "        vertical-align: top;\n",
       "    }\n",
       "\n",
       "    .dataframe thead th {\n",
       "        text-align: right;\n",
       "    }\n",
       "</style>\n",
       "<table border=\"1\" class=\"dataframe\">\n",
       "  <thead>\n",
       "    <tr style=\"text-align: right;\">\n",
       "      <th></th>\n",
       "      <th>B</th>\n",
       "      <th>C</th>\n",
       "      <th>D</th>\n",
       "    </tr>\n",
       "  </thead>\n",
       "  <tbody>\n",
       "    <tr>\n",
       "      <th>2</th>\n",
       "      <td>2</td>\n",
       "      <td>2</td>\n",
       "      <td>2</td>\n",
       "    </tr>\n",
       "    <tr>\n",
       "      <th>3</th>\n",
       "      <td>3</td>\n",
       "      <td>3</td>\n",
       "      <td>3</td>\n",
       "    </tr>\n",
       "    <tr>\n",
       "      <th>4</th>\n",
       "      <td>4</td>\n",
       "      <td>4</td>\n",
       "      <td>4</td>\n",
       "    </tr>\n",
       "  </tbody>\n",
       "</table>\n",
       "</div>"
      ],
      "text/plain": [
       "   B  C  D\n",
       "2  2  2  2\n",
       "3  3  3  3\n",
       "4  4  4  4"
      ]
     },
     "execution_count": 62,
     "metadata": {},
     "output_type": "execute_result"
    }
   ],
   "source": [
    "df1 = df1.drop(columns = ['A'])\n",
    "df1"
   ]
  },
  {
   "cell_type": "markdown",
   "id": "17d6b1d5-ec9a-4310-8bb3-e2aa0f21b9cf",
   "metadata": {
    "slideshow": {
     "slide_type": "slide"
    }
   },
   "source": [
    "# 4. Split-apply-combine\n",
    "Walkthrough of a piece of code you will see in the problem set"
   ]
  },
  {
   "cell_type": "code",
   "execution_count": 45,
   "id": "1bbc6840-8740-4469-b033-61690db23df2",
   "metadata": {
    "slideshow": {
     "slide_type": "skip"
    }
   },
   "outputs": [],
   "source": [
    "import pydst\n",
    "import numpy as np\n",
    "import matplotlib.pyplot as plt\n",
    "plt.style.use('seaborn-whitegrid')\n",
    "import pandas as pd\n",
    "dst = pydst.Dst(lang='en')\n",
    "\n",
    "columns_dict = {}\n",
    "columns_dict['TRANSAKT'] = 'variable'\n",
    "columns_dict['PRISENHED'] = 'unit'\n",
    "columns_dict['TID'] = 'year'\n",
    "columns_dict['INDHOLD'] = 'value'\n",
    "\n",
    "var_dict = {} # var is for variable\n",
    "var_dict['P.1 Output'] = 'Y'\n",
    "var_dict['P.3 Final consumption expenditure'] = 'C'\n",
    "var_dict['P.3 Government consumption expenditure'] = 'G'\n",
    "var_dict['P.5 Gross capital formation'] = 'I'\n",
    "var_dict['P.6 Export of goods and services'] = 'X'\n",
    "var_dict['P.7 Import of goods and services'] = 'M'\n",
    "\n",
    "unit_dict = {}\n",
    "unit_dict['2010-prices, chained values'] = 'real'\n",
    "unit_dict['Current prices'] = 'nominal'\n",
    "\n",
    "nah1 = dst.get_data(table_id = 'NAH1', variables={'TRANSAKT':'*', 'PRISENHED':'*', 'TID':'*'})\n",
    "\n",
    "nah1_true = nah1.copy()\n",
    "nah1_true.rename(columns=columns_dict,inplace=True)\n",
    "\n",
    "# c. replace data\n",
    "for key,value in var_dict.items():\n",
    "    nah1_true.variable.replace(key,value,inplace=True)\n",
    "\n",
    "for key,value in unit_dict.items():\n",
    "    nah1_true.unit.replace(key,value,inplace=True)\n",
    "    \n",
    "I = nah1_true[\"variable\"].isin(list(var_dict.values()))\n",
    "nah1_true = nah1_true.loc[I]\n",
    "\n",
    "# e. convert values to numeric\n",
    "nah1_true.value = nah1_true.value.astype('float')\n",
    "\n",
    "nah_copy = nah1_true.copy()\n",
    "\n",
    "# split\n",
    "nah1_true = nah1_true.sort_values(by=['year'], ascending = True)\n",
    "nah1_true_grouped = nah1_true.groupby(['variable','unit'])\n",
    "nah1_true_grouped_first = nah1_true_grouped.value.first()\n",
    "nah1_true_grouped_first.name = 'first'\n",
    "\n",
    "# b. apply\n",
    "nah1_true.set_index(['variable','unit','year'],inplace=True)\n",
    "nah1_true = nah1_true.join(nah1_true_grouped_first,how='left',on=['variable','unit'])\n",
    "nah1_true.reset_index(inplace=True)\n",
    "\n",
    "# c. combine\n",
    "nah1_true['indexed'] = nah1_true['value']/nah1_true['first']\n",
    "\n",
    "# d. plot\n",
    "def plot(df):\n",
    "    df_indexed = df.set_index('year')\n",
    "    I = df_indexed.unit == 'real'\n",
    "    df_indexed[I].groupby(['variable'])['indexed'].plot(legend=True);"
   ]
  },
  {
   "cell_type": "markdown",
   "id": "eb2a612a",
   "metadata": {
    "slideshow": {
     "slide_type": "slide"
    }
   },
   "source": [
    "National accounting data, for GDP, consumption, investments etc."
   ]
  },
  {
   "cell_type": "code",
   "execution_count": 46,
   "id": "efa0fa04",
   "metadata": {
    "slideshow": {
     "slide_type": "-"
    }
   },
   "outputs": [
    {
     "data": {
      "text/html": [
       "<div>\n",
       "<style scoped>\n",
       "    .dataframe tbody tr th:only-of-type {\n",
       "        vertical-align: middle;\n",
       "    }\n",
       "\n",
       "    .dataframe tbody tr th {\n",
       "        vertical-align: top;\n",
       "    }\n",
       "\n",
       "    .dataframe thead th {\n",
       "        text-align: right;\n",
       "    }\n",
       "</style>\n",
       "<table border=\"1\" class=\"dataframe\">\n",
       "  <thead>\n",
       "    <tr style=\"text-align: right;\">\n",
       "      <th></th>\n",
       "      <th>variable</th>\n",
       "      <th>unit</th>\n",
       "      <th>year</th>\n",
       "      <th>value</th>\n",
       "    </tr>\n",
       "  </thead>\n",
       "  <tbody>\n",
       "    <tr>\n",
       "      <th>6</th>\n",
       "      <td>Y</td>\n",
       "      <td>real</td>\n",
       "      <td>1968</td>\n",
       "      <td>1162778.0</td>\n",
       "    </tr>\n",
       "    <tr>\n",
       "      <th>7</th>\n",
       "      <td>Y</td>\n",
       "      <td>nominal</td>\n",
       "      <td>1968</td>\n",
       "      <td>167877.0</td>\n",
       "    </tr>\n",
       "    <tr>\n",
       "      <th>22</th>\n",
       "      <td>C</td>\n",
       "      <td>real</td>\n",
       "      <td>1968</td>\n",
       "      <td>612327.0</td>\n",
       "    </tr>\n",
       "    <tr>\n",
       "      <th>23</th>\n",
       "      <td>C</td>\n",
       "      <td>nominal</td>\n",
       "      <td>1968</td>\n",
       "      <td>77325.0</td>\n",
       "    </tr>\n",
       "    <tr>\n",
       "      <th>24</th>\n",
       "      <td>G</td>\n",
       "      <td>real</td>\n",
       "      <td>1968</td>\n",
       "      <td>195664.0</td>\n",
       "    </tr>\n",
       "    <tr>\n",
       "      <th>...</th>\n",
       "      <td>...</td>\n",
       "      <td>...</td>\n",
       "      <td>...</td>\n",
       "      <td>...</td>\n",
       "    </tr>\n",
       "    <tr>\n",
       "      <th>3335</th>\n",
       "      <td>I</td>\n",
       "      <td>nominal</td>\n",
       "      <td>2017</td>\n",
       "      <td>483615.0</td>\n",
       "    </tr>\n",
       "    <tr>\n",
       "      <th>3344</th>\n",
       "      <td>X</td>\n",
       "      <td>real</td>\n",
       "      <td>2017</td>\n",
       "      <td>1175129.0</td>\n",
       "    </tr>\n",
       "    <tr>\n",
       "      <th>3345</th>\n",
       "      <td>X</td>\n",
       "      <td>nominal</td>\n",
       "      <td>2017</td>\n",
       "      <td>1207825.0</td>\n",
       "    </tr>\n",
       "    <tr>\n",
       "      <th>3350</th>\n",
       "      <td>M</td>\n",
       "      <td>real</td>\n",
       "      <td>2017</td>\n",
       "      <td>1036756.0</td>\n",
       "    </tr>\n",
       "    <tr>\n",
       "      <th>3351</th>\n",
       "      <td>M</td>\n",
       "      <td>nominal</td>\n",
       "      <td>2017</td>\n",
       "      <td>1050472.0</td>\n",
       "    </tr>\n",
       "  </tbody>\n",
       "</table>\n",
       "<p>672 rows × 4 columns</p>\n",
       "</div>"
      ],
      "text/plain": [
       "     variable     unit  year      value\n",
       "6           Y     real  1968  1162778.0\n",
       "7           Y  nominal  1968   167877.0\n",
       "22          C     real  1968   612327.0\n",
       "23          C  nominal  1968    77325.0\n",
       "24          G     real  1968   195664.0\n",
       "...       ...      ...   ...        ...\n",
       "3335        I  nominal  2017   483615.0\n",
       "3344        X     real  2017  1175129.0\n",
       "3345        X  nominal  2017  1207825.0\n",
       "3350        M     real  2017  1036756.0\n",
       "3351        M  nominal  2017  1050472.0\n",
       "\n",
       "[672 rows x 4 columns]"
      ]
     },
     "execution_count": 46,
     "metadata": {},
     "output_type": "execute_result"
    }
   ],
   "source": [
    "nah = nah_copy.copy()\n",
    "nah"
   ]
  },
  {
   "cell_type": "markdown",
   "id": "b7d62230",
   "metadata": {
    "slideshow": {
     "slide_type": "slide"
    }
   },
   "source": [
    "Lets say we want to create an index chart, to see which variable grew the most over the period.  \n",
    "\n",
    "This is not trivial: We have to somehow find and save the value in year 1 for all variables to create the index.  \n",
    "\n",
    "1. **Split** the data into groups by variable (Y, C, I, etc.) and unit (real vs. nominal)\n",
    "2. **Apply**: find the value in year 1 for each group\n",
    "3. **Combine**: join the values in the first year with the original dataset, such that every row keeps the value in year 1"
   ]
  },
  {
   "cell_type": "markdown",
   "id": "d24b077d-8848-469a-8e7c-594c357c7957",
   "metadata": {
    "slideshow": {
     "slide_type": "slide"
    }
   },
   "source": [
    "## Split"
   ]
  },
  {
   "cell_type": "code",
   "execution_count": 65,
   "id": "b4260903-8279-4ca6-a9b2-798db2a06083",
   "metadata": {
    "slideshow": {
     "slide_type": "-"
    }
   },
   "outputs": [
    {
     "name": "stdout",
     "output_type": "stream",
     "text": [
      "('C', 'nominal')\n",
      "    variable     unit  year    value\n",
      "323        C  nominal  1966  62576.0\n",
      "143        C  nominal  1967  69877.0\n",
      "23         C  nominal  1968  77325.0\n",
      "508        C  nominal  1969  86753.0\n",
      "568        C  nominal  1970  97441.0\n",
      "('C', 'real')\n",
      "    variable  unit  year     value\n",
      "322        C  real  1966  549491.0\n",
      "142        C  real  1967  588094.0\n",
      "22         C  real  1968  612327.0\n",
      "507        C  real  1969  649337.0\n",
      "567        C  real  1970  671805.0\n",
      "('G', 'nominal')\n",
      "    variable     unit  year    value\n",
      "325        G  nominal  1966  14768.0\n",
      "145        G  nominal  1967  16933.0\n",
      "25         G  nominal  1968  19734.0\n",
      "510        G  nominal  1969  22854.0\n",
      "570        G  nominal  1970  26845.0\n",
      "('G', 'real')\n",
      "    variable  unit  year     value\n",
      "324        G  real  1966  171307.0\n",
      "144        G  real  1967  184983.0\n",
      "24         G  real  1968  195664.0\n",
      "509        G  real  1969  209375.0\n",
      "569        G  real  1970  222350.0\n",
      "('I', 'nominal')\n",
      "    variable     unit  year    value\n",
      "335        I  nominal  1966  21134.0\n",
      "155        I  nominal  1967  22851.0\n",
      "35         I  nominal  1968  25369.0\n",
      "520        I  nominal  1969  31259.0\n",
      "580        I  nominal  1970  34253.0\n"
     ]
    }
   ],
   "source": [
    "nah = nah.sort_values(by=['year'], ascending = True)\n",
    "nah_grouped = nah.groupby(['variable','unit']) # nah_grouped is a \"group element\"\n",
    "# this part is not necesarry it's just for show\n",
    "num = 0\n",
    "for i, j in nah_grouped: # this loop goes over every group\n",
    "    num += 1\n",
    "    print(i)\n",
    "    print(j[:5])\n",
    "    if num > 4:\n",
    "        break"
   ]
  },
  {
   "cell_type": "markdown",
   "id": "d407f481-28ab-453b-a14f-55266d4bcceb",
   "metadata": {
    "slideshow": {
     "slide_type": "slide"
    }
   },
   "source": [
    "## Apply"
   ]
  },
  {
   "cell_type": "code",
   "execution_count": 48,
   "id": "6561ec89-e937-40a9-baf1-5a7d05a6833f",
   "metadata": {
    "slideshow": {
     "slide_type": "-"
    }
   },
   "outputs": [
    {
     "data": {
      "text/plain": [
       "variable  unit   \n",
       "C         nominal      62576.0\n",
       "          real        549491.0\n",
       "G         nominal      14768.0\n",
       "          real        171307.0\n",
       "I         nominal      21134.0\n",
       "          real        127630.0\n",
       "M         nominal      24406.0\n",
       "          real        112171.0\n",
       "X         nominal      23110.0\n",
       "          real        123594.0\n",
       "Y         nominal     144582.0\n",
       "          real       1089347.0\n",
       "Name: first, dtype: float64"
      ]
     },
     "execution_count": 48,
     "metadata": {},
     "output_type": "execute_result"
    }
   ],
   "source": [
    "nah_grouped_first = nah_grouped.value.first() # takes the first value in the group and creates a data series\n",
    "nah_grouped_first.name = 'first' # we give the series a name, necesarry for join\n",
    "nah_grouped_first"
   ]
  },
  {
   "cell_type": "markdown",
   "id": "8377a8a2-5b09-454c-9f0f-6e68e167fadb",
   "metadata": {
    "slideshow": {
     "slide_type": "slide"
    }
   },
   "source": [
    "## Combine"
   ]
  },
  {
   "cell_type": "code",
   "execution_count": 67,
   "id": "a336e292-539b-458c-bb72-fdeb9ddbf94a",
   "metadata": {
    "slideshow": {
     "slide_type": "-"
    }
   },
   "outputs": [
    {
     "data": {
      "text/html": [
       "<div>\n",
       "<style scoped>\n",
       "    .dataframe tbody tr th:only-of-type {\n",
       "        vertical-align: middle;\n",
       "    }\n",
       "\n",
       "    .dataframe tbody tr th {\n",
       "        vertical-align: top;\n",
       "    }\n",
       "\n",
       "    .dataframe thead th {\n",
       "        text-align: right;\n",
       "    }\n",
       "</style>\n",
       "<table border=\"1\" class=\"dataframe\">\n",
       "  <thead>\n",
       "    <tr style=\"text-align: right;\">\n",
       "      <th></th>\n",
       "      <th>variable</th>\n",
       "      <th>unit</th>\n",
       "      <th>year</th>\n",
       "      <th>value</th>\n",
       "      <th>first</th>\n",
       "      <th>indexed</th>\n",
       "    </tr>\n",
       "  </thead>\n",
       "  <tbody>\n",
       "    <tr>\n",
       "      <th>0</th>\n",
       "      <td>C</td>\n",
       "      <td>real</td>\n",
       "      <td>1966</td>\n",
       "      <td>549491.0</td>\n",
       "      <td>549491.0</td>\n",
       "      <td>1.000000</td>\n",
       "    </tr>\n",
       "    <tr>\n",
       "      <th>1</th>\n",
       "      <td>I</td>\n",
       "      <td>real</td>\n",
       "      <td>1966</td>\n",
       "      <td>127630.0</td>\n",
       "      <td>127630.0</td>\n",
       "      <td>1.000000</td>\n",
       "    </tr>\n",
       "    <tr>\n",
       "      <th>2</th>\n",
       "      <td>Y</td>\n",
       "      <td>nominal</td>\n",
       "      <td>1966</td>\n",
       "      <td>144582.0</td>\n",
       "      <td>144582.0</td>\n",
       "      <td>1.000000</td>\n",
       "    </tr>\n",
       "    <tr>\n",
       "      <th>3</th>\n",
       "      <td>C</td>\n",
       "      <td>nominal</td>\n",
       "      <td>1966</td>\n",
       "      <td>62576.0</td>\n",
       "      <td>62576.0</td>\n",
       "      <td>1.000000</td>\n",
       "    </tr>\n",
       "    <tr>\n",
       "      <th>4</th>\n",
       "      <td>G</td>\n",
       "      <td>nominal</td>\n",
       "      <td>1966</td>\n",
       "      <td>14768.0</td>\n",
       "      <td>14768.0</td>\n",
       "      <td>1.000000</td>\n",
       "    </tr>\n",
       "    <tr>\n",
       "      <th>...</th>\n",
       "      <td>...</td>\n",
       "      <td>...</td>\n",
       "      <td>...</td>\n",
       "      <td>...</td>\n",
       "      <td>...</td>\n",
       "      <td>...</td>\n",
       "    </tr>\n",
       "    <tr>\n",
       "      <th>667</th>\n",
       "      <td>X</td>\n",
       "      <td>real</td>\n",
       "      <td>2021</td>\n",
       "      <td>1279017.0</td>\n",
       "      <td>123594.0</td>\n",
       "      <td>10.348536</td>\n",
       "    </tr>\n",
       "    <tr>\n",
       "      <th>668</th>\n",
       "      <td>M</td>\n",
       "      <td>real</td>\n",
       "      <td>2021</td>\n",
       "      <td>1164408.0</td>\n",
       "      <td>112171.0</td>\n",
       "      <td>10.380651</td>\n",
       "    </tr>\n",
       "    <tr>\n",
       "      <th>669</th>\n",
       "      <td>G</td>\n",
       "      <td>real</td>\n",
       "      <td>2021</td>\n",
       "      <td>536987.0</td>\n",
       "      <td>171307.0</td>\n",
       "      <td>3.134647</td>\n",
       "    </tr>\n",
       "    <tr>\n",
       "      <th>670</th>\n",
       "      <td>X</td>\n",
       "      <td>nominal</td>\n",
       "      <td>2021</td>\n",
       "      <td>1487151.0</td>\n",
       "      <td>23110.0</td>\n",
       "      <td>64.350974</td>\n",
       "    </tr>\n",
       "    <tr>\n",
       "      <th>671</th>\n",
       "      <td>M</td>\n",
       "      <td>nominal</td>\n",
       "      <td>2021</td>\n",
       "      <td>1319708.0</td>\n",
       "      <td>24406.0</td>\n",
       "      <td>54.073097</td>\n",
       "    </tr>\n",
       "  </tbody>\n",
       "</table>\n",
       "<p>672 rows × 6 columns</p>\n",
       "</div>"
      ],
      "text/plain": [
       "    variable     unit  year      value     first    indexed\n",
       "0          C     real  1966   549491.0  549491.0   1.000000\n",
       "1          I     real  1966   127630.0  127630.0   1.000000\n",
       "2          Y  nominal  1966   144582.0  144582.0   1.000000\n",
       "3          C  nominal  1966    62576.0   62576.0   1.000000\n",
       "4          G  nominal  1966    14768.0   14768.0   1.000000\n",
       "..       ...      ...   ...        ...       ...        ...\n",
       "667        X     real  2021  1279017.0  123594.0  10.348536\n",
       "668        M     real  2021  1164408.0  112171.0  10.380651\n",
       "669        G     real  2021   536987.0  171307.0   3.134647\n",
       "670        X  nominal  2021  1487151.0   23110.0  64.350974\n",
       "671        M  nominal  2021  1319708.0   24406.0  54.073097\n",
       "\n",
       "[672 rows x 6 columns]"
      ]
     },
     "execution_count": 67,
     "metadata": {},
     "output_type": "execute_result"
    }
   ],
   "source": [
    "# c. combine\n",
    "nah.set_index(['variable','unit','year'],inplace=True) # .join needs an index\n",
    "nah = nah.join(nah_grouped_first, how='left',on=['variable','unit']) # on=['variable','unit']\n",
    "# nah_grouped_first is joined with nah where variable and unit match variable and unit in the group\n",
    "nah.reset_index(inplace=True)\n",
    "\n",
    "nah['indexed'] = nah['value'] / nah['first']\n",
    "nah"
   ]
  },
  {
   "cell_type": "code",
   "execution_count": 68,
   "id": "c6edbdf7-e1d3-4c64-88e3-b8d09c10a538",
   "metadata": {
    "slideshow": {
     "slide_type": "slide"
    }
   },
   "outputs": [
    {
     "data": {
      "text/html": [
       "<div>\n",
       "<style scoped>\n",
       "    .dataframe tbody tr th:only-of-type {\n",
       "        vertical-align: middle;\n",
       "    }\n",
       "\n",
       "    .dataframe tbody tr th {\n",
       "        vertical-align: top;\n",
       "    }\n",
       "\n",
       "    .dataframe thead th {\n",
       "        text-align: right;\n",
       "    }\n",
       "</style>\n",
       "<table border=\"1\" class=\"dataframe\">\n",
       "  <thead>\n",
       "    <tr style=\"text-align: right;\">\n",
       "      <th></th>\n",
       "      <th>variable</th>\n",
       "      <th>unit</th>\n",
       "      <th>value</th>\n",
       "      <th>first</th>\n",
       "      <th>indexed</th>\n",
       "    </tr>\n",
       "    <tr>\n",
       "      <th>year</th>\n",
       "      <th></th>\n",
       "      <th></th>\n",
       "      <th></th>\n",
       "      <th></th>\n",
       "      <th></th>\n",
       "    </tr>\n",
       "  </thead>\n",
       "  <tbody>\n",
       "    <tr>\n",
       "      <th>1966</th>\n",
       "      <td>C</td>\n",
       "      <td>real</td>\n",
       "      <td>549491.0</td>\n",
       "      <td>549491.0</td>\n",
       "      <td>1.000000</td>\n",
       "    </tr>\n",
       "    <tr>\n",
       "      <th>1966</th>\n",
       "      <td>I</td>\n",
       "      <td>real</td>\n",
       "      <td>127630.0</td>\n",
       "      <td>127630.0</td>\n",
       "      <td>1.000000</td>\n",
       "    </tr>\n",
       "    <tr>\n",
       "      <th>1966</th>\n",
       "      <td>Y</td>\n",
       "      <td>nominal</td>\n",
       "      <td>144582.0</td>\n",
       "      <td>144582.0</td>\n",
       "      <td>1.000000</td>\n",
       "    </tr>\n",
       "    <tr>\n",
       "      <th>1966</th>\n",
       "      <td>C</td>\n",
       "      <td>nominal</td>\n",
       "      <td>62576.0</td>\n",
       "      <td>62576.0</td>\n",
       "      <td>1.000000</td>\n",
       "    </tr>\n",
       "    <tr>\n",
       "      <th>1966</th>\n",
       "      <td>G</td>\n",
       "      <td>nominal</td>\n",
       "      <td>14768.0</td>\n",
       "      <td>14768.0</td>\n",
       "      <td>1.000000</td>\n",
       "    </tr>\n",
       "    <tr>\n",
       "      <th>...</th>\n",
       "      <td>...</td>\n",
       "      <td>...</td>\n",
       "      <td>...</td>\n",
       "      <td>...</td>\n",
       "      <td>...</td>\n",
       "    </tr>\n",
       "    <tr>\n",
       "      <th>2021</th>\n",
       "      <td>X</td>\n",
       "      <td>real</td>\n",
       "      <td>1279017.0</td>\n",
       "      <td>123594.0</td>\n",
       "      <td>10.348536</td>\n",
       "    </tr>\n",
       "    <tr>\n",
       "      <th>2021</th>\n",
       "      <td>M</td>\n",
       "      <td>real</td>\n",
       "      <td>1164408.0</td>\n",
       "      <td>112171.0</td>\n",
       "      <td>10.380651</td>\n",
       "    </tr>\n",
       "    <tr>\n",
       "      <th>2021</th>\n",
       "      <td>G</td>\n",
       "      <td>real</td>\n",
       "      <td>536987.0</td>\n",
       "      <td>171307.0</td>\n",
       "      <td>3.134647</td>\n",
       "    </tr>\n",
       "    <tr>\n",
       "      <th>2021</th>\n",
       "      <td>X</td>\n",
       "      <td>nominal</td>\n",
       "      <td>1487151.0</td>\n",
       "      <td>23110.0</td>\n",
       "      <td>64.350974</td>\n",
       "    </tr>\n",
       "    <tr>\n",
       "      <th>2021</th>\n",
       "      <td>M</td>\n",
       "      <td>nominal</td>\n",
       "      <td>1319708.0</td>\n",
       "      <td>24406.0</td>\n",
       "      <td>54.073097</td>\n",
       "    </tr>\n",
       "  </tbody>\n",
       "</table>\n",
       "<p>672 rows × 5 columns</p>\n",
       "</div>"
      ],
      "text/plain": [
       "     variable     unit      value     first    indexed\n",
       "year                                                  \n",
       "1966        C     real   549491.0  549491.0   1.000000\n",
       "1966        I     real   127630.0  127630.0   1.000000\n",
       "1966        Y  nominal   144582.0  144582.0   1.000000\n",
       "1966        C  nominal    62576.0   62576.0   1.000000\n",
       "1966        G  nominal    14768.0   14768.0   1.000000\n",
       "...       ...      ...        ...       ...        ...\n",
       "2021        X     real  1279017.0  123594.0  10.348536\n",
       "2021        M     real  1164408.0  112171.0  10.380651\n",
       "2021        G     real   536987.0  171307.0   3.134647\n",
       "2021        X  nominal  1487151.0   23110.0  64.350974\n",
       "2021        M  nominal  1319708.0   24406.0  54.073097\n",
       "\n",
       "[672 rows x 5 columns]"
      ]
     },
     "execution_count": 68,
     "metadata": {},
     "output_type": "execute_result"
    }
   ],
   "source": [
    "df_indexed = nah.set_index('year')\n",
    "I = df_indexed.unit == 'real'\n",
    "df_indexed\n",
    "#df_indexed[I].groupby(['variable'])['indexed'].plot(legend=True);"
   ]
  },
  {
   "cell_type": "markdown",
   "id": "c96b2479-7367-4e56-a9f4-fc72ac5313c2",
   "metadata": {
    "slideshow": {
     "slide_type": "slide"
    }
   },
   "source": [
    "## Usefull resources"
   ]
  },
  {
   "cell_type": "markdown",
   "id": "8302ed0f-cf53-4837-9476-ef640e9a9b18",
   "metadata": {
    "slideshow": {
     "slide_type": "-"
    }
   },
   "source": [
    "Merging guide: https://pandas.pydata.org/pandas-docs/stable/user_guide/merging.html"
   ]
  },
  {
   "cell_type": "markdown",
   "id": "019931a9",
   "metadata": {
    "slideshow": {
     "slide_type": "slide"
    }
   },
   "source": [
    "## Another way of doing Split, Apply, Combine! (maybe easier)"
   ]
  },
  {
   "cell_type": "code",
   "execution_count": 73,
   "id": "2cf4df6d",
   "metadata": {
    "slideshow": {
     "slide_type": "slide"
    }
   },
   "outputs": [
    {
     "data": {
      "text/html": [
       "<div>\n",
       "<style scoped>\n",
       "    .dataframe tbody tr th:only-of-type {\n",
       "        vertical-align: middle;\n",
       "    }\n",
       "\n",
       "    .dataframe tbody tr th {\n",
       "        vertical-align: top;\n",
       "    }\n",
       "\n",
       "    .dataframe thead th {\n",
       "        text-align: right;\n",
       "    }\n",
       "</style>\n",
       "<table border=\"1\" class=\"dataframe\">\n",
       "  <thead>\n",
       "    <tr style=\"text-align: right;\">\n",
       "      <th></th>\n",
       "      <th>variable</th>\n",
       "      <th>unit</th>\n",
       "      <th>year</th>\n",
       "      <th>value</th>\n",
       "    </tr>\n",
       "  </thead>\n",
       "  <tbody>\n",
       "    <tr>\n",
       "      <th>322</th>\n",
       "      <td>C</td>\n",
       "      <td>real</td>\n",
       "      <td>1966</td>\n",
       "      <td>549491.0</td>\n",
       "    </tr>\n",
       "    <tr>\n",
       "      <th>307</th>\n",
       "      <td>Y</td>\n",
       "      <td>nominal</td>\n",
       "      <td>1966</td>\n",
       "      <td>144582.0</td>\n",
       "    </tr>\n",
       "    <tr>\n",
       "      <th>323</th>\n",
       "      <td>C</td>\n",
       "      <td>nominal</td>\n",
       "      <td>1966</td>\n",
       "      <td>62576.0</td>\n",
       "    </tr>\n",
       "    <tr>\n",
       "      <th>324</th>\n",
       "      <td>G</td>\n",
       "      <td>real</td>\n",
       "      <td>1966</td>\n",
       "      <td>171307.0</td>\n",
       "    </tr>\n",
       "    <tr>\n",
       "      <th>325</th>\n",
       "      <td>G</td>\n",
       "      <td>nominal</td>\n",
       "      <td>1966</td>\n",
       "      <td>14768.0</td>\n",
       "    </tr>\n",
       "    <tr>\n",
       "      <th>...</th>\n",
       "      <td>...</td>\n",
       "      <td>...</td>\n",
       "      <td>...</td>\n",
       "      <td>...</td>\n",
       "    </tr>\n",
       "    <tr>\n",
       "      <th>1655</th>\n",
       "      <td>I</td>\n",
       "      <td>nominal</td>\n",
       "      <td>2021</td>\n",
       "      <td>581922.0</td>\n",
       "    </tr>\n",
       "    <tr>\n",
       "      <th>1664</th>\n",
       "      <td>X</td>\n",
       "      <td>real</td>\n",
       "      <td>2021</td>\n",
       "      <td>1279017.0</td>\n",
       "    </tr>\n",
       "    <tr>\n",
       "      <th>1670</th>\n",
       "      <td>M</td>\n",
       "      <td>real</td>\n",
       "      <td>2021</td>\n",
       "      <td>1164408.0</td>\n",
       "    </tr>\n",
       "    <tr>\n",
       "      <th>1645</th>\n",
       "      <td>G</td>\n",
       "      <td>nominal</td>\n",
       "      <td>2021</td>\n",
       "      <td>608686.0</td>\n",
       "    </tr>\n",
       "    <tr>\n",
       "      <th>1671</th>\n",
       "      <td>M</td>\n",
       "      <td>nominal</td>\n",
       "      <td>2021</td>\n",
       "      <td>1319708.0</td>\n",
       "    </tr>\n",
       "  </tbody>\n",
       "</table>\n",
       "<p>672 rows × 4 columns</p>\n",
       "</div>"
      ],
      "text/plain": [
       "     variable     unit  year      value\n",
       "322         C     real  1966   549491.0\n",
       "307         Y  nominal  1966   144582.0\n",
       "323         C  nominal  1966    62576.0\n",
       "324         G     real  1966   171307.0\n",
       "325         G  nominal  1966    14768.0\n",
       "...       ...      ...   ...        ...\n",
       "1655        I  nominal  2021   581922.0\n",
       "1664        X     real  2021  1279017.0\n",
       "1670        M     real  2021  1164408.0\n",
       "1645        G  nominal  2021   608686.0\n",
       "1671        M  nominal  2021  1319708.0\n",
       "\n",
       "[672 rows x 4 columns]"
      ]
     },
     "execution_count": 73,
     "metadata": {},
     "output_type": "execute_result"
    }
   ],
   "source": [
    "nah = nah_copy.copy() # copy of data from statistics Denmark\n",
    "nah = nah.sort_values(by=['year'], ascending = True)\n",
    "nah"
   ]
  },
  {
   "cell_type": "code",
   "execution_count": 74,
   "id": "c83a16cf",
   "metadata": {
    "slideshow": {
     "slide_type": "slide"
    }
   },
   "outputs": [
    {
     "data": {
      "text/html": [
       "<div>\n",
       "<style scoped>\n",
       "    .dataframe tbody tr th:only-of-type {\n",
       "        vertical-align: middle;\n",
       "    }\n",
       "\n",
       "    .dataframe tbody tr th {\n",
       "        vertical-align: top;\n",
       "    }\n",
       "\n",
       "    .dataframe thead th {\n",
       "        text-align: right;\n",
       "    }\n",
       "</style>\n",
       "<table border=\"1\" class=\"dataframe\">\n",
       "  <thead>\n",
       "    <tr style=\"text-align: right;\">\n",
       "      <th></th>\n",
       "      <th>variable</th>\n",
       "      <th>unit</th>\n",
       "      <th>value</th>\n",
       "    </tr>\n",
       "  </thead>\n",
       "  <tbody>\n",
       "    <tr>\n",
       "      <th>2030</th>\n",
       "      <td>M</td>\n",
       "      <td>real</td>\n",
       "      <td>959972.0</td>\n",
       "    </tr>\n",
       "    <tr>\n",
       "      <th>2014</th>\n",
       "      <td>I</td>\n",
       "      <td>real</td>\n",
       "      <td>400705.0</td>\n",
       "    </tr>\n",
       "    <tr>\n",
       "      <th>2031</th>\n",
       "      <td>M</td>\n",
       "      <td>nominal</td>\n",
       "      <td>990281.0</td>\n",
       "    </tr>\n",
       "    <tr>\n",
       "      <th>2015</th>\n",
       "      <td>I</td>\n",
       "      <td>nominal</td>\n",
       "      <td>420125.0</td>\n",
       "    </tr>\n",
       "    <tr>\n",
       "      <th>2003</th>\n",
       "      <td>C</td>\n",
       "      <td>nominal</td>\n",
       "      <td>1478001.0</td>\n",
       "    </tr>\n",
       "    <tr>\n",
       "      <th>2002</th>\n",
       "      <td>C</td>\n",
       "      <td>real</td>\n",
       "      <td>1413235.0</td>\n",
       "    </tr>\n",
       "    <tr>\n",
       "      <th>1987</th>\n",
       "      <td>Y</td>\n",
       "      <td>nominal</td>\n",
       "      <td>3549922.0</td>\n",
       "    </tr>\n",
       "    <tr>\n",
       "      <th>1986</th>\n",
       "      <td>Y</td>\n",
       "      <td>real</td>\n",
       "      <td>3368200.0</td>\n",
       "    </tr>\n",
       "    <tr>\n",
       "      <th>2005</th>\n",
       "      <td>G</td>\n",
       "      <td>nominal</td>\n",
       "      <td>518644.0</td>\n",
       "    </tr>\n",
       "    <tr>\n",
       "      <th>2004</th>\n",
       "      <td>G</td>\n",
       "      <td>real</td>\n",
       "      <td>513801.0</td>\n",
       "    </tr>\n",
       "    <tr>\n",
       "      <th>2024</th>\n",
       "      <td>X</td>\n",
       "      <td>real</td>\n",
       "      <td>1076884.0</td>\n",
       "    </tr>\n",
       "    <tr>\n",
       "      <th>2025</th>\n",
       "      <td>X</td>\n",
       "      <td>nominal</td>\n",
       "      <td>1128511.0</td>\n",
       "    </tr>\n",
       "  </tbody>\n",
       "</table>\n",
       "</div>"
      ],
      "text/plain": [
       "     variable     unit      value\n",
       "2030        M     real   959972.0\n",
       "2014        I     real   400705.0\n",
       "2031        M  nominal   990281.0\n",
       "2015        I  nominal   420125.0\n",
       "2003        C  nominal  1478001.0\n",
       "2002        C     real  1413235.0\n",
       "1987        Y  nominal  3549922.0\n",
       "1986        Y     real  3368200.0\n",
       "2005        G  nominal   518644.0\n",
       "2004        G     real   513801.0\n",
       "2024        X     real  1076884.0\n",
       "2025        X  nominal  1128511.0"
      ]
     },
     "execution_count": 74,
     "metadata": {},
     "output_type": "execute_result"
    }
   ],
   "source": [
    "year1_df = nah[nah['year'] == 2015] # dataframe only with data in year1\n",
    "year1_df = year1_df.loc[:, ['variable', 'unit', 'value']] # remove year, we don't want to merge on it\n",
    "year1_df"
   ]
  },
  {
   "cell_type": "code",
   "execution_count": 80,
   "id": "7b6f9c00",
   "metadata": {
    "slideshow": {
     "slide_type": "slide"
    }
   },
   "outputs": [
    {
     "data": {
      "text/html": [
       "<div>\n",
       "<style scoped>\n",
       "    .dataframe tbody tr th:only-of-type {\n",
       "        vertical-align: middle;\n",
       "    }\n",
       "\n",
       "    .dataframe tbody tr th {\n",
       "        vertical-align: top;\n",
       "    }\n",
       "\n",
       "    .dataframe thead th {\n",
       "        text-align: right;\n",
       "    }\n",
       "</style>\n",
       "<table border=\"1\" class=\"dataframe\">\n",
       "  <thead>\n",
       "    <tr style=\"text-align: right;\">\n",
       "      <th></th>\n",
       "      <th>variable</th>\n",
       "      <th>unit</th>\n",
       "      <th>year</th>\n",
       "      <th>value_x</th>\n",
       "      <th>value_y</th>\n",
       "    </tr>\n",
       "  </thead>\n",
       "  <tbody>\n",
       "    <tr>\n",
       "      <th>0</th>\n",
       "      <td>C</td>\n",
       "      <td>real</td>\n",
       "      <td>1966</td>\n",
       "      <td>549491.0</td>\n",
       "      <td>1413235.0</td>\n",
       "    </tr>\n",
       "    <tr>\n",
       "      <th>1</th>\n",
       "      <td>C</td>\n",
       "      <td>real</td>\n",
       "      <td>1967</td>\n",
       "      <td>588094.0</td>\n",
       "      <td>1413235.0</td>\n",
       "    </tr>\n",
       "    <tr>\n",
       "      <th>2</th>\n",
       "      <td>C</td>\n",
       "      <td>real</td>\n",
       "      <td>1968</td>\n",
       "      <td>612327.0</td>\n",
       "      <td>1413235.0</td>\n",
       "    </tr>\n",
       "    <tr>\n",
       "      <th>3</th>\n",
       "      <td>C</td>\n",
       "      <td>real</td>\n",
       "      <td>1969</td>\n",
       "      <td>649337.0</td>\n",
       "      <td>1413235.0</td>\n",
       "    </tr>\n",
       "    <tr>\n",
       "      <th>4</th>\n",
       "      <td>C</td>\n",
       "      <td>real</td>\n",
       "      <td>1970</td>\n",
       "      <td>671805.0</td>\n",
       "      <td>1413235.0</td>\n",
       "    </tr>\n",
       "    <tr>\n",
       "      <th>...</th>\n",
       "      <td>...</td>\n",
       "      <td>...</td>\n",
       "      <td>...</td>\n",
       "      <td>...</td>\n",
       "      <td>...</td>\n",
       "    </tr>\n",
       "    <tr>\n",
       "      <th>667</th>\n",
       "      <td>I</td>\n",
       "      <td>nominal</td>\n",
       "      <td>2017</td>\n",
       "      <td>483615.0</td>\n",
       "      <td>420125.0</td>\n",
       "    </tr>\n",
       "    <tr>\n",
       "      <th>668</th>\n",
       "      <td>I</td>\n",
       "      <td>nominal</td>\n",
       "      <td>2018</td>\n",
       "      <td>509233.0</td>\n",
       "      <td>420125.0</td>\n",
       "    </tr>\n",
       "    <tr>\n",
       "      <th>669</th>\n",
       "      <td>I</td>\n",
       "      <td>nominal</td>\n",
       "      <td>2019</td>\n",
       "      <td>509144.0</td>\n",
       "      <td>420125.0</td>\n",
       "    </tr>\n",
       "    <tr>\n",
       "      <th>670</th>\n",
       "      <td>I</td>\n",
       "      <td>nominal</td>\n",
       "      <td>2020</td>\n",
       "      <td>534075.0</td>\n",
       "      <td>420125.0</td>\n",
       "    </tr>\n",
       "    <tr>\n",
       "      <th>671</th>\n",
       "      <td>I</td>\n",
       "      <td>nominal</td>\n",
       "      <td>2021</td>\n",
       "      <td>581922.0</td>\n",
       "      <td>420125.0</td>\n",
       "    </tr>\n",
       "  </tbody>\n",
       "</table>\n",
       "<p>672 rows × 5 columns</p>\n",
       "</div>"
      ],
      "text/plain": [
       "    variable     unit  year   value_x    value_y\n",
       "0          C     real  1966  549491.0  1413235.0\n",
       "1          C     real  1967  588094.0  1413235.0\n",
       "2          C     real  1968  612327.0  1413235.0\n",
       "3          C     real  1969  649337.0  1413235.0\n",
       "4          C     real  1970  671805.0  1413235.0\n",
       "..       ...      ...   ...       ...        ...\n",
       "667        I  nominal  2017  483615.0   420125.0\n",
       "668        I  nominal  2018  509233.0   420125.0\n",
       "669        I  nominal  2019  509144.0   420125.0\n",
       "670        I  nominal  2020  534075.0   420125.0\n",
       "671        I  nominal  2021  581922.0   420125.0\n",
       "\n",
       "[672 rows x 5 columns]"
      ]
     },
     "execution_count": 80,
     "metadata": {},
     "output_type": "execute_result"
    }
   ],
   "source": [
    "result = nah.merge(year1_df, on=[\"variable\", \"unit\"])\n",
    "result # since there's a 'value' column in both, pandas names them _x and _y\n",
    "#result.rename(columns = {'value_x': 'value', 'value_y': 'first'})"
   ]
  },
  {
   "cell_type": "code",
   "execution_count": 78,
   "id": "7327f17d",
   "metadata": {
    "slideshow": {
     "slide_type": "slide"
    }
   },
   "outputs": [
    {
     "data": {
      "text/plain": [
       "<matplotlib.legend.Legend at 0x7fd077f0ee50>"
      ]
     },
     "execution_count": 78,
     "metadata": {},
     "output_type": "execute_result"
    },
    {
     "data": {
      "image/png": "[encoded data removed]",
      "text/plain": [
       "<Figure size 648x432 with 1 Axes>"
      ]
     },
     "metadata": {},
     "output_type": "display_data"
    }
   ],
   "source": [
    "result['index'] = result['value_x'] / result['value_y']\n",
    "\n",
    "fig = plt.figure(figsize=(9, 6))\n",
    "ax = fig.add_subplot(1,1,1)\n",
    "\n",
    "J = result['unit'] == 'real'\n",
    "#years = result['year'].unique()\n",
    "for i, j in result[J].groupby(['variable']):\n",
    "    # i is the name of a given group\n",
    "    # j is the data\n",
    "    ax.plot(j['year'], j['index'], label = f'{i}')\n",
    "ax.legend()"
   ]
  }
 ],
 "metadata": {
  "celltoolbar": "Slideshow",
  "kernelspec": {
   "display_name": "Python 3 (ipykernel)",
   "language": "python",
   "name": "python3"
  },
  "language_info": {
   "codemirror_mode": {
    "name": "ipython",
    "version": 3
   },
   "file_extension": ".py",
   "mimetype": "text/x-python",
   "name": "python",
   "nbconvert_exporter": "python",
   "pygments_lexer": "ipython3",
   "version": "3.9.7"
  }
 },
 "nbformat": 4,
 "nbformat_minor": 5
}
