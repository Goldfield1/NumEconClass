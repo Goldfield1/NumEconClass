{
 "cells": [
  {
   "cell_type": "markdown",
   "id": "cb5542b0-08fe-4f24-a56e-0a6bcb1d095d",
   "metadata": {
    "slideshow": {
     "slide_type": "slide"
    }
   },
   "source": [
    "# Data Project"
   ]
  },
  {
   "cell_type": "markdown",
   "id": "093db75e-1e62-4d90-b76b-b8e8505c3cc3",
   "metadata": {
    "slideshow": {
     "slide_type": "-"
    }
   },
   "source": [
    "This is a notebook with basic information and inspiration for the Data Project."
   ]
  },
  {
   "cell_type": "markdown",
   "id": "1de05fb7-56ba-4f9c-b043-9091b147b0d7",
   "metadata": {
    "slideshow": {
     "slide_type": "slide"
    }
   },
   "source": [
    "My favorite `pandas` function: https://pandas.pydata.org/docs/reference/api/pandas.pivot_table.html (**very** usefull!)"
   ]
  },
  {
   "cell_type": "markdown",
   "id": "cac99d47-c1aa-4564-8241-c4c216366ec4",
   "metadata": {
    "slideshow": {
     "slide_type": "-"
    }
   },
   "source": [
    "<img src=\"pivot.PNG\" style=\"float:center\" width=\"800\">"
   ]
  },
  {
   "cell_type": "code",
   "execution_count": 36,
   "id": "42934327-db56-48b8-8b7d-33a87657a739",
   "metadata": {
    "slideshow": {
     "slide_type": "slide"
    }
   },
   "outputs": [],
   "source": [
    "import pandas as pd\n",
    "import numpy as np\n",
    "\n",
    "N = 5\n",
    "df_gdp = pd.DataFrame({\n",
    "                    \"Country\": \"ABC_land\",\n",
    "                    \"Year\": np.linspace(1990, 2011, N, dtype = int), \n",
    "                    \"Variable_type\": \"GDP\",\n",
    "                    \"Value\": np.linspace(666, 6666, N, dtype = int)}) # arbitrary data\n",
    "df_wages = pd.DataFrame({\n",
    "                    \"Country\": \"ABC_land\",\n",
    "                    \"Year\": np.linspace(1990, 2011, N, dtype = int), \n",
    "                    \"Variable_type\": \"Wages\",\n",
    "                    \"Value\": np.linspace(100, 1000, N, dtype = int)}) # arbitrary data\n",
    "\n",
    "df_country = pd.concat([df_gdp, df_wages])\n",
    "# df_country"
   ]
  },
  {
   "cell_type": "code",
   "execution_count": 37,
   "id": "1b6694be",
   "metadata": {
    "slideshow": {
     "slide_type": "slide"
    }
   },
   "outputs": [
    {
     "data": {
      "text/html": [
       "<div>\n",
       "<style scoped>\n",
       "    .dataframe tbody tr th:only-of-type {\n",
       "        vertical-align: middle;\n",
       "    }\n",
       "\n",
       "    .dataframe tbody tr th {\n",
       "        vertical-align: top;\n",
       "    }\n",
       "\n",
       "    .dataframe thead th {\n",
       "        text-align: right;\n",
       "    }\n",
       "</style>\n",
       "<table border=\"1\" class=\"dataframe\">\n",
       "  <thead>\n",
       "    <tr style=\"text-align: right;\">\n",
       "      <th></th>\n",
       "      <th>Country</th>\n",
       "      <th>Year</th>\n",
       "      <th>Variable_type</th>\n",
       "      <th>Value</th>\n",
       "    </tr>\n",
       "  </thead>\n",
       "  <tbody>\n",
       "    <tr>\n",
       "      <th>0</th>\n",
       "      <td>ABC_land</td>\n",
       "      <td>1990</td>\n",
       "      <td>GDP</td>\n",
       "      <td>666</td>\n",
       "    </tr>\n",
       "    <tr>\n",
       "      <th>1</th>\n",
       "      <td>ABC_land</td>\n",
       "      <td>1995</td>\n",
       "      <td>GDP</td>\n",
       "      <td>2166</td>\n",
       "    </tr>\n",
       "    <tr>\n",
       "      <th>2</th>\n",
       "      <td>ABC_land</td>\n",
       "      <td>2000</td>\n",
       "      <td>GDP</td>\n",
       "      <td>3666</td>\n",
       "    </tr>\n",
       "    <tr>\n",
       "      <th>3</th>\n",
       "      <td>ABC_land</td>\n",
       "      <td>2005</td>\n",
       "      <td>GDP</td>\n",
       "      <td>5166</td>\n",
       "    </tr>\n",
       "    <tr>\n",
       "      <th>4</th>\n",
       "      <td>ABC_land</td>\n",
       "      <td>2011</td>\n",
       "      <td>GDP</td>\n",
       "      <td>6666</td>\n",
       "    </tr>\n",
       "    <tr>\n",
       "      <th>0</th>\n",
       "      <td>ABC_land</td>\n",
       "      <td>1990</td>\n",
       "      <td>Wages</td>\n",
       "      <td>100</td>\n",
       "    </tr>\n",
       "    <tr>\n",
       "      <th>1</th>\n",
       "      <td>ABC_land</td>\n",
       "      <td>1995</td>\n",
       "      <td>Wages</td>\n",
       "      <td>325</td>\n",
       "    </tr>\n",
       "    <tr>\n",
       "      <th>2</th>\n",
       "      <td>ABC_land</td>\n",
       "      <td>2000</td>\n",
       "      <td>Wages</td>\n",
       "      <td>550</td>\n",
       "    </tr>\n",
       "    <tr>\n",
       "      <th>3</th>\n",
       "      <td>ABC_land</td>\n",
       "      <td>2005</td>\n",
       "      <td>Wages</td>\n",
       "      <td>775</td>\n",
       "    </tr>\n",
       "    <tr>\n",
       "      <th>4</th>\n",
       "      <td>ABC_land</td>\n",
       "      <td>2011</td>\n",
       "      <td>Wages</td>\n",
       "      <td>1000</td>\n",
       "    </tr>\n",
       "  </tbody>\n",
       "</table>\n",
       "</div>"
      ],
      "text/plain": [
       "    Country  Year Variable_type  Value\n",
       "0  ABC_land  1990           GDP    666\n",
       "1  ABC_land  1995           GDP   2166\n",
       "2  ABC_land  2000           GDP   3666\n",
       "3  ABC_land  2005           GDP   5166\n",
       "4  ABC_land  2011           GDP   6666\n",
       "0  ABC_land  1990         Wages    100\n",
       "1  ABC_land  1995         Wages    325\n",
       "2  ABC_land  2000         Wages    550\n",
       "3  ABC_land  2005         Wages    775\n",
       "4  ABC_land  2011         Wages   1000"
      ]
     },
     "execution_count": 37,
     "metadata": {},
     "output_type": "execute_result"
    }
   ],
   "source": [
    "df_country"
   ]
  },
  {
   "cell_type": "code",
   "execution_count": 38,
   "id": "42022a55",
   "metadata": {
    "slideshow": {
     "slide_type": "slide"
    }
   },
   "outputs": [
    {
     "data": {
      "text/html": [
       "<div>\n",
       "<style scoped>\n",
       "    .dataframe tbody tr th:only-of-type {\n",
       "        vertical-align: middle;\n",
       "    }\n",
       "\n",
       "    .dataframe tbody tr th {\n",
       "        vertical-align: top;\n",
       "    }\n",
       "\n",
       "    .dataframe thead th {\n",
       "        text-align: right;\n",
       "    }\n",
       "</style>\n",
       "<table border=\"1\" class=\"dataframe\">\n",
       "  <thead>\n",
       "    <tr style=\"text-align: right;\">\n",
       "      <th></th>\n",
       "      <th>Variable_type</th>\n",
       "      <th>GDP</th>\n",
       "      <th>Wages</th>\n",
       "    </tr>\n",
       "    <tr>\n",
       "      <th>Year</th>\n",
       "      <th>Country</th>\n",
       "      <th></th>\n",
       "      <th></th>\n",
       "    </tr>\n",
       "  </thead>\n",
       "  <tbody>\n",
       "    <tr>\n",
       "      <th>1990</th>\n",
       "      <th>ABC_land</th>\n",
       "      <td>666</td>\n",
       "      <td>100</td>\n",
       "    </tr>\n",
       "    <tr>\n",
       "      <th>1995</th>\n",
       "      <th>ABC_land</th>\n",
       "      <td>2166</td>\n",
       "      <td>325</td>\n",
       "    </tr>\n",
       "    <tr>\n",
       "      <th>2000</th>\n",
       "      <th>ABC_land</th>\n",
       "      <td>3666</td>\n",
       "      <td>550</td>\n",
       "    </tr>\n",
       "    <tr>\n",
       "      <th>2005</th>\n",
       "      <th>ABC_land</th>\n",
       "      <td>5166</td>\n",
       "      <td>775</td>\n",
       "    </tr>\n",
       "    <tr>\n",
       "      <th>2011</th>\n",
       "      <th>ABC_land</th>\n",
       "      <td>6666</td>\n",
       "      <td>1000</td>\n",
       "    </tr>\n",
       "  </tbody>\n",
       "</table>\n",
       "</div>"
      ],
      "text/plain": [
       "Variable_type   GDP  Wages\n",
       "Year Country              \n",
       "1990 ABC_land   666    100\n",
       "1995 ABC_land  2166    325\n",
       "2000 ABC_land  3666    550\n",
       "2005 ABC_land  5166    775\n",
       "2011 ABC_land  6666   1000"
      ]
     },
     "execution_count": 38,
     "metadata": {},
     "output_type": "execute_result"
    }
   ],
   "source": [
    "#df_country = df_country.pivot_table(values = 'Value', index = ['Year', 'Country'], columns = 'Variable_type') #THIS IS THE SAME , just with the keywords\n",
    "df_country = df_country.pivot_table('Value', ['Year', 'Country'], 'Variable_type')\n",
    "df_country"
   ]
  },
  {
   "cell_type": "markdown",
   "id": "b98617b0",
   "metadata": {
    "slideshow": {
     "slide_type": "slide"
    }
   },
   "source": [
    "Merge example: (This is also a very good function!)"
   ]
  },
  {
   "cell_type": "code",
   "execution_count": 39,
   "id": "b10172f8",
   "metadata": {
    "slideshow": {
     "slide_type": "-"
    }
   },
   "outputs": [
    {
     "data": {
      "text/html": [
       "<div>\n",
       "<style scoped>\n",
       "    .dataframe tbody tr th:only-of-type {\n",
       "        vertical-align: middle;\n",
       "    }\n",
       "\n",
       "    .dataframe tbody tr th {\n",
       "        vertical-align: top;\n",
       "    }\n",
       "\n",
       "    .dataframe thead th {\n",
       "        text-align: right;\n",
       "    }\n",
       "</style>\n",
       "<table border=\"1\" class=\"dataframe\">\n",
       "  <thead>\n",
       "    <tr style=\"text-align: right;\">\n",
       "      <th></th>\n",
       "      <th>Country</th>\n",
       "      <th>Year</th>\n",
       "      <th>Population (MIL)</th>\n",
       "    </tr>\n",
       "  </thead>\n",
       "  <tbody>\n",
       "    <tr>\n",
       "      <th>0</th>\n",
       "      <td>ABC_land</td>\n",
       "      <td>1990</td>\n",
       "      <td>4.00</td>\n",
       "    </tr>\n",
       "    <tr>\n",
       "      <th>1</th>\n",
       "      <td>ABC_land</td>\n",
       "      <td>1995</td>\n",
       "      <td>4.25</td>\n",
       "    </tr>\n",
       "    <tr>\n",
       "      <th>2</th>\n",
       "      <td>ABC_land</td>\n",
       "      <td>2000</td>\n",
       "      <td>4.50</td>\n",
       "    </tr>\n",
       "    <tr>\n",
       "      <th>3</th>\n",
       "      <td>ABC_land</td>\n",
       "      <td>2005</td>\n",
       "      <td>4.75</td>\n",
       "    </tr>\n",
       "    <tr>\n",
       "      <th>4</th>\n",
       "      <td>ABC_land</td>\n",
       "      <td>2011</td>\n",
       "      <td>5.00</td>\n",
       "    </tr>\n",
       "  </tbody>\n",
       "</table>\n",
       "</div>"
      ],
      "text/plain": [
       "    Country  Year  Population (MIL)\n",
       "0  ABC_land  1990              4.00\n",
       "1  ABC_land  1995              4.25\n",
       "2  ABC_land  2000              4.50\n",
       "3  ABC_land  2005              4.75\n",
       "4  ABC_land  2011              5.00"
      ]
     },
     "execution_count": 39,
     "metadata": {},
     "output_type": "execute_result"
    }
   ],
   "source": [
    "df_pop = pd.DataFrame({\n",
    "                    \"Country\": \"ABC_land\",\n",
    "                    \"Year\": np.linspace(1990, 2011, N, dtype = int), \n",
    "                    \"Population (MIL)\": np.linspace(4, 5, N)}) # arbitrary data\n",
    "df_pop"
   ]
  },
  {
   "cell_type": "code",
   "execution_count": 33,
   "id": "e58bed85",
   "metadata": {
    "slideshow": {
     "slide_type": "slide"
    }
   },
   "outputs": [
    {
     "data": {
      "text/html": [
       "<div>\n",
       "<style scoped>\n",
       "    .dataframe tbody tr th:only-of-type {\n",
       "        vertical-align: middle;\n",
       "    }\n",
       "\n",
       "    .dataframe tbody tr th {\n",
       "        vertical-align: top;\n",
       "    }\n",
       "\n",
       "    .dataframe thead th {\n",
       "        text-align: right;\n",
       "    }\n",
       "</style>\n",
       "<table border=\"1\" class=\"dataframe\">\n",
       "  <thead>\n",
       "    <tr style=\"text-align: right;\">\n",
       "      <th></th>\n",
       "      <th>Country</th>\n",
       "      <th>Year</th>\n",
       "      <th>GDP</th>\n",
       "      <th>Wages</th>\n",
       "      <th>Population (MIL)</th>\n",
       "    </tr>\n",
       "  </thead>\n",
       "  <tbody>\n",
       "    <tr>\n",
       "      <th>0</th>\n",
       "      <td>ABC_land</td>\n",
       "      <td>1990</td>\n",
       "      <td>666</td>\n",
       "      <td>100</td>\n",
       "      <td>4.00</td>\n",
       "    </tr>\n",
       "    <tr>\n",
       "      <th>1</th>\n",
       "      <td>ABC_land</td>\n",
       "      <td>1995</td>\n",
       "      <td>2166</td>\n",
       "      <td>325</td>\n",
       "      <td>4.25</td>\n",
       "    </tr>\n",
       "    <tr>\n",
       "      <th>2</th>\n",
       "      <td>ABC_land</td>\n",
       "      <td>2000</td>\n",
       "      <td>3666</td>\n",
       "      <td>550</td>\n",
       "      <td>4.50</td>\n",
       "    </tr>\n",
       "    <tr>\n",
       "      <th>3</th>\n",
       "      <td>ABC_land</td>\n",
       "      <td>2005</td>\n",
       "      <td>5166</td>\n",
       "      <td>775</td>\n",
       "      <td>4.75</td>\n",
       "    </tr>\n",
       "    <tr>\n",
       "      <th>4</th>\n",
       "      <td>ABC_land</td>\n",
       "      <td>2011</td>\n",
       "      <td>6666</td>\n",
       "      <td>1000</td>\n",
       "      <td>5.00</td>\n",
       "    </tr>\n",
       "  </tbody>\n",
       "</table>\n",
       "</div>"
      ],
      "text/plain": [
       "    Country  Year   GDP  Wages  Population (MIL)\n",
       "0  ABC_land  1990   666    100              4.00\n",
       "1  ABC_land  1995  2166    325              4.25\n",
       "2  ABC_land  2000  3666    550              4.50\n",
       "3  ABC_land  2005  5166    775              4.75\n",
       "4  ABC_land  2011  6666   1000              5.00"
      ]
     },
     "execution_count": 33,
     "metadata": {},
     "output_type": "execute_result"
    }
   ],
   "source": [
    "df_country_complete = df_country.merge(df_pop, on = ['Country', 'Year'])\n",
    "df_country_complete"
   ]
  },
  {
   "cell_type": "markdown",
   "id": "ab9ef958-c4ac-467f-bf49-d57e64322773",
   "metadata": {
    "slideshow": {
     "slide_type": "slide"
    }
   },
   "source": [
    "## What does Christian appreciate?"
   ]
  },
  {
   "cell_type": "markdown",
   "id": "0c6a18b6-fbe8-4628-8a23-ed6c818b70ca",
   "metadata": {
    "slideshow": {
     "slide_type": "-"
    }
   },
   "source": [
    "- Show that you are able to \"clean\" a dataset  \n",
    "    - Take a big dataset and focus on specific variables  \n",
    "    \n",
    "- Merge different datasets (**Important**)\n",
    "    - Cross-reference different datasets\n",
    "    - This shows a lot of understanding, as you usually have to able to do a few manipulations before you can merge data.\n",
    "    - (E.g. you can't merge a dataset with \"years\" in the columns and one with \"years\" in the rows -> the have to be the same format -> pivot!)\n",
    "- Convey some kind of story!\n",
    "    - Basically treat this as a mini-paper, where instead of Excel/ Stata, you use Python to analyze your data\n",
    "- If possible use an API for getting your data\n",
    "    - Then everything is done in Python -> no seperat Excel files!"
   ]
  },
  {
   "cell_type": "markdown",
   "id": "5a2b5ab7-55f5-4126-ba80-471a4d90fb4f",
   "metadata": {
    "slideshow": {
     "slide_type": "slide"
    }
   },
   "source": [
    "## Very broad structural idea (you don't **have** to follow this)"
   ]
  },
  {
   "cell_type": "markdown",
   "id": "d4781db0-150f-413d-9031-c35deb33cf83",
   "metadata": {
    "slideshow": {
     "slide_type": "-"
    }
   },
   "source": [
    "- Import some data  and show the data in a table"
   ]
  },
  {
   "cell_type": "markdown",
   "id": "31434473-424b-4400-89cc-4a69c940b56f",
   "metadata": {
    "slideshow": {
     "slide_type": "-"
    }
   },
   "source": [
    "- Sort the data, which variables do you wanna look at?"
   ]
  },
  {
   "cell_type": "markdown",
   "id": "bbc18fb5-7ee6-4fc0-b793-3c88aeb6eca6",
   "metadata": {
    "slideshow": {
     "slide_type": "-"
    }
   },
   "source": [
    "- Arrange the data, cross-reference with another dataset, or create new variables. "
   ]
  },
  {
   "cell_type": "markdown",
   "id": "7a4a6837-076c-415d-9409-bdf2e3620e52",
   "metadata": {
    "slideshow": {
     "slide_type": "-"
    }
   },
   "source": [
    "- Present visually, graphs are your friend!"
   ]
  },
  {
   "cell_type": "markdown",
   "id": "d6b82772-3389-4ab6-a2f0-3e78f730a539",
   "metadata": {
    "slideshow": {
     "slide_type": "-"
    }
   },
   "source": [
    "- Try to to convey a story throughout"
   ]
  },
  {
   "cell_type": "markdown",
   "id": "83e78cd3-7afd-45b6-ba34-4802b16195ef",
   "metadata": {
    "slideshow": {
     "slide_type": "slide"
    }
   },
   "source": [
    "# Ideas"
   ]
  },
  {
   "cell_type": "markdown",
   "id": "dfc9daa1-a813-4dbf-9112-d5c0749bc6a2",
   "metadata": {
    "slideshow": {
     "slide_type": "slide"
    }
   },
   "source": [
    "## Declining labor shares"
   ]
  },
  {
   "cell_type": "markdown",
   "id": "bca16251-59d8-4ec2-842f-e96600e3c927",
   "metadata": {
    "slideshow": {
     "slide_type": "-"
    }
   },
   "source": [
    "Although long taught as a \"stylized fact\", labor shares seem to be be declining at a global level. See this paper: http://piketty.pse.ens.fr/files/KarabarbounisNeiman13.pdf  \n",
    "\n",
    "In my current seminar paper I am looking at something very similar:  \n",
    "\n",
    "GDP in USD: https://data.un.org/Data.aspx?q=gdp&d=SNAAMA&f=grID%3a101%3bcurrID%3aUSD%3bpcFlag%3a0  \n",
    "GDP and compensation of workers in national currency: https://data.un.org/Data.aspx?q=gdp&d=SNAAMA&f=grID%3a101%3bcurrID%3aUSD%3bpcFlag%3a0  \n",
    "Value added and compensation of workers in the corporate sector: https://data.un.org/Data.aspx?q=4.8&d=SNA&f=group_code%3a408\n",
    "\n",
    "Watch out when downloading, you can't download for all countries at once if you include too many variables.."
   ]
  },
  {
   "cell_type": "markdown",
   "id": "dcfc0b03-7fa3-40df-915c-d696b836f265",
   "metadata": {
    "slideshow": {
     "slide_type": "slide"
    }
   },
   "source": [
    "Labor's share of total income is defined as: Labor share = Total compensation of employees / GDP  \n",
    "(For the corporate sector it's \"value added\" and not GDP)\n",
    "\n",
    "- Import UN data for GDP and compensation of employees, and GDP in us dollars.\n",
    "- Specifcy which countries you use, and which years you look at.\n",
    "- Create a labor share variable\n",
    "- Plot the average global labor share for each year, use GDP in us dollars as a weight (otherweise small countries contribute the same as big ones)\n",
    "\n",
    "**EXTRA CHALLENGE:** The UN data comes in different \"Series\", which is the same data where different methodology has been applied. Data should not be continued across multiple series unless the data is \"compatible\". I.e, are the values for different series close to eachother for overlapping years? (close could be within 5%)"
   ]
  },
  {
   "cell_type": "markdown",
   "id": "456b8756-44e9-468b-b8a1-08c62ec18e0d",
   "metadata": {
    "slideshow": {
     "slide_type": "slide"
    }
   },
   "source": [
    "## Covid-19 and municipality data"
   ]
  },
  {
   "cell_type": "markdown",
   "id": "f1a2d3ee-f599-4eee-81c8-96e95ac13753",
   "metadata": {
    "slideshow": {
     "slide_type": "-"
    }
   },
   "source": [
    "- Find data on covid-19 infections (John Hopkins, WHO etc.) or danish municipality data\n",
    "- Cross reference with something else, maybe country/ municipality wealth or population density\n",
    "- Present any correlation you might find in tables and graphs"
   ]
  },
  {
   "cell_type": "markdown",
   "id": "a956b802-6aee-4f15-a942-0dd0cf08e1a8",
   "metadata": {
    "slideshow": {
     "slide_type": "slide"
    }
   },
   "source": [
    "## Climate change and investments in green energy?"
   ]
  },
  {
   "cell_type": "markdown",
   "id": "3c8ae4d4-dcf7-45b4-a667-68ab5d1a8ccf",
   "metadata": {
    "slideshow": {
     "slide_type": "-"
    }
   },
   "source": [
    "- Find data on which countries are hit the hardest by climate change, and cross-country data on investments in green energy\n",
    "- Any data on cross-country climate action plans?\n",
    "- Present any correlation you might find in tables and graphs"
   ]
  },
  {
   "cell_type": "markdown",
   "id": "ec57e36f-0ea3-4a58-ba12-1a6066f2f296",
   "metadata": {
    "slideshow": {
     "slide_type": "slide"
    }
   },
   "source": [
    "## Data from your own seminar papers, BA or previous assignments"
   ]
  },
  {
   "cell_type": "markdown",
   "id": "660975c2-a834-4856-a585-6d5a0fae4ed9",
   "metadata": {
    "slideshow": {
     "slide_type": "-"
    }
   },
   "source": [
    "Feel free to use data you've previously used for something else, it's good practice to see how much you can manipulate the data in Python!"
   ]
  },
  {
   "cell_type": "code",
   "execution_count": null,
   "id": "90ff534a-ef31-4b55-8ad8-8b70c6cc3d61",
   "metadata": {},
   "outputs": [],
   "source": []
  }
 ],
 "metadata": {
  "celltoolbar": "Slideshow",
  "kernelspec": {
   "display_name": "Python 3 (ipykernel)",
   "language": "python",
   "name": "python3"
  },
  "language_info": {
   "codemirror_mode": {
    "name": "ipython",
    "version": 3
   },
   "file_extension": ".py",
   "mimetype": "text/x-python",
   "name": "python",
   "nbconvert_exporter": "python",
   "pygments_lexer": "ipython3",
   "version": "3.9.7"
  }
 },
 "nbformat": 4,
 "nbformat_minor": 5
}
