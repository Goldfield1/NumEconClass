{
 "cells": [
  {
   "cell_type": "code",
   "execution_count": 1,
   "id": "c7a486e7",
   "metadata": {},
   "outputs": [],
   "source": [
    "import numpy as np\n",
    "from types import SimpleNamespace\n",
    "%load_ext autoreload\n",
    "%autoreload 2\n",
    "\n",
    "# optimizing and interpolation\n",
    "from scipy import optimize\n",
    "from scipy import interpolate\n",
    "from copy import copy\n",
    "\n",
    "# for plotting\n",
    "%matplotlib inline\n",
    "import matplotlib.pyplot as plt\n",
    "import pandas as pd\n",
    "from mpl_toolkits import mplot3d \n",
    "import seaborn as sns\n",
    "\n",
    "plt.style.use('seaborn-whitegrid')\n",
    "prop_cycle = plt.rcParams['axes.prop_cycle']\n",
    "colors = sns.color_palette()\n",
    "\n",
    "plt.rcParams[\"figure.autolayout\"] = True\n",
    "plt.rcParams[\"axes.edgecolor\"] = \"black\"\n",
    "plt.rcParams[\"axes.linewidth\"] = 1.0\n",
    "plt.rcParams[\"axes.xmargin\"] = 0.01\n",
    "plt.rcParams[\"axes.xmargin\"] = 0.01\n",
    "plt.rcParams[\"legend.edgecolor\"] = \"black\""
   ]
  },
  {
   "attachments": {},
   "cell_type": "markdown",
   "id": "2d03090d",
   "metadata": {},
   "source": [
    "# Consumption saving with borrowing"
   ]
  },
  {
   "attachments": {},
   "cell_type": "markdown",
   "id": "1651932c",
   "metadata": {},
   "source": [
    "We are now considering the consumption-savings model with an extension: households may **borrow** money in the first period. Additionally, there are **2 kinds** of households: the first type will likely see a **low level** of period 2 income, whereas the second type will likely see a **high** second period income. \n",
    "\n",
    "A household lives for 2 periods and makes decisions on consumption and saving in each period.  \n",
    "\n",
    "**Second period:**   \n",
    "Solving the consumer problem in the second period is similar to the baseline case we have seen before.\n",
    "\n",
    "The household gets utility from **consuming** and **leaving a bequest** (warm glow),\n",
    "\n",
    "$$\n",
    "\\begin{aligned}\n",
    "v_{2}(m_{2})&= \\max_{c_{2}}\\frac{c_{2}^{1-\\rho}}{1-\\rho}+\\nu\\frac{(a_2+\\kappa)^{1-\\rho}}{1-\\rho}\\\\\n",
    "\\text{s.t.} \\\\\n",
    "a_2 &= m_2-c_2 \\\\\n",
    "a_2 &\\geq 0\n",
    "\\end{aligned}\n",
    "$$\n",
    "\n",
    "where\n",
    "* $m_t$ is cash-on-hand \n",
    "* $c_t$ is consumption\n",
    "* $a_t$ is end-of-period assets \n",
    "* $\\rho > 1$ is the risk aversion coefficient\n",
    "* $\\nu > 0 $ is the strength of the bequest motive\n",
    "* $\\kappa > 0$ is the degree of luxuriousness in the bequest motive  \n",
    "* $a_2\\geq0$ ensures the household *cannot* die in debt"
   ]
  },
  {
   "attachments": {},
   "cell_type": "markdown",
   "id": "715e8428",
   "metadata": {},
   "source": [
    "**First period:**   \n",
    "The household gets utility from immediate consumption.  Household takes into account that next period income is stochastic.\n",
    "\n",
    "$$\n",
    "\\begin{aligned}\n",
    "v_1(m_1)&=\\max_{c_1}\\frac{c_{1}^{1-\\rho}}{1-\\rho}+\\beta\\mathbb{E}_{1}\\left[v_2(m_2)\\right]\\\\&\\text{s.t.}&\\\\\n",
    "a_1 & = m_1 - c_1 \\\\\n",
    "m_2 & = (1+r)a_1 + y_2 \\\\\n",
    "y_{2} & = \\begin{cases}\n",
    "1 - \\Delta & \\text{with prob. } P_{low}\\\\\n",
    "1 + \\Delta & \\text{with prob. } P_{high} \n",
    "\\end{cases}\\\\\n",
    "a_1 & > -\\frac{1-\\Delta}{1+r} \n",
    "\\end{aligned}\n",
    "$$\n",
    "\n",
    "where\n",
    "* $\\beta > 0$ is the discount factor\n",
    "* $\\mathbb{E}_1$ is the expectation operator conditional on information in period 1\n",
    "* $y_2$ is income in period 2\n",
    "* $\\Delta \\in (0,1)$ is the level of income risk \n",
    "* $r$ is the interest rate\n",
    "* $\\frac{1-\\Delta}{1+r} > c_1 - m_1$ ensures the household cannot borrow *more* than it will be able to repay in next period when $y_2$ is received.\n",
    "\n",
    "The **2 types** of households are defined by their different $(P_{low},P_{high})$:\n",
    "* Type 1: \n",
    "    * $P_{low} = 0.9$ \n",
    "    * $P_{high} = 0.1$\n",
    "* Type 2:\n",
    "    * $P_{low} = 0.1$ \n",
    "    * $P_{high} = 0.9$"
   ]
  },
  {
   "cell_type": "code",
   "execution_count": 2,
   "id": "e181294a",
   "metadata": {},
   "outputs": [],
   "source": [
    "# Parameters\n",
    "rho = 3\n",
    "kappa = 0.5\n",
    "nu = 0.1\n",
    "r = 0.04\n",
    "beta = 0.95\n",
    "Delta = 0.5"
   ]
  },
  {
   "attachments": {},
   "cell_type": "markdown",
   "id": "b977f863",
   "metadata": {},
   "source": [
    "**Question 1** Solve the model for each type of household. Plot the value functions $v_1(m_1)$ and $v_2(m_2)$ in one graph for each household type. Comment on the differences."
   ]
  },
  {
   "cell_type": "code",
   "execution_count": 3,
   "id": "b8aee812",
   "metadata": {},
   "outputs": [],
   "source": [
    "# Set parameters\n",
    "par = SimpleNamespace()\n",
    "par.rho = rho\n",
    "par.kappa = kappa\n",
    "par.nu = nu\n",
    "par.r = r\n",
    "par.beta = beta\n",
    "par.Delta = Delta\n",
    "par.max_debt = (1-par.Delta)/(1+par.r)\n",
    "\n",
    "# Type 1\n",
    "par1 = copy(par)\n",
    "par1.prb = {'low': 0.9, 'high': 0.1}\n",
    "\n",
    "# Type 2\n",
    "par2 = copy(par)\n",
    "par2.prb = {'low': 0.1, 'high': 0.9}"
   ]
  },
  {
   "attachments": {},
   "cell_type": "markdown",
   "id": "4f713a81",
   "metadata": {},
   "source": [
    "Agents can have two different values of the probability parameters, we have to include that in a \"smart\" way.  \n",
    "I do it slighty different that Jeppe to show that there are many solutions."
   ]
  },
  {
   "cell_type": "code",
   "execution_count": 4,
   "id": "7779b46e",
   "metadata": {},
   "outputs": [
    {
     "name": "stdout",
     "output_type": "stream",
     "text": [
      "Column names are type\n"
     ]
    },
    {
     "data": {
      "text/html": [
       "<div>\n",
       "<style scoped>\n",
       "    .dataframe tbody tr th:only-of-type {\n",
       "        vertical-align: middle;\n",
       "    }\n",
       "\n",
       "    .dataframe tbody tr th {\n",
       "        vertical-align: top;\n",
       "    }\n",
       "\n",
       "    .dataframe thead th {\n",
       "        text-align: right;\n",
       "    }\n",
       "</style>\n",
       "<table border=\"1\" class=\"dataframe\">\n",
       "  <thead>\n",
       "    <tr style=\"text-align: right;\">\n",
       "      <th></th>\n",
       "      <th>type 1</th>\n",
       "      <th>type 2</th>\n",
       "    </tr>\n",
       "  </thead>\n",
       "  <tbody>\n",
       "    <tr>\n",
       "      <th>0</th>\n",
       "      <td>0.9</td>\n",
       "      <td>0.1</td>\n",
       "    </tr>\n",
       "    <tr>\n",
       "      <th>1</th>\n",
       "      <td>0.1</td>\n",
       "      <td>0.9</td>\n",
       "    </tr>\n",
       "  </tbody>\n",
       "</table>\n",
       "</div>"
      ],
      "text/plain": [
       "   type 1  type 2\n",
       "0     0.9     0.1\n",
       "1     0.1     0.9"
      ]
     },
     "execution_count": 4,
     "metadata": {},
     "output_type": "execute_result"
    }
   ],
   "source": [
    "print(\"Column names are type\")\n",
    "dic = {\"type 1\": [0.9, 0.1], \"type 2\": [0.1, 0.9]}\n",
    "pd.DataFrame(dic)"
   ]
  },
  {
   "cell_type": "code",
   "execution_count": 5,
   "id": "241349f9",
   "metadata": {},
   "outputs": [],
   "source": [
    "def utility(par, c):\n",
    "    \n",
    "    return c**(1-par.rho)/(1-par.rho)\n",
    "\n",
    "def bequest(par, m, c):\n",
    "    \n",
    "    return par.nu*(m-c+par.kappa)**(1-par.rho)/(1-par.rho)\n",
    "\n",
    "def v2(par, c2, m2):\n",
    "    \n",
    "    return utility(par, c2) + bequest(par, m2, c2)\n",
    "\n",
    "def v1(par, c1, m1, v2_interp):\n",
    "    \n",
    "    # a. v2 if low income realization\n",
    "    m2_low = (1+par.r)*(m1-c1) + 1-par.Delta\n",
    "    v2_low = v2_interp([m2_low])[0]\n",
    "\n",
    "    # b. v2 if high income realization\n",
    "    m2_high = (1+par.r)*(m1-c1) + 1+par.Delta\n",
    "    v2_high = v2_interp([m2_high])[0]\n",
    "\n",
    "    # c. Expected v2 value\n",
    "    expected_v2 = par.prb['low']*v2_low + par.prb['high']*v2_high\n",
    "\n",
    "    # d. Total value\n",
    "    return utility(par, c1) + par.beta*expected_v2"
   ]
  },
  {
   "cell_type": "code",
   "execution_count": 6,
   "id": "4f3f9a84",
   "metadata": {},
   "outputs": [],
   "source": [
    "def solve_period_2(par):\n",
    "\n",
    "    # a. Initialize grids\n",
    "    m2s = np.linspace(1e-4,5,500)\n",
    "    v2s = np.empty(500)\n",
    "    c2s = np.empty(500)\n",
    "\n",
    "    # b. Solve consumption problem for each m2 in grid\n",
    "    for i,m2 in enumerate(m2s):\n",
    "\n",
    "        # i. Objective function\n",
    "        obj = lambda x: -v2(par, x[0], m2)\n",
    "\n",
    "        # ii. Initial guess (consume half of m2)\n",
    "        x0 = m2/2\n",
    "\n",
    "        # iii. Optimize the objective of allocating between consumption and bequests\n",
    "        result = optimize.minimize(obj, [x0], method='L-BFGS-B', bounds=((1e-8, m2),))\n",
    "\n",
    "        # iv. Save solution\n",
    "        v2s[i] = -result.fun\n",
    "        c2s[i] = result.x\n",
    "\n",
    "    return m2s, v2s, c2s\n",
    "\n",
    "\n",
    "def solve_period_1(par, v2_interp):\n",
    "    \n",
    "    # a. Initialize grids\n",
    "    m1s = np.linspace(1e-8, 5, 100)\n",
    "    v1s = np.empty(100)\n",
    "    c1s = np.empty(100)\n",
    "\n",
    "    # b. Solve for each m1 in the grid\n",
    "    for i, m1 in enumerate(m1s):\n",
    "\n",
    "        # i. Objective function\n",
    "        def obj(x): return -v1(par, x[0], m1, v2_interp)\n",
    "\n",
    "        # ii. Initial guess (consume half of m1)\n",
    "        x0 = m1/2\n",
    "\n",
    "        # iii. Optimize the objective given debt constraint\n",
    "        result = optimize.minimize(obj, [x0], \n",
    "                                   method='L-BFGS-B', bounds=((1e-12, m1 + par.max_debt),))\n",
    "\n",
    "        # iv. Save solution\n",
    "        v1s[i] = -result.fun\n",
    "        c1s[i] = result.x[0]\n",
    "\n",
    "    return m1s, v1s, c1s\n",
    "\n",
    "def solve(par):\n",
    "    \n",
    "    def solution_to_dict(sol):\n",
    "        names = ['m','v','c']\n",
    "        return dict((n, i) for n,i in zip(names, sol))\n",
    "    \n",
    "    # a. solve period 2\n",
    "    sol2 = solve_period_2(par)    \n",
    "    sol2 = solution_to_dict(sol2)\n",
    "\n",
    "    # b. construct interpolator\n",
    "    v2_interp = interpolate.RegularGridInterpolator([sol2['m']], sol2['v'],\n",
    "                                                    bounds_error=False, fill_value=None)\n",
    "\n",
    "    # c. solve period 1\n",
    "    sol1 = solve_period_1(par, v2_interp)\n",
    "    sol1 = solution_to_dict(sol1)\n",
    "\n",
    "    return {'t1': sol1, 't2': sol2}"
   ]
  },
  {
   "cell_type": "code",
   "execution_count": 7,
   "id": "df1cad39",
   "metadata": {},
   "outputs": [
    {
     "data": {
      "image/png": "[encoded data removed]",
      "text/plain": [
       "<Figure size 1400x500 with 2 Axes>"
      ]
     },
     "metadata": {},
     "output_type": "display_data"
    }
   ],
   "source": [
    "# a. Solve for both types of households\n",
    "types = {1: par1, 2: par2}\n",
    "solutions = {}\n",
    "\n",
    "for i,p in types.items():\n",
    "    solutions[i] = solve(p)\n",
    "\n",
    "# b. Plot value functions for both types\n",
    "fig = plt.figure(figsize=(14,5))\n",
    "for i,sol in solutions.items():    \n",
    "    ax = fig.add_subplot(1,2,i)\n",
    "    ax.plot(sol['t1']['m'], sol['t1']['v'], label=f'Period 1')\n",
    "    ax.plot(sol['t2']['m'], sol['t2']['v'], label=f'Period 2')\n",
    "    ax.legend(loc='lower right',facecolor='white',frameon=True)\n",
    "    ax.set_xlabel('$m_t$')\n",
    "    ax.set_ylabel('$v_t$')\n",
    "    ax.set_title(f'Value functions type {i}');\n",
    "    ax.set_xlim([0,4])\n",
    "    ax.set_ylim([-20, 2]);"
   ]
  },
  {
   "attachments": {},
   "cell_type": "markdown",
   "id": "e62e3c65",
   "metadata": {},
   "source": [
    "## Why interpolate?"
   ]
  },
  {
   "cell_type": "code",
   "execution_count": 8,
   "id": "f1c1d159",
   "metadata": {},
   "outputs": [
    {
     "name": "stdout",
     "output_type": "stream",
     "text": [
      "period 2\n"
     ]
    },
    {
     "data": {
      "text/html": [
       "<div>\n",
       "<style scoped>\n",
       "    .dataframe tbody tr th:only-of-type {\n",
       "        vertical-align: middle;\n",
       "    }\n",
       "\n",
       "    .dataframe tbody tr th {\n",
       "        vertical-align: top;\n",
       "    }\n",
       "\n",
       "    .dataframe thead th {\n",
       "        text-align: right;\n",
       "    }\n",
       "</style>\n",
       "<table border=\"1\" class=\"dataframe\">\n",
       "  <thead>\n",
       "    <tr style=\"text-align: right;\">\n",
       "      <th></th>\n",
       "      <th>m period 2</th>\n",
       "      <th>c period 2</th>\n",
       "    </tr>\n",
       "  </thead>\n",
       "  <tbody>\n",
       "    <tr>\n",
       "      <th>0</th>\n",
       "      <td>0.00</td>\n",
       "      <td>0.000</td>\n",
       "    </tr>\n",
       "    <tr>\n",
       "      <th>1</th>\n",
       "      <td>0.01</td>\n",
       "      <td>0.010</td>\n",
       "    </tr>\n",
       "    <tr>\n",
       "      <th>2</th>\n",
       "      <td>0.02</td>\n",
       "      <td>0.020</td>\n",
       "    </tr>\n",
       "    <tr>\n",
       "      <th>3</th>\n",
       "      <td>0.03</td>\n",
       "      <td>0.030</td>\n",
       "    </tr>\n",
       "    <tr>\n",
       "      <th>4</th>\n",
       "      <td>0.04</td>\n",
       "      <td>0.040</td>\n",
       "    </tr>\n",
       "    <tr>\n",
       "      <th>...</th>\n",
       "      <td>...</td>\n",
       "      <td>...</td>\n",
       "    </tr>\n",
       "    <tr>\n",
       "      <th>495</th>\n",
       "      <td>4.96</td>\n",
       "      <td>3.729</td>\n",
       "    </tr>\n",
       "    <tr>\n",
       "      <th>496</th>\n",
       "      <td>4.97</td>\n",
       "      <td>3.736</td>\n",
       "    </tr>\n",
       "    <tr>\n",
       "      <th>497</th>\n",
       "      <td>4.98</td>\n",
       "      <td>3.743</td>\n",
       "    </tr>\n",
       "    <tr>\n",
       "      <th>498</th>\n",
       "      <td>4.99</td>\n",
       "      <td>3.750</td>\n",
       "    </tr>\n",
       "    <tr>\n",
       "      <th>499</th>\n",
       "      <td>5.00</td>\n",
       "      <td>3.756</td>\n",
       "    </tr>\n",
       "  </tbody>\n",
       "</table>\n",
       "<p>500 rows × 2 columns</p>\n",
       "</div>"
      ],
      "text/plain": [
       "     m period 2  c period 2\n",
       "0          0.00       0.000\n",
       "1          0.01       0.010\n",
       "2          0.02       0.020\n",
       "3          0.03       0.030\n",
       "4          0.04       0.040\n",
       "..          ...         ...\n",
       "495        4.96       3.729\n",
       "496        4.97       3.736\n",
       "497        4.98       3.743\n",
       "498        4.99       3.750\n",
       "499        5.00       3.756\n",
       "\n",
       "[500 rows x 2 columns]"
      ]
     },
     "execution_count": 8,
     "metadata": {},
     "output_type": "execute_result"
    }
   ],
   "source": [
    "print(\"period 2\")\n",
    "dic = {\"m period 2\": sol['t2']['m'], \"c period 2\": sol['t2']['c']}\n",
    "pd.DataFrame(dic).round(3) # I only round to show you"
   ]
  },
  {
   "attachments": {},
   "cell_type": "markdown",
   "id": "1b7ee390",
   "metadata": {},
   "source": [
    "To get points that are not on the grid.. for example, m = 0.3"
   ]
  },
  {
   "cell_type": "code",
   "execution_count": 9,
   "id": "314dd2d2",
   "metadata": {},
   "outputs": [
    {
     "name": "stdout",
     "output_type": "stream",
     "text": [
      "m = 1.9940480961923848, c = 1.70339853225173\n",
      "m = 2.0040679358717437, c = 1.7102428323258327\n"
     ]
    }
   ],
   "source": [
    "print(f\"m = {sol['t2']['m'][199]}, c = {sol['t2']['c'][199]}\") # m is rougly below 2.0 at index 199\n",
    "print(f\"m = {sol['t2']['m'][200]}, c = {sol['t2']['c'][200]}\")"
   ]
  },
  {
   "cell_type": "code",
   "execution_count": 10,
   "id": "54acf8c8",
   "metadata": {},
   "outputs": [
    {
     "data": {
      "text/plain": [
       "array([1.70746413])"
      ]
     },
     "execution_count": 10,
     "metadata": {},
     "output_type": "execute_result"
    }
   ],
   "source": [
    "c_interp = interpolate.RegularGridInterpolator([sol['t2']['m']], sol['t2']['c'], bounds_error=False, fill_value=None)\n",
    "c_interp([2.0]) # in the middle"
   ]
  },
  {
   "cell_type": "code",
   "execution_count": 11,
   "id": "7827a80c",
   "metadata": {},
   "outputs": [
    {
     "data": {
      "text/html": [
       "<div>\n",
       "<style scoped>\n",
       "    .dataframe tbody tr th:only-of-type {\n",
       "        vertical-align: middle;\n",
       "    }\n",
       "\n",
       "    .dataframe tbody tr th {\n",
       "        vertical-align: top;\n",
       "    }\n",
       "\n",
       "    .dataframe thead th {\n",
       "        text-align: right;\n",
       "    }\n",
       "</style>\n",
       "<table border=\"1\" class=\"dataframe\">\n",
       "  <thead>\n",
       "    <tr style=\"text-align: right;\">\n",
       "      <th></th>\n",
       "      <th>m</th>\n",
       "      <th>c</th>\n",
       "    </tr>\n",
       "  </thead>\n",
       "  <tbody>\n",
       "    <tr>\n",
       "      <th>0</th>\n",
       "      <td>1.800</td>\n",
       "      <td>1.571</td>\n",
       "    </tr>\n",
       "    <tr>\n",
       "      <th>1</th>\n",
       "      <td>1.804</td>\n",
       "      <td>1.574</td>\n",
       "    </tr>\n",
       "    <tr>\n",
       "      <th>2</th>\n",
       "      <td>1.808</td>\n",
       "      <td>1.576</td>\n",
       "    </tr>\n",
       "    <tr>\n",
       "      <th>3</th>\n",
       "      <td>1.812</td>\n",
       "      <td>1.579</td>\n",
       "    </tr>\n",
       "    <tr>\n",
       "      <th>4</th>\n",
       "      <td>1.816</td>\n",
       "      <td>1.582</td>\n",
       "    </tr>\n",
       "    <tr>\n",
       "      <th>...</th>\n",
       "      <td>...</td>\n",
       "      <td>...</td>\n",
       "    </tr>\n",
       "    <tr>\n",
       "      <th>95</th>\n",
       "      <td>2.184</td>\n",
       "      <td>1.833</td>\n",
       "    </tr>\n",
       "    <tr>\n",
       "      <th>96</th>\n",
       "      <td>2.188</td>\n",
       "      <td>1.836</td>\n",
       "    </tr>\n",
       "    <tr>\n",
       "      <th>97</th>\n",
       "      <td>2.192</td>\n",
       "      <td>1.839</td>\n",
       "    </tr>\n",
       "    <tr>\n",
       "      <th>98</th>\n",
       "      <td>2.196</td>\n",
       "      <td>1.841</td>\n",
       "    </tr>\n",
       "    <tr>\n",
       "      <th>99</th>\n",
       "      <td>2.200</td>\n",
       "      <td>1.844</td>\n",
       "    </tr>\n",
       "  </tbody>\n",
       "</table>\n",
       "<p>100 rows × 2 columns</p>\n",
       "</div>"
      ],
      "text/plain": [
       "        m      c\n",
       "0   1.800  1.571\n",
       "1   1.804  1.574\n",
       "2   1.808  1.576\n",
       "3   1.812  1.579\n",
       "4   1.816  1.582\n",
       "..    ...    ...\n",
       "95  2.184  1.833\n",
       "96  2.188  1.836\n",
       "97  2.192  1.839\n",
       "98  2.196  1.841\n",
       "99  2.200  1.844\n",
       "\n",
       "[100 rows x 2 columns]"
      ]
     },
     "execution_count": 11,
     "metadata": {},
     "output_type": "execute_result"
    }
   ],
   "source": [
    "a = np.linspace(1.8, 2.2, 100)\n",
    "b = c_interp(a)\n",
    "dic = {\"m\": a , \"c\": b}\n",
    "pd.DataFrame(dic).round(3) # see how we get more points!"
   ]
  },
  {
   "attachments": {},
   "cell_type": "markdown",
   "id": "30dca464",
   "metadata": {},
   "source": [
    "**Question 2** From the model solution, obtain the optimal consumption functions $c_1^*(m_1)$ and $c_2^*(m_2)$. Plot these in one graph for each type of household. Comment on the observed differences between household types. "
   ]
  },
  {
   "cell_type": "code",
   "execution_count": 12,
   "id": "6aac50e8",
   "metadata": {},
   "outputs": [
    {
     "data": {
      "image/png": "[encoded data removed]",
      "text/plain": [
       "<Figure size 1400x500 with 2 Axes>"
      ]
     },
     "metadata": {},
     "output_type": "display_data"
    }
   ],
   "source": [
    "# Plot consumption functions for both types\n",
    "fig = plt.figure(figsize=(14,5))\n",
    "for i,sol in solutions.items():    \n",
    "    ax = fig.add_subplot(1,2,i)\n",
    "    ax.plot(sol['t1']['m'], sol['t1']['c'], label=f'Period 1')\n",
    "    ax.plot(sol['t2']['m'], sol['t2']['c'], label=f'Period 2')\n",
    "    ax.legend(loc='lower right',facecolor='white',frameon=True)\n",
    "    ax.set_xlabel('$m_t$')\n",
    "    ax.set_ylabel('$c_t$')\n",
    "    ax.set_title(f'Consumption functions type {i}');\n",
    "    ax.set_xlim([0,5])\n",
    "    ax.set_ylim([0, 4]);"
   ]
  },
  {
   "attachments": {},
   "cell_type": "markdown",
   "id": "2a5b5a2c",
   "metadata": {},
   "source": [
    "**Question 3** Simulate `simN` households of each type based on the distribution of $m_1$ below. You can use the same distribution for both household types. What is the fraction of households who *borrow* in period 1, $c_1 > m_1$, in each group?"
   ]
  },
  {
   "cell_type": "code",
   "execution_count": 13,
   "id": "8cfa92db",
   "metadata": {},
   "outputs": [],
   "source": [
    "np.random.seed(2021)\n",
    "simN = 100000\n",
    "sim_m1 = np.fmax(np.random.normal(1, 1, size = simN), 0) # No one gets negative m in first period"
   ]
  },
  {
   "cell_type": "code",
   "execution_count": 14,
   "id": "d76fe48a",
   "metadata": {},
   "outputs": [],
   "source": [
    "def simulate(par):\n",
    "    # a. Solve the model for both periods\n",
    "    sol = solve(par)\n",
    "\n",
    "    # b. Construct interpolaters between cash and consumption choices\n",
    "    c1_interp = interpolate.RegularGridInterpolator([sol['t1']['m']], sol['t1']['c'],\n",
    "                                                    bounds_error=False, fill_value=None)\n",
    "\n",
    "    c2_interp = interpolate.RegularGridInterpolator([sol['t2']['m']], sol['t2']['c'],\n",
    "                                                    bounds_error=False, fill_value=None)\n",
    "\n",
    "    # c. Simulate period 1 based on array of m and solution\n",
    "    sim_c1 = c1_interp(par.sim_m1)\n",
    "    sim_a1 = par.sim_m1 - sim_c1\n",
    "\n",
    "    # d. Transition to period 2 cash-on-hand based on random draws of income and period 1 choices\n",
    "    y2_low = 1-par.Delta\n",
    "    y2_high = 1+par.Delta\n",
    "    y2 = np.random.choice([y2_low, y2_high], \n",
    "                          p=[par.prb['low'], par.prb['high']], \n",
    "                          size=(sim_c1.shape))\n",
    "\n",
    "    sim_m2 = (1+par.r)*sim_a1 + y2\n",
    "\n",
    "    # e. sim period 2 consumption choice based on model solution and sim_m2\n",
    "    sim_c2 = c2_interp(sim_m2)\n",
    "\n",
    "    return {'c1': sim_c1, 'c2': sim_c2, 'sim_m2': sim_m2}"
   ]
  },
  {
   "cell_type": "code",
   "execution_count": 15,
   "id": "2a75573a",
   "metadata": {},
   "outputs": [
    {
     "name": "stdout",
     "output_type": "stream",
     "text": [
      "Share of borrowers in type 1:  0.316\n",
      "Share of borrowers in type 2:  0.484\n"
     ]
    }
   ],
   "source": [
    "# a. Use the same distribution of cash-on-hand endowment for both types and simulate choices\n",
    "for i,par in types.items():\n",
    "    par.sim_m1 = copy(sim_m1)\n",
    "    par.sim_c = simulate(par)    \n",
    "\n",
    "# b. Calculate the share of borrowers in period 1\n",
    "for i,par in types.items():\n",
    "    borrowers = np.sum(par.sim_c['c1'] > par.sim_m1)/simN\n",
    "    print(f'Share of borrowers in type {i}: {borrowers: .3f}')"
   ]
  }
 ],
 "metadata": {
  "kernelspec": {
   "display_name": "Python 3",
   "language": "python",
   "name": "python3"
  },
  "language_info": {
   "codemirror_mode": {
    "name": "ipython",
    "version": 3
   },
   "file_extension": ".py",
   "mimetype": "text/x-python",
   "name": "python",
   "nbconvert_exporter": "python",
   "pygments_lexer": "ipython3",
   "version": "3.9.13"
  }
 },
 "nbformat": 4,
 "nbformat_minor": 5
}
