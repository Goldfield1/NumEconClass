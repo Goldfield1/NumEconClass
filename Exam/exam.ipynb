{
 "cells": [
  {
   "cell_type": "markdown",
   "id": "c0ec4075-2657-4d59-8344-01c9648ad20c",
   "metadata": {
    "slideshow": {
     "slide_type": "slide"
    }
   },
   "source": [
    "<img src=\"ku_logo_uk.png\" alt=\"drawing\" width=\"130\" style=\"float:right\"/>\n",
    "\n",
    "# <span style=\"color:#2c061f\"> Last class and exam preperation </span>  \n",
    "\n",
    "<br>\n",
    "\n",
    "## <span style=\"color:#374045\"> Introduction to Programming and Numerical Analysis </span>\n",
    "\n",
    "\n",
    "####  <span style=\"color:#d89216\"> <br> Simon Guldager </span>\n",
    "<span style=\"color:#d89216\"> <br> https://github.com/Goldfield1/NumEconClass </span>"
   ]
  },
  {
   "cell_type": "markdown",
   "id": "ee9d13fa-60b5-44a0-9318-ebf62aa88d33",
   "metadata": {
    "slideshow": {
     "slide_type": "slide"
    },
    "tags": []
   },
   "source": [
    "# Plan for today\n",
    "\n",
    "1. Your projects\n",
    "2. Exam\n",
    "3. Tools for the exam\n",
    "4. Further perspectives"
   ]
  },
  {
   "cell_type": "markdown",
   "id": "9ff4a13e-d5fd-43da-b49e-2b0c96babc02",
   "metadata": {
    "slideshow": {
     "slide_type": "slide"
    },
    "tags": []
   },
   "source": [
    "## 1. Your projects\n",
    "\n",
    "- You've all done well, and I have enjoyed reading your projects throughout the year\n",
    "- Like the other times, I have given suggestions for the exam\n",
    "- Remember, better projects = higher odds of passing the exam\n",
    "- Editing projects is good preparation for the exam\n",
    "- I Recommend that you go through all your projects before the exam\n",
    "    - Make sure everything works!\n",
    "    - Insert comments and maybe docstrings if you have the time"
   ]
  },
  {
   "cell_type": "markdown",
   "id": "a2273d83-faa4-476a-b4b3-f011c5043539",
   "metadata": {
    "slideshow": {
     "slide_type": "slide"
    }
   },
   "source": [
    "## 1.1 Preparing your projects for the exam\n",
    "\n",
    "- Make sure everyone in your group can run the *the entire* code\n",
    "    - Common erros are references to files that only exist one your one computer\n",
    "    - Or variables with the same names\n",
    "    \n",
    "Feel free to message me with question up untill the exam: sfl265@econ.ku.dk"
   ]
  },
  {
   "cell_type": "markdown",
   "id": "f8481342-b1b4-4b15-9699-5dceae1a99ac",
   "metadata": {
    "slideshow": {
     "slide_type": "slide"
    }
   },
   "source": [
    "### Common errors"
   ]
  },
  {
   "cell_type": "code",
   "execution_count": 1,
   "id": "7a7d0f06-25e9-4a11-9f63-c6ebe990a131",
   "metadata": {
    "slideshow": {
     "slide_type": "-"
    }
   },
   "outputs": [],
   "source": [
    "import numpy as np\n",
    "import pandas as pd\n",
    "\n",
    "# just an example dataframe\n",
    "dic_test = {\"Hello\": [1,2], \"Everyone\": [2,3], \"Today\": [\":)\", \":(\"]}\n",
    "df = pd.DataFrame(dic_test)\n",
    "\n",
    "df.to_csv(\"hello.csv\", index=False)"
   ]
  },
  {
   "cell_type": "markdown",
   "id": "a6cd9f9a-cb8e-49ca-b839-e11c34ca0152",
   "metadata": {
    "slideshow": {
     "slide_type": "slide"
    }
   },
   "source": [
    "Local imports are fine"
   ]
  },
  {
   "cell_type": "code",
   "execution_count": 2,
   "id": "c8495d28-726f-4338-9c1a-92123783574c",
   "metadata": {
    "slideshow": {
     "slide_type": "-"
    }
   },
   "outputs": [
    {
     "data": {
      "text/html": [
       "<div>\n",
       "<style scoped>\n",
       "    .dataframe tbody tr th:only-of-type {\n",
       "        vertical-align: middle;\n",
       "    }\n",
       "\n",
       "    .dataframe tbody tr th {\n",
       "        vertical-align: top;\n",
       "    }\n",
       "\n",
       "    .dataframe thead th {\n",
       "        text-align: right;\n",
       "    }\n",
       "</style>\n",
       "<table border=\"1\" class=\"dataframe\">\n",
       "  <thead>\n",
       "    <tr style=\"text-align: right;\">\n",
       "      <th></th>\n",
       "      <th>Hello</th>\n",
       "      <th>Everyone</th>\n",
       "      <th>Today</th>\n",
       "    </tr>\n",
       "  </thead>\n",
       "  <tbody>\n",
       "    <tr>\n",
       "      <th>0</th>\n",
       "      <td>1</td>\n",
       "      <td>2</td>\n",
       "      <td>:)</td>\n",
       "    </tr>\n",
       "    <tr>\n",
       "      <th>1</th>\n",
       "      <td>2</td>\n",
       "      <td>3</td>\n",
       "      <td>:(</td>\n",
       "    </tr>\n",
       "  </tbody>\n",
       "</table>\n",
       "</div>"
      ],
      "text/plain": [
       "   Hello  Everyone Today\n",
       "0      1         2    :)\n",
       "1      2         3    :("
      ]
     },
     "execution_count": 2,
     "metadata": {},
     "output_type": "execute_result"
    }
   ],
   "source": [
    "df_read = pd.read_csv(\"hello.csv\")\n",
    "df_read"
   ]
  },
  {
   "cell_type": "markdown",
   "id": "ca8a7eb5-9cd0-446f-9356-16587c3dbb06",
   "metadata": {
    "slideshow": {
     "slide_type": "slide"
    }
   },
   "source": [
    "Not imports with a PATH"
   ]
  },
  {
   "cell_type": "code",
   "execution_count": 3,
   "id": "f59a3822-7386-43b5-a0ca-8e302180ca64",
   "metadata": {
    "slideshow": {
     "slide_type": "-"
    }
   },
   "outputs": [
    {
     "data": {
      "text/html": [
       "<div>\n",
       "<style scoped>\n",
       "    .dataframe tbody tr th:only-of-type {\n",
       "        vertical-align: middle;\n",
       "    }\n",
       "\n",
       "    .dataframe tbody tr th {\n",
       "        vertical-align: top;\n",
       "    }\n",
       "\n",
       "    .dataframe thead th {\n",
       "        text-align: right;\n",
       "    }\n",
       "</style>\n",
       "<table border=\"1\" class=\"dataframe\">\n",
       "  <thead>\n",
       "    <tr style=\"text-align: right;\">\n",
       "      <th></th>\n",
       "      <th>Hello</th>\n",
       "      <th>Everyone</th>\n",
       "      <th>Today</th>\n",
       "    </tr>\n",
       "  </thead>\n",
       "  <tbody>\n",
       "    <tr>\n",
       "      <th>0</th>\n",
       "      <td>1</td>\n",
       "      <td>2</td>\n",
       "      <td>:)</td>\n",
       "    </tr>\n",
       "    <tr>\n",
       "      <th>1</th>\n",
       "      <td>2</td>\n",
       "      <td>3</td>\n",
       "      <td>:(</td>\n",
       "    </tr>\n",
       "  </tbody>\n",
       "</table>\n",
       "</div>"
      ],
      "text/plain": [
       "   Hello  Everyone Today\n",
       "0      1         2    :)\n",
       "1      2         3    :("
      ]
     },
     "execution_count": 3,
     "metadata": {},
     "output_type": "execute_result"
    }
   ],
   "source": [
    "df_read = pd.read_csv(\"C:\\\\Users\\\\Simon\\\\NumEconClass\\\\Exam\\\\hello.csv\") # only works on my computer\n",
    "df_read"
   ]
  },
  {
   "cell_type": "markdown",
   "id": "d9db4738-3125-444f-8f0e-45d8287183df",
   "metadata": {
    "slideshow": {
     "slide_type": "slide"
    }
   },
   "source": [
    "If you change a variable, to it with a new name"
   ]
  },
  {
   "cell_type": "code",
   "execution_count": 4,
   "id": "a05b9009-80f0-4bc8-9c28-2658d9714757",
   "metadata": {
    "slideshow": {
     "slide_type": "-"
    }
   },
   "outputs": [
    {
     "data": {
      "text/html": [
       "<div>\n",
       "<style scoped>\n",
       "    .dataframe tbody tr th:only-of-type {\n",
       "        vertical-align: middle;\n",
       "    }\n",
       "\n",
       "    .dataframe tbody tr th {\n",
       "        vertical-align: top;\n",
       "    }\n",
       "\n",
       "    .dataframe thead th {\n",
       "        text-align: right;\n",
       "    }\n",
       "</style>\n",
       "<table border=\"1\" class=\"dataframe\">\n",
       "  <thead>\n",
       "    <tr style=\"text-align: right;\">\n",
       "      <th></th>\n",
       "      <th>Hello</th>\n",
       "      <th>Everyone</th>\n",
       "      <th>Today</th>\n",
       "    </tr>\n",
       "  </thead>\n",
       "  <tbody>\n",
       "    <tr>\n",
       "      <th>0</th>\n",
       "      <td>1</td>\n",
       "      <td>2</td>\n",
       "      <td>:)</td>\n",
       "    </tr>\n",
       "    <tr>\n",
       "      <th>1</th>\n",
       "      <td>2</td>\n",
       "      <td>3</td>\n",
       "      <td>:(</td>\n",
       "    </tr>\n",
       "  </tbody>\n",
       "</table>\n",
       "</div>"
      ],
      "text/plain": [
       "   Hello  Everyone Today\n",
       "0      1         2    :)\n",
       "1      2         3    :("
      ]
     },
     "execution_count": 4,
     "metadata": {},
     "output_type": "execute_result"
    }
   ],
   "source": [
    "df_read = pd.read_csv(\"hello.csv\")\n",
    "#df_read = df_read.iloc[:,1:] # ships the furst columns\n",
    "df_read"
   ]
  },
  {
   "cell_type": "code",
   "execution_count": 5,
   "id": "54dad398-faa3-4374-b0cb-40aae1b8c9ae",
   "metadata": {
    "slideshow": {
     "slide_type": "slide"
    }
   },
   "outputs": [
    {
     "data": {
      "text/html": [
       "<div>\n",
       "<style scoped>\n",
       "    .dataframe tbody tr th:only-of-type {\n",
       "        vertical-align: middle;\n",
       "    }\n",
       "\n",
       "    .dataframe tbody tr th {\n",
       "        vertical-align: top;\n",
       "    }\n",
       "\n",
       "    .dataframe thead th {\n",
       "        text-align: right;\n",
       "    }\n",
       "</style>\n",
       "<table border=\"1\" class=\"dataframe\">\n",
       "  <thead>\n",
       "    <tr style=\"text-align: right;\">\n",
       "      <th></th>\n",
       "      <th>Hello</th>\n",
       "    </tr>\n",
       "  </thead>\n",
       "  <tbody>\n",
       "    <tr>\n",
       "      <th>0</th>\n",
       "      <td>1</td>\n",
       "    </tr>\n",
       "    <tr>\n",
       "      <th>1</th>\n",
       "      <td>2</td>\n",
       "    </tr>\n",
       "  </tbody>\n",
       "</table>\n",
       "</div>"
      ],
      "text/plain": [
       "   Hello\n",
       "0      1\n",
       "1      2"
      ]
     },
     "execution_count": 5,
     "metadata": {},
     "output_type": "execute_result"
    }
   ],
   "source": [
    "df_read = df_read[[\"Hello\"]] # this will not work, since Hello is no longer in the columns\n",
    "df_read"
   ]
  },
  {
   "cell_type": "markdown",
   "id": "dfb1b433-54e5-4e70-9d5b-fc592b83354b",
   "metadata": {
    "slideshow": {
     "slide_type": "slide"
    }
   },
   "source": [
    "### Commenting\n",
    "\n",
    "Not *strictly* required, but it does improve readability, and a better look at the exam = \"more easily passed\""
   ]
  },
  {
   "cell_type": "code",
   "execution_count": 6,
   "id": "febf8e43-1e12-4dea-91d3-2b0a781c6ec6",
   "metadata": {
    "slideshow": {
     "slide_type": "-"
    }
   },
   "outputs": [
    {
     "data": {
      "text/plain": [
       "array([0. , 0.5, 1. , 1.5, 2. ])"
      ]
     },
     "execution_count": 6,
     "metadata": {},
     "output_type": "execute_result"
    }
   ],
   "source": [
    "# use np.linspace as an example, you've all seen it by now\n",
    "\n",
    "a = np.linspace(0,2,5)\n",
    "a"
   ]
  },
  {
   "cell_type": "code",
   "execution_count": 7,
   "id": "28db7ba6-f368-43e3-bc46-fc9dcc579a6e",
   "metadata": {
    "slideshow": {
     "slide_type": "slide"
    }
   },
   "outputs": [],
   "source": [
    "# very hard to read...\n",
    "\n",
    "def linspace_bad(x_min,x_max,n):\n",
    "    assert n >= 1\n",
    "    y = np.empty(n)\n",
    "    y[0] = x_min\n",
    "    for i in range(1, n):\n",
    "        y[i] = y[i-1] + (x_max-y[i-1]) / (n-i)\n",
    "    assert np.all(np.diff(y) > 0)\n",
    "    return y"
   ]
  },
  {
   "cell_type": "code",
   "execution_count": 8,
   "id": "7a974670-d6e0-41b6-8b76-35869e7447b9",
   "metadata": {
    "slideshow": {
     "slide_type": "slide"
    }
   },
   "outputs": [],
   "source": [
    "# better WITH DOCSTRING\n",
    "\n",
    "def linspace_good(x_min,x_max,n):\n",
    "    \"\"\" simple linspace example function\n",
    "\n",
    "    Args:\n",
    "\n",
    "        x_min (double): minimum value\n",
    "        x_max (double): maximum value\n",
    "        n (int): number of points\n",
    "\n",
    "    Returns:\n",
    "\n",
    "        y (list): grid with unequal spacing\n",
    "\n",
    "    \"\"\"\n",
    "    \n",
    "    # number of samples most be non-negative\n",
    "    assert n >= 1\n",
    "\n",
    "     \n",
    "    # 1. recursion\n",
    "    y = np.empty(n)\n",
    "    \n",
    "    y[0] = x_min\n",
    "    for i in range(1, n):\n",
    "        y[i] = y[i-1] + (x_max-y[i-1]) / (n-i)\n",
    "\n",
    "    # 2. assert increaing\n",
    "    assert np.all(np.diff(y) > 0)\n",
    "    \n",
    "    return y"
   ]
  },
  {
   "cell_type": "code",
   "execution_count": 9,
   "id": "739ce533-2112-45af-bd19-3320e698fa9e",
   "metadata": {
    "slideshow": {
     "slide_type": "slide"
    }
   },
   "outputs": [
    {
     "data": {
      "text/plain": [
       "array([0. , 0.5, 1. , 1.5, 2. ])"
      ]
     },
     "execution_count": 9,
     "metadata": {},
     "output_type": "execute_result"
    }
   ],
   "source": [
    "linspace_good(0,2,5)"
   ]
  },
  {
   "cell_type": "markdown",
   "id": "472202bb-6c21-4ddc-a3cb-ad16608718e2",
   "metadata": {
    "slideshow": {
     "slide_type": "slide"
    }
   },
   "source": [
    "You don't have to over do it (for small functions)"
   ]
  },
  {
   "cell_type": "code",
   "execution_count": 12,
   "id": "0811ad2f-6bc3-4ee7-a6d3-cfafb877a048",
   "metadata": {
    "slideshow": {
     "slide_type": "-"
    }
   },
   "outputs": [
    {
     "name": "stdout",
     "output_type": "stream",
     "text": [
      "hello world, hello world, \n"
     ]
    }
   ],
   "source": [
    "def hello_word(x):\n",
    "    \"\"\" \n",
    "    hello world print function, we \n",
    "    see that the x is printed x times\n",
    "    when the code is run\n",
    "\n",
    "    Args:\n",
    "\n",
    "        x (int): number of prints\n",
    "\n",
    "    Returns:\n",
    "\n",
    "        void\n",
    "    \"\"\"\n",
    "    print(\"hello world, \" * x)\n",
    "\n",
    "hello_word(2)"
   ]
  },
  {
   "cell_type": "markdown",
   "id": "75cc969b-e992-4e31-a0ec-9611a429040a",
   "metadata": {
    "slideshow": {
     "slide_type": "slide"
    }
   },
   "source": [
    "Don't focus too heavily on good commentation during the exam before you are done working\n",
    "- Obviously, working code > comments\n",
    "- However, again, it does give a better impression of your understanding"
   ]
  },
  {
   "cell_type": "markdown",
   "id": "0c639e72-5e8d-4ca3-ab8a-e48da486b76d",
   "metadata": {
    "slideshow": {
     "slide_type": "slide"
    }
   },
   "source": [
    "## Exam\n",
    "Usual tips for the exam:\n",
    "- Go through exams from previous years (alone or with the group)\n",
    "    - Last year was not made by Jeppe, and if you go further back some exams are 7-day exams\n",
    "    - However, they are still good practice\n",
    "    - Exam guides are \"perfect answers\", you can still easily pass without being as good\n",
    "- Don't get stuck\n",
    "    - If you can't solve a particular problem; return to it later\n",
    "    - Focus on other parts, make the other parts of the code more readable \n",
    "- 48 hours is both a lot of time and very little time..\n",
    "    - Exams are scaled to be \"24 hours of work\"\n",
    "    - Take breaks! Hopefully, you do not sit all night drinking caffeine\n",
    "  \n",
    "New exams can be found at:  \n",
    "https://p-selfservice.ku.dk/ords/apx_public_ws/r/eksamensarkivet/fac6?p13_fag=Introduction%20to%20Programming%20and%20Numerical%20Analysis&clear=13,2&session=10447872494961&cs=1SYFXbyN1DfDv46SUa82igMB0YRsKP8Fq-RhfR_vn9IYt5lvstd0rvtkyD7inU5gKIqL9BkyCDDQCXoxcLlH8_g\n",
    "\n",
    "Older than that can be found here:  \n",
    "https://web3.econ.ku.dk/polit/studerende/eksamen/opgrv/cms-ku/dansk.asp?del=kand&fag_id=281&fagnavn=Introduction%20to%20Programming%20and%20Numerical%20Analysis"
   ]
  },
  {
   "cell_type": "markdown",
   "id": "856aad1d-9dfb-4fa3-a67d-dd6da7a03d3b",
   "metadata": {
    "slideshow": {
     "slide_type": "slide"
    }
   },
   "source": [
    "## Tools for the exam \n",
    "\n",
    "In the same folder as these slides, I have included answers to all previous exams, and a small guide on a Dynamic Model  \n",
    "If you are stuck -> go look at the previous problems!"
   ]
  },
  {
   "cell_type": "markdown",
   "id": "44bfb1f3-3e3b-4a6f-b9c2-346737736a2a",
   "metadata": {
    "slideshow": {
     "slide_type": "slide"
    }
   },
   "source": [
    "## Further perspectives\n",
    "\n",
    "The department has a lot of new and existing courses using Python:  \n",
    "- Dynamic Programming - Theory, Computation, and Empirical Applications\n",
    "- Household Behavior over the Life Cycle\n",
    "- Advanced Macroeconomics: Heterogenous Agent Models\n",
    "- Advanced Microeconometrics (I havn't taken this course)\n",
    "\n",
    "\n",
    "Learning to code \"is a lot at once\". Hopefully, you are able to use Python to some extent in the future:\n",
    "- Master or bachelor thesis\n",
    "- Seminar papers\n",
    "- Maybe even during other courses, for doing complicated math\n",
    "- Challenge yourself: Are you about to do something in Excel? - Maybe try using Python instead!"
   ]
  },
  {
   "cell_type": "code",
   "execution_count": null,
   "id": "7865530d-78c8-4329-9703-70d909dfca89",
   "metadata": {},
   "outputs": [],
   "source": []
  }
 ],
 "metadata": {
  "celltoolbar": "Slideshow",
  "kernelspec": {
   "display_name": "Python 3 (ipykernel)",
   "language": "python",
   "name": "python3"
  },
  "language_info": {
   "codemirror_mode": {
    "name": "ipython",
    "version": 3
   },
   "file_extension": ".py",
   "mimetype": "text/x-python",
   "name": "python",
   "nbconvert_exporter": "python",
   "pygments_lexer": "ipython3",
   "version": "3.9.13"
  },
  "vscode": {
   "interpreter": {
    "hash": "5179d32cf6ec497baf3f8a3ef987cc77c5d2dc691fdde20a56316522f61a7323"
   }
  }
 },
 "nbformat": 4,
 "nbformat_minor": 5
}
