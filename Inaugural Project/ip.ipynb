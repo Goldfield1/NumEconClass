{
 "cells": [
  {
   "cell_type": "markdown",
   "id": "c5b0c0d6-23c4-47cb-a612-63dd28b99dfc",
   "metadata": {},
   "source": [
    "# General advise, this is from lecture 5"
   ]
  },
  {
   "cell_type": "markdown",
   "id": "b581f703-4070-488c-b1f2-2dbb4e027498",
   "metadata": {},
   "source": [
    "## Structure"
   ]
  },
  {
   "cell_type": "markdown",
   "id": "994fcfa9-8dee-487c-8486-a2a3b56a39c4",
   "metadata": {},
   "source": [
    "**Example of how to structure**: https://github.com/NumEconCopenhagen/example-2022\n",
    "\n",
    "**Macro structure** (wrt. folders and files):\n",
    "\n",
    "1. **One folder** for each project with ALL required files.\n",
    "2. **End goal**: 1 file (notebook) to run it all. *Very important!*\n",
    "3. **Module files** (.py): Define functions, classes, etc. Perhaps different modules for different kind of tasks (solving, simulating, plotting).\n",
    "4. **Notebook files** (.ipynb): Call functions, classes etc. and explain and present the results.\n",
    "5. **Larger projects:** Sub-folders for data, figures, etc. (*not relevant now*)."
   ]
  },
  {
   "cell_type": "markdown",
   "id": "99a3c465-2880-49ac-b2cc-03c9a8892a27",
   "metadata": {
    "tags": []
   },
   "source": [
    "**Workflow:**\n",
    "\n",
    "1. **Notebooks (.ipynb):** Work with them in JupyterLab.\n",
    "2. **Modules (.py):** Work with them preferably in VSCode (but JupyterLab will also do)."
   ]
  },
  {
   "cell_type": "markdown",
   "id": "731b1c77-b910-4e3d-bbe5-93ef5714960a",
   "metadata": {},
   "source": [
    "**Recommendations:**\n",
    "\n",
    "1. **Code layout:**\n",
    "    * **Indentation:** Four spaces\n",
    "    * **Line length:** Max of 79 characters (wrap line + indent properly)\n",
    "    * **Strings:** Use single or double quote (be consistent)\n",
    "    * **White space:**\n",
    "        * After comma: ``x = [1, 2, 3]`` (not required)\n",
    "        * Around assignment: ``x = y``\n",
    "        * After colon: ``if x == 2: print(x)``\n",
    "        * Around operators with lowest priority in a calculation: ``c = (a+b) * (a-b)`` or `z = x*x + y*y` \n",
    "2. **Naming conventions:** Short, but also precise\n",
    "    * **Modules:** Lower case with potential underscores (e.g. ``numecon`` or ``num_econ``)\n",
    "    * **Classes:** Camel case (e.g. ``ConsumerClass``)\n",
    "    * **Variables, functions and methods:** Lower case with potential underscores     \n",
    "3. **Ordered section comments:** Break your code into sections\n",
    "    * Give each section a name and a place in the ordering\n",
    "    * Level 1: a, b, c etc.\n",
    "    * Level 2: i, ii, iii, iv etc.\n",
    "    * Level 3: o, oo, ooo, oooo etc.\n",
    "4. **Line comments:** Small additional hints\n",
    "    * Again, short and precise\n",
    "    * Avoid just explaining what the code does (must provide additional information)\n",
    "5. **Docstrings:** Should be written for all functions, methods and classes (see how below)."
   ]
  },
  {
   "cell_type": "markdown",
   "id": "0bdc30ec-4512-41d8-997b-756b976363f3",
   "metadata": {},
   "source": [
    "**More on names:**\n",
    "\n",
    "1. Name functions after their **intended use**. Verbs can be handy for such naming. (*But its doing many things?* Not a good sign, see design patterns below) \n",
    "1. Help your self in debugging and name variables in a **searchable way** (unless they are super local). You cannot search for the name *i* in a bunch of code files.\n",
    "1. Normally avoid using any special characters.\n",
    "2. Unused variables and non-public methods should start with a ``_``"
   ]
  },
  {
   "cell_type": "markdown",
   "id": "432b2c16-0cba-453f-ac74-b43b062c3499",
   "metadata": {},
   "source": [
    "**Two different perspectives on comments:**\n",
    "\n",
    "1. The comments explain humans what the code does.(*~ you'll write the code first, then comments*)\n",
    "2. The code makes the computer do what the comments say. (*~ you'll write the comments first, then code*) "
   ]
  },
  {
   "cell_type": "markdown",
   "id": "82868367-e36d-40e6-b7b1-fbb69b14fa56",
   "metadata": {},
   "source": [
    "**Example of well formatted code:**"
   ]
  },
  {
   "cell_type": "code",
   "execution_count": 8,
   "id": "31d8e01c-3373-4a9b-89a4-e6d68347cbfa",
   "metadata": {},
   "outputs": [
    {
     "name": "stdout",
     "output_type": "stream",
     "text": [
      "2.1972245773362196\n",
      "1.3862943611198906\n",
      "0.0\n",
      "0.0\n",
      "1.3862943611198906\n",
      "2.1972245773362196\n"
     ]
    }
   ],
   "source": [
    "import math\n",
    "\n",
    "# a. name for section\n",
    "alpha = 1\n",
    "beta = 2\n",
    "x = [-3, -2, -1, 1, 2, 3]\n",
    "\n",
    "# b. name for section\n",
    "def my_function(x,alpha,beta):\n",
    "    \"\"\" explain what the function does (docstring)\n",
    "    \n",
    "    Args:\n",
    "    \n",
    "        x (float): explanation\n",
    "        alpha (float): explanation\n",
    "        beta (float): explanation\n",
    "        \n",
    "    Returns:\n",
    "    \n",
    "        y (float): explanation\n",
    "    \n",
    "    \"\"\"\n",
    "    \n",
    "    y = x**2 \n",
    "    return y\n",
    "\n",
    "# c. name for section\n",
    "for i in range(len(x)):\n",
    "    \n",
    "    # i. name for sub-section\n",
    "    y = my_function(x[i],alpha,alpha)\n",
    "    \n",
    "    # ii. name for sub-section\n",
    "    cond = y > 0 # non-positive not allowed due to log (line comment)\n",
    "    \n",
    "    # iii. name for sub-section\n",
    "    if cond:\n",
    "        print(math.log(y))"
   ]
  },
  {
   "cell_type": "markdown",
   "id": "684013d9-7c15-4da7-b3a1-221be2e50daa",
   "metadata": {},
   "source": [
    "# Question 1"
   ]
  },
  {
   "cell_type": "markdown",
   "id": "74c4761d-5e69-4fd8-aa70-5932dab899e4",
   "metadata": {},
   "source": [
    "- Make a function for utility: `u(z, theta)`\n",
    "- Make a function for the expected utility: `V(q, x, y, p)`  \n",
    "- Use `V(q, x, y, p)` in the optmizer, remember that we minimize, so make a lambda function for `-V(...)`\n",
    "\n",
    "Find optimal q for given values of x, p and y"
   ]
  },
  {
   "cell_type": "code",
   "execution_count": 31,
   "id": "c62b3c3b-4bfa-42bb-9174-d68fbc1ad319",
   "metadata": {},
   "outputs": [],
   "source": [
    "import numpy as np\n",
    "from scipy import optimize\n",
    "\n",
    "x = 0.6\n",
    "y = 1\n",
    "p = 0.2\n",
    "\n",
    "def optimal_q(x, y, p):\n",
    "    # use optimize_scalar to find optimal q at given x\n",
    "    return 0 # return the answer\n",
    "\n",
    "# grid for xs\n",
    "xs = np.linspace(0.01, 0.9, 100) \n",
    "# grid to put the qs in\n",
    "qs = np.zeros(100)\n",
    "\n",
    "# loop\n",
    "for i, x in enumerate(xs):\n",
    "    qs[i] = optimal_q(x, y, p)\n",
    "    \n",
    "# plot the values for xs and qs"
   ]
  },
  {
   "cell_type": "markdown",
   "id": "8d09afc4-989a-4dfc-aed1-8a80a40d92ad",
   "metadata": {},
   "source": [
    "# Question 2"
   ]
  },
  {
   "cell_type": "markdown",
   "id": "f3596216-e50b-4957-b992-b302ea3453cd",
   "metadata": {},
   "source": [
    "- **IMPORTANT** your guess for $\\pi$ can't be zero (0.01 - 0.4) is fine\n",
    "- Make a new function for expected utility: `V_pi(pi, q, x, y, p)`\n",
    "- Find utility when not insured: `V0 = V_pi(0, 0, x, y, p)`\n",
    "- Make an objective function where you subtract `V0` from the utility at a given `V(pi, ...)`"
   ]
  },
  {
   "cell_type": "code",
   "execution_count": 52,
   "id": "5c3e2e7f-915b-4bcf-8772-7dc15e4e9b31",
   "metadata": {},
   "outputs": [],
   "source": [
    "def optimal_pi(q, x, y, p, V0):\n",
    "    #\n",
    "    # objective function\n",
    "    #def obj(pi):\n",
    "    #    return V_pi(pi, q, x, y, p) - V0\n",
    "        \n",
    "    # use optimize.root, finds when the objective function is 0\n",
    "    return 0 # return the answer\n",
    "\n",
    "V0 = 0 # V0 should not be 0, call your V() function with the right arguments\n",
    "\n",
    "# empty grid for xs\n",
    "qs = np.linspace(0.01, 0.6, 100)\n",
    "# grid to put the pis in\n",
    "pis = np.zeros(100) \n",
    "\n",
    "# loop\n",
    "for i, q in enumerate(qs):\n",
    "    pis[i] = optimal_pi(q, x, y, p, V0)\n",
    "    \n",
    "# plot the values for qs and pis\n",
    "# also plot qs and p*q"
   ]
  },
  {
   "cell_type": "markdown",
   "id": "178c1b9b-69d9-47c9-bb44-523b1c9bd1e3",
   "metadata": {},
   "source": [
    "# Question 3"
   ]
  },
  {
   "cell_type": "markdown",
   "id": "48dd73a0-540d-41c8-b80f-e08997d288c7",
   "metadata": {},
   "source": [
    "See lecture 4: \"Random_numbers_and_simulation.ipynb\", \"7. Numerical integration by Monte Carlo\"  \n",
    "Difference is that we now use `np.random.beta` insted of a normal distribution\n",
    "- Make a list of xs with `np.random.beta` (See online how to use the function)\n",
    "- For each of the xs, calculate expected utility (see the assignment text)\n",
    "- Calculate the average of those values"
   ]
  },
  {
   "cell_type": "code",
   "execution_count": 54,
   "id": "6ccf1659-8bf0-4635-a675-924573921e45",
   "metadata": {},
   "outputs": [],
   "source": [
    "def monte_carlo(y, p, gamma, pi, N):\n",
    "    # xs = np.random.beta(alpha, beta, N) - draws N number of xs from a beta distribution\n",
    "    # for each x, find expected utility and save   \n",
    "    # find average\n",
    "    \n",
    "    return 0 # return average\n",
    "\n",
    "# call your monte_carlo function for different values of gamma and pi, to see which one is the best"
   ]
  },
  {
   "cell_type": "markdown",
   "id": "5dd17681-5b6c-427c-85f4-e62722662e37",
   "metadata": {},
   "source": [
    "# Question 4"
   ]
  },
  {
   "cell_type": "markdown",
   "id": "912dfe46-125f-404c-a524-a78202618612",
   "metadata": {},
   "source": [
    "This is bascially the same as in question 2, only difference is that you will use your `monte_carlo` function.  \n",
    "**HINT** from assignment text: use `optimize.root(..., method=\"broyden1\")` (To make it faster)\n"
   ]
  }
 ],
 "metadata": {
  "kernelspec": {
   "display_name": "Python 3 (ipykernel)",
   "language": "python",
   "name": "python3"
  },
  "language_info": {
   "codemirror_mode": {
    "name": "ipython",
    "version": 3
   },
   "file_extension": ".py",
   "mimetype": "text/x-python",
   "name": "python",
   "nbconvert_exporter": "python",
   "pygments_lexer": "ipython3",
   "version": "3.9.7"
  }
 },
 "nbformat": 4,
 "nbformat_minor": 5
}
