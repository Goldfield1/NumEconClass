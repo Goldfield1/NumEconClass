{
 "cells": [
  {
   "cell_type": "markdown",
   "id": "7987d9a6-d22c-4a11-a853-58e1014b066c",
   "metadata": {
    "slideshow": {
     "slide_type": "slide"
    }
   },
   "source": [
    "<img src=\"ku_logo_uk_v.png\" alt=\"drawing\" width=\"130\" style=\"float:right\"/>\n",
    "\n",
    "# <span style=\"color:#2c061f\"> Week 10 </span>  \n",
    "\n",
    "<br>\n",
    "\n",
    "## <span style=\"color:#374045\"> Introduction to Programming and Numerical Analysis </span>\n",
    "\n",
    "\n",
    "####  <span style=\"color:#d89216\"> <br> Simon Guldager </span>"
   ]
  },
  {
   "cell_type": "markdown",
   "id": "c5832fcc-b4d5-479f-b1c8-5d128cb9a4c6",
   "metadata": {
    "slideshow": {
     "slide_type": "slide"
    }
   },
   "source": [
    "## Plan for today\n",
    "<br>\n",
    "\n",
    "1. Data project\n",
    "2. Linear algebra and equations in Python!\n",
    "3. Problem set 6"
   ]
  },
  {
   "cell_type": "code",
   "execution_count": null,
   "id": "eefbb7b3",
   "metadata": {},
   "outputs": [],
   "source": []
  },
  {
   "cell_type": "code",
   "execution_count": null,
   "id": "c357ae19",
   "metadata": {},
   "outputs": [],
   "source": []
  },
  {
   "cell_type": "code",
   "execution_count": null,
   "id": "ff6e46f2",
   "metadata": {},
   "outputs": [],
   "source": []
  },
  {
   "cell_type": "markdown",
   "id": "b836921a",
   "metadata": {
    "slideshow": {
     "slide_type": "slide"
    }
   },
   "source": [
    "# 1. Data project feedback\n",
    "Feedback for your project will again be via email.  \n",
    "I will start going through your projects this week (the data project takes longer, as everyone have done something different).  \n",
    "\n",
    "- Make sure everyone in your group is able to run the code after they've pulled, and after \"Restart Kernel and Run All Cells\"\n",
    "- Paths that work on your own computer don't work on mine \"PATH ON YOUR COMPUER/data/ xxx.csv, having \"data/ xxx.csv\" is fine - relative path"
   ]
  },
  {
   "cell_type": "markdown",
   "id": "6cbd5a41-8651-436c-952a-07e8fe48c48b",
   "metadata": {
    "slideshow": {
     "slide_type": "slide"
    }
   },
   "source": [
    "# 2. Linear algebra in Python:"
   ]
  },
  {
   "cell_type": "markdown",
   "id": "77c4f06d-2229-46a3-b1df-24a71c43b799",
   "metadata": {
    "slideshow": {
     "slide_type": "-"
    }
   },
   "source": [
    "We want to solve:"
   ]
  },
  {
   "cell_type": "markdown",
   "id": "3d66d27c-d4bd-415c-a7e3-eedb9c6af8f8",
   "metadata": {
    "slideshow": {
     "slide_type": "-"
    }
   },
   "source": [
    "$$Ax = B$$"
   ]
  },
  {
   "cell_type": "code",
   "execution_count": 2,
   "id": "31508d53-0411-47ff-884c-3ee92c86f26c",
   "metadata": {
    "slideshow": {
     "slide_type": "slide"
    }
   },
   "outputs": [
    {
     "name": "stdout",
     "output_type": "stream",
     "text": [
      "Matrix A: \n",
      "[[0.70043712 0.84418664 0.67651434 0.72785806 0.95145796]\n",
      " [0.0127032  0.4135877  0.04881279 0.09992856 0.50806631]\n",
      " [0.20024754 0.74415417 0.192892   0.70084475 0.29322811]\n",
      " [0.77447945 0.00510884 0.11285765 0.11095367 0.24766823]\n",
      " [0.0232363  0.72732115 0.34003494 0.19750316 0.90917959]] \n",
      "\n",
      " Matrix b:\n",
      "[0.97834699 0.53280254 0.25913185 0.58381262 0.32569065]\n"
     ]
    }
   ],
   "source": [
    "import numpy as np # import numpy\n",
    "from scipy import linalg # import linalg\n",
    "\n",
    "np.random.seed(666) # set seed\n",
    "\n",
    "A = np.random.uniform(size=(5,5)) # draw random A matrix\n",
    "B = np.random.uniform(size=5) # draw random B vector\n",
    "\n",
    "print(f'Matrix A: \\n{A} \\n\\n Matrix b:\\n{B}')"
   ]
  },
  {
   "cell_type": "markdown",
   "id": "06081d26-e23d-4a3d-bb63-5f37763d20cc",
   "metadata": {
    "slideshow": {
     "slide_type": "slide"
    }
   },
   "source": [
    "## First way to solve (easier but slower)"
   ]
  },
  {
   "cell_type": "code",
   "execution_count": 3,
   "id": "b9e64d1b-9dfd-492f-8452-3097e8a997e7",
   "metadata": {
    "slideshow": {
     "slide_type": "-"
    }
   },
   "outputs": [
    {
     "data": {
      "text/plain": [
       "array([-1.09856672, -5.64094348, -3.17432935,  5.50035431,  4.89126724])"
      ]
     },
     "execution_count": 3,
     "metadata": {},
     "output_type": "execute_result"
    }
   ],
   "source": [
    "# Simple solver\n",
    "x = linalg.solve(A,B)\n",
    "x"
   ]
  },
  {
   "cell_type": "markdown",
   "id": "cfb3c2c5-510c-4c83-9f86-366bd4d5c94d",
   "metadata": {
    "slideshow": {
     "slide_type": "slide"
    }
   },
   "source": [
    "## Faster way to solve (code is a bit more complicated)"
   ]
  },
  {
   "cell_type": "code",
   "execution_count": 4,
   "id": "77b9b141-ea1d-418a-8a7b-1fd7e83087be",
   "metadata": {
    "slideshow": {
     "slide_type": "-"
    }
   },
   "outputs": [
    {
     "data": {
      "text/plain": [
       "array([-1.09856672, -5.64094348, -3.17432935,  5.50035431,  4.89126724])"
      ]
     },
     "execution_count": 4,
     "metadata": {},
     "output_type": "execute_result"
    }
   ],
   "source": [
    "LU, piv = linalg.lu_factor(A) # compute LU decomposition of A\n",
    "x = linalg.lu_solve((LU,piv),B) # solve equation system\n",
    "x"
   ]
  },
  {
   "cell_type": "markdown",
   "id": "f86117d5-717c-4f33-a18d-473b453c3c5b",
   "metadata": {
    "slideshow": {
     "slide_type": "slide"
    }
   },
   "source": [
    "# 2. Equations in Python\n",
    "Formulas and models are part of the life as an economist. `Sympy` enables us to translate these formulas into python code.\n",
    "\n",
    "Consider a utility function from a standard OLG model. Economic agents live two periods (young/old) and obtain utility from consumption in both periods:\n",
    "\n",
    "$$U(c_{1}, c_{2}) = u(c_{1}) + \\frac{1}{1+\\rho}u(c_{2})$$"
   ]
  },
  {
   "cell_type": "code",
   "execution_count": 1,
   "id": "a3bd0b34-fdd8-4abf-9958-5cb1b40b5c8e",
   "metadata": {
    "slideshow": {
     "slide_type": "slide"
    }
   },
   "outputs": [
    {
     "data": {
      "text/latex": [
       "$\\displaystyle \\log{\\left(c_{1} \\right)} + \\frac{\\log{\\left(c_{2} \\right)}}{\\rho + 1}$"
      ],
      "text/plain": [
       "log(c_1) + log(c_2)/(rho + 1)"
      ]
     },
     "execution_count": 1,
     "metadata": {},
     "output_type": "execute_result"
    }
   ],
   "source": [
    "import sympy as sm # import sympy\n",
    "\n",
    "c1,c2 = sm.symbols(\"c_1\"), sm.symbols(\"c_2\") # define C_i1 and C_i2\n",
    "rho = sm.symbols(\"rho\") # define rho\n",
    "\n",
    "#log-utility\n",
    "uc1 = sm.ln(c1) \n",
    "uc2 = sm.ln(c2)\n",
    "# Define U_it\n",
    "U = uc1+1/(1+rho)*uc2\n",
    "U"
   ]
  },
  {
   "cell_type": "markdown",
   "id": "d65d7cc1-9146-4709-afde-130883094920",
   "metadata": {
    "slideshow": {
     "slide_type": "slide"
    }
   },
   "source": [
    "Let's take the derivative of $U$ with respect to $c_2$"
   ]
  },
  {
   "cell_type": "code",
   "execution_count": 6,
   "id": "4a5e4b1a-5710-4182-ac21-39de103227ad",
   "metadata": {
    "slideshow": {
     "slide_type": "-"
    }
   },
   "outputs": [
    {
     "data": {
      "text/latex": [
       "$\\displaystyle \\frac{1}{c_{2} \\left(\\rho + 1\\right)}$"
      ],
      "text/plain": [
       "1/(c_2*(rho + 1))"
      ]
     },
     "execution_count": 6,
     "metadata": {},
     "output_type": "execute_result"
    }
   ],
   "source": [
    "sm.diff(U,c2)"
   ]
  },
  {
   "cell_type": "markdown",
   "id": "c713149e-eadd-4397-9022-303382c34eb1",
   "metadata": {
    "slideshow": {
     "slide_type": "slide"
    }
   },
   "source": [
    "# Formulas can be turned into python functions"
   ]
  },
  {
   "cell_type": "markdown",
   "id": "9ace9fd7-c95b-4baf-bfee-6f9bc234bc28",
   "metadata": {
    "slideshow": {
     "slide_type": "-"
    }
   },
   "source": [
    "We use `lambdify` to turn an expression into a Python function.  \n",
    "Here \"U\" is an expression of sybmols, this enables us to treat it like any other function, turning the symbols into arguments:"
   ]
  },
  {
   "cell_type": "code",
   "execution_count": 7,
   "id": "d3dcdc27-695c-4205-a849-2990d3fcf87b",
   "metadata": {
    "slideshow": {
     "slide_type": "-"
    }
   },
   "outputs": [
    {
     "data": {
      "text/plain": [
       "2.6823965207235005"
      ]
     },
     "execution_count": 7,
     "metadata": {},
     "output_type": "execute_result"
    }
   ],
   "source": [
    "util = sm.lambdify((c1,c2,rho),U)\n",
    "util(5, 5, 0.5)"
   ]
  }
 ],
 "metadata": {
  "celltoolbar": "Slideshow",
  "kernelspec": {
   "display_name": "Python 3 (ipykernel)",
   "language": "python",
   "name": "python3"
  },
  "language_info": {
   "codemirror_mode": {
    "name": "ipython",
    "version": 3
   },
   "file_extension": ".py",
   "mimetype": "text/x-python",
   "name": "python",
   "nbconvert_exporter": "python",
   "pygments_lexer": "ipython3",
   "version": "3.9.7"
  }
 },
 "nbformat": 4,
 "nbformat_minor": 5
}
