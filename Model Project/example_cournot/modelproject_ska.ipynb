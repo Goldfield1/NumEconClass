{
 "cells": [
  {
   "cell_type": "markdown",
   "metadata": {},
   "source": [
    "# A Cournot oligopoly model"
   ]
  },
  {
   "cell_type": "markdown",
   "metadata": {},
   "source": [
    "The Cournot oligopoly model analyses firm decisionmaking in markets with more than one, but a finite number of firms. These models are not particularly difficult to calculate analytically, but as soon as more than two firms are included the calculations can get long and tedious.\n",
    "\n",
    "In this project I go through first a Cournot model with two firms analytically and numerically (a Cournot duopoly), whereafter I expand the model such that I can analyze it numerically while including more than two firms. I also check to see what happens when demand increases in the case of two firms, and also analyze what happens when the number of firms increase in equilibrium."
   ]
  },
  {
   "cell_type": "markdown",
   "metadata": {},
   "source": [
    "Imports and set magics:"
   ]
  },
  {
   "cell_type": "code",
   "execution_count": 1,
   "metadata": {},
   "outputs": [],
   "source": [
    "import numpy as np\n",
    "from scipy import optimize\n",
    "import sympy as sm\n",
    "import matplotlib.pyplot as plt\n",
    "\n",
    "# autoreload modules when code is run\n",
    "%load_ext autoreload\n",
    "%autoreload 2\n",
    "\n",
    "# local modules\n",
    "import modelproject"
   ]
  },
  {
   "cell_type": "markdown",
   "metadata": {},
   "source": [
    "# Model description"
   ]
  },
  {
   "cell_type": "markdown",
   "metadata": {},
   "source": [
    "My model setup is a general case for two identical firms. Each of these firms are profitmaximizing with respect to their own quantity produced, $q_i$. In here, marginal costs are constant, $MC = c$ Their maximization problem is defined:\n",
    "\n",
    "$$\n",
    "\\max_{q_i} \\pi_i = (p-MC)q_i\n",
    "$$\n",
    "\n",
    "The demand function, $p$, depends on a baseline max demand $a$ and the quantity produced by each firm, $q_1$ and $q_2$. The relationship between the parameters in front of the goods produced is the elasticity of substitution, but since the firms are identical they have the same parameter $b$. Demand is defined as:\n",
    "$$\n",
    "p = a - (b \\cdot q_1 + b \\cdot q_2) \n",
    "$$\n",
    "\n"
   ]
  },
  {
   "cell_type": "markdown",
   "metadata": {},
   "source": [
    "# Analytical solution"
   ]
  },
  {
   "cell_type": "markdown",
   "metadata": {},
   "source": [
    "The analytical solution is as follows: \n",
    "\n",
    "- Maximize firm 1's profits wrt. $q_1$\n",
    "- Solve for $q_1$ as a function of $q_2$\n",
    "- Maximize firm 2's profits wrt. $q_2$\n",
    "- Insert solution for $q_1$ and solve for $q_2$ (as a function of parameters)\n",
    "- Insert this solution for $q_2$ in the solution for $q_1$ (now a function of parameters)\n",
    "\n",
    "The optimal $q_1$ and $q_2$ can now be inserted into the demand function to find the profit."
   ]
  },
  {
   "cell_type": "markdown",
   "metadata": {},
   "source": [
    "## General solution"
   ]
  },
  {
   "cell_type": "code",
   "execution_count": 2,
   "metadata": {},
   "outputs": [],
   "source": [
    "#Define symbols used in the model:\n",
    "\n",
    "q1 = sm.symbols(\"q_1\")\n",
    "q2 = sm.symbols(\"q_2\")\n",
    "a = sm.symbols(\"a\")\n",
    "b = sm.symbols(\"b\")\n",
    "c = sm.symbols(\"c\")\n",
    "p = a - (b*q1+b*q2)\n",
    "MC = c"
   ]
  },
  {
   "cell_type": "code",
   "execution_count": 3,
   "metadata": {},
   "outputs": [
    {
     "data": {
      "text/latex": [
       "$\\displaystyle q_{1} \\left(a - b q_{1} - b q_{2} - c\\right)$"
      ],
      "text/plain": [
       "q_1*(a - b*q_1 - b*q_2 - c)"
      ]
     },
     "execution_count": 3,
     "metadata": {},
     "output_type": "execute_result"
    }
   ],
   "source": [
    "#Define objective function, in this case profits for firm 1:\n",
    "\n",
    "objective_1 = (p-MC)*q1\n",
    "objective_1"
   ]
  },
  {
   "cell_type": "code",
   "execution_count": 4,
   "metadata": {},
   "outputs": [
    {
     "data": {
      "text/latex": [
       "$\\displaystyle a - 2 b q_{1} - b q_{2} - c$"
      ],
      "text/plain": [
       "a - 2*b*q_1 - b*q_2 - c"
      ]
     },
     "execution_count": 4,
     "metadata": {},
     "output_type": "execute_result"
    }
   ],
   "source": [
    "#Derive wrt. q1\n",
    "\n",
    "foc_1 = sm.diff(objective_1, q1)\n",
    "foc_1"
   ]
  },
  {
   "cell_type": "code",
   "execution_count": 5,
   "metadata": {},
   "outputs": [
    {
     "data": {
      "text/latex": [
       "$\\displaystyle \\frac{a - b q_{2} - c}{2 b}$"
      ],
      "text/plain": [
       "(a - b*q_2 - c)/(2*b)"
      ]
     },
     "execution_count": 5,
     "metadata": {},
     "output_type": "execute_result"
    }
   ],
   "source": [
    "#Solve to find q1 as a function of q2 and parameters\n",
    "\n",
    "q1_temp = sm.solve(sm.Eq(foc_1,0), q1)\n",
    "q1_temp = q1_temp[0]\n",
    "q1_temp"
   ]
  },
  {
   "cell_type": "code",
   "execution_count": 6,
   "metadata": {},
   "outputs": [
    {
     "data": {
      "text/latex": [
       "$\\displaystyle q_{2} \\left(a - b q_{1} - b q_{2} - c\\right)$"
      ],
      "text/plain": [
       "q_2*(a - b*q_1 - b*q_2 - c)"
      ]
     },
     "execution_count": 6,
     "metadata": {},
     "output_type": "execute_result"
    }
   ],
   "source": [
    "#Define second objective function, firm 2's profits\n",
    "\n",
    "objective_2 = (p-MC)*q2\n",
    "objective_2"
   ]
  },
  {
   "cell_type": "code",
   "execution_count": 7,
   "metadata": {},
   "outputs": [
    {
     "data": {
      "text/latex": [
       "$\\displaystyle a - b q_{1} - 2 b q_{2} - c$"
      ],
      "text/plain": [
       "a - b*q_1 - 2*b*q_2 - c"
      ]
     },
     "execution_count": 7,
     "metadata": {},
     "output_type": "execute_result"
    }
   ],
   "source": [
    "#Derive wrt. to q2\n",
    "\n",
    "foc_2 = sm.diff(objective_2, q2)\n",
    "foc_2"
   ]
  },
  {
   "cell_type": "code",
   "execution_count": 8,
   "metadata": {},
   "outputs": [
    {
     "data": {
      "text/latex": [
       "$\\displaystyle \\frac{a}{2} - \\frac{3 b q_{2}}{2} - \\frac{c}{2}$"
      ],
      "text/plain": [
       "a/2 - 3*b*q_2/2 - c/2"
      ]
     },
     "execution_count": 8,
     "metadata": {},
     "output_type": "execute_result"
    }
   ],
   "source": [
    "#Insert solution for q1 that I found before\n",
    "\n",
    "foc_2_subs = foc_2.subs(q1, q1_temp)\n",
    "foc_2_subs"
   ]
  },
  {
   "cell_type": "code",
   "execution_count": 9,
   "metadata": {},
   "outputs": [
    {
     "data": {
      "text/latex": [
       "$\\displaystyle \\frac{a - c}{3 b}$"
      ],
      "text/plain": [
       "(a - c)/(3*b)"
      ]
     },
     "execution_count": 9,
     "metadata": {},
     "output_type": "execute_result"
    }
   ],
   "source": [
    "#Solve for and find the optimal q2\n",
    "\n",
    "q2_star = sm.solve(foc_2_subs, q2)\n",
    "q2_star = q2_star[0]\n",
    "q2_star"
   ]
  },
  {
   "cell_type": "code",
   "execution_count": 10,
   "metadata": {},
   "outputs": [
    {
     "data": {
      "text/latex": [
       "$\\displaystyle \\frac{a - c}{3 b}$"
      ],
      "text/plain": [
       "(a - c)/(3*b)"
      ]
     },
     "execution_count": 10,
     "metadata": {},
     "output_type": "execute_result"
    }
   ],
   "source": [
    "#Insert optimal q2 into the solution for q1 and find optimal q1 (simplified)\n",
    "\n",
    "q1_star = q1_temp.subs(q2, q2_star)\n",
    "q1_star = sm.simplify(q1_star)\n",
    "q1_star\n",
    "\n",
    "#Note: optimal q1 and q2 are the same as they should be when the firms are identical"
   ]
  },
  {
   "cell_type": "code",
   "execution_count": 11,
   "metadata": {},
   "outputs": [],
   "source": [
    "#Substitute optimal q1 and q2 into the demand function\n",
    "p = p.subs(q1,q1_star)\n",
    "p = p.subs(q2,q2_star)"
   ]
  },
  {
   "cell_type": "code",
   "execution_count": 12,
   "metadata": {},
   "outputs": [
    {
     "data": {
      "text/latex": [
       "$\\displaystyle \\frac{\\left(\\frac{a}{3} - \\frac{c}{3}\\right) \\left(a - c\\right)}{3 b}$"
      ],
      "text/plain": [
       "(a/3 - c/3)*(a - c)/(3*b)"
      ]
     },
     "execution_count": 12,
     "metadata": {},
     "output_type": "execute_result"
    }
   ],
   "source": [
    "#Use updated demand function and optimal q1 and q2 to find the profits. \n",
    "pi_1 = (p - MC)*q1_star\n",
    "pi_2 = (p - MC)*q2_star\n",
    "pi_1"
   ]
  },
  {
   "cell_type": "code",
   "execution_count": 13,
   "metadata": {},
   "outputs": [
    {
     "name": "stdout",
     "output_type": "stream",
     "text": [
      "Optimal q1 is (a - c)/(3*b) and optimal q2 is (a - c)/(3*b)\n",
      "Profits for firm one is (a/3 - c/3)*(a - c)/(3*b) and profits for firm two is (a/3 - c/3)*(a - c)/(3*b)\n"
     ]
    }
   ],
   "source": [
    "print(f\"Optimal q1 is {q1_star} and optimal q2 is {q2_star}\")\n",
    "print(f\"Profits for firm one is {pi_1} and profits for firm two is {pi_2}\")"
   ]
  },
  {
   "cell_type": "markdown",
   "metadata": {},
   "source": [
    "Both $q_1$ and $q_2$ are the same, as well as the profits for the two firms. Again a result stemming from the firms being identical, and proving that the calculations are correct."
   ]
  },
  {
   "cell_type": "markdown",
   "metadata": {},
   "source": [
    "## Parameter test"
   ]
  },
  {
   "cell_type": "markdown",
   "metadata": {},
   "source": [
    "Now that I have expressions for both the quantity and profits for each of the two firms, I can calculate for a given set of parameters. I choose a = 12, b = 1 and c = 0 (I set $MC = 0$ to avoid issues with negative profits)"
   ]
  },
  {
   "cell_type": "code",
   "execution_count": 14,
   "metadata": {},
   "outputs": [
    {
     "name": "stdout",
     "output_type": "stream",
     "text": [
      "For a = 12, b = 1 and c = 0: \n",
      "q1 = q2 = 4.0 and pi_1 = pi_2 = 16.0\n"
     ]
    }
   ],
   "source": [
    "#Generate function to get expression and possible solutions\n",
    "q_func = sm.lambdify(args = (a,b,c), expr = q1_star)\n",
    "pi_func = sm.lambdify(args = (a,b,c), expr = pi_1)\n",
    "\n",
    "print(f\"For a = 12, b = 1 and c = 0: \\nq1 = q2 = {q_func(12,1,0):1.1f} and pi_1 = pi_2 = {pi_func(12,1,0):1.1f}\")"
   ]
  },
  {
   "cell_type": "markdown",
   "metadata": {},
   "source": [
    "This is the exact results that the above $q_i$ and $\\pi_i$ would yield us given the parameters:\n",
    "$$\n",
    "q_1 = q_2 = \\frac{a-c}{3b} = \\frac{12-0}{3\\cdot1} = 4\n",
    "$$\n",
    "\n",
    "$$\n",
    "\\pi_1 = \\pi_2 = \\frac{(\\frac{a}{3}-\\frac{c}{3})(a-c)}{3b} = \\frac{(\\frac{12}{3}-\\frac{0}{3})(12-0)}{3\\cdot1} = \\frac{48}{3} = 16\n",
    "$$\n",
    "\n",
    "Showing once again that our functions are correct."
   ]
  },
  {
   "cell_type": "markdown",
   "metadata": {},
   "source": [
    "## A change in the a-parameter"
   ]
  },
  {
   "cell_type": "markdown",
   "metadata": {},
   "source": [
    "Now I will show how a change in the a-parameter affects the optimal production and the resulting profits for the firms.\n",
    "\n",
    "I generate a function going through the steps above in section 3.1, iterating over a set of a-parameters. I then return the a-parameters used, the optimal production and the profits.\n",
    "\n",
    "For the test I use a = [1:16], b = 1 and c = 0."
   ]
  },
  {
   "cell_type": "code",
   "execution_count": 15,
   "metadata": {},
   "outputs": [
    {
     "data": {
      "image/png": "[encoded data removed]",
      "text/plain": [
       "<Figure size 432x288 with 1 Axes>"
      ]
     },
     "metadata": {
      "needs_background": "light"
     },
     "output_type": "display_data"
    },
    {
     "data": {
      "image/png": "[encoded data removed]",
      "text/plain": [
       "<Figure size 432x288 with 1 Axes>"
      ]
     },
     "metadata": {
      "needs_background": "light"
     },
     "output_type": "display_data"
    }
   ],
   "source": [
    "#Run function with the set of parameters and return the wanted variables\n",
    "a_list,q1_star_list,q2_star_list,pi_1_list,pi_2_list = modelproject.sympy_duopoly(1,16,1,0)\n",
    "\n",
    "\n",
    "#Plot quantities\n",
    "fig1 = plt.figure()\n",
    "ax1 = fig1.add_subplot(1,1,1, label=\"ax1\")\n",
    "plt.plot(a_list, q1_star_list, label=\"Firm 1, quantities\")\n",
    "plt.plot(a_list, q2_star_list, \"--\", label=\"Firm 2, quantities\")\n",
    "plt.legend()\n",
    "plt.xlabel(\"a-parameter\")\n",
    "plt.ylabel(\"q, goods produced\")\n",
    "plt.ylim(0,6)\n",
    "plt.grid(linestyle=\"--\", linewidth=\"0.5\")\n",
    "plt.title(\"Optimal q as a function of a\")\n",
    "\n",
    "#Plot profits\n",
    "fig2 = plt.figure()\n",
    "ax2 = fig2.add_subplot(1,1,1, label=\"ax2\")\n",
    "plt.plot(a_list, pi_1_list, label=\"Firm 1, profits\")\n",
    "plt.plot(a_list, pi_2_list, \"--\", label=\"Firm 2, profits\")\n",
    "plt.legend()\n",
    "plt.xlabel(\"a-parameter\")\n",
    "plt.ylabel(\"pi, profits\")\n",
    "plt.ylim(0,32)\n",
    "plt.grid(linestyle=\"--\", linewidth=\"0.5\")\n",
    "plt.title(\"Optimal pi as a function of a\")\n",
    "\n",
    "#Show plots\n",
    "plt.show()"
   ]
  },
  {
   "cell_type": "markdown",
   "metadata": {},
   "source": [
    "As shown, firm 1 and 2 are on the exact same trajectory in both figures, once again showing the results are correct as the firms are identical. Moreover, note that at a = 12, the firms do in fact produce $q_i$ = 4 and thus $\\pi_i$ = 16, which shows the function is running correctly as it is in line with the previous results.\n",
    "\n",
    "The optimal quantity produced is linearly increasing in a - this makes sense since I set $MC = c = 0$ and therefore there are no downside to producing high quantities. \n",
    "\n",
    "Profits are also exponentially increasing with an increase in the a-paramter, also due to the fact that $MC = 0$ as I would expect."
   ]
  },
  {
   "cell_type": "markdown",
   "metadata": {},
   "source": [
    "# Numerical solutions"
   ]
  },
  {
   "cell_type": "markdown",
   "metadata": {},
   "source": [
    "## Numerically solving the duopoly-model"
   ]
  },
  {
   "cell_type": "markdown",
   "metadata": {},
   "source": [
    "For the numerical solutions I follow the fixed point equilibrium method used in [this article](http://janboone.github.io/competition_policy_and_regulation/Collusion_Cournot/Collusion_Cournot.html).\n",
    "\n",
    "I calculate and maximize the profit functions as above but now ensuring that each firm is at a fixed point (which is the corresponding Nash Equilibrium). This is done by setting $q = f(q)$ where $f(q_1,q_2)$ is a vector function consisting of the two reaction functions depending on the other firms best response: $r_1(q_2^*)$ and $r_2(q_1^*)$, and $q^* = (q_1^*,q_2^*)$ . I am thus looking for the point where $q^* = f(q^*)$ which is done by solving $q^* - f(q^*)= 0$.\n",
    "\n",
    "This is done in the modelproject module, using the function \"scipy_duopoly\"."
   ]
  },
  {
   "cell_type": "code",
   "execution_count": 16,
   "metadata": {},
   "outputs": [
    {
     "name": "stdout",
     "output_type": "stream",
     "text": [
      "Optimal q1 is: 4.00 \n",
      "Optimal q2 is: 4.00\n"
     ]
    }
   ],
   "source": [
    "#I run the duopoly-function and write in my parameters:\n",
    "a = 12\n",
    "b = 1\n",
    "c = 0\n",
    "\n",
    "opt_vec = modelproject.scipy_duopoly(a,b,c)\n",
    "\n",
    "print(f\"Optimal q1 is: {opt_vec[0]:1.2f} \\nOptimal q2 is: {opt_vec[1]:1.2f}\")"
   ]
  },
  {
   "cell_type": "markdown",
   "metadata": {},
   "source": [
    "The results given the same parameters are the exact same as we found above"
   ]
  },
  {
   "cell_type": "markdown",
   "metadata": {},
   "source": [
    "## Numerically solving an extended model - the general Cournot oligopoly model"
   ]
  },
  {
   "cell_type": "markdown",
   "metadata": {},
   "source": [
    "As shown above, solving the model analytically even with two firms is quite a hassle. I now want to develop a function that can solve the model for any given number of firms.\n",
    "\n",
    "This is done using the same method as above, but extending the function slightly. The function used is now \"scipy_oligopoly\".\n",
    "- In my function I now define the demand function using vectors instead of scalars to allow for easy expanding of the number of firms.\n",
    "- Demand function is the same\n",
    "- Profit function is now no longer hardcoded, but depends on the firm index.\n",
    "- Maximizing profits now requires an intermediate step where I single out a q corresponding to the firm index, before I maximize the profits\n",
    "- Defining the equilibrium is virtually unchanged except for the way the best-response list is written up\n",
    "\n",
    "Now I can go through any number of firms I wish by changing the \"no_firms\" variable and given the parameters find out the optimal quantites produced by each firm when there are that many firms in the market. The list extracted from the function also changes it's size depending on the number of firms in the model.\n",
    "\n",
    "(Try changing the \"no_firms\" variable to see how the results change)."
   ]
  },
  {
   "cell_type": "code",
   "execution_count": 17,
   "metadata": {},
   "outputs": [
    {
     "name": "stdout",
     "output_type": "stream",
     "text": [
      "[3.99998715 3.99998715]\n"
     ]
    }
   ],
   "source": [
    "no_firms = 2\n",
    "a = 12\n",
    "b = 1\n",
    "c = 0\n",
    "\n",
    "opt_vec = modelproject.scipy_oligopoly(no_firms,a,b,c)\n",
    "\n",
    "print(opt_vec)"
   ]
  },
  {
   "cell_type": "markdown",
   "metadata": {},
   "source": [
    "## How does the optimal quantity produced change depending on the number of firms?"
   ]
  },
  {
   "cell_type": "markdown",
   "metadata": {},
   "source": [
    "Now I examine how the optimal quantity for the firms change depending on the number of firms in the model. \n",
    "\n",
    "I set up a function, \"scipy_figure\", to go through a list of amount of firms. I then run the model for each of these number of firms and extract a list of optimal production choice for the first firm and the number of a list going from 1 to the number of list chosen.\n",
    "\n",
    "I then plot the two lists up against each other to see how the quantities change depending on the number of firms.\n",
    "\n",
    "NB: Runtime can be somewhat slow if a very high number of firms is chosen. I choose 16 which does not take too long. If you experience a runtime error if/when changing the number of firms, try again, sometimes it does not work properly."
   ]
  },
  {
   "cell_type": "code",
   "execution_count": 18,
   "metadata": {},
   "outputs": [
    {
     "name": "stderr",
     "output_type": "stream",
     "text": [
      "C:\\Users\\Simon\\anaconda3\\lib\\site-packages\\scipy\\optimize\\minpack.py:175: RuntimeWarning: The iteration is not making good progress, as measured by the \n",
      "  improvement from the last ten iterations.\n",
      "  warnings.warn(msg, RuntimeWarning)\n"
     ]
    },
    {
     "data": {
      "image/png": "[encoded data removed]",
      "text/plain": [
       "<Figure size 432x288 with 1 Axes>"
      ]
     },
     "metadata": {
      "needs_background": "light"
     },
     "output_type": "display_data"
    }
   ],
   "source": [
    "no_firms_iter = 16\n",
    "a = 12\n",
    "b = 1\n",
    "c = 0\n",
    "\n",
    "opt_vec_list,no_firms_iter_list = modelproject.scipy_figure(no_firms_iter, a, b, c)\n",
    "\n",
    "fig1 = plt.figure()\n",
    "ax1 = fig1.add_subplot(1,1,1, label=\"ax1\")\n",
    "plt.plot(no_firms_iter_list, opt_vec_list)\n",
    "plt.xlabel(\"No. of firms\")\n",
    "plt.ylabel(\"q, goods produced\")\n",
    "plt.grid(linestyle=\"--\", linewidth=\"0.5\")\n",
    "plt.title(\"Optimal quantity produced by each firm by no. of firms\")\n",
    "\n",
    "plt.show()"
   ]
  },
  {
   "cell_type": "markdown",
   "metadata": {},
   "source": [
    "As shown, the optimal quantity produced is decreasing in the number of firms. This makes perfect sense, since a higher number of firms (and no corresponding increase in demand such as in this case) results in each firm producing fewer goods in the market due to lower market share. \n",
    "\n",
    "This is very much in line with the general result that a Cournot model with an infinite amount of firms is the same as the perfect competetition model, where each firm produces an infinitely small amount of goods and has no market power. Already with 16 firms the model showcases how the produced quantities are very low compared to the cases with 2 or 3 firms."
   ]
  },
  {
   "cell_type": "markdown",
   "metadata": {},
   "source": [
    "# Conclusion"
   ]
  },
  {
   "cell_type": "markdown",
   "metadata": {},
   "source": [
    "In this project I solved a Cournot oligopoly model three ways:\n",
    "- Analytically with two firms (a duopoly)\n",
    "- Numerically with two firms \n",
    "- Numerically with any number of firms\n",
    "\n",
    "The numerical results were in line with the analytical results, showing that functions were working correctly. \n",
    "\n",
    "I also showed that when the number of firms are increasing in the Cournot model, the optimal quantity produced by each firm in the model decreases, in line with the limit case for the Cournot model which is equivalent to the Perfect Competition framework."
   ]
  }
 ],
 "metadata": {
  "kernelspec": {
   "display_name": "Python 3 (ipykernel)",
   "language": "python",
   "name": "python3"
  },
  "language_info": {
   "codemirror_mode": {
    "name": "ipython",
    "version": 3
   },
   "file_extension": ".py",
   "mimetype": "text/x-python",
   "name": "python",
   "nbconvert_exporter": "python",
   "pygments_lexer": "ipython3",
   "version": "3.9.11"
  },
  "toc-autonumbering": true
 },
 "nbformat": 4,
 "nbformat_minor": 4
}
