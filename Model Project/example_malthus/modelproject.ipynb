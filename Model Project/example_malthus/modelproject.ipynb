{
 "cells": [
  {
   "cell_type": "markdown",
   "metadata": {},
   "source": [
    "# From Malthusian stagnation to sustained economic growth"
   ]
  },
  {
   "cell_type": "markdown",
   "metadata": {},
   "source": [
    "The Malthus hypothesis states that in pre-industrial times, increases in technological sophistication lead to an increase in population and population density in the short- and long-run, but do not permanently raise income per capita levels. In this assignment, we rely on a model by [Ashraf and Galor (2011)](https://www.aeaweb.org/articles?id=10.1257/aer.101.5.2003) and show that when utility depends only on consumption and the number of children, this hypothesis indeed holds true. Even when we allow technology to be endogenous to the population, this continues to be the case. However, when we extent the model such that utility also depends on the education level of the offspring, sustained economic growth can be achieved. This is because households face a quantity-quality tradeoff, where quantity refers to the number of children and quality refers to the education level of children. Increases in the rate of technological prgoress induce a fertility decline as households optimize their utility by reducing the number of offspring, but increasing their level of education."
   ]
  },
  {
   "cell_type": "markdown",
   "metadata": {},
   "source": [
    "**Imports and set magics:**"
   ]
  },
  {
   "cell_type": "code",
   "execution_count": 1,
   "metadata": {},
   "outputs": [
    {
     "name": "stderr",
     "output_type": "stream",
     "text": [
      "C:\\Users\\simon\\AppData\\Local\\Temp\\ipykernel_9232\\3323755168.py:21: MatplotlibDeprecationWarning: The seaborn styles shipped by Matplotlib are deprecated since 3.6, as they no longer correspond to the styles shipped by seaborn. However, they will remain available as 'seaborn-v0_8-<style>'. Alternatively, directly use the seaborn API instead.\n",
      "  plt.style.use('seaborn-whitegrid')\n"
     ]
    }
   ],
   "source": [
    "import numpy as np\n",
    "import scipy as sp\n",
    "from scipy import optimize\n",
    "import sympy as sm\n",
    "import math\n",
    "from math import log\n",
    "\n",
    "import ipywidgets as widgets\n",
    "from ipywidgets import interact, interactive, fixed, interact_manual\n",
    "# autoreload modules when code is run\n",
    "%load_ext autoreload\n",
    "%autoreload 2\n",
    "\n",
    "# local modules\n",
    "from modelproject import Modelproject\n",
    "from modelproject import Modelproject_ext\n",
    "from modelproject import simulate_malthus, bisect_ss_l, bisect_ss_y, bisect_ss_l1, bisect_ss_y1, bisect_ss_l2, bisect_ss_y2\n",
    "\n",
    "%matplotlib inline\n",
    "import matplotlib.pyplot as plt\n",
    "plt.style.use('seaborn-whitegrid')\n"
   ]
  },
  {
   "cell_type": "markdown",
   "metadata": {},
   "source": [
    "# The Malthusian Model: Model Description"
   ]
  },
  {
   "cell_type": "markdown",
   "metadata": {},
   "source": [
    "We consider the following production function:\n",
    "\n",
    "\n",
    "$$Y_t = (AX)^\\alpha L_t^{1-\\alpha}\\label{eq1}\\tag{1}$$\n",
    "\n",
    "where\n",
    "\n",
    "* $Y_t$ is output in period t\n",
    "* $L_t$ is population in period t (growing at rate n)\n",
    "* $A$ is technology (fixed)\n",
    "* $X$ is land (fixed)\n",
    "\n",
    "Hence, output per capita is defined as:\n",
    "\n",
    "$$Y_t/L_t = y_t = (AX/L_t)^\\alpha\\label{eq2}\\tag{2}$$\n",
    "\n",
    "implying decreasing returns to land, i.e., $\\frac{\\partial y}{\\partial L}<0$\n",
    "\n",
    "\n",
    "We assume that household live for two periods. In period 2, they work and receive income y which they can spend on either conumption (c) or having children (n). Household preferences are as follows:\n",
    "\n",
    "$$U(c_t, n_t)=(1-\\gamma) ln(c_t) + \\gamma ln(n_t)\\label{eq3}\\tag{3}$$\n",
    "\n",
    "The budget constraint is given by:\n",
    "\n",
    "$$y_t = c_t + \\rho n_t\\label{eq4}\\tag{4}$$\n",
    "\n",
    "where $\\rho$ is the price of having children relative to consumption"
   ]
  },
  {
   "cell_type": "markdown",
   "metadata": {},
   "source": [
    "## Solving the Model"
   ]
  },
  {
   "cell_type": "markdown",
   "metadata": {},
   "source": [
    "### We start by optimizing the household's utility subject to the budget constraint\n",
    "We start out by defining the model parameters and variables using `sympy`. Furthermore, we write up the utility function, $U(c_t,n_t)$, and define the steady states."
   ]
  },
  {
   "cell_type": "code",
   "execution_count": 2,
   "metadata": {},
   "outputs": [
    {
     "data": {
      "text/latex": [
       "$\\displaystyle U^{\\star} = \\gamma \\log{\\left(n \\right)} + \\left(1 - \\gamma\\right) \\log{\\left(c \\right)}$"
      ],
      "text/plain": [
       "Eq(U^\\star, gamma*log(n) + (1 - gamma)*log(c))"
      ]
     },
     "execution_count": 2,
     "metadata": {},
     "output_type": "execute_result"
    }
   ],
   "source": [
    "# a. variables\n",
    "Y = sm.symbols('Y')\n",
    "A = sm.symbols('A')\n",
    "L = sm.symbols('L')\n",
    "y = sm.symbols('y')\n",
    "X = sm.symbols('X')\n",
    "U = sm.symbols('U')\n",
    "c = sm.symbols('c')\n",
    "n = sm.symbols('n')\n",
    "lt_1= sm.symbols('L_{t+1}')\n",
    "lt= sm.symbols('L_t')\n",
    "\n",
    "# b. parameters\n",
    "alpha = sm.symbols('alpha')\n",
    "gamma = sm.symbols('gamma')\n",
    "rho = sm.symbols('rho')\n",
    "\n",
    "# c. steady states\n",
    "pstar = sm.symbols('P^\\star')\n",
    "lstar = sm.symbols('L^\\star')\n",
    "ystar = sm.symbols('y^\\star')\n",
    "ustar = sm.symbols('U^\\star')\n",
    "\n",
    "# d. utility function\n",
    "U = (1-gamma)*sm.ln(c)+gamma*sm.ln(n)\n",
    "sm.Eq(ustar,U)"
   ]
  },
  {
   "cell_type": "markdown",
   "metadata": {},
   "source": [
    "***\n",
    "**Next, we determine how households optimally divide their income between consumption and having offspring**\n",
    "*** \n",
    "    \n",
    "After doing the preliminary work with defining the variables and parameters as well as the utility function we create an object, $t1$, from the class 'Modelproject' and the household problem using the parameters stated in the class:"
   ]
  },
  {
   "cell_type": "code",
   "execution_count": 3,
   "metadata": {},
   "outputs": [
    {
     "name": "stdout",
     "output_type": "stream",
     "text": [
      "30.000631141330853\n",
      "63.635789895026384\n"
     ]
    }
   ],
   "source": [
    "t1 = Modelproject() # calls the class\n",
    "t1.solve() # solves the model\n",
    "print(t1.c) # displays optimal consumption\n",
    "print(t1.n) # displays the optimal number of children"
   ]
  },
  {
   "cell_type": "markdown",
   "metadata": {},
   "source": [
    "We find that housholds optimally spend fraction $(1-\\gamma) = 30.00$ of their income on consumption, and fraction $\\gamma/\\rho = 63.636$ on offspring. "
   ]
  },
  {
   "cell_type": "markdown",
   "metadata": {},
   "source": [
    "### In the next step, we are determining the population and population density in steady state"
   ]
  },
  {
   "cell_type": "markdown",
   "metadata": {},
   "source": [
    "The population evolves as follows:\n",
    "\n",
    "$$L_{t+1} = n_t L_t\\label{eq5}\\tag{5}$$\n",
    "\n",
    "Inserting the optimality condition for population growth, $n_t$, into the equation yields:\n",
    "\n",
    "$$L_{t+1} = \\frac{\\gamma}{\\rho}(AX)^\\alpha L_t^{1-\\alpha}\\label{eq6}\\tag{6}$$\n",
    "\n",
    "Using (\\ref{eq6}) we solve for the population in steady state by setting $L_{t+1}=L_t=L$ and isolate $L$:"
   ]
  },
  {
   "cell_type": "markdown",
   "metadata": {},
   "source": [
    "***\n",
    "**Population and population density in steady state (analytical solution)**\n",
    "***"
   ]
  },
  {
   "cell_type": "code",
   "execution_count": 4,
   "metadata": {},
   "outputs": [
    {
     "data": {
      "text/latex": [
       "$\\displaystyle L^{\\star} = \\left(\\frac{\\gamma \\left(A X\\right)^{\\alpha}}{\\rho}\\right)^{\\frac{1}{\\alpha}}$"
      ],
      "text/plain": [
       "Eq(L^\\star, (gamma*(A*X)**alpha/rho)**(1/alpha))"
      ]
     },
     "execution_count": 4,
     "metadata": {},
     "output_type": "execute_result"
    }
   ],
   "source": [
    "# a. define equation (6) in steady state, i.e., L_t+1 = L_t = L\n",
    "ss = sm.Eq(L, (((gamma/rho)*(A*X)**alpha)*(L**(1-alpha))))\n",
    "\n",
    "# b. isolate L and print population in steady state\n",
    "pss = sm.solve(ss, L)[0]\n",
    "sm.Eq(lstar,pss)"
   ]
  },
  {
   "cell_type": "markdown",
   "metadata": {},
   "source": [
    "Population density is defined as $P_{t+1}=\\frac{L_{t+1}}{X} = \\frac{\\gamma}{\\rho}(A)^\\alpha \\cdot (XL_t)^{1-\\alpha} \\Rightarrow P^*=\\frac{L^*}{X}$. \n",
    "\n",
    "We therefore divide the steady state population with $X$ and write up the population density in steady state, $P^*$:"
   ]
  },
  {
   "cell_type": "code",
   "execution_count": 5,
   "metadata": {},
   "outputs": [
    {
     "data": {
      "text/latex": [
       "$\\displaystyle P^{\\star} = \\frac{\\left(\\frac{\\gamma \\left(A X\\right)^{\\alpha}}{\\rho}\\right)^{\\frac{1}{\\alpha}}}{X}$"
      ],
      "text/plain": [
       "Eq(P^\\star, (gamma*(A*X)**alpha/rho)**(1/alpha)/X)"
      ]
     },
     "execution_count": 5,
     "metadata": {},
     "output_type": "execute_result"
    }
   ],
   "source": [
    "# a. define population density in steady state\n",
    "P = pss/X\n",
    "\n",
    "# b. determine the steady state level of population density\n",
    "sm.Eq(pstar,P)"
   ]
  },
  {
   "cell_type": "markdown",
   "metadata": {},
   "source": [
    "***\n",
    "**Population and population density in steady state (numerical solution)** \n",
    "*** \n",
    "We now want to find the population number in steady state. We use the bisection algorithm which is a derivative free method of finding the roots of a function, i.e. $x_0\\in[a,b]$ such that $f(x_0)=0$. The logic behind the algorithm is such that we start with a big interval that we know contains the desired value, $x_0$. We then reduce this interval successively. If the function, $f$ is continuous and takes on values between $f(a)$ and $f(b)$ at the lower and upper bound respectively, then $f$ will take on values between $f(a)$ and $f(b)$ in the interval $[a,b]$. Hence, if $f(a)<\\gamma<f(b)$ then it must be the case that there exists some $c\\in[a,b]$ such that $f(c)=\\gamma$.\n",
    "\n",
    "We start off by ensuring that the function value evaluated at each of the two bounds are not the same. If this were not the case then the interval would not contain a root.\n",
    "\n",
    "The algorithm goes as follows:\n",
    "1. Set $a_0=a$ and $b_0=b$ and make sure that $f(a_0)$ and $f(b_0)$ have opposite signs. \n",
    "2. Compute the function value at the midpoint: $f(m_0)$ where $m_0=\\frac{a_0+b_0}{2}$ is the midpoint\n",
    "3. Determine the sub-intervals:\n",
    "* If $\\text{sign}(f(a_0)) ≠ \\text{sign}f(m_0)$ then $a_1=a_0$ and $b_1=m_0$.\n",
    "* If $\\text{sign}(f(m_0)) ≠ \\text{sign}f(b_0)$ then $a_1=m_0$ and $b_1=b_0$.\n",
    "4. Repeat step 2 and 3 until $f(m_n)<\\varepsilon$."
   ]
  },
  {
   "cell_type": "code",
   "execution_count": 6,
   "metadata": {
    "scrolled": true
   },
   "outputs": [
    {
     "name": "stdout",
     "output_type": "stream",
     "text": [
      "Steady state level of population for given parameter values is: L*= 64.42524364329876\n",
      "The population density in steady state for given parameter values is 6.442524364329875\n"
     ]
    }
   ],
   "source": [
    "# a. upper and lower limit have same sign\n",
    "def samesign(a, b):\n",
    "        return a * b > 0\n",
    "# set tolerance level\n",
    "tol = 1e-6\n",
    "\n",
    "# b. create the bisection algorithm\n",
    "def bisect(func, low, high):\n",
    "\n",
    "# c. find root of continuous function where f(low) and f(high) have opposite signs\n",
    "    \n",
    "    # step 1: Assertain that the function evaluated at the lower and upper bound respectively have different signs\n",
    "    assert not samesign(func(low), func(high))\n",
    "    \n",
    "    # step 2: Compute the mid-point \n",
    "    for i in range(100):\n",
    "        midpoint = (low + high) / 2.0\n",
    "        fm=func(midpoint)\n",
    "        # step 3: Determine sub-intervals\n",
    "        if abs(fm) < tol:\n",
    "            break\n",
    "        elif samesign(func(low), func(midpoint)):\n",
    "            low = midpoint\n",
    "        else:\n",
    "            high = midpoint\n",
    "    return midpoint\n",
    "\n",
    "# d. define function and the parameter values\n",
    "def f(L, gamma=0.7, rho=1.1, A=25, X=10, alpha=1/3):\n",
    "        return L-((gamma/rho)*(A*X)**alpha)*(L**(1-alpha))\n",
    "\n",
    "# e. run the algorithm with f being the function, the lower bound being 0.1 and the upper bound being 1000\n",
    "L = bisect(f, 0.1, 1000)\n",
    "print(f'Steady state level of population for given parameter values is: L*=', L)\n",
    "\n",
    "# f. find the population density in steady state\n",
    "print(f'The population density in steady state for given parameter values is {L/10}')"
   ]
  },
  {
   "cell_type": "markdown",
   "metadata": {},
   "source": [
    "Hence, we find that the steady state level of labor is 64.425 and a population density of 6.443."
   ]
  },
  {
   "cell_type": "markdown",
   "metadata": {},
   "source": [
    "We can do the same as above using `scipy` and arrive at the same result:"
   ]
  },
  {
   "cell_type": "code",
   "execution_count": 7,
   "metadata": {},
   "outputs": [
    {
     "name": "stdout",
     "output_type": "stream",
     "text": [
      "Steady state population for given parameter values is: 64.425\n",
      "The population density in steady state for given parameter values is 6.443\n"
     ]
    }
   ],
   "source": [
    "# a. call bisect optimzer from .py file and print population steady state\n",
    "print(f'Steady state population for given parameter values is: {bisect_ss_l(0.1,500):.3f}')\n",
    "\n",
    "# b. find the population density in steady state\n",
    "print(f'The population density in steady state for given parameter values is {bisect_ss_l(0.1,500)/10:.3f}')"
   ]
  },
  {
   "cell_type": "markdown",
   "metadata": {},
   "source": [
    "Hence, we find, again that the steady state level of population for given the parameter values is 64.425 and that the population density is 6.443."
   ]
  },
  {
   "cell_type": "markdown",
   "metadata": {},
   "source": [
    "## Next, we are going to analyze the impact of an exogenous increase in the technology level $A$ on population and population density in steady state"
   ]
  },
  {
   "cell_type": "code",
   "execution_count": 8,
   "metadata": {},
   "outputs": [
    {
     "data": {
      "text/latex": [
       "$\\displaystyle \\frac{\\left(\\frac{\\gamma \\left(A X\\right)^{\\alpha}}{\\rho}\\right)^{\\frac{1}{\\alpha}}}{A}$"
      ],
      "text/plain": [
       "(gamma*(A*X)**alpha/rho)**(1/alpha)/A"
      ]
     },
     "execution_count": 8,
     "metadata": {},
     "output_type": "execute_result"
    }
   ],
   "source": [
    "# a. differentiate population in steady state with respect to A\n",
    "pss_diff = sm.diff(pss, A)\n",
    "\n",
    "# b. display differentiated population\n",
    "pss_diff"
   ]
  },
  {
   "cell_type": "markdown",
   "metadata": {},
   "source": [
    "We can see that an increase in A increases the steady state population."
   ]
  },
  {
   "cell_type": "code",
   "execution_count": 9,
   "metadata": {},
   "outputs": [
    {
     "data": {
      "text/latex": [
       "$\\displaystyle \\frac{\\left(\\frac{\\gamma \\left(A X\\right)^{\\alpha}}{\\rho}\\right)^{\\frac{1}{\\alpha}}}{A X}$"
      ],
      "text/plain": [
       "(gamma*(A*X)**alpha/rho)**(1/alpha)/(A*X)"
      ]
     },
     "execution_count": 9,
     "metadata": {},
     "output_type": "execute_result"
    }
   ],
   "source": [
    "# a. differentiate population density in steady state with respect to A\n",
    "P_diff = sm.diff(P,A)\n",
    "\n",
    "# b. display differentiated population density\n",
    "P_diff"
   ]
  },
  {
   "cell_type": "markdown",
   "metadata": {},
   "source": [
    "We can see that an increase in A also increases steady state population density."
   ]
  },
  {
   "cell_type": "markdown",
   "metadata": {},
   "source": [
    "## In the following, we create a plot of the Malthus model"
   ]
  },
  {
   "cell_type": "code",
   "execution_count": 10,
   "metadata": {},
   "outputs": [
    {
     "data": {
      "application/vnd.jupyter.widget-view+json": {
       "model_id": "41b830d70cc14296bcc3655ead40b8c8",
       "version_major": 2,
       "version_minor": 0
      },
      "text/plain": [
       "interactive(children=(FloatSlider(value=0.7, description='$\\\\gamma$', max=0.99, step=0.05), FloatSlider(value=…"
      ]
     },
     "metadata": {},
     "output_type": "display_data"
    }
   ],
   "source": [
    "simulate_malthus(\"pop\")"
   ]
  },
  {
   "cell_type": "markdown",
   "metadata": {},
   "source": [
    "The plot confirms that population in steady state equals 64.43."
   ]
  },
  {
   "cell_type": "markdown",
   "metadata": {},
   "source": [
    " ## We now determine the level of income per capita in the long-run equilibirum, i.e., the income per capita steady state level"
   ]
  },
  {
   "cell_type": "markdown",
   "metadata": {},
   "source": [
    "Income per capita evolves as follows:\n",
    "\n",
    "$$y_{t+1} = (\\frac{AX}{L_{t+1}})^\\alpha = (\\frac{AX}{L_{t}n_t})^\\alpha = \\frac{y_t}{n_t ^\\alpha}\\label{eq7}\\tag{7}$$\n",
    "\n",
    "Inserting the optimal number of children into this equation yields:\n",
    "\n",
    "$$y_{t+1}= (\\frac{\\rho}{\\gamma})^\\alpha y_t^{1-\\alpha}\\label{eq8}\\tag{8}$$"
   ]
  },
  {
   "cell_type": "markdown",
   "metadata": {},
   "source": [
    "***\n",
    "**Income per capita in steady state (analytical solution)**\n",
    "***\n",
    "We find the steady state level of income per capita.\n",
    "This is done by writing up the function as in section 2.1.2, setting $y_{t+1}=y_t=y$ and solving for $y$:"
   ]
  },
  {
   "cell_type": "code",
   "execution_count": 11,
   "metadata": {},
   "outputs": [
    {
     "data": {
      "text/latex": [
       "$\\displaystyle y^{\\star} = \\left(\\left(\\frac{\\rho}{\\gamma}\\right)^{\\alpha}\\right)^{\\frac{1}{\\alpha}}$"
      ],
      "text/plain": [
       "Eq(y^\\star, ((rho/gamma)**alpha)**(1/alpha))"
      ]
     },
     "execution_count": 11,
     "metadata": {},
     "output_type": "execute_result"
    }
   ],
   "source": [
    "# a. define equation (8) in steady state, i.e., y_t+1 = y_t = y\n",
    "ss_y = sm.Eq(y, (((rho/gamma)**alpha)*(y)**(1-alpha)))\n",
    "\n",
    "# b. isolate y and print income per capita in steady state\n",
    "yss_y = sm.solve(ss_y, y)[0]\n",
    "sm.Eq(ystar,yss_y)"
   ]
  },
  {
   "cell_type": "markdown",
   "metadata": {},
   "source": [
    "We notice that in steady state, income per capita does not depend on the level of technology A."
   ]
  },
  {
   "cell_type": "markdown",
   "metadata": {},
   "source": [
    "***\n",
    "**Income per capita in steady state (numerical solution)**\n",
    "***"
   ]
  },
  {
   "cell_type": "code",
   "execution_count": 12,
   "metadata": {},
   "outputs": [
    {
     "name": "stdout",
     "output_type": "stream",
     "text": [
      "Steady state income per capita for given parameter values is: 1.5714\n"
     ]
    }
   ],
   "source": [
    "print(f'Steady state income per capita for given parameter values is: {bisect_ss_y(0.1,500):.4f}')"
   ]
  },
  {
   "cell_type": "code",
   "execution_count": 13,
   "metadata": {},
   "outputs": [
    {
     "data": {
      "application/vnd.jupyter.widget-view+json": {
       "model_id": "a1392056898e49e1bcd1d319ea6de906",
       "version_major": 2,
       "version_minor": 0
      },
      "text/plain": [
       "interactive(children=(FloatSlider(value=0.7, description='$\\\\gamma$', max=0.99, step=0.05), FloatSlider(value=…"
      ]
     },
     "metadata": {},
     "output_type": "display_data"
    }
   ],
   "source": [
    "simulate_malthus(\"inc\")"
   ]
  },
  {
   "cell_type": "markdown",
   "metadata": {},
   "source": [
    "The plot confirms that income per capity in steady state equals 1.57."
   ]
  },
  {
   "cell_type": "markdown",
   "metadata": {},
   "source": [
    "# First extension of the Malthusian Model: Endogenous technological progress"
   ]
  },
  {
   "cell_type": "markdown",
   "metadata": {},
   "source": [
    "In this first extension, we test whether the implications of the Malthusian model change when assuming that population positively influences the level of technology.\n",
    "\n",
    "We assume that technology is defined as follows:\n",
    "\n",
    "$$ A = A \\cdot L_t^\\phi\\label{eq9}\\tag{9} $$\n",
    "\n",
    "Note that this does not change the optimal levels of consumption and children.\n",
    "\n",
    "The production function is now given as:\n",
    "\n",
    "$$ Y_t = (AL_t^\\phi X)^\\alpha L_t^{1-\\alpha} = (AX)^\\alpha L_t^{1-\\alpha + \\phi \\alpha}\\label{eq10}\\tag{10} $$\n",
    "\n",
    "And income per capita is given as: \n",
    "\n",
    "$$ y_t = (AX)^\\alpha L_t^{\\alpha(\\phi-1)}\\label{eq11}\\tag{11}$$\n",
    "\n",
    "As before, the law of motion for population is given as:\n",
    "\n",
    "$$ L_{t+1} = n_t L_t \\label{eq12}\\tag{12}$$\n",
    "\n",
    "Remember that the optimal n_t is given as:\n",
    "\n",
    "$$ n_t^* = \\frac{\\gamma}{\\rho} y_t \\label{eq13}\\tag{13}$$\n",
    "\n",
    "Insertin the optimality condition of n_t gives us:\n",
    "\n",
    "$$L_{t+1} = \\frac{\\gamma}{\\rho} (AX)^\\alpha L_t^{\\alpha(\\phi-1)} L_t = \\frac{\\gamma}{\\rho} (AX)^\\alpha L_t^{\\alpha(\\phi-1)+1}\\label{eq14}\\tag{14} $$"
   ]
  },
  {
   "cell_type": "code",
   "execution_count": 14,
   "metadata": {},
   "outputs": [],
   "source": [
    "# define new parameter\n",
    "phi = sm.symbols('phi')"
   ]
  },
  {
   "cell_type": "markdown",
   "metadata": {},
   "source": [
    "We solve for the population in steady state by setting $L_{t+1}=L_t=L$ and isolate $L$:"
   ]
  },
  {
   "cell_type": "code",
   "execution_count": 15,
   "metadata": {},
   "outputs": [
    {
     "data": {
      "text/latex": [
       "$\\displaystyle L^{\\star} = \\left(\\frac{\\gamma \\left(A X\\right)^{\\alpha}}{\\rho}\\right)^{- \\frac{1}{\\alpha \\left(\\phi - 1\\right)}}$"
      ],
      "text/plain": [
       "Eq(L^\\star, (gamma*(A*X)**alpha/rho)**(-1/(alpha*(phi - 1))))"
      ]
     },
     "execution_count": 15,
     "metadata": {},
     "output_type": "execute_result"
    }
   ],
   "source": [
    "# a. define equation (14) in steady state, i.e., L_t+1 = L_t = L\n",
    "ss1 = sm.Eq(L, (((gamma/rho)*(A*X)**alpha)*L**(alpha*(phi-1)+1)))\n",
    "\n",
    "# b. isolate L and print population in steady state\n",
    "pss1 = sm.solve(ss1, L)[0]\n",
    "sm.Eq(lstar,pss1)"
   ]
  },
  {
   "cell_type": "markdown",
   "metadata": {},
   "source": [
    "Accordingly, population density in steady state is given as:"
   ]
  },
  {
   "cell_type": "code",
   "execution_count": 16,
   "metadata": {},
   "outputs": [
    {
     "data": {
      "text/latex": [
       "$\\displaystyle P^{\\star} = \\frac{\\left(\\frac{\\gamma \\left(A X\\right)^{\\alpha}}{\\rho}\\right)^{- \\frac{1}{\\alpha \\left(\\phi - 1\\right)}}}{X}$"
      ],
      "text/plain": [
       "Eq(P^\\star, 1/(X*(gamma*(A*X)**alpha/rho)**(1/(alpha*(phi - 1)))))"
      ]
     },
     "execution_count": 16,
     "metadata": {},
     "output_type": "execute_result"
    }
   ],
   "source": [
    "# a. define population density in steady state\n",
    "P1 = pss1/X\n",
    "\n",
    "# b. determine the steady state level of population density\n",
    "sm.Eq(pstar,P1)"
   ]
  },
  {
   "cell_type": "markdown",
   "metadata": {},
   "source": [
    "***\n",
    "**Population and population density in steady state (numerical solution)** \n",
    "*** \n",
    "We now want to find the population in steady state. We use the bisection algorithm which is a derivative free method of finding the steady state."
   ]
  },
  {
   "cell_type": "code",
   "execution_count": 17,
   "metadata": {
    "scrolled": true
   },
   "outputs": [
    {
     "name": "stdout",
     "output_type": "stream",
     "text": [
      "Steady state level of population for given parameter values is: L*= 102.34397903159261\n",
      "The population density in steady state for given parameter values is 10.23439790315926\n"
     ]
    }
   ],
   "source": [
    "# a. upper and lower limit have same sign\n",
    "def samesign(a, b):\n",
    "        return a * b > 0\n",
    "\n",
    "# b. create the bisection algorithm\n",
    "def bisect(func, low, high):\n",
    "\n",
    "# c. find root of continuous function where f(low) and f(high) have opposite signs\n",
    "    \n",
    "    # step 1: Assertain that the function evaluated at the lower and upper bound respectively have different signs\n",
    "    assert not samesign(func(low), func(high))\n",
    "    \n",
    "    # step 2: Compute the mid-point \n",
    "    for i in range(100):\n",
    "        midpoint = (low + high) / 2.0\n",
    "        fm=func(midpoint)\n",
    "        \n",
    "        # step 3: Determine sub-intervals\n",
    "        if abs(fm) < tol:\n",
    "            break\n",
    "        elif samesign(func(low), func(midpoint)):\n",
    "            low = midpoint\n",
    "        else:\n",
    "            high = midpoint\n",
    "    return midpoint\n",
    "\n",
    "\n",
    "# d. define function and the parameter values\n",
    "def f(L, gamma=0.7, rho=1.1, A=25, X=10, alpha=1/3, phi=0.1):\n",
    "        return L-(((gamma/rho)*(A*X)**alpha)*L**(alpha*(phi-1)+1))\n",
    "\n",
    "# e. run the algorithm with f being the function, the lower bound being 0.1 and the upper bound being 1000\n",
    "L = bisect(f, 0.1, 1000)\n",
    "print(f'Steady state level of population for given parameter values is: L*=', L)\n",
    "\n",
    "# f. find the population density in steady state\n",
    "print(f'The population density in steady state for given parameter values is {L/10}')"
   ]
  },
  {
   "cell_type": "markdown",
   "metadata": {},
   "source": [
    "Hence, we find that the steady state level of labor is 102.344 and a population density of 10.234."
   ]
  },
  {
   "cell_type": "markdown",
   "metadata": {},
   "source": [
    "We can do the same as above using `scipy` and arrive at the same result:"
   ]
  },
  {
   "cell_type": "code",
   "execution_count": 18,
   "metadata": {},
   "outputs": [
    {
     "name": "stdout",
     "output_type": "stream",
     "text": [
      "Steady state population for given parameter values is: 102.344\n",
      "The population density in steady state for given parameter values is: 10.234\n"
     ]
    }
   ],
   "source": [
    "# a. find the population in steady state\n",
    "print(f'Steady state population for given parameter values is: {bisect_ss_l1(0.1,500):.3f}')\n",
    "\n",
    "# b. find the population density in steady state\n",
    "print(f'The population density in steady state for given parameter values is: {bisect_ss_l1(0.1,500)/10:.3f}')"
   ]
  },
  {
   "cell_type": "markdown",
   "metadata": {},
   "source": [
    "## In the following, we plot the dynamics implied by the model"
   ]
  },
  {
   "cell_type": "code",
   "execution_count": 19,
   "metadata": {},
   "outputs": [
    {
     "data": {
      "application/vnd.jupyter.widget-view+json": {
       "model_id": "41acc19fad354b918347f6d80c3dee26",
       "version_major": 2,
       "version_minor": 0
      },
      "text/plain": [
       "interactive(children=(FloatSlider(value=0.7, description='$\\\\gamma$', max=0.99, step=0.05), FloatSlider(value=…"
      ]
     },
     "metadata": {},
     "output_type": "display_data"
    }
   ],
   "source": [
    "simulate_malthus(\"pop\", \"ext1\")"
   ]
  },
  {
   "cell_type": "markdown",
   "metadata": {},
   "source": [
    "We see that the population converges to a steady state where the populatoin equals 102.34."
   ]
  },
  {
   "cell_type": "markdown",
   "metadata": {},
   "source": [
    "## We now determine the level of income per capita in the long-run equilibirum, i.e. the income per capita steady state level"
   ]
  },
  {
   "cell_type": "markdown",
   "metadata": {},
   "source": [
    "Remember that income per capita is defined as:\n",
    "\n",
    "$$ y_t = (AX)^\\alpha L_t^{\\alpha(\\phi-1)}\\label{eq15}\\tag{15}$$\n",
    "\n",
    "Income per capita evolves as follows:\n",
    "\n",
    "$$y_{t+1} = (AX)^\\alpha (n_tL_t)^{\\alpha(\\phi-1)}\\label{eq16}\\tag{16}$$\n",
    "\n",
    "Inserting the optimal number of children into this equation yields:\n",
    "\n",
    "$$y_{t+1}= (AX)^\\alpha (\\frac{\\gamma}{\\rho} y_t)^{\\alpha(\\phi-1)} L_t^{\\alpha(\\phi-1)} = (AX)^\\alpha (\\frac{\\gamma}{\\rho} L_t)^{\\alpha(\\phi-1)} ( y_t)^{\\alpha(\\phi-1)} = y_t^{\\alpha \\phi -\\alpha +1} (\\frac{\\gamma}{\\rho})^{\\alpha(\\phi-1)}\\label{eq17}\\tag{17}$$"
   ]
  },
  {
   "cell_type": "markdown",
   "metadata": {},
   "source": [
    "***\n",
    "**Income per capita in steady state (analytical solution)**\n",
    "***\n",
    "We find the steady state level of income per capita.\n",
    "This is done by writing up the function as in section 2.1.2, setting $y_{t+1}=y_t=y$ and solving for $y$:"
   ]
  },
  {
   "cell_type": "code",
   "execution_count": 20,
   "metadata": {},
   "outputs": [
    {
     "data": {
      "text/latex": [
       "$\\displaystyle y^{\\star} = \\left(\\left(\\frac{\\rho}{\\gamma}\\right)^{\\alpha \\left(\\phi - 1\\right)}\\right)^{- \\frac{1}{\\alpha \\left(\\phi - 1\\right)}}$"
      ],
      "text/plain": [
       "Eq(y^\\star, ((rho/gamma)**(alpha*(phi - 1)))**(-1/(alpha*(phi - 1))))"
      ]
     },
     "execution_count": 20,
     "metadata": {},
     "output_type": "execute_result"
    }
   ],
   "source": [
    "# a. define equation (17) in steady state, i.e., y_t+1 = y_t = y\n",
    "ss1_y = sm.Eq(y, (((rho/gamma)**(alpha*(phi-1))*(y)**(alpha*phi-alpha+1))))\n",
    "\n",
    "# b. isolate y and print income per capita in steady state\n",
    "yss1_y = sm.solve(ss1_y, y)[0]\n",
    "sm.Eq(ystar,yss1_y)"
   ]
  },
  {
   "cell_type": "markdown",
   "metadata": {},
   "source": [
    "We notice that in steady state, income per capita does still not depend on the level of technology A."
   ]
  },
  {
   "cell_type": "markdown",
   "metadata": {},
   "source": [
    "***\n",
    "**Income per capita in steady state (numerical solution)**\n",
    "***"
   ]
  },
  {
   "cell_type": "code",
   "execution_count": 21,
   "metadata": {},
   "outputs": [
    {
     "name": "stdout",
     "output_type": "stream",
     "text": [
      "Steady state income per capita for given parameter values is: 0.6364\n"
     ]
    }
   ],
   "source": [
    "print(f'Steady state income per capita for given parameter values is: {bisect_ss_y1(0.1,500):.4f}')"
   ]
  },
  {
   "cell_type": "code",
   "execution_count": 22,
   "metadata": {},
   "outputs": [
    {
     "data": {
      "application/vnd.jupyter.widget-view+json": {
       "model_id": "7ad08f8484d14351acf92b8750e08b0f",
       "version_major": 2,
       "version_minor": 0
      },
      "text/plain": [
       "interactive(children=(FloatSlider(value=0.7, description='$\\\\gamma$', max=0.99, step=0.05), FloatSlider(value=…"
      ]
     },
     "metadata": {},
     "output_type": "display_data"
    }
   ],
   "source": [
    "simulate_malthus(\"inc\", \"ext1\")"
   ]
  },
  {
   "cell_type": "markdown",
   "metadata": {},
   "source": [
    "The plot confirms that income converges to a steady state level of 0.64."
   ]
  },
  {
   "cell_type": "markdown",
   "metadata": {},
   "source": [
    "# Second extension of the Malthusian Model: The demographic transition"
   ]
  },
  {
   "cell_type": "markdown",
   "metadata": {},
   "source": [
    "Imagine now that households do not only derive utility from the number of children, but also from how well educated the children are (often referred to as quality of children) equivalent to the model described in [Galor (2012)](https://link.springer.com/content/pdf/10.1007/s11698-011-0062-7.pdf). The utility function is therefore as follows:\n",
    "\n",
    "$$ U(c_t,n_t) = (1-\\gamma) ln(c_t) + \\gamma [ln(n_t) + \\beta ln(h_t)]\\label{eq18}\\tag{18}$$\n",
    "\n",
    "where $\\beta, \\gamma \\in [0,1]$ and wehre $h$ is human capital.\n",
    "\n",
    "Human capital is determined by years of education and the rate of technological progress g:\n",
    "\n",
    "$$h(e,g)= \\frac{e}{e+g}\\label{eq19}\\tag{19}$$\n",
    "\n",
    "where $h_{eg}= \\frac{\\partial h_e}{\\partial g} >0$\n",
    "\n",
    "The budget constraint is now given by:\n",
    "\n",
    "$$y_t = c_t + (\\tau^q + \\tau^e e)n_ty_t\\label{eq20}\\tag{20}$$"
   ]
  },
  {
   "cell_type": "code",
   "execution_count": 23,
   "metadata": {},
   "outputs": [],
   "source": [
    "# define new parameters\n",
    "tau_q = sm.symbols('tau_q')\n",
    "tau_e = sm.symbols('tau_e')\n",
    "beta = sm.symbols('beta')\n",
    "g = sm.symbols('g')"
   ]
  },
  {
   "cell_type": "markdown",
   "metadata": {},
   "source": [
    "## We start by determining the optimal level of education and the optimal number of children "
   ]
  },
  {
   "cell_type": "code",
   "execution_count": 24,
   "metadata": {},
   "outputs": [
    {
     "name": "stdout",
     "output_type": "stream",
     "text": [
      "29.99960298477578\n",
      "0.9861402276691571\n",
      "0.5164037017014591\n"
     ]
    }
   ],
   "source": [
    "t2 = Modelproject_ext() # calls the class\n",
    "t2.solve_ext() # solves the model\n",
    "print(t2.c) # displays optimal consumption\n",
    "print(t2.n) # displays optimal number of children\n",
    "print(t2.e) # displays optimal education level"
   ]
  },
  {
   "cell_type": "markdown",
   "metadata": {},
   "source": [
    "We can see that households decide to have $\\frac{\\gamma}{\\tau_q + (g\\tau_e\\tau_q)^{0.5}} = 0.986$ children with education level $(\\frac{g \\tau_q}{\\tau_e})^{0.5}=0.516$ ."
   ]
  },
  {
   "cell_type": "markdown",
   "metadata": {},
   "source": [
    "## In order to find out whether advancements in the rate of technological progress induce a fertility transition, we gauge the impact of an exogenous increase in the rate of technological progress, g, on education, e, and the number of children, n"
   ]
  },
  {
   "cell_type": "code",
   "execution_count": 25,
   "metadata": {},
   "outputs": [
    {
     "data": {
      "text/latex": [
       "$\\displaystyle - \\frac{0.5 \\gamma \\left(g \\tau_{e} \\tau_{q}\\right)^{0.5}}{g \\left(\\tau_{q} + \\left(g \\tau_{e} \\tau_{q}\\right)^{0.5}\\right)^{2}}$"
      ],
      "text/plain": [
       "-0.5*gamma*(g*tau_e*tau_q)**0.5/(g*(tau_q + (g*tau_e*tau_q)**0.5)**2)"
      ]
     },
     "execution_count": 25,
     "metadata": {},
     "output_type": "execute_result"
    }
   ],
   "source": [
    "# a. define n \n",
    "n = gamma/(tau_q + (g*tau_e*tau_q)**0.5)\n",
    "\n",
    "# b. differentiate n with respect to g\n",
    "n_diff = sm.diff(n, g)\n",
    "\n",
    "# c. displays the differential with respect to g\n",
    "n_diff"
   ]
  },
  {
   "cell_type": "markdown",
   "metadata": {},
   "source": [
    "We can see that an increase in the rate of technological progress reduces fertility."
   ]
  },
  {
   "cell_type": "code",
   "execution_count": 26,
   "metadata": {},
   "outputs": [
    {
     "data": {
      "text/latex": [
       "$\\displaystyle \\frac{0.5 \\left(\\frac{g \\tau_{q}}{\\tau_{e}}\\right)^{0.5}}{g}$"
      ],
      "text/plain": [
       "0.5*(g*tau_q/tau_e)**0.5/g"
      ]
     },
     "execution_count": 26,
     "metadata": {},
     "output_type": "execute_result"
    }
   ],
   "source": [
    "# a. define e\n",
    "e = ((g*tau_q)/tau_e)**0.5\n",
    "\n",
    "# b. differentiate e with respect to g\n",
    "e_diff = sm.diff(e,g)\n",
    "\n",
    "# c. displays differential with respect to g\n",
    "e_diff"
   ]
  },
  {
   "cell_type": "markdown",
   "metadata": {},
   "source": [
    "An increase in the rate of technological progress leads to an increase in the education level."
   ]
  },
  {
   "cell_type": "markdown",
   "metadata": {},
   "source": [
    "### In the next step, we are determining the population and population density in steady state"
   ]
  },
  {
   "cell_type": "markdown",
   "metadata": {},
   "source": [
    "The population evolves as follows:\n",
    "\n",
    "$$L_{t+1} = n_t L_t\\label{eq21}\\tag{21}$$\n",
    "\n",
    "Inserting the optimality condition for n_t into the equation yields:\n",
    "\n",
    "$$L_{t+1} = \\frac{\\gamma}{\\tau_q + (g\\tau_e\\tau_q)^{0.5}} L_t\\label{eq22}\\tag{22}$$"
   ]
  },
  {
   "cell_type": "markdown",
   "metadata": {},
   "source": [
    "***\n",
    "**Population and population density in steady state (analytical solution)**\n",
    "***"
   ]
  },
  {
   "cell_type": "code",
   "execution_count": 27,
   "metadata": {},
   "outputs": [
    {
     "data": {
      "text/latex": [
       "$\\displaystyle L^{\\star} = 0.0$"
      ],
      "text/plain": [
       "Eq(L^\\star, 0.0)"
      ]
     },
     "execution_count": 27,
     "metadata": {},
     "output_type": "execute_result"
    }
   ],
   "source": [
    "# a. define equation (22) in steady state, i.e., L_t+1 = L_t = L\n",
    "ss2 = sm.Eq(L, ((gamma/tau_q + (g*tau_e*tau_q)**0.5)*L))\n",
    "\n",
    "# b. isolate L and print\n",
    "pss2 = sm.solve(ss2, L)[0]\n",
    "sm.Eq(lstar,pss2)"
   ]
  },
  {
   "cell_type": "markdown",
   "metadata": {},
   "source": [
    "This implies that the population grows at a constant rate as long as it is not equal to zero."
   ]
  },
  {
   "cell_type": "markdown",
   "metadata": {},
   "source": [
    "Population density is defined as $P_{t+1}=\\frac{L_{t+1}}{X} = \\frac{\\gamma}{\\rho}(A)^\\alpha \\cdot (XL_t)^{1-\\alpha} \\Rightarrow P^*=\\frac{L^*}{X}$. \n",
    "\n",
    "We therefore divide the steady state population with $X$ and write up the population density in steady state, $P^*$:"
   ]
  },
  {
   "cell_type": "code",
   "execution_count": 28,
   "metadata": {},
   "outputs": [
    {
     "data": {
      "text/latex": [
       "$\\displaystyle P^{\\star} = 0$"
      ],
      "text/plain": [
       "Eq(P^\\star, 0)"
      ]
     },
     "execution_count": 28,
     "metadata": {},
     "output_type": "execute_result"
    }
   ],
   "source": [
    "# a. define popoulation density in steady state\n",
    "P2 = pss2/X\n",
    "\n",
    "# b. display population desnity in steady state\n",
    "sm.Eq(pstar,P2)"
   ]
  },
  {
   "cell_type": "markdown",
   "metadata": {},
   "source": [
    "This implies that the population density grows at a constant rate as long as it is not equal to zero."
   ]
  },
  {
   "cell_type": "markdown",
   "metadata": {},
   "source": [
    "***\n",
    "**Population in steady state (numerical solution)**\n",
    "***"
   ]
  },
  {
   "cell_type": "code",
   "execution_count": 29,
   "metadata": {},
   "outputs": [
    {
     "name": "stdout",
     "output_type": "stream",
     "text": [
      "Steady state level of population for given parameter values is: L*= 9.313225746154785e-07\n",
      "The population density in steady state for given parameter values is 9.313225746154785e-08\n"
     ]
    }
   ],
   "source": [
    "# a. upper and lower limit have same sign\n",
    "def samesign(a, b):\n",
    "        return a * b > 0\n",
    "\n",
    "# b. create the bisection algorithm\n",
    "def bisect(func, low, high):\n",
    "\n",
    "# c. Find root of continuous function where f(low) and f(high) have opposite signs\n",
    "    \n",
    "    # step 1: Assertain that the function evaluated at the lower and upper bound respectively have different signs\n",
    "    assert not samesign(func(low), func(high))\n",
    "    \n",
    "    # step 2: Compute the mid-point \n",
    "    for i in range(100):\n",
    "        midpoint = (low + high) / 2.0\n",
    "        fm=func(midpoint)\n",
    "        \n",
    "        # step 3: Determine sub-intervals\n",
    "        if abs(fm) < tol:\n",
    "            break\n",
    "        elif samesign(func(low), func(midpoint)):\n",
    "            low = midpoint\n",
    "        else:\n",
    "            high = midpoint\n",
    "    return midpoint\n",
    "\n",
    "\n",
    "# d. define function and the parameter values\n",
    "def f(L, gamma=0.7, tau_q=0.4, g = 0.4, tau_e=0.6):\n",
    "        return L-((gamma/tau_q + (g*tau_e*tau_q)**0.5)*L)\n",
    "\n",
    "# e. run the algorithm with f being the function, the lower bound being 0.1 and the upper bound being 1000\n",
    "L = bisect(f, 0, 1000)\n",
    "print(f'Steady state level of population for given parameter values is: L*=', L)\n",
    "\n",
    "# f. find the population density in steady state\n",
    "print(f'The population density in steady state for given parameter values is {L/10}')"
   ]
  },
  {
   "cell_type": "markdown",
   "metadata": {},
   "source": [
    "Hence, we find that a steady state in population and population density only exists if population is zero."
   ]
  },
  {
   "cell_type": "code",
   "execution_count": 30,
   "metadata": {},
   "outputs": [
    {
     "name": "stdout",
     "output_type": "stream",
     "text": [
      "Steady state population for given parameter values is: 0.000\n",
      "The population density in steady state for given parameter values is: 0.000\n"
     ]
    }
   ],
   "source": [
    "# a. call bisect function to find population in steady state\n",
    "print(f'Steady state population for given parameter values is: {bisect_ss_l2(0,500):.3f}')\n",
    "\n",
    "# b. find the population density in steady state\n",
    "print(f'The population density in steady state for given parameter values is: {bisect_ss_l2(0,500)/10:.3f}')"
   ]
  },
  {
   "cell_type": "markdown",
   "metadata": {},
   "source": [
    "The solution confirms that the steady state only exists if the population is zero."
   ]
  },
  {
   "cell_type": "code",
   "execution_count": 31,
   "metadata": {},
   "outputs": [
    {
     "data": {
      "application/vnd.jupyter.widget-view+json": {
       "model_id": "812756e398c741eb9d8f70e0db142e9a",
       "version_major": 2,
       "version_minor": 0
      },
      "text/plain": [
       "interactive(children=(FloatSlider(value=0.7, description='$\\\\gamma$', max=0.99, step=0.05), FloatSlider(value=…"
      ]
     },
     "metadata": {},
     "output_type": "display_data"
    }
   ],
   "source": [
    "simulate_malthus(\"pop\",\"ext2\")"
   ]
  },
  {
   "cell_type": "markdown",
   "metadata": {},
   "source": [
    "The plot confirms that a steady state in population only exists for a non-existent population. If population is positive, it grows at a constant rate."
   ]
  },
  {
   "cell_type": "markdown",
   "metadata": {},
   "source": [
    " ## We now determine the level of income per capita in steady state"
   ]
  },
  {
   "cell_type": "markdown",
   "metadata": {},
   "source": [
    "Income per capita evolves as follows:\n",
    "\n",
    "$$y_{t+1} = (\\frac{AX}{L_{t+1}})^\\alpha = (\\frac{AX}{L_{t}n_t})^\\alpha = \\frac{y_t}{n_t ^\\alpha}\\label{eq23}\\tag{23}$$\n",
    "\n",
    "Inserting the optimal number of children into this equation yields:\n",
    "\n",
    "$$y_{t+1} = \\frac{y_t}{(\\frac{\\gamma}{\\tau_q + (g \\tau_e \\tau_q)^{0.5}})^\\alpha}\\label{eq24}\\tag{24}$$"
   ]
  },
  {
   "cell_type": "markdown",
   "metadata": {},
   "source": [
    "***\n",
    "**Income per capita in steady state (analytical solution)**\n",
    "***\n",
    "We find the steady state level of income per capita.\n",
    "This is done by writing up the function as in section 2.1.2, setting $y_{t+1}=y_t=y$ and solving for $y$:"
   ]
  },
  {
   "cell_type": "code",
   "execution_count": 32,
   "metadata": {},
   "outputs": [
    {
     "data": {
      "text/latex": [
       "$\\displaystyle y^{\\star} = 0.0$"
      ],
      "text/plain": [
       "Eq(y^\\star, 0.0)"
      ]
     },
     "execution_count": 32,
     "metadata": {},
     "output_type": "execute_result"
    }
   ],
   "source": [
    "# a. define the function (24) in steady state, i.e., y_t+1 = y_t = y\n",
    "ss_y2 = sm.Eq(y, (y/(gamma/tau_q + (g*tau_e*tau_q)**0.5)**alpha))\n",
    "\n",
    "# b. isolate income per capita\n",
    "yss_y2 = sm.solve(ss_y2, y)[0]\n",
    "\n",
    "# c. display income per capita in steady state\n",
    "sm.Eq(ystar,yss_y2)"
   ]
  },
  {
   "cell_type": "markdown",
   "metadata": {},
   "source": [
    "This implies that income per capita grows at a constant rate and does not converge to a steady state as long as it is greater than 0. Hence, valuing children's education does induce sustained economic growth."
   ]
  },
  {
   "cell_type": "markdown",
   "metadata": {},
   "source": [
    "***\n",
    "**Income per capita in steady state (numerical solution)**\n",
    "***"
   ]
  },
  {
   "cell_type": "code",
   "execution_count": 33,
   "metadata": {},
   "outputs": [
    {
     "name": "stdout",
     "output_type": "stream",
     "text": [
      "Steady state level of income per capita for given parameter values: y* = -2.9802322387695312e-06\n"
     ]
    }
   ],
   "source": [
    "# a. upper and lower limit have same sign\n",
    "def samesign(a, b):\n",
    "        return a * b > 0\n",
    "\n",
    "# b. create the bisection algorithm\n",
    "def bisect(func, low, high):\n",
    "\n",
    "# c. Find root of continuous function where f(low) and f(high) have opposite signs\n",
    "    \n",
    "    # step 1: Assertain that the function evaluated at the lower and upper bound respectively have different signs\n",
    "    assert not samesign(func(low), func(high))\n",
    "    \n",
    "    # step 2: Compute the mid-point \n",
    "    for i in range(100):\n",
    "        midpoint = (low + high) / 2.0\n",
    "        fm=func(midpoint)\n",
    "        \n",
    "        # step 3: Determine sub-intervals\n",
    "        if abs(fm) < tol:\n",
    "            break\n",
    "        elif samesign(func(low), func(midpoint)):\n",
    "            low = midpoint\n",
    "        else:\n",
    "            high = midpoint\n",
    "    return midpoint\n",
    "\n",
    "\n",
    "# d. define function and the parameter values\n",
    "def f(y, gamma=0.7, tau_q=0.4, g = 0.4, tau_e=0.6, alpha=1/3):\n",
    "        return y-(y/(gamma/tau_q + (g*tau_e*tau_q)**0.5)**alpha)\n",
    "\n",
    "# e. run the algorithm with f being the function, the lower bound being 0.1 and the upper bound being 1000\n",
    "y = bisect(f, -10, 1000)\n",
    "print(f'Steady state level of income per capita for given parameter values: y* =', y)"
   ]
  },
  {
   "cell_type": "code",
   "execution_count": 34,
   "metadata": {},
   "outputs": [
    {
     "name": "stdout",
     "output_type": "stream",
     "text": [
      "Steady state income per capita for given parameter values is: 0.000\n"
     ]
    }
   ],
   "source": [
    "# a. call bisect solver and solve for steady state income\n",
    "print(f'Steady state income per capita for given parameter values is: {bisect_ss_y2(0,500):.3f}')"
   ]
  },
  {
   "cell_type": "markdown",
   "metadata": {},
   "source": [
    "We can confirm that a steady state in income per capita only exists if the income per capita is zero."
   ]
  },
  {
   "cell_type": "code",
   "execution_count": 35,
   "metadata": {},
   "outputs": [
    {
     "data": {
      "application/vnd.jupyter.widget-view+json": {
       "model_id": "d640c58216584d02b258cd7cbceb245e",
       "version_major": 2,
       "version_minor": 0
      },
      "text/plain": [
       "interactive(children=(FloatSlider(value=0.7, description='$\\\\gamma$', max=0.99, step=0.05), FloatSlider(value=…"
      ]
     },
     "metadata": {},
     "output_type": "display_data"
    }
   ],
   "source": [
    "simulate_malthus(\"inc\",\"ext2\")"
   ]
  },
  {
   "cell_type": "markdown",
   "metadata": {},
   "source": [
    "The plot confirms that a steady state in income per capita only exists if income per capita is zero. For a positive income per capita leve, income grows at a constant rate."
   ]
  },
  {
   "cell_type": "markdown",
   "metadata": {},
   "source": [
    "# Conclusion"
   ]
  },
  {
   "cell_type": "markdown",
   "metadata": {},
   "source": [
    "In this assignment, we analyzed the dynamics of stagnation as defined in the Malthusian model. We calculated the optimal consumption and number of children and determined the steady state population, population density and income per capita. We observed that these steady state levels exist, implying that population, population density, and income per capita converge to a certain level in the long-run. We also showed that an increase in the exogenous level of technological sophistication increases population and population density in the long run, but only has a short-term impact on income per capita. Income per capita in the long run remains unaffected even when technolgy improves.\n",
    "\n",
    "Adjusting the model such that the level of technology depends on the population size does not change these implycations as population, population density, as well as income per capita still converge to a certain level in the long-run.\n",
    "\n",
    "We extended the model such that households value not only the number of children, but also their human capital. Since human capital positively depends on the level of education, but negatively depends on the rate of technological progress, this model does not confirm the Malthusian prediction of permanent stagnation. Instead, the model predicts that income per capita as well as population and population density grow at a constant rate. Hence, when parents value both quantity and 'quality' of children, sustained economic growth can be achieved. In fact, increases in the rate of technological progress decrease the optimal number of children and increase the desired education level. This means that the fertility decline during the demographic transition - which historically marks the onset of sustained econocmic growth - can be induced by increases in the rate of technological progress."
   ]
  }
 ],
 "metadata": {
  "kernelspec": {
   "display_name": "Python 3 (ipykernel)",
   "language": "python",
   "name": "python3"
  },
  "language_info": {
   "codemirror_mode": {
    "name": "ipython",
    "version": 3
   },
   "file_extension": ".py",
   "mimetype": "text/x-python",
   "name": "python",
   "nbconvert_exporter": "python",
   "pygments_lexer": "ipython3",
   "version": "3.9.16"
  },
  "toc-autonumbering": true
 },
 "nbformat": 4,
 "nbformat_minor": 4
}
