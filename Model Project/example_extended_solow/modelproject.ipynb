{
 "cells": [
  {
   "cell_type": "markdown",
   "metadata": {},
   "source": [
    "# The Solow model with human capital"
   ]
  },
  {
   "cell_type": "markdown",
   "metadata": {},
   "source": [
    "We first consider the basic Solow model and how the parameter values affect the steady state. Furthermore, we extend the model to include human capital and technological growth. In this model the capital is separated into human- and physical capital. Human capital is defined as abilities of the workers linked to productivity such as education and experience. Human capital as well as physical capital accumulates over time at different savings rates.  The project examines both numerical and analytical solutions of the model. Further the project analyses a shock to the savings rate of human capital as well as the golden value that maximises the private consumption. "
   ]
  },
  {
   "cell_type": "markdown",
   "metadata": {},
   "source": [
    "Imports and set magics:"
   ]
  },
  {
   "cell_type": "code",
   "execution_count": 2,
   "metadata": {},
   "outputs": [],
   "source": [
    "import numpy as np\n",
    "from scipy import optimize\n",
    "import sympy as sm\n",
    "from sympy import Symbol\n",
    "from sympy.solvers import solve\n",
    "sm.init_printing(use_unicode=True) # for pretty printing\n",
    "from IPython.display import display\n",
    "import matplotlib.pyplot as plt # baseline modul\n",
    "import ipywidgets as widgets\n",
    "\n",
    "# autoreload modules when code is run\n",
    "%load_ext autoreload\n",
    "%autoreload 2\n",
    "\n",
    "# local modules\n",
    "import modelproject"
   ]
  },
  {
   "cell_type": "markdown",
   "metadata": {},
   "source": [
    "# The basic Solow model"
   ]
  },
  {
   "cell_type": "markdown",
   "metadata": {},
   "source": [
    "The **basic Solow model** contains:\n",
    "\n",
    "* $K_t$ is capital\n",
    "* $L_t$ is labor\n",
    "* $Y_t = F(K_t,L_t)$ \n",
    "\n",
    "**GDP** is defined as\n",
    "\n",
    "$ Y_{t}=BK_{t}^{\\alpha}L_{t}^{1-\\alpha} $\n",
    "\n",
    "**Saving** is a constant fraction of GDP\n",
    "\n",
    "$ S_t = sY_t,\\, s\\in(0,1) $\n",
    "\n",
    "such that **capital accumulates** according to\n",
    "\n",
    "$ K_{t+1}=S_t+(1-\\delta)K_{t}$\n",
    "\n",
    "where $k_t=K_t/L_t$\n"
   ]
  },
  {
   "cell_type": "markdown",
   "metadata": {},
   "source": [
    "## Analytical solution"
   ]
  },
  {
   "cell_type": "code",
   "execution_count": 3,
   "metadata": {},
   "outputs": [
    {
     "name": "stderr",
     "output_type": "stream",
     "text": [
      "C:\\Users\\simon\\AppData\\Local\\Temp\\ipykernel_17668\\397038793.py:12: SymPyDeprecationWarning: \n",
      "\n",
      "Eq(expr) with a single argument with the right-hand side\n",
      "defaulting to 0 is deprecated. Use Eq(expr, 0) instead.\n",
      "\n",
      "See https://docs.sympy.org/latest/explanation/active-deprecations.html#deprecated-eq-expr\n",
      "for details.\n",
      "\n",
      "This has been deprecated since SymPy version 1.5. It\n",
      "will be removed in a future version of SymPy.\n",
      "\n",
      "  bssk = sm.Eq(((s*B*k**alpha-(n+delta)*k)/(1+n)))\n"
     ]
    },
    {
     "data": {
      "text/latex": [
       "$\\displaystyle k^{*} = \\left(\\frac{B s}{\\delta + n}\\right)^{- \\frac{1}{\\alpha - 1}}$"
      ],
      "text/plain": [
       "               -1  \n",
       "              ─────\n",
       "              α - 1\n",
       "       ⎛ B⋅s ⎞     \n",
       "k__* = ⎜─────⎟     \n",
       "       ⎝δ + n⎠     "
      ]
     },
     "execution_count": 3,
     "metadata": {},
     "output_type": "execute_result"
    }
   ],
   "source": [
    "#We define all symbols\n",
    "n = sm.symbols('n') #growth in labour force\n",
    "s = sm.symbols('s') #savings rate\n",
    "B = sm.symbols('B') #technology\n",
    "k = sm.symbols('k') #physical capital\n",
    "kstar = sm.symbols('k^*') \n",
    "ystar = sm.symbols('y^*')\n",
    "alpha = sm.symbols('alpha') #return on capital\n",
    "delta = sm.symbols('delta') #depreciation rate on capital\n",
    "\n",
    "#Transition Equation for k\n",
    "bssk = sm.Eq(((s*B*k**alpha-(n+delta)*k)/(1+n)))\n",
    "\n",
    "# Solving to get the steady state equations for k and y\n",
    "k_ss = sm.solve(bssk,k)[0]\n",
    "sm.Eq(kstar,k_ss)\n"
   ]
  },
  {
   "cell_type": "code",
   "execution_count": 4,
   "metadata": {},
   "outputs": [
    {
     "data": {
      "text/latex": [
       "$\\displaystyle y^{*} = B \\left(\\left(\\frac{B s}{\\delta + n}\\right)^{- \\frac{1}{\\alpha - 1}}\\right)^{\\alpha}$"
      ],
      "text/plain": [
       "                       α\n",
       "         ⎛        -1  ⎞ \n",
       "         ⎜       ─────⎟ \n",
       "         ⎜       α - 1⎟ \n",
       "         ⎜⎛ B⋅s ⎞     ⎟ \n",
       "y__* = B⋅⎜⎜─────⎟     ⎟ \n",
       "         ⎝⎝δ + n⎠     ⎠ "
      ]
     },
     "execution_count": 4,
     "metadata": {},
     "output_type": "execute_result"
    }
   ],
   "source": [
    "#From this the y steady state value is\n",
    "sm.Eq(ystar,B*k_ss**alpha)"
   ]
  },
  {
   "cell_type": "code",
   "execution_count": 5,
   "metadata": {},
   "outputs": [],
   "source": [
    "#We turn the solution into a Python funciton\n",
    "bssk_sol = sm.lambdify((alpha,delta,B,n,s),k_ss)"
   ]
  },
  {
   "cell_type": "code",
   "execution_count": 6,
   "metadata": {},
   "outputs": [
    {
     "data": {
      "text/latex": [
       "$\\displaystyle k^{*} = 89.4427190999915$"
      ],
      "text/plain": [
       "k__* = 89.4427190999915"
      ]
     },
     "execution_count": 6,
     "metadata": {},
     "output_type": "execute_result"
    }
   ],
   "source": [
    "#We define model parameters as plausible empirical values\n",
    "n=0.01\n",
    "s=0.4\n",
    "B=1\n",
    "delta=0.01\n",
    "alpha=1/3\n",
    "\n",
    "#The steady state value for k is printed with the parameter values\n",
    "bssk_val = bssk_sol(alpha, delta,B,n,s)\n",
    "sm.Eq(kstar,bssk_val)"
   ]
  },
  {
   "cell_type": "code",
   "execution_count": 7,
   "metadata": {},
   "outputs": [
    {
     "data": {
      "text/latex": [
       "$\\displaystyle y^{*} = 4.47213595499958$"
      ],
      "text/plain": [
       "y__* = 4.47213595499958"
      ]
     },
     "execution_count": 7,
     "metadata": {},
     "output_type": "execute_result"
    }
   ],
   "source": [
    "#From this we can define the steady state value for y\n",
    "y_ss = B*bssk_val**alpha\n",
    "sm.Eq(ystar,y_ss)"
   ]
  },
  {
   "cell_type": "markdown",
   "metadata": {},
   "source": [
    "## Numerical solution"
   ]
  },
  {
   "cell_type": "code",
   "execution_count": 8,
   "metadata": {},
   "outputs": [
    {
     "name": "stdout",
     "output_type": "stream",
     "text": [
      "k* = 89.443\n"
     ]
    }
   ],
   "source": [
    "#The solow equation is defined and solved\n",
    "def basic_ss(n, s, B, alpha, delta):\n",
    "    \"\"\"\n",
    "    Args:\n",
    "    alpha  (float): Return on physical capital\n",
    "    delta  (float): Depreciation rate on capital\n",
    "    s      (float): Savings/investments\n",
    "    n      (float): Increase in labour\n",
    "    B      (int)  : Factor productivity\n",
    "    \n",
    "    Returns:\n",
    "    Steady state value for k*\n",
    "    \"\"\"\n",
    "    result = lambda k: s*B*k**alpha - (n+delta)*k\n",
    "    \n",
    "    return optimize.bisect(result, 1,100, full_output=False)\n",
    "\n",
    "print(f'k* = {basic_ss(n, s, B, alpha, delta):.3f}')"
   ]
  },
  {
   "cell_type": "markdown",
   "metadata": {},
   "source": [
    "From this it is apparent that the numerical and analytical methods yield the same solutions."
   ]
  },
  {
   "cell_type": "markdown",
   "metadata": {},
   "source": [
    "## Further analysis"
   ]
  },
  {
   "cell_type": "code",
   "execution_count": 9,
   "metadata": {},
   "outputs": [],
   "source": [
    "def solve_basic_ss(k,n,s,B,alpha,delta,time):\n",
    "    \"\"\"\n",
    "    Args:\n",
    "    k      (int)  : Physical capital\n",
    "    alpha  (float): Return on physical capital\n",
    "    delta  (float): Depreciation rate on capital\n",
    "    s      (float): Savings/investments\n",
    "    n      (float): Increase in labour\n",
    "    B      (int)  : Factor productivity\n",
    "    time   (int)  : periods\n",
    "    \n",
    "    Returns:\n",
    "    The solow diagram with a diagonal line and the growth path of physical capital\"\"\"\n",
    "    \n",
    "    #An emty list is made to contain the k values\n",
    "    k_growth = [k]\n",
    "    \n",
    "    #An empty list is made to contain the diagonal line\n",
    "    diagonal = [0]\n",
    "    \n",
    "    #45 degree line\n",
    "    for t in range(1,time):\n",
    "        line = (n + delta)*t\n",
    "        diagonal.append(line)\n",
    "        \n",
    "    #We generate the growth in capital\n",
    "    for t in range(1,time):\n",
    "        k_tp1 = s*B*t**alpha\n",
    "        k_growth.append(k_tp1)\n",
    "    \n",
    "    #Create the plot\n",
    "    plt.rcParams['axes.facecolor'] = 'white'\n",
    "    plt.figure(figsize=(6,6))\n",
    "    plt.plot(k_growth[:time], label=r'$sBk_t^{\\alpha}$', color = 'magenta')\n",
    "    plt.plot(diagonal[:time], label = r'$(n+\\delta)k_t$', color = 'lime')\n",
    "    plt.xlim(0,time)\n",
    "    plt.ylim(0,diagonal[-1])\n",
    "    plt.xlabel('$k_t$')\n",
    "    plt.legend()\n",
    "    plt.title('Solow diagram')\n",
    "    \n",
    "    return plt.show()"
   ]
  },
  {
   "cell_type": "code",
   "execution_count": 10,
   "metadata": {},
   "outputs": [
    {
     "data": {
      "application/vnd.jupyter.widget-view+json": {
       "model_id": "873a0fe628f346a19bc0c62f731b440f",
       "version_major": 2,
       "version_minor": 0
      },
      "text/plain": [
       "interactive(children=(FloatSlider(value=0.01, description='$n$', max=0.1, min=0.01, step=0.005), FloatSlider(v…"
      ]
     },
     "metadata": {},
     "output_type": "display_data"
    },
    {
     "data": {
      "text/plain": [
       "<function __main__.solve_basic_ss(k, n, s, B, alpha, delta, time)>"
      ]
     },
     "execution_count": 10,
     "metadata": {},
     "output_type": "execute_result"
    }
   ],
   "source": [
    "widgets.interact(solve_basic_ss, \n",
    "                k = widgets.fixed(0), \n",
    "                alpha = widgets.FloatSlider(description = r'$\\alpha$', min = 0, max = 0.9, step = 0.05, value = 0.3),\n",
    "                delta = widgets.FloatSlider(description = r'$\\delta$', min = 0, max = 0.1, step = 0.01, value = 0.01),\n",
    "                s = widgets.FloatSlider(description = '$s$', min = 0.01, max = 0.8, step = 0.05, value = 0.4),\n",
    "                n = widgets.FloatSlider(description ='$n$', min = 0.01, max = 0.1, step = 0.005, value = 0.01),\n",
    "                B = widgets.fixed(1),\n",
    "                time = widgets.IntSlider(description='time', min = 1, max = 1000, step = 10, value = 100))"
   ]
  },
  {
   "cell_type": "markdown",
   "metadata": {},
   "source": [
    "The Solow diagram shows how the steady state value varies across different parameter values, which can be adjusted in the interactive plot. For instance, a in increase in the savings rate, all things equal, yields a higher steady state value, $k^*$."
   ]
  },
  {
   "cell_type": "markdown",
   "metadata": {},
   "source": [
    "We now consider an extension of the basic Solow model with human capital, which is considered to be more consistent with empirical data."
   ]
  },
  {
   "cell_type": "markdown",
   "metadata": {
    "toc-hr-collapsed": true
   },
   "source": [
    "# The Solow model with human capital"
   ]
  },
  {
   "cell_type": "markdown",
   "metadata": {},
   "source": [
    "The **Solow model with human capital** contains:\n",
    "\n",
    "* $K_t$ is capital\n",
    "* $L_t$ is labor\n",
    "* $A_t$ is technology\n",
    "* $H_t$ is human capital\n",
    "* $Y_t = F(K_t,H_t,A_tL_t)$ is GDP\n",
    "\n",
    "**GDP** is defined as\n",
    "\n",
    "$ Y_{t}=K_{t}^{\\alpha}H_{t}^{\\varphi}(A_{t}L_{t})^{1-\\alpha-\\varphi} $\n",
    "\n",
    "**Saving** is a constant fraction of GDP\n",
    "\n",
    "$ S_t = (s_H+s_K)Y_t,\\, s_H+s_K\\in(0,1) $\n",
    "\n",
    "such that **capital accumulates** according to\n",
    "\n",
    "$ K_{t+1}=s_{K}Y_t+(1-\\delta)K_{t}=sF(K_{t},H_{t},A_{t}L_{t})+(1-\\delta)K_{t}, \\delta \\in (0,1) $\n",
    "\n",
    "and **human capital accumulates** according to\n",
    "\n",
    "$ H_{t+1} = s_{H}Y_t+(1-\\delta)H_t $\n",
    "\n",
    "**Labour and technology accoumulates** as\n",
    "\n",
    "$ L_{t+1} = (1+n)L_t $\n",
    "\n",
    "$ A_{t+1} = (1+g)A_t $\n",
    "\n",
    "The **transition equations** then becomes\n",
    "\n",
    "$ \\tilde{k}_{t+1}= \\frac{1}{(1+n)(1+g)}[s_K\\tilde{k}_{t}^{\\alpha}\\tilde{h}_{t}^{\\varphi}+(1-\\delta)\\tilde{k}_{t}] $\n",
    "\n",
    "$ \\tilde{h}_{t+1}= \\frac{1}{(1+n)(1+g)}[s_H\\tilde{k}_{t}^{\\alpha}\\tilde{h}_{t}^{\\varphi}+(1-\\delta)\\tilde{h}_{t}] $\n",
    "\n",
    "\n",
    "where $\\tilde{k}_{t}= \\dfrac{K_t}{A_tL_t}$ and $\\tilde{h}_{t}= \\dfrac{H_t}{A_tL_t}$"
   ]
  },
  {
   "cell_type": "markdown",
   "metadata": {},
   "source": [
    "# Steady state"
   ]
  },
  {
   "cell_type": "markdown",
   "metadata": {},
   "source": [
    "## Analytical solution"
   ]
  },
  {
   "cell_type": "markdown",
   "metadata": {},
   "source": [
    "We use **sympy** to find an analytical expression for the steady state, i.e. solve\n",
    "\n",
    "$$ \\tilde{k}^{\\ast}= \\frac{1}{(1+n)(1+g)}[s_K\\tilde{k}^{\\alpha\\ast}\\tilde{h}_{t}^{\\varphi\\ast}+(1-\\delta)\\tilde{k}^{\\ast}] $$\n",
    "\n",
    "and\n",
    "\n",
    "$$ \\tilde{h}^{\\ast}= \\frac{1}{(1+n)(1+g)}[s_K\\tilde{k}^{\\alpha\\ast}\\tilde{h}_{t}^{\\varphi\\ast}+(1-\\delta)\\tilde{h}^{\\ast}] $$"
   ]
  },
  {
   "cell_type": "code",
   "execution_count": 35,
   "metadata": {},
   "outputs": [],
   "source": [
    "#We define all symbols\n",
    "k = sm.symbols('k') #physical capital\n",
    "h = sm.symbols('h') #human capital\n",
    "alpha = sm.symbols('alpha') #return on physical capital\n",
    "phi = sm.symbols('phi') #return on human capital\n",
    "delta = sm.symbols('delta') #depreciation rate on capital\n",
    "s_h = sm.symbols('s_h') #savings/investment rate in human capital\n",
    "s_k = sm.symbols('s_k') #savings/investment rate in physical capital\n",
    "g = sm.symbols('g') #growth in technology\n",
    "n = sm.symbols('n') #growth in labour force"
   ]
  },
  {
   "cell_type": "code",
   "execution_count": 12,
   "metadata": {},
   "outputs": [
    {
     "data": {
      "text/latex": [
       "$\\displaystyle \\frac{h^{\\phi} k^{\\alpha} s_{k} + k \\left(1 - \\delta\\right)}{\\left(g + 1\\right) \\left(n + 1\\right)} = k$"
      ],
      "text/plain": [
       " φ  α                   \n",
       "h ⋅k ⋅sₖ + k⋅(1 - δ)    \n",
       "──────────────────── = k\n",
       "  (g + 1)⋅(n + 1)       "
      ]
     },
     "execution_count": 12,
     "metadata": {},
     "output_type": "execute_result"
    }
   ],
   "source": [
    "#The we define the steady state equations\n",
    "\n",
    "ss1 = sm.Eq((s_k*k**alpha*h**phi+(1-delta)*k)/((1+n)*(1+g)), k)\n",
    "ss2 = sm.Eq((s_h*k**alpha*h**phi+(1-delta)*h)/((1+n)*(1+g)), h)\n",
    "ss1"
   ]
  },
  {
   "cell_type": "code",
   "execution_count": 33,
   "metadata": {},
   "outputs": [
    {
     "data": {
      "text/latex": [
       "$\\displaystyle \\left\\{\\left( k, \\  h\\right)\\; \\middle|\\; \\left( k, \\  h\\right) \\in \\mathbb{C}^{2} \\wedge h \\left(1 - \\delta\\right) - h \\left(g + 1\\right) \\left(n + 1\\right) + h^{\\phi} k^{\\alpha} s_{h} = 0 \\wedge h^{\\phi} k^{\\alpha} s_{k} + k \\left(1 - \\delta\\right) - k \\left(g + 1\\right) \\left(n + 1\\right) = 0 \\right\\}$"
      ],
      "text/plain": [
       "⎧       │           2   ⎛                                 φ  α           φ  α \n",
       "⎨(k, h) │ (k, h) ∊ ℂ  ∧ ⎝h⋅(1 - δ) - h⋅(g + 1)⋅(n + 1) + h ⋅k ⋅sₕ = 0 ∧ h ⋅k ⋅\n",
       "⎩       │                                                                     \n",
       "\n",
       "                                      ⎞⎫\n",
       "sₖ + k⋅(1 - δ) - k⋅(g + 1)⋅(n + 1) = 0⎠⎬\n",
       "                                       ⎭"
      ]
     },
     "execution_count": 33,
     "metadata": {},
     "output_type": "execute_result"
    }
   ],
   "source": [
    "sm.nonlinsolve([ss1, ss2], [k, h])"
   ]
  },
  {
   "cell_type": "code",
   "execution_count": 51,
   "metadata": {},
   "outputs": [
    {
     "data": {
      "text/latex": [
       "$\\displaystyle \\left\\{ h : \\frac{h^{\\phi} k^{\\alpha} s_{h}}{\\delta + g n + g + n}, \\  k : \\frac{h^{\\phi} k^{\\alpha} s_{k}}{\\delta + g n + g + n}\\right\\}$"
      ],
      "text/plain": [
       "⎧        φ  α                φ  α      ⎫\n",
       "⎪       h ⋅k ⋅sₕ            h ⋅k ⋅sₖ   ⎪\n",
       "⎨h: ───────────────, k: ───────────────⎬\n",
       "⎪   δ + g⋅n + g + n     δ + g⋅n + g + n⎪\n",
       "⎩                                      ⎭"
      ]
     },
     "execution_count": 51,
     "metadata": {},
     "output_type": "execute_result"
    }
   ],
   "source": [
    "#We solve the steady state equations for h and k\n",
    "sss1 = sm.solve((ss1, ss2),(k,h), implicit = True, manual = True)\n",
    "sss1"
   ]
  },
  {
   "cell_type": "markdown",
   "metadata": {},
   "source": [
    "This can be reduced to:"
   ]
  },
  {
   "cell_type": "markdown",
   "metadata": {},
   "source": [
    "$$\\tilde{k}^{\\ast}=\\left(\\dfrac{s_K^{1-\\varphi}s_H^{\\varphi}}{n+g+\\delta+ng}\\right)^{\\frac{1}{1-\\alpha-\\varphi}}$$\n",
    "\n",
    "and\n",
    "\n",
    "$$\\tilde{h}^{\\ast}=\\left(\\dfrac{s_K^{\\alpha}s_H^{1-\\alpha}}{n+g+\\delta+ng}\\right)^{\\frac{1}{1-\\alpha-\\varphi}}$$"
   ]
  },
  {
   "cell_type": "code",
   "execution_count": 37,
   "metadata": {},
   "outputs": [],
   "source": [
    "#We turn the solution into a Python funciton\n",
    "ss_func = sm.lambdify((s_h,s_k,g,n,alpha,phi,delta),sss1)"
   ]
  },
  {
   "cell_type": "markdown",
   "metadata": {},
   "source": [
    "## Numerical solution"
   ]
  },
  {
   "cell_type": "markdown",
   "metadata": {},
   "source": [
    "We can re-write the equations for the steady states of physical capital and human capital per capita as\n",
    "\n",
    "\\\\[ 0 = \\left(\\dfrac{s_K^{1-\\varphi}s_H^{\\varphi}}{n+g+\\delta+ng}\\right)^{\\frac{1}{1-\\alpha-\\varphi}} - \\tilde{k}^{\\ast} \\\\]\n",
    "\n",
    "\\\\[ 0 = \\left(\\dfrac{s_K^{\\alpha}s_H^{1-\\alpha}}{n+g+\\delta+ng}\\right)^{\\frac{1}{1-\\alpha-\\varphi}} - \\tilde{h}^{\\ast} \\\\]\n",
    "\n",
    "\n",
    "whereby it becomes a root-finding problem."
   ]
  },
  {
   "cell_type": "code",
   "execution_count": 70,
   "metadata": {},
   "outputs": [],
   "source": [
    "#We define model parameters as plausible empirical values\n",
    "sh = 0.1\n",
    "sk = 0.1\n",
    "g = 0.02\n",
    "n = 0.01\n",
    "alpha = 1/3\n",
    "phi = 1/3\n",
    "delta = 0.06"
   ]
  },
  {
   "cell_type": "code",
   "execution_count": 71,
   "metadata": {},
   "outputs": [],
   "source": [
    "#We solve numerically for the steady state:\n",
    "\n",
    "#We define the function for h\n",
    "def h_func(k,sh,sk,g,n,alpha,phi,delta,h):\n",
    "    \"\"\"args:\n",
    "    k     (float): Physical capital\n",
    "    sh    (float): Investments in human capital\n",
    "    sk    (float): Investments in physical capital\n",
    "    g     (float): Growth in technology\n",
    "    n     (float): Growth in labour force\n",
    "    delta (float): Depreciation rate\n",
    "    alpha (float): Return on physical capital\n",
    "    phi   (float): Return on human capital\n",
    "    h     (float): Human capital\n",
    "    \n",
    "    Returns: \n",
    "    The transition equation for human capital\n",
    "        \"\"\"\n",
    "    return 1/((1+n)*(1+g))*(sh*k**(alpha)*h**(phi)+(1-delta)*h)-h\n",
    "\n",
    "#We define the function for h\n",
    "def k_func(h,sh,sk,g,n,alpha,phi,delta,k):\n",
    "    \"\"\"args:\n",
    "    h     (float): Human capital\n",
    "    sh    (float): Investments in human capital\n",
    "    sk    (float): Investments in physical capital\n",
    "    g     (float): Growth in technology\n",
    "    n     (float): Growth in labour force\n",
    "    delta (float): Depreciation rate\n",
    "    alpha (float): Return on physical capital\n",
    "    phi   (float): Return on human capital\n",
    "    k     (float): Physical capital\n",
    "    \n",
    "    Returns: \n",
    "    The transition equation for physical capital\n",
    "    \"\"\"\n",
    "    return 1/((1+n)*(1+g))*(sk*k**(alpha)*h**(phi)+(1-delta)*k)-k\n",
    "\n",
    "#We define a function containing our h- and k-functions as well as vectors in place of the endogenous variables\n",
    "obj1 = lambda x: [h_func(x[1],sh,sk,g,n,alpha,phi,delta,x[0]),k_func(x[0],sh,sk,g,n,alpha,phi,delta,x[1])]\n",
    "\n",
    "#We solve the vector functions\n",
    "sol = optimize.root(obj1,[1,1],method = 'broyden1')\n"
   ]
  },
  {
   "cell_type": "code",
   "execution_count": 72,
   "metadata": {},
   "outputs": [
    {
     "name": "stdout",
     "output_type": "stream",
     "text": [
      "Numerical solution is: k* = 1.363, h* = 1.363\n"
     ]
    }
   ],
   "source": [
    "#We define the analytical solution\n",
    "#analSolution = ss_func(s_h,s_k,g,n,alpha,phi,delta)\n",
    "\n",
    "#We define the numerical solution\n",
    "numSolution = sol.x\n",
    "\n",
    "#print(f'Analytical solution is: k* = {analSolution[0]:.3f}, h* = {analSolution[1]:.3f}')\n",
    "print(f'Numerical solution is: k* = {numSolution[1]:.3f}, h* = {numSolution[0]:.3f}')"
   ]
  },
  {
   "cell_type": "markdown",
   "metadata": {},
   "source": [
    "As expected, the numerical and analytical steady state values are identical."
   ]
  },
  {
   "cell_type": "markdown",
   "metadata": {},
   "source": [
    "# Further analysis"
   ]
  },
  {
   "cell_type": "markdown",
   "metadata": {},
   "source": [
    "## Phase diagrams"
   ]
  },
  {
   "cell_type": "code",
   "execution_count": 73,
   "metadata": {},
   "outputs": [
    {
     "data": {
      "image/png": "[encoded data removed]",
      "text/plain": [
       "<Figure size 1300x500 with 1 Axes>"
      ]
     },
     "metadata": {},
     "output_type": "display_data"
    }
   ],
   "source": [
    "#We define a function expressing the nullclines\n",
    "def solve_ss(sh,sk,g,n,alpha,phi,delta):\n",
    "    \"\"\"args:\n",
    "    sh    (float): Investments in human capital\n",
    "    sk     float): Investments in physical capital\n",
    "    g     (float): Growth in technology\n",
    "    n     (float): Growth in labour force\n",
    "    alpha (float): Return on physical capital\n",
    "    phi   (float): Return on human capital\n",
    "    delta (float): Depriciation rate\n",
    "    \n",
    "    Returns:\n",
    "    Nullclines for physical and human capital\n",
    "    \"\"\"\n",
    "    \n",
    "    # a. grids\n",
    "    k_vec = np.linspace(1e-4,3,500)\n",
    "    h_vec_DeltaK0 = np.empty(500)\n",
    "    h_vec_DeltaH0  = np.empty(500)\n",
    "    \n",
    "    # b. solve for each k in grid\n",
    "    for i,k in enumerate(k_vec):\n",
    "        #Solve for delta_h=0\n",
    "        \n",
    "        # i. objective\n",
    "        obj = lambda h: -h_func(k,sh,sk,g,n,alpha,phi,delta,h)\n",
    "\n",
    "        # ii. optimizer\n",
    "        result = optimize.root_scalar(obj,method='brentq',bracket=[1e-20,50])\n",
    "        \n",
    "        h_vec_DeltaH0[i] = result.root\n",
    "\n",
    "       \n",
    "        #Solve for delta_k=0\n",
    "        # i. objective\n",
    "        obj = lambda h: -k_func(h,sh,sk,g,n,alpha,phi,delta,k)\n",
    "\n",
    "        # ii. optimizer\n",
    "        result = optimize.root_scalar(obj,method='brentq',bracket=[1e-20,50])\n",
    "\n",
    "        h_vec_DeltaK0[i] = result.root\n",
    "\n",
    "    return k_vec, h_vec_DeltaK0, h_vec_DeltaH0\n",
    "\n",
    "\n",
    "#Solve the function\n",
    "k_vec, h_vec_DeltaK0, h_vec_DeltaH0 = solve_ss(sh,sk,g,n,alpha,phi,delta)\n",
    "\n",
    "\n",
    "#Create the plot\n",
    "fig = plt.figure(figsize=(13,5))\n",
    "ax = fig.add_subplot(1,2,1)\n",
    "ax.plot(k_vec,h_vec_DeltaK0, label=r'$\\Delta \\tilde{k}=0$', c='#005c2b')\n",
    "ax.plot(k_vec,h_vec_DeltaH0, label=r'$\\Delta \\tilde{h}=0$', c='#61ba89')\n",
    "ax.set_xlabel(r'$\\tilde{k}$')\n",
    "ax.set_ylabel(r'$\\tilde{h}$')\n",
    "ax.legend() \n",
    "\n",
    "#We mark the steady state\n",
    "plt.scatter(sol.x[1],sol.x[0],color='black',s=80,zorder=2.5)\n",
    "\n",
    "#Lines are drawn to mark ss-value on the axes\n",
    "plt.axvline(sol.x[1],ymax=0.7,color='gray',linestyle='--') \n",
    "plt.axhline(sol.x[0],xmax=0.7,color='gray',linestyle='--') \n",
    "\n",
    "#Text is added to the plot\n",
    "ax.text(1.15, 1.4, r'$\\tilde{k}^*, \\tilde{h}^*$', fontsize=12)\n",
    "\n",
    "#The axis values are chosen\n",
    "ax.set(xlim=(0, 2), ylim=(0, 2))\n",
    "\n",
    "ax.set_title('Phase diagram');"
   ]
  },
  {
   "cell_type": "markdown",
   "metadata": {},
   "source": [
    "Here the steady state occurs when the two nullclines intersect as illustrated above. The steady state values in the diagram are consistent with prior numerical and analytical results. "
   ]
  },
  {
   "cell_type": "markdown",
   "metadata": {},
   "source": [
    "We wish to see what happens, when the savings rate in human capital rises from its initial value"
   ]
  },
  {
   "cell_type": "code",
   "execution_count": 77,
   "metadata": {},
   "outputs": [
    {
     "data": {
      "image/png": "[encoded data removed]",
      "text/plain": [
       "<Figure size 1800x700 with 1 Axes>"
      ]
     },
     "metadata": {},
     "output_type": "display_data"
    }
   ],
   "source": [
    "#We solve the function with the new value sh' = 0.12\n",
    "k_vec1,h_vec_DeltaK01, h_vec_DeltaH01 = solve_ss(0.12,sk,g,n,alpha,phi,delta)\n",
    "\n",
    "#Create the plot\n",
    "fig2 = plt.figure(figsize=(18,7))\n",
    "ax = fig2.add_subplot(1,2,1)\n",
    "ax.plot(k_vec,h_vec_DeltaK0, label=r'$\\Delta \\tilde{k}=0$', c='#005c2b')\n",
    "ax.plot(k_vec,h_vec_DeltaH0, label=r'$\\Delta \\tilde{h}=0$', c='#61ba89')\n",
    "ax.plot(k_vec1,h_vec_DeltaH01, label=r'$\\Delta \\tilde{h}´=0$', c='#a97ccc')\n",
    "ax.set_xlabel(r'$\\tilde{k}$')\n",
    "ax.set_ylabel(r'$\\tilde{h}$')\n",
    "ax.legend()\n",
    "#We mark the initial steady state\n",
    "plt.scatter(sol.x[1],sol.x[0],color='black',s=80,zorder=2.5) \n",
    "\n",
    "#Lines are drawn to mark the initial ss-value on the axes\n",
    "plt.axvline(sol.x[1],ymax=0.45,color='gray',linestyle='--') \n",
    "plt.axhline(sol.x[0],xmax=0.45,color='gray',linestyle='--')\n",
    "\n",
    "#Text is added to the plot\n",
    "ax.text(1.4, 2.0, r'$\\tilde{k}^*, \\tilde{h}^*$', fontsize=12)\n",
    "ax.text(1.05, 1.4, r'$\\tilde{k}^*´, \\tilde{h}^*$´', fontsize=12)\n",
    "\n",
    "#The axis values are chosen\n",
    "ax.set(xlim=(0, 3), ylim=(0, 3)) \n",
    "\n",
    "ax.set_title('Phase diagram for $s_H$´ > $s_H$');"
   ]
  },
  {
   "cell_type": "markdown",
   "metadata": {},
   "source": [
    "The new phase diagram shows how the steady state values of both $\\tilde{h}$ and $\\tilde{k}$ rises as a result of the higher savings rate. The rise in the physical capital per capita, $\\tilde{k}$ is caused by the increase in the total savings of physical capital occuring as a result of the higher levels of $Y$ induced by the new, higher value of $H$."
   ]
  },
  {
   "cell_type": "markdown",
   "metadata": {},
   "source": [
    "## Golden rule"
   ]
  },
  {
   "cell_type": "markdown",
   "metadata": {},
   "source": [
    "We know that $\\tilde{y}_t^\\ast=\\tilde{k}_t^{\\ast \\alpha}\\tilde{h}_t^{\\ast \\varphi}$"
   ]
  },
  {
   "cell_type": "code",
   "execution_count": 78,
   "metadata": {},
   "outputs": [
    {
     "name": "stdout",
     "output_type": "stream",
     "text": [
      "1.2290991686373218\n"
     ]
    }
   ],
   "source": [
    "#We define the y steady state function\n",
    "def y_ss(sh,sk,g,n,alpha,phi,delta):\n",
    "    \"\"\"args:\n",
    "    sh  (  float): Investments in human capital\n",
    "    sk     float): Investments in physical capital\n",
    "    g     (float): Growth in technology\n",
    "    n     (float): Growth in labour force\n",
    "    alpha (float): Return on physical capital\n",
    "    phi   (float): return on human capital\n",
    "    delta (float): depriciation rate\n",
    "    \n",
    "    Returns:\n",
    "    Steady state value for total income\n",
    "    \"\"\"\n",
    "    return ((sk**alpha*sh**(1-alpha))/(n+g+n*g+delta))**(alpha/(1-alpha-phi))*((sk**(1-phi)*sh**phi)/(n+g+n*g+delta))**(phi/(1-alpha-phi))\n",
    "\n",
    "print(y_ss(sh,sk,g,n,alpha,phi,delta))\n",
    "\n",
    "#We define the steady state function for c\n",
    "def c_ss(sh,sk,g,n,alpha,phi,delta):\n",
    "    \"\"\"args:\n",
    "    sh  (  float): Investments in human capital\n",
    "    sk     float): Investments in physical capital\n",
    "    g     (float): Growth in technology\n",
    "    n     (float): Growth in labour force\n",
    "    alpha (float): Return on physical capital\n",
    "    phi   (float): return on human capital\n",
    "    delta (float): depriciation rate\n",
    "    \n",
    "    Returns:\n",
    "    Golden rule for private consumption\n",
    "    \"\"\"\n",
    "    return (1-sk-sh)*((sk**alpha*sh**(1-alpha))/(n+g+n*g+delta))**(alpha/(1-alpha-phi))*((sk**(1-phi)*sh**phi)/(n+g+n*g+delta))**(phi/(1-alpha-phi)\n",
    "                                                                                                                                )"
   ]
  },
  {
   "cell_type": "code",
   "execution_count": 79,
   "metadata": {},
   "outputs": [
    {
     "data": {
      "image/png": "[encoded data removed]",
      "text/plain": [
       "<Figure size 1300x500 with 1 Axes>"
      ]
     },
     "metadata": {},
     "output_type": "display_data"
    }
   ],
   "source": [
    "#We create a plot to show the variation in c when sh changes, all things equal\n",
    "\n",
    "#we make an empty list to collect the differenc c-values\n",
    "c_values = []\n",
    "c_x = []\n",
    "\n",
    "#We loop over different values of sh to find the corresponding values of c\n",
    "for i in np.arange(0,0.9,0.001):\n",
    "    c_values.append(c_ss(i,sk,g,n,alpha,phi,delta))\n",
    "    c_x.append(i)\n",
    "\n",
    "#Create the plot\n",
    "fig = plt.figure(figsize=(13,5))\n",
    "ax = fig.add_subplot(1,2,1)\n",
    "ax.plot(c_x,c_values, color='#a60550')\n",
    "ax.set_xlabel(r'$s_H$')\n",
    "ax.set_ylabel(r'$c^*$')\n",
    "\n",
    "#We mark the maximum value of c and the corresponding value of sh\n",
    "plt.axvline(0.45,ymax=0.95,color='gray',linestyle='--')\n",
    "plt.axhline(max(c_values),xmax=1,color='gray',linestyle='--')\n",
    "ax.set_title('$c^*$ for different $s_H$');"
   ]
  },
  {
   "cell_type": "code",
   "execution_count": 80,
   "metadata": {},
   "outputs": [
    {
     "name": "stdout",
     "output_type": "stream",
     "text": [
      "The maximum private consumption per capita is: 2.489\n",
      "The golden rule value of sh is: 0.45\n"
     ]
    }
   ],
   "source": [
    "#We find the largest ss-value of consumption pr. worker\n",
    "print(f'The maximum private consumption per capita is: {max(c_values):.3f}')\n",
    "\n",
    "#We find the sh value resulting in the maximum c value\n",
    "print(f'The golden rule value of sh is: {(c_x[c_values.index(max(c_values))])}')"
   ]
  },
  {
   "cell_type": "markdown",
   "metadata": {},
   "source": [
    "The optimal savings rate that maximises consumption is thus 0.45, which can be considered to be quite high. It seems that the rise in production caused by the increased savings outweighs the consumption lost due to a higher savings rate."
   ]
  },
  {
   "cell_type": "markdown",
   "metadata": {},
   "source": [
    "## Simulation"
   ]
  },
  {
   "cell_type": "markdown",
   "metadata": {},
   "source": [
    "We want to simulate what happens when a permanent positive shock in $s_H$ occurs; when the savings of human capital rises permanently from a time period $t=2$ where $y_t=\\dfrac{Y_t}{L_t}$"
   ]
  },
  {
   "cell_type": "code",
   "execution_count": 81,
   "metadata": {},
   "outputs": [
    {
     "data": {
      "image/png": "[encoded data removed]",
      "text/plain": [
       "<Figure size 1300x500 with 1 Axes>"
      ]
     },
     "metadata": {},
     "output_type": "display_data"
    }
   ],
   "source": [
    "#The initial values of our variables are defined\n",
    "A0, K0, H0, L0, Y0 = 1, 1, 1, 1, 1\n",
    "\n",
    "\n",
    "#We define the functions using variables for the first period\n",
    "Lt = (1+n)*L0\n",
    "Yt = K0**alpha*H0**phi*A0**(1-alpha-phi)\n",
    "\n",
    "#An empty list is made\n",
    "growthyt = []\n",
    "\n",
    "for i in range(200):\n",
    "    #A permanent shock to sh from period 2\n",
    "    if i <= 1:\n",
    "        sh = 0.1\n",
    "    else:\n",
    "        sh = 0.2\n",
    "        \n",
    "    #Y function in previous period\n",
    "    Ytm1 = Yt\n",
    "    \n",
    "    #L function in previous period\n",
    "    Ltm1 = Lt\n",
    "    \n",
    "    #y function in previous period\n",
    "    ytm1 = 0\n",
    "    ytm1 = Ytm1/Ltm1\n",
    "    \n",
    "    #K function in current period \n",
    "    Kt=sk*Ytm1+(1-delta)*K0\n",
    "    K0=Kt\n",
    "    \n",
    "    #H function in current period\n",
    "    Ht = sh*Ytm1+(1-delta)*H0\n",
    "    H0=Ht\n",
    "    \n",
    "    #A function in current period\n",
    "    At = (1+g)*A0\n",
    "    A0=At\n",
    "    \n",
    "    #L function in current period\n",
    "    Lt = (1+n)*L0\n",
    "    L0=Lt\n",
    "    \n",
    "    #Y function in current period\n",
    "    Yt=Kt**alpha*Ht**phi*At**(1-alpha-phi)\n",
    "    \n",
    "    #y function in current period\n",
    "    yt = Yt/Lt\n",
    "    \n",
    "    #We calculate the growth in yt using log\n",
    "    growthyt.append(np.log(yt)-np.log(ytm1))\n",
    "\n",
    "#Create the plot\n",
    "fig = plt.figure(figsize=(13,5))\n",
    "ax = fig.add_subplot(1,2,1)\n",
    "\n",
    "\n",
    "\n",
    "#We discard the first growth rate since ytm1 doesn't have a well defined value for period 0\n",
    "ax.plot(growthyt[1:], color='#076e62')\n",
    "\n",
    "plt.axhline(growthyt[199],xmax=1,color='gray',linestyle='--')\n",
    "\n",
    "ax.set_xlabel(r'time')\n",
    "ax.set_ylabel(r'growth in $y_t$')\n",
    "ax.set_title('Growth in $y_t$ with a permanent positive shock in $s_H$');"
   ]
  },
  {
   "cell_type": "markdown",
   "metadata": {},
   "source": [
    "The graph shows how an increase in the savings rate of human capital causes a spike in the growth rate in production per worker. From that point on, the growth subsides and continues to do so until a stable growth path is achieved."
   ]
  },
  {
   "cell_type": "markdown",
   "metadata": {},
   "source": [
    "# Conclusion"
   ]
  },
  {
   "cell_type": "markdown",
   "metadata": {},
   "source": [
    "Our calculations show that for our parameter values a steady state arises. In the basic Solow model the savings rate affects the steady state value positively. Likewise, the value of $s_H$ has a positive impact on the steady state values of $\\tilde{h}^*$ and $\\tilde{k}^*$, which is initially caused by a direct change in $\\tilde{h}^*$ from which a spillover effect occurs, affecting both $\\tilde{k}^*$ and production. Furthermore the consumption maximising value of $s_H$ is found to be $0.45$. The analysis also shows that different solving methods provides the same results in our case."
   ]
  }
 ],
 "metadata": {
  "kernelspec": {
   "display_name": "Python 3 (ipykernel)",
   "language": "python",
   "name": "python3"
  },
  "language_info": {
   "codemirror_mode": {
    "name": "ipython",
    "version": 3
   },
   "file_extension": ".py",
   "mimetype": "text/x-python",
   "name": "python",
   "nbconvert_exporter": "python",
   "pygments_lexer": "ipython3",
   "version": "3.9.16"
  },
  "toc-autonumbering": true
 },
 "nbformat": 4,
 "nbformat_minor": 4
}
