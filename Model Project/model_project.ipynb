{
 "cells": [
  {
   "cell_type": "markdown",
   "id": "3b5aaa62-a298-405b-9349-126852bb9a54",
   "metadata": {
    "slideshow": {
     "slide_type": "slide"
    },
    "tags": []
   },
   "source": [
    "# Model Project\n",
    "Link to code examples: https://github.com/Goldfield1/NumEconClass"
   ]
  },
  {
   "cell_type": "markdown",
   "id": "7d454967-f15f-454f-97d3-3dea1f0c5b62",
   "metadata": {
    "slideshow": {
     "slide_type": "slide"
    }
   },
   "source": [
    "## What is the goal of the project? (from ModelProject.pdf)\n",
    "<img src=\"req.PNG\" style=\"float:center\" width=\"1000\">"
   ]
  },
  {
   "cell_type": "markdown",
   "id": "4f7659c9-262d-499d-acdf-4d3d1bbe2a00",
   "metadata": {
    "slideshow": {
     "slide_type": "slide"
    }
   },
   "source": [
    "## Idea of how to structure your project (you don't **have** to follow this)\n",
    "\n",
    "- Present a model (write a bit of text about the model and it's use)\n",
    "- Present the analytical solution (**optional**)\n",
    "    - However, this should only take up a small part of your project\n",
    "- Solve the model numerically\n",
    "- Solve the model again with other parameters (**this is important**) \n",
    "    - Maybe use widgets to switch between different parameter values\n",
    "- Solve the model with an extension numerically"
   ]
  },
  {
   "cell_type": "markdown",
   "id": "26373aaa-4e5c-4534-920a-b40afbf6553b",
   "metadata": {
    "slideshow": {
     "slide_type": "slide"
    }
   },
   "source": [
    "## Useful Python tools"
   ]
  },
  {
   "cell_type": "code",
   "execution_count": 2,
   "id": "149bae9c-79a2-4ecb-ba0a-385371d60418",
   "metadata": {
    "slideshow": {
     "slide_type": "skip"
    }
   },
   "outputs": [],
   "source": [
    "import numpy as np\n",
    "from scipy import optimize\n",
    "import sympy as sm\n",
    "from sympy import Symbol\n",
    "from sympy.solvers import solve"
   ]
  },
  {
   "cell_type": "markdown",
   "id": "b5d58b20-0ab8-41a5-b1e8-55320dcfc21e",
   "metadata": {
    "slideshow": {
     "slide_type": "slide"
    }
   },
   "source": [
    "Numerical solution, use `scipy.optimize.minimize` (if you have utility) or `scipy.optimize.root` (for transition equations, e.g. solow model)"
   ]
  },
  {
   "cell_type": "code",
   "execution_count": 8,
   "id": "e0a7671f-b1f5-46fb-a3ad-f78a32640a94",
   "metadata": {
    "slideshow": {
     "slide_type": "-"
    }
   },
   "outputs": [
    {
     "data": {
      "text/plain": [
       "array([-2.92622299e-09, -2.92622299e-09])"
      ]
     },
     "execution_count": 8,
     "metadata": {},
     "output_type": "execute_result"
    }
   ],
   "source": [
    "# example with minimize\n",
    "def obj(x): # x is a vector\n",
    "    return x[0] * x[1] - 5\n",
    "\n",
    "sol = optimize.minimize(obj, [1,1])\n",
    "sol.x"
   ]
  },
  {
   "cell_type": "code",
   "execution_count": 9,
   "id": "a3f6f7be",
   "metadata": {},
   "outputs": [
    {
     "data": {
      "text/plain": [
       "array([-5., 10.])"
      ]
     },
     "execution_count": 9,
     "metadata": {},
     "output_type": "execute_result"
    }
   ],
   "source": [
    "# example with root finder, two variables\n",
    "def obj(x): # x is a vector\n",
    "    return x[0] + 5.0 , x[1] - 10.0\n",
    "\n",
    "sol = optimize.root(obj, [1,1])\n",
    "sol.x"
   ]
  },
  {
   "cell_type": "markdown",
   "id": "92bcc2e5-947a-4983-a7c1-16123ef24bb6",
   "metadata": {
    "slideshow": {
     "slide_type": "slide"
    }
   },
   "source": [
    "# Some ideas\n",
    "\n",
    "DO NOTE: You are not allowed to use the basic Solow Model! (since it has already been covered at the lectures)\n",
    "\n",
    "- OLG-model\n",
    "    - Possibe extensions: Government debt, many periods\n",
    "- Ramsey-model\n",
    "- Cournot or Bertrand competition\n",
    "- Solow model with an extension, human capital, endogenous technological growth, limited resources "
   ]
  },
  {
   "cell_type": "markdown",
   "id": "3e297006-8ac4-4e04-8dd8-94f772fdaf8b",
   "metadata": {
    "slideshow": {
     "slide_type": "slide"
    }
   },
   "source": [
    "# Examples of projects\n",
    "In the \"model project\" folder: https://github.com/Goldfield1/NumEconClass  \n",
    "\n",
    "Three examples of projects from previous (please don't copy 1:1 or I will get in trouble, but feel free to get inspired)\n",
    "- Solow model with human capital\n",
    "- Cournot model\n",
    "- Solow model with Malthusian population limits"
   ]
  },
  {
   "cell_type": "code",
   "execution_count": null,
   "id": "9e9d369f",
   "metadata": {},
   "outputs": [],
   "source": []
  }
 ],
 "metadata": {
  "celltoolbar": "Slideshow",
  "kernelspec": {
   "display_name": "Python 3 (ipykernel)",
   "language": "python",
   "name": "python3"
  },
  "language_info": {
   "codemirror_mode": {
    "name": "ipython",
    "version": 3
   },
   "file_extension": ".py",
   "mimetype": "text/x-python",
   "name": "python",
   "nbconvert_exporter": "python",
   "pygments_lexer": "ipython3",
   "version": "3.9.16"
  }
 },
 "nbformat": 4,
 "nbformat_minor": 5
}
