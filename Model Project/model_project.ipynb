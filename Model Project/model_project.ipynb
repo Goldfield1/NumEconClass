{
 "cells": [
  {
   "cell_type": "markdown",
   "id": "3b5aaa62-a298-405b-9349-126852bb9a54",
   "metadata": {
    "slideshow": {
     "slide_type": "slide"
    },
    "tags": []
   },
   "source": [
    "# Model Project\n",
    "Link to code examples: https://github.com/Goldfield1/NumEconClass"
   ]
  },
  {
   "cell_type": "markdown",
   "id": "7d454967-f15f-454f-97d3-3dea1f0c5b62",
   "metadata": {
    "slideshow": {
     "slide_type": "slide"
    }
   },
   "source": [
    "## What is the goal of the project? (from ModelProject.pdf)\n",
    "<img src=\"req.PNG\" style=\"float:center\" width=\"1000\">"
   ]
  },
  {
   "cell_type": "markdown",
   "id": "4f7659c9-262d-499d-acdf-4d3d1bbe2a00",
   "metadata": {
    "slideshow": {
     "slide_type": "slide"
    }
   },
   "source": [
    "## Idea of how to structure your project (you don't **have** to follow this)\n",
    "\n",
    "- Present a model (write a bit of text about the model and it's use)\n",
    "- Present the analytical solution (this is a nice way of checking whether your numerical method is correct)\n",
    "    - However, this should only take up a small part of your project\n",
    "- Solve the model numerically\n",
    "- Solve the model again with other parameters (**this is important**) \n",
    "    - Maybe use widgets to switch between different parameter values\n",
    "- Solve the model with an extension numerically\n",
    "- Describe an algoritm from lecture 10 (if you have time)"
   ]
  },
  {
   "cell_type": "markdown",
   "id": "26373aaa-4e5c-4534-920a-b40afbf6553b",
   "metadata": {
    "slideshow": {
     "slide_type": "slide"
    }
   },
   "source": [
    "## Useful Python tools"
   ]
  },
  {
   "cell_type": "code",
   "execution_count": 2,
   "id": "149bae9c-79a2-4ecb-ba0a-385371d60418",
   "metadata": {
    "slideshow": {
     "slide_type": "skip"
    }
   },
   "outputs": [],
   "source": [
    "import numpy as np\n",
    "from scipy import optimize\n",
    "import sympy as sm\n",
    "from sympy import Symbol\n",
    "from sympy.solvers import solve"
   ]
  },
  {
   "cell_type": "markdown",
   "id": "42a2c749-66c7-44ea-a3d0-6b5972128df8",
   "metadata": {
    "slideshow": {
     "slide_type": "slide"
    }
   },
   "source": [
    "For the analytical solution, `sympy` is nice"
   ]
  },
  {
   "cell_type": "code",
   "execution_count": 4,
   "id": "221d4422-bf21-4f70-a441-f72ec57290c4",
   "metadata": {
    "slideshow": {
     "slide_type": "-"
    }
   },
   "outputs": [
    {
     "data": {
      "text/latex": [
       "$\\displaystyle 2 x^{3} - y = 0$"
      ],
      "text/plain": [
       "Eq(2*x**3 - y, 0)"
      ]
     },
     "metadata": {},
     "output_type": "display_data"
    },
    {
     "name": "stdout",
     "output_type": "stream",
     "text": [
      "Solution: [(x, 2*x**3)]\n"
     ]
    }
   ],
   "source": [
    "x = sm.symbols('x') \n",
    "y = sm.symbols('y') \n",
    "eq = sm.Eq(2*x**3 - y, 0) # y^2 + x^2 = 0\n",
    "display(eq)\n",
    "print(f'Solution: {sm.solve(eq, (x,y))}')"
   ]
  },
  {
   "cell_type": "markdown",
   "id": "a569ed9f-0786-4efd-878a-3dd34c7d973a",
   "metadata": {
    "slideshow": {
     "slide_type": "slide"
    }
   },
   "source": [
    "Finding a FOC?"
   ]
  },
  {
   "cell_type": "code",
   "execution_count": 13,
   "id": "cfc73fd5-ad44-4498-8c63-8895c092b2b4",
   "metadata": {
    "slideshow": {
     "slide_type": "-"
    }
   },
   "outputs": [
    {
     "data": {
      "text/latex": [
       "$\\displaystyle \\left(x - 3\\right)^{2}$"
      ],
      "text/plain": [
       "(x - 3)**2"
      ]
     },
     "execution_count": 13,
     "metadata": {},
     "output_type": "execute_result"
    }
   ],
   "source": [
    "x = sm.symbols('x') \n",
    "y = sm.symbols('y') \n",
    "f = (x - 3)**2\n",
    "f"
   ]
  },
  {
   "cell_type": "code",
   "execution_count": 14,
   "id": "9b4b8dd0-5dc9-4710-9f47-52b4b77b8596",
   "metadata": {
    "slideshow": {
     "slide_type": "-"
    }
   },
   "outputs": [
    {
     "data": {
      "text/latex": [
       "$\\displaystyle 2 x - 6$"
      ],
      "text/plain": [
       "2*x - 6"
      ]
     },
     "execution_count": 14,
     "metadata": {},
     "output_type": "execute_result"
    }
   ],
   "source": [
    "df = sm.diff(f)\n",
    "df"
   ]
  },
  {
   "cell_type": "code",
   "execution_count": 15,
   "id": "d35b6002-26a7-430c-88e7-b8689432b0dc",
   "metadata": {
    "slideshow": {
     "slide_type": "-"
    }
   },
   "outputs": [
    {
     "data": {
      "text/plain": [
       "[3]"
      ]
     },
     "execution_count": 15,
     "metadata": {},
     "output_type": "execute_result"
    }
   ],
   "source": [
    "sm.solve(sm.Eq(df, 0), x)"
   ]
  },
  {
   "cell_type": "markdown",
   "id": "b5d58b20-0ab8-41a5-b1e8-55320dcfc21e",
   "metadata": {
    "slideshow": {
     "slide_type": "slide"
    }
   },
   "source": [
    "Numerical solution, you will probably use `scipy.optimize` (for functions with multiple variables) and `scipy.optimize_scalar` for functions with only one"
   ]
  },
  {
   "cell_type": "code",
   "execution_count": 26,
   "id": "e0a7671f-b1f5-46fb-a3ad-f78a32640a94",
   "metadata": {
    "slideshow": {
     "slide_type": "-"
    }
   },
   "outputs": [
    {
     "data": {
      "text/latex": [
       "$\\displaystyle 0.5 h k^{0.3} - k$"
      ],
      "text/plain": [
       "0.5*h*k**0.3 - k"
      ]
     },
     "metadata": {},
     "output_type": "display_data"
    },
    {
     "data": {
      "text/latex": [
       "$\\displaystyle h^{0.3} k - 0.3 h$"
      ],
      "text/plain": [
       "h**0.3*k - 0.3*h"
      ]
     },
     "metadata": {},
     "output_type": "display_data"
    },
    {
     "data": {
      "text/plain": [
       "array([0.26305966, 0.82110651])"
      ]
     },
     "execution_count": 26,
     "metadata": {},
     "output_type": "execute_result"
    }
   ],
   "source": [
    "k, h = sm.symbols(\"k, h\")\n",
    "f_k = k**(0.3) * 0.5 * h - k\n",
    "f_h = h**(0.3) * k - 0.3*h\n",
    "display(f_k)\n",
    "display(f_h)\n",
    "\n",
    "# example with two variables\n",
    "def obj(x): # x is a vector\n",
    "    return x[0]**(1/3) * 0.5*x[1] - x[0], x[1]**(1/3) * x[0] - 0.3*x[1]\n",
    "\n",
    "sol = optimize.root(obj, [1,1])\n",
    "sol.x"
   ]
  },
  {
   "cell_type": "markdown",
   "id": "92bcc2e5-947a-4983-a7c1-16123ef24bb6",
   "metadata": {
    "slideshow": {
     "slide_type": "slide"
    }
   },
   "source": [
    "# Some ideas\n",
    "\n",
    "DO NOTE: You are not allowed to use the basic Solow Model! (since it has already been covered at the lectures)\n",
    "\n",
    "- OLG-model\n",
    "    - Possibe extensions: Government debt, many periods\n",
    "- Ramsey-model\n",
    "- Cournot or Bertrand competition\n",
    "- Solow model with an extension, human capital, endogenous technological growth, limited resources "
   ]
  },
  {
   "cell_type": "markdown",
   "id": "3e297006-8ac4-4e04-8dd8-94f772fdaf8b",
   "metadata": {
    "slideshow": {
     "slide_type": "slide"
    }
   },
   "source": [
    "# Examples of project\n",
    "In the \"model project\" folder: https://github.com/Goldfield1/NumEconClass  \n",
    "\n",
    "Three examples of projects from previous (please don't copy 1:1 or I will get in trouble, but feel free to get inspired)\n",
    "- Solow model with human capital\n",
    "- Cournot model\n",
    "- Solow model with Malthusian population limits"
   ]
  },
  {
   "cell_type": "code",
   "execution_count": null,
   "id": "b946757d-decf-4637-acb2-a7556c76fbe2",
   "metadata": {},
   "outputs": [],
   "source": []
  }
 ],
 "metadata": {
  "celltoolbar": "Slideshow",
  "kernelspec": {
   "display_name": "Python 3 (ipykernel)",
   "language": "python",
   "name": "python3"
  },
  "language_info": {
   "codemirror_mode": {
    "name": "ipython",
    "version": 3
   },
   "file_extension": ".py",
   "mimetype": "text/x-python",
   "name": "python",
   "nbconvert_exporter": "python",
   "pygments_lexer": "ipython3",
   "version": "3.9.11"
  }
 },
 "nbformat": 4,
 "nbformat_minor": 5
}
